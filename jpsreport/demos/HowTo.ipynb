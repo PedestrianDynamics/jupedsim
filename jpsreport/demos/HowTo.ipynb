{
 "cells": [
  {
   "cell_type": "markdown",
   "metadata": {},
   "source": [
    "# Getting started with JPSreport\n"
   ]
  },
  {
   "cell_type": "markdown",
   "metadata": {},
   "source": [
    "`JPSreport` needs three different files as input: \n",
    "- A trajectory file (txt or xml) (see [documentation](http://www.jupedsim.org/jpscore/jpscore_trajectory.html))\n",
    "- A geometry file (see [documentation](http://www.jupedsim.org/jpscore/jpscore_geometry.html)) \n",
    "- and a project file, called inifile (see [documentation](http://www.jupedsim.org/jpscore/jpsreport_inifile.html))"
   ]
  },
  {
   "cell_type": "markdown",
   "metadata": {},
   "source": [
    "## Bottleneck example\n",
    "\n",
    "`JPSreport` comes with some demo files. \n",
    "\n",
    "For example in **demos/bottleneck** we can find the following files:"
   ]
  },
  {
   "cell_type": "code",
   "execution_count": 2,
   "metadata": {},
   "outputs": [
    {
     "name": "stdout",
     "output_type": "stream",
     "text": [
      "Actual directory:  /Users/chraibi/Workspace/github/jpscore/jpsreport/demos\n",
      "geo_AO_300.xml\n",
      "geometry.png\n",
      "ini_AO_300.xml\n",
      "traj_AO_300.txt\n"
     ]
    }
   ],
   "source": [
    "%%bash\n",
    "echo \"Actual directory:  $PWD\"\n",
    "ls bottleneck"
   ]
  },
  {
   "cell_type": "markdown",
   "metadata": {},
   "source": [
    "## Running jpsreport"
   ]
  },
  {
   "cell_type": "markdown",
   "metadata": {},
   "source": [
    "For the rest, it is assumed that the executable file lives in `../../build/bin`.\n",
    "In the following cell you may want to change the value of `dir_binary` in order to match the directory of your executable.\n",
    "\n",
    "Calling `JPSreport` without an inifile yields:"
   ]
  },
  {
   "cell_type": "code",
   "execution_count": 15,
   "metadata": {},
   "outputs": [
    {
     "name": "stdout",
     "output_type": "stream",
     "text": [
      "INFO: \tTrying to load the default configuration from the file <ini.xml>\n",
      "----\n",
      "JuPedSim - JPSreport\n",
      "\n",
      "Current date   : Sun Dec 22 16:19:01 2019\n",
      "Version        : 0.8.4\n",
      "Compiler       : clang++ (11.0.0)\n",
      "Commit hash    : v0.8.4-893-gf1fa6bc5-dirty\n",
      "Commit date    : Sat Dec 14 14:36:57 2019\n",
      "Branch         : 614_documentation\n",
      "Python         : /usr/local/bin/python3 (3.7.4)\n",
      "----\n",
      "\n",
      "INFO: \tParsing the ini file <ini.xml>\n",
      "Usage: \n",
      "\n",
      "../../build/bin/jpsreport inifile.xml\n",
      "\n"
     ]
    },
    {
     "name": "stderr",
     "output_type": "stream",
     "text": [
      "ERROR: \tFailed to open file\n",
      "ERROR: \tCould not parse the ini file\n"
     ]
    }
   ],
   "source": [
    "%%bash\n",
    "dir_binary=\"../../build/bin\"\n",
    "$dir_binary/jpsreport"
   ]
  },
  {
   "cell_type": "markdown",
   "metadata": {},
   "source": [
    "----"
   ]
  },
  {
   "cell_type": "markdown",
   "metadata": {},
   "source": [
    "`JPSreport` rightly complains about a missing inifile. "
   ]
  },
  {
   "cell_type": "markdown",
   "metadata": {},
   "source": [
    "## Preparing the inifile\n",
    "\n",
    "here you may want to start with a demo inifile and check the online [documentation](http://www.jupedsim.org/jpscore/jpsreport_inifile.html)\n",
    "for options. "
   ]
  },
  {
   "cell_type": "markdown",
   "metadata": {},
   "source": [
    "## Call JPSreport with inifile\n",
    "\n",
    "To start the analysis run from a terminal the following:\n"
   ]
  },
  {
   "cell_type": "code",
   "execution_count": 17,
   "metadata": {},
   "outputs": [
    {
     "name": "stdout",
     "output_type": "stream",
     "text": [
      "Actual directory:  /Users/chraibi/Workspace/github/jpscore/jpsreport/demos.\n",
      "dir_bin: ../../build/bin\n",
      "----\n",
      "JuPedSim - JPSreport\n",
      "\n",
      "Current date   : Sun Dec 22 16:19:36 2019\n",
      "Version        : 0.8.4\n",
      "Compiler       : clang++ (11.0.0)\n",
      "Commit hash    : v0.8.4-893-gf1fa6bc5-dirty\n",
      "Commit date    : Sat Dec 14 14:36:57 2019\n",
      "Branch         : 614_documentation\n",
      "Python         : /usr/local/bin/python3 (3.7.4)\n",
      "----\n",
      "\n",
      "INFO: \tParsing the ini file <./bottleneck/ini_AO_300.xml>\n",
      "INFO:\tlogfile </Users/chraibi/Workspace/github/jpscore/jpsreport/demos/bottleneck/log_AO_300.txt>\n",
      "lineNr 100000\n",
      "INFO:\tSuccess with Method A using measurement area id 2\n",
      "INFO:\tSuccess with Method A using measurement area id 4\n",
      "INFO: \tEnd Analysis for the file: traj_AO_300.txt\n",
      "Time elapsed:\t 4.32952 [s]\n"
     ]
    }
   ],
   "source": [
    "%%bash\n",
    "dir_binary=\"../../build/bin\"\n",
    "echo \"Actual directory:  $PWD.\"\n",
    "echo \"dir_bin: $dir_binary\"\n",
    "$dir_binary/jpsreport ./bottleneck/ini_AO_300.xml"
   ]
  },
  {
   "cell_type": "markdown",
   "metadata": {},
   "source": [
    "The output of `JPSreport` gives some logging information on its running process.  It may inform on any errors during the compilation or misconception of the input files (inifile, geometry or trajectory file).\n",
    "\n",
    "In the inifile you can define a logfile to direct these messages.\n",
    "\n",
    "Uppon a succesful run, the directory **output** is created with the following content (depends on the configuration in inifile):"
   ]
  },
  {
   "cell_type": "code",
   "execution_count": 20,
   "metadata": {},
   "outputs": [
    {
     "name": "stdout",
     "output_type": "stream",
     "text": [
      "bottleneck\n",
      "├── bottleneck_Output\n",
      "│   └── Fundamental_Diagram\n",
      "│       └── FlowVelocity\n",
      "│           ├── FDFlowVelocity_traj_AO_300.txt_id_2.dat\n",
      "│           ├── FDFlowVelocity_traj_AO_300.txt_id_4.dat\n",
      "│           ├── Flow_NT_traj_AO_300.txt_id_2.dat\n",
      "│           └── Flow_NT_traj_AO_300.txt_id_4.dat\n",
      "├── geo_AO_300.xml\n",
      "├── geometry.png\n",
      "├── ini_AO_300.xml\n",
      "├── log_AO_300.txt\n",
      "└── traj_AO_300.txt\n",
      "\n",
      "3 directories, 9 files\n"
     ]
    }
   ],
   "source": [
    "%%bash\n",
    "tree bottleneck"
   ]
  },
  {
   "cell_type": "code",
   "execution_count": 23,
   "metadata": {},
   "outputs": [
    {
     "name": "stdout",
     "output_type": "stream",
     "text": [
      "#Flow rate(1/s)\t\t Mean velocity(m/s)\n",
      "8.404\t1.148\n",
      "7.673\t0.869\n",
      "7.347\t0.774\n",
      "7.216\t0.723\n",
      "7.129\t0.736\n",
      "6.880\t0.726\n",
      "6.275\t0.740\n",
      "3.918\t0.748\n",
      "2.500\t0.806\n"
     ]
    }
   ],
   "source": [
    "%%bash\n",
    "tail bottleneck/bottleneck_Output/Fundamental_Diagram/FlowVelocity/FDFlowVelocity_traj_AO_300.txt_id_2.dat"
   ]
  },
  {
   "cell_type": "markdown",
   "metadata": {},
   "source": [
    "## Problems\n",
    "\n",
    "In case something does not work, which may happen of course, please open an issue.\n",
    "\n",
    "Use for this purpose our [issue-tracker](http://github/jupedsim/jpscore/issues). "
   ]
  }
 ],
 "metadata": {
  "kernelspec": {
   "display_name": "Python 3",
   "language": "python",
   "name": "python3"
  },
  "language_info": {
   "codemirror_mode": {
    "name": "ipython",
    "version": 3
   },
   "file_extension": ".py",
   "mimetype": "text/x-python",
   "name": "python",
   "nbconvert_exporter": "python",
   "pygments_lexer": "ipython3",
   "version": "3.7.4"
  }
 },
 "nbformat": 4,
 "nbformat_minor": 2
}

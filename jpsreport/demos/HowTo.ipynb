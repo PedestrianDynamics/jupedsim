{
 "cells": [
  {
   "cell_type": "markdown",
   "metadata": {},
   "source": [
    "# Getting started with JPSreport\n"
   ]
  },
  {
   "cell_type": "markdown",
   "metadata": {},
   "source": [
    "`JPSreport` needs three different files as input: \n",
    "- A trajectory file (txt or xml) (see [documentation](http://www.jupedsim.org/jpsreport/2016-11-03-trajectory))\n",
    "- A geometry file (see [documentation](http://www.jupedsim.org/jpsreport/2016-11-02-geometry)) \n",
    "- and a project file, called inifile (see [documentation](http://www.jupedsim.org/jpsreport/2016-11-01-inifile))"
   ]
  },
  {
   "cell_type": "markdown",
   "metadata": {},
   "source": [
    "## Bottleneck example\n",
    "\n",
    "`JPSreport` comes with some demo files. \n",
    "\n",
    "For example in **demos/bottleneck** we can find the following files:"
   ]
  },
  {
   "cell_type": "code",
   "execution_count": 17,
   "metadata": {},
   "outputs": [
    {
     "name": "stdout",
     "output_type": "stream",
     "text": [
      "Actual directory:  /Users/chraibi/Workspace/jpsreport/demos\n",
      "Output\n",
      "geo_AO_300.xml\n",
      "geometry.png\n",
      "ini_AO_300.xml\n",
      "traj_AO_300.txt\n"
     ]
    }
   ],
   "source": [
    "%%bash\n",
    "echo \"Actual directory:  $PWD\"\n",
    "ls bottleneck"
   ]
  },
  {
   "cell_type": "markdown",
   "metadata": {},
   "source": [
    "## Starting JPSreport"
   ]
  },
  {
   "cell_type": "markdown",
   "metadata": {},
   "source": [
    "Calling `JPSreport` without an inifile yields:"
   ]
  },
  {
   "cell_type": "code",
   "execution_count": 16,
   "metadata": {},
   "outputs": [
    {
     "name": "stdout",
     "output_type": "stream",
     "text": [
      "INFO: \tTrying to load the default configuration from the file <ini.xml>\n",
      "----\n",
      "JuPedSim - JPSreport\n",
      "\n",
      "Current date   : May 19 2018 09:09:49\n",
      "Version        : 0.8.3\n",
      "Compiler       : clang++ (3.5.0)\n",
      "Commit hash    : v0.8.2-76-g561ab10-dirty\n",
      "Commit date    : Fri May 18 18:40:14 2018\n",
      "Branch         : develop\n",
      "----\n",
      "\n",
      "INFO: \tParsing the ini file <ini.xml>\n",
      "Usage: \n",
      "\n",
      "../bin/jpsreport inifile.xml\n",
      "\n"
     ]
    },
    {
     "name": "stderr",
     "output_type": "stream",
     "text": [
      "ERROR: \tFailed to open file\n",
      "ERROR: \tCould not parse the ini file\n"
     ]
    }
   ],
   "source": [
    "%%bash\n",
    "../bin/jpsreport"
   ]
  },
  {
   "cell_type": "markdown",
   "metadata": {},
   "source": [
    "----"
   ]
  },
  {
   "cell_type": "markdown",
   "metadata": {},
   "source": [
    "`JPSreport` rightly complains about a missing inifile. "
   ]
  },
  {
   "cell_type": "markdown",
   "metadata": {},
   "source": [
    "In the bottleneck directory, we can find the three necessary files to get us started. \n",
    "\n",
    "Let's visualize the geometry with [JPSvis](https://gitlab.version.fz-juelich.de/jupedsim/jpsvis)\n",
    "\n",
    "![geometry](./bottleneck/geometry.png)\n"
   ]
  },
  {
   "cell_type": "markdown",
   "metadata": {},
   "source": [
    "## Preparing the inifile\n",
    "\n",
    "here you may want to start with a demo inifile and check the online [documentation](http://www.jupedsim.org/jpsreport/2016-11-01-inifile)\n",
    "for options. "
   ]
  },
  {
   "cell_type": "markdown",
   "metadata": {},
   "source": [
    "## Call JPSreport\n",
    "\n",
    "To start the analysis run from a terminal the following:\n"
   ]
  },
  {
   "cell_type": "code",
   "execution_count": 19,
   "metadata": {},
   "outputs": [
    {
     "name": "stdout",
     "output_type": "stream",
     "text": [
      "Actual directory:  /Users/chraibi/Workspace/jpsreport/demos\n",
      "----\n",
      "JuPedSim - JPSreport\n",
      "\n",
      "Current date   : May 19 2018 09:09:49\n",
      "Version        : 0.8.3\n",
      "Compiler       : clang++ (3.5.0)\n",
      "Commit hash    : v0.8.2-76-g561ab10-dirty\n",
      "Commit date    : Fri May 18 18:40:14 2018\n",
      "Branch         : develop\n",
      "----\n",
      "\n",
      "INFO: \tParsing the ini file <./bottleneck/ini_AO_300.xml>\n",
      "lineNr 100000\n",
      "INFO: \tEnd Analysis for the file: traj_AO_300.txt\n",
      "Time elapsed:\t 4.09673 [s]\n"
     ]
    }
   ],
   "source": [
    "%%bash\n",
    "echo \"Actual directory:  $PWD\"\n",
    "\n",
    "../bin/jpsreport ./bottleneck/ini_AO_300.xml"
   ]
  },
  {
   "cell_type": "markdown",
   "metadata": {},
   "source": [
    "The output of `JPSreport` gives some logging information on its running process.  It may inform on any errors during the compilation or misconception of the input files (inifile, geometry or trajectory file).\n",
    "\n",
    "In the inifile you can define a logfile to direct these messages.\n",
    "\n",
    "Uppon a succesful run, the directory **output** is created with the following content (depends on the configuration in inifile):"
   ]
  },
  {
   "cell_type": "code",
   "execution_count": 5,
   "metadata": {},
   "outputs": [
    {
     "name": "stdout",
     "output_type": "stream",
     "text": [
      "bottleneck/Output\n",
      "└── Fundamental_Diagram\n",
      "    └── FlowVelocity\n",
      "        ├── FDFlowVelocity_traj_AO_300.txt_id_2.dat\n",
      "        ├── FDFlowVelocity_traj_AO_300.txt_id_4.dat\n",
      "        ├── Flow_NT_traj_AO_300.txt_id_2.dat\n",
      "        ├── Flow_NT_traj_AO_300.txt_id_2.png\n",
      "        ├── Flow_NT_traj_AO_300.txt_id_4.dat\n",
      "        └── Flow_NT_traj_AO_300.txt_id_4.png\n",
      "\n",
      "2 directories, 6 files\n"
     ]
    }
   ],
   "source": [
    "%%bash\n",
    "tree bottleneck/Output"
   ]
  },
  {
   "cell_type": "code",
   "execution_count": 6,
   "metadata": {},
   "outputs": [
    {
     "name": "stdout",
     "output_type": "stream",
     "text": [
      "#Flow rate(1/s)\t\t Mean velocity(m/s)\n",
      "8.404\t1.148\n",
      "7.673\t0.869\n",
      "7.347\t0.774\n",
      "7.216\t0.723\n",
      "7.129\t0.736\n",
      "6.880\t0.726\n",
      "6.275\t0.740\n",
      "3.918\t0.748\n",
      "2.500\t0.806\n"
     ]
    }
   ],
   "source": [
    "%%bash\n",
    "tail bottleneck/Output/Fundamental_Diagram/FlowVelocity/FDFlowVelocity_traj_AO_300.txt_id_2.dat"
   ]
  },
  {
   "cell_type": "markdown",
   "metadata": {},
   "source": [
    "![result 1](bottleneck/Output/Fundamental_Diagram/FlowVelocity/Flow_NT_traj_AO_300.txt_id_2.png)"
   ]
  },
  {
   "cell_type": "markdown",
   "metadata": {},
   "source": [
    "Result: \n",
    "![](bottleneck/Output/Fundamental_Diagram/FlowVelocity/Flow_NT_traj_AO_300.txt_id_2.png)"
   ]
  },
  {
   "cell_type": "markdown",
   "metadata": {},
   "source": [
    "## Problems\n",
    "\n",
    "In case something does not work, which may happen of course, please open an issue.\n",
    "\n",
    "Use for this purpose our [issue-tracker](http://gitlab.version.fz-juelich.de/jupedsim/jpsreport/issues). "
   ]
  }
 ],
 "metadata": {
  "kernelspec": {
   "display_name": "Python 3",
   "language": "python",
   "name": "python3"
  },
  "language_info": {
   "codemirror_mode": {
    "name": "ipython",
    "version": 3
   },
   "file_extension": ".py",
   "mimetype": "text/x-python",
   "name": "python",
   "nbconvert_exporter": "python",
   "pygments_lexer": "ipython3",
   "version": "3.6.4"
  }
 },
 "nbformat": 4,
 "nbformat_minor": 2
}

{
 "cells": [
  {
   "cell_type": "markdown",
   "metadata": {},
   "source": [
    "### Plot flow statistics"
   ]
  },
  {
   "cell_type": "code",
   "execution_count": null,
   "metadata": {},
   "outputs": [],
   "source": [
    "%store -r jpscore_ini_dir\n",
    "txt_flow = os.path.join(jpscore_ini_dir, \"results\", \"flow*.txt\")\n",
    "flow_files = glob.glob(txt_flow)\n",
    "ids = []\n",
    "for f in flow_files:\n",
    "    ids.append(int(f.split(\"id_\")[-1].split(\"_\")[0]))\n",
    "\n",
    "def plot_flow_at_door(door_id):\n",
    "    \"\"\"\n",
    "    plot flow at door\n",
    "    args:\n",
    "    door_id(int)\n",
    "    \"\"\"\n",
    "    if not flow_files: return\n",
    "    for f in flow_files:\n",
    "        Id = int(f.split(\"id_\")[-1].split(\"_\")[0])\n",
    "        if Id == door_id:\n",
    "            data = np.loadtxt(f)\n",
    "            plt.plot(data[:, 0], data[:, 1])\n",
    "    \n",
    "    plt.xlabel(\"$t$\", size=18)\n",
    "    plt.ylabel(\"$N$\", size=18)\n",
    "    plt.grid()"
   ]
  },
  {
   "cell_type": "code",
   "execution_count": null,
   "metadata": {},
   "outputs": [],
   "source": [
    "widgets.interact(plot_flow_at_door,\n",
    "         door_id=widgets.IntSlider(min=min(ids), max=max(ids), step=1, value=len(ids), description=\"Door Id\"));"
   ]
  }
 ],
 "metadata": {
  "kernelspec": {
   "display_name": "Python 3",
   "language": "python",
   "name": "python3"
  },
  "language_info": {
   "codemirror_mode": {
    "name": "ipython",
    "version": 3
   },
   "file_extension": ".py",
   "mimetype": "text/x-python",
   "name": "python",
   "nbconvert_exporter": "python",
   "pygments_lexer": "ipython3",
   "version": "3.7.7"
  }
 },
 "nbformat": 4,
 "nbformat_minor": 4
}

{
 "cells": [
  {
   "cell_type": "markdown",
   "metadata": {},
   "source": [
    "### Plot Voronoi diagrams"
   ]
  },
  {
   "cell_type": "code",
   "execution_count": null,
   "metadata": {},
   "outputs": [],
   "source": [
    "#IFD_files = \"Output/Fundamental_Diagram/IndividualFD/IFD_D_trajectories.txt_id_1\"\n",
    "#frame_min=10\n",
    "#frame_max=20\n",
    "#xmin = 0 \n",
    "#xmax = 9\n",
    "#ymin = 0\n",
    "#ymax = 2\n",
    "#fps = 8\n",
    "#v_min = 0\n",
    "#v_max = 1.5\n",
    "#if not os.path.exists(filename):\n",
    "#    print(\"File {} does not exist\".format(filename))\n",
    "#else:\n",
    "#    dataframe = read_IFD(filename)\n",
    "#    IFD_plot_polygon_rho(dataframe,frame_min, frame_max, xmin, xmax, ymin,ymax, fps, v_min, v_max)"
   ]
  },
  {
   "cell_type": "markdown",
   "metadata": {},
   "source": [
    "### Voronoi diagrams\n"
   ]
  },
  {
   "cell_type": "code",
   "execution_count": null,
   "metadata": {},
   "outputs": [],
   "source": [
    "def IFD_plot_polygon_rho(dataframe,frame_min, frame_max, xmin, xmax, ymin,ymax, fps, v_min, v_max):\n",
    "    i = 0\n",
    "    for f in range(frame_min, frame_max):\n",
    "\n",
    "        fig = plt.figure()\n",
    "        ax1 = fig.add_subplot(111, aspect='equal')\n",
    "\n",
    "        ax1.set_title('frame {0:6d} - time {1:7.2f} s'.format(f, f/fps))\n",
    "\n",
    "        ax1.set_xlim(xmin,xmax)\n",
    "        ax1.set_xlabel(r'x / $m$')\n",
    "\n",
    "        ax1.set_ylim(ymin,ymax)\n",
    "        ax1.set_ylabel(r'y / $m$')\n",
    "\n",
    "        divider = make_axes_locatable(ax1)\n",
    "        cax1 = divider.append_axes(\"right\", size=\"10%\", pad=\"5%\")\n",
    "\n",
    "        sm = cm.ScalarMappable(cmap = cm.get_cmap('rainbow'))\n",
    "\n",
    "        sm.set_clim(vmin=v_min, vmax=v_max)\n",
    "\n",
    "        for i in dataframe[dataframe['Frame'] == f]['PersID'].iteritems():\n",
    "\n",
    "                # workflow \"agents voronoi polygon\" in one line\n",
    "                # 1. str_to_array\n",
    "                # 2. adjusting the unit\n",
    "                Polygon_Agent = str_to_array(dataframe['Voronoi_Polygon'][i[0]].strip())/10000\n",
    "\n",
    "                # density value for display with colorbar\n",
    "                rho = dataframe[dataframe['Frame'] == f]['rho'][i[0]]\n",
    "\n",
    "                sm.set_array(rho)\n",
    "                sm.autoscale_None()\n",
    "\n",
    "                ax1.add_patch(ppolygon(Polygon_Agent,\n",
    "                                       fc= sm.to_rgba(rho),\n",
    "                                       ec='white',\n",
    "                                       lw=1))\n",
    "\n",
    "        label = r\"$\\rho$ /$P m^{-2}$\"\n",
    "\n",
    "        cbar = fig.colorbar(sm, cax = cax1, label = label)\n",
    "        plt.show()\n",
    "        plt.close()"
   ]
  }
 ],
 "metadata": {
  "kernelspec": {
   "display_name": "Python 3",
   "language": "python",
   "name": "python3"
  },
  "language_info": {
   "codemirror_mode": {
    "name": "ipython",
    "version": 3
   },
   "file_extension": ".py",
   "mimetype": "text/x-python",
   "name": "python",
   "nbconvert_exporter": "python",
   "pygments_lexer": "ipython3",
   "version": "3.7.7"
  }
 },
 "nbformat": 4,
 "nbformat_minor": 4
}

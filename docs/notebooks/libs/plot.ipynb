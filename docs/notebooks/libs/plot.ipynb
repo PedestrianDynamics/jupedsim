{
 "cells": [
  {
   "cell_type": "code",
   "execution_count": null,
   "metadata": {},
   "outputs": [],
   "source": [
    "%store -r jpscore_ini_dir"
   ]
  },
  {
   "cell_type": "markdown",
   "metadata": {},
   "source": [
    "### Plot flow statistics"
   ]
  },
  {
   "cell_type": "code",
   "execution_count": null,
   "metadata": {},
   "outputs": [],
   "source": [
    "#%run libs/utils.py\n",
    "txt_flow = os.path.join(jpscore_ini_dir, \"results\", \"flow*.txt\")\n",
    "flow_files = glob.glob(txt_flow)\n",
    "ids = []\n",
    "for f in flow_files:\n",
    "    ids.append(int(f.split(\"id_\")[-1].split(\"_\")[0]))\n",
    "\n",
    "def plot_flow_at_door(door_id):\n",
    "    \"\"\"\n",
    "    plot flow at door\n",
    "    args:\n",
    "    door_id(int)\n",
    "    \"\"\"\n",
    "    if not flow_files: return\n",
    "    for f in flow_files:\n",
    "        Id = int(f.split(\"id_\")[-1].split(\"_\")[0])\n",
    "        if Id == door_id:\n",
    "            data = np.loadtxt(f)\n",
    "            plt.plot(data[:, 1], data[:, 0])\n",
    "    \n",
    "    plt.ylabel(\"$t$\", size=18)\n",
    "    plt.xlabel(\"$N$\", size=18)\n",
    "    plt.grid()"
   ]
  },
  {
   "cell_type": "markdown",
   "metadata": {},
   "source": [
    "### Plot Voronoi diagrams"
   ]
  },
  {
   "cell_type": "code",
   "execution_count": null,
   "metadata": {},
   "outputs": [],
   "source": [
    "#IFD_files = \"Output/Fundamental_Diagram/IndividualFD/IFD_D_trajectories.txt_id_1\"\n",
    "#frame_min=10\n",
    "#frame_max=20\n",
    "#xmin = 0 \n",
    "#xmax = 9\n",
    "#ymin = 0\n",
    "#ymax = 2\n",
    "#fps = 8\n",
    "#v_min = 0\n",
    "#v_max = 1.5\n",
    "#if not os.path.exists(filename):\n",
    "#    print(\"File {} does not exist\".format(filename))\n",
    "#else:\n",
    "#    dataframe = read_IFD(filename)\n",
    "#    IFD_plot_polygon_rho(dataframe,frame_min, frame_max, xmin, xmax, ymin,ymax, fps, v_min, v_max)"
   ]
  },
  {
   "cell_type": "markdown",
   "metadata": {},
   "source": [
    "### plot Voronoi diagrams\n"
   ]
  },
  {
   "cell_type": "code",
   "execution_count": null,
   "metadata": {},
   "outputs": [],
   "source": [
    "def IFD_plot_polygon_rho(dataframe,frame_min, frame_max, xmin, xmax, ymin,ymax, fps, v_min, v_max):\n",
    "    i = 0\n",
    "    for f in range(frame_min, frame_max):\n",
    "\n",
    "        fig = plt.figure()\n",
    "        ax1 = fig.add_subplot(111, aspect='equal')\n",
    "\n",
    "        ax1.set_title('frame {0:6d} - time {1:7.2f} s'.format(f, f/fps))\n",
    "\n",
    "        ax1.set_xlim(xmin,xmax)\n",
    "        ax1.set_xlabel(r'x / $m$')\n",
    "\n",
    "        ax1.set_ylim(ymin,ymax)\n",
    "        ax1.set_ylabel(r'y / $m$')\n",
    "\n",
    "        divider = make_axes_locatable(ax1)\n",
    "        cax1 = divider.append_axes(\"right\", size=\"10%\", pad=\"5%\")\n",
    "\n",
    "        sm = cm.ScalarMappable(cmap = cm.get_cmap('rainbow'))\n",
    "\n",
    "        sm.set_clim(vmin=v_min, vmax=v_max)\n",
    "\n",
    "        for i in dataframe[dataframe['Frame'] == f]['PersID'].iteritems():\n",
    "\n",
    "                # workflow \"agents voronoi polygon\" in one line\n",
    "                # 1. str_to_array\n",
    "                # 2. adjusting the unit\n",
    "                Polygon_Agent = str_to_array(dataframe['Voronoi_Polygon'][i[0]].strip())/10000\n",
    "\n",
    "                # density value for display with colorbar\n",
    "                rho = dataframe[dataframe['Frame'] == f]['rho'][i[0]]\n",
    "\n",
    "                sm.set_array(rho)\n",
    "                sm.autoscale_None()\n",
    "\n",
    "                ax1.add_patch(ppolygon(Polygon_Agent,\n",
    "                                       fc= sm.to_rgba(rho),\n",
    "                                       ec='white',\n",
    "                                       lw=1))\n",
    "\n",
    "        label = r\"$\\rho$ /$P m^{-2}$\"\n",
    "\n",
    "        cbar = fig.colorbar(sm, cax = cax1, label = label)\n",
    "        plt.show()\n",
    "        plt.close()"
   ]
  },
  {
   "cell_type": "markdown",
   "metadata": {},
   "source": [
    "### plot N(t) curves"
   ]
  },
  {
   "cell_type": "code",
   "execution_count": null,
   "metadata": {},
   "outputs": [],
   "source": [
    "nt_files = glob.glob(flow_nt_dir)\n",
    "ids = []\n",
    "for f in nt_files:\n",
    "    ids.append(int(f.split(\"id_\")[-1].split(\".\")[0]))\n",
    "    \n",
    "def plot_nt(measurement_id):\n",
    "    \"\"\"\n",
    "    plot N(t) curves (Method A)\n",
    "    args:\n",
    "    measurement area id (int)\n",
    "    \"\"\"\n",
    "    for f in nt_files:\n",
    "        data = np.loadtxt(f)\n",
    "        if measurement_id == -1:\n",
    "            plt.plot(data[:, 1], data[:, 0])\n",
    "            continue\n",
    "        \n",
    "        Id = int(f.split(\"id_\")[-1].split(\".\")[0])\n",
    "        if Id == measurement_id:\n",
    "            plt.plot(data[:, 1], data[:, 0])\n",
    "\n",
    "    plt.ylabel(\"$t$\", size=18)\n",
    "    plt.xlabel(\"$N$\", size=18)\n",
    "    plt.grid(alpha=0.7)"
   ]
  }
 ],
 "metadata": {
  "kernelspec": {
   "display_name": "Python 3",
   "language": "python",
   "name": "python3"
  },
  "language_info": {
   "codemirror_mode": {
    "name": "ipython",
    "version": 3
   },
   "file_extension": ".py",
   "mimetype": "text/x-python",
   "name": "python",
   "nbconvert_exporter": "python",
   "pygments_lexer": "ipython3",
   "version": "3.7.7"
  }
 },
 "nbformat": 4,
 "nbformat_minor": 4
}

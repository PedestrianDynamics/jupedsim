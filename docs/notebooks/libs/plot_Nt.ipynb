{
 "cells": [
  {
   "cell_type": "markdown",
   "metadata": {},
   "source": [
    "### N(t) "
   ]
  },
  {
   "cell_type": "code",
   "execution_count": null,
   "metadata": {},
   "outputs": [],
   "source": [
    "nt_files = glob.glob(flow_nt_dir)\n",
    "ids = []\n",
    "for f in nt_files:\n",
    "    ids.append(int(f.split(\"id_\")[-1].split(\".\")[0]))\n",
    "\n",
    "sorted(ids)\n",
    "\n",
    "def plot_nt(measurement_id):\n",
    "    \"\"\"\n",
    "    plot N(t) curves (Method A)\n",
    "    args:\n",
    "    measurement area id (int)\n",
    "    \"\"\"\n",
    "    for f in nt_files:\n",
    "        data = np.loadtxt(f)\n",
    "        Id = int(f.split(\"id_\")[-1].split(\".\")[0])\n",
    "        if measurement_id == -1:\n",
    "            plt.plot(data[:, 0], data[:, 1], label=\"{}\".format(Id))\n",
    "            continue\n",
    "        \n",
    "        if Id == measurement_id:\n",
    "            plt.plot(data[:, 0], data[:, 1], label=\"{}\".format(Id))\n",
    "\n",
    "    plt.xlabel(\"$t$\", size=18)\n",
    "    plt.ylabel(\"$N$\", size=18)\n",
    "    plt.legend()\n",
    "    plt.grid(alpha=0.7)"
   ]
  },
  {
   "cell_type": "code",
   "execution_count": null,
   "metadata": {},
   "outputs": [],
   "source": [
    "interact(plot_nt, measurement_id=widgets.Dropdown(options=[-1] + ids, description='M-Area', disabled=False));"
   ]
  }
 ],
 "metadata": {
  "kernelspec": {
   "display_name": "Python 3",
   "language": "python",
   "name": "python3"
  },
  "language_info": {
   "codemirror_mode": {
    "name": "ipython",
    "version": 3
   },
   "file_extension": ".py",
   "mimetype": "text/x-python",
   "name": "python",
   "nbconvert_exporter": "python",
   "pygments_lexer": "ipython3",
   "version": "3.7.7"
  }
 },
 "nbformat": 4,
 "nbformat_minor": 4
}

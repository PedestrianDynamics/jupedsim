{
 "cells": [
  {
   "cell_type": "markdown",
   "metadata": {},
   "source": [
    "### N(t) "
   ]
  },
  {
   "cell_type": "code",
   "execution_count": null,
   "metadata": {},
   "outputs": [],
   "source": [
    "method_A =  d.getElementsByTagName('method_A')[0].attributes.items()[0][1]\n",
    "if method_A.lower() == \"true\":\n",
    "    nt_files = glob.glob(flow_nt_files)\n",
    "    ids = set()\n",
    "    for f in nt_files:\n",
    "        ids.add(f.split(\"id_\")[-1].split(\".\")[0])\n",
    "        \n",
    "    ids = [\"all\"] + list(sorted(ids))\n",
    "\n",
    "def plot_nt(measurement_id):\n",
    "    \"\"\"\n",
    "    plot N(t) curves (Method A)\n",
    "    args:\n",
    "    measurement area id (int)\n",
    "    \"\"\"\n",
    "    legend = False\n",
    "    for f in nt_files:\n",
    "        data = np.loadtxt(f)\n",
    "        Id = f.split(\"id_\")[-1].split(\".\")[0]\n",
    "        if measurement_id == \"all\":\n",
    "            plt.plot(data[:, 0], data[:, 1], label=\"{}\".format(Id))\n",
    "            legend = True\n",
    "            continue\n",
    "        \n",
    "        if Id == measurement_id:\n",
    "            plt.plot(data[:, 0], data[:, 1])\n",
    "\n",
    "    plt.xlabel(\"$t$\", size=18)\n",
    "    plt.ylabel(\"$N$\", size=18)\n",
    "    if legend:\n",
    "        plt.legend()\n",
    "    plt.grid(alpha=0.7)"
   ]
  },
  {
   "cell_type": "code",
   "execution_count": null,
   "metadata": {},
   "outputs": [],
   "source": [
    "if method_A.lower() == \"true\":\n",
    "    widgets.interact(plot_nt, measurement_id=widgets.Dropdown(options=ids, description='Area:', disabled=False));\n",
    "else:\n",
    "    print(\"Method A not active. Nothing to plot..\")"
   ]
  }
 ],
 "metadata": {
  "kernelspec": {
   "display_name": "Python 3",
   "language": "python",
   "name": "python3"
  },
  "language_info": {
   "codemirror_mode": {
    "name": "ipython",
    "version": 3
   },
   "file_extension": ".py",
   "mimetype": "text/x-python",
   "name": "python",
   "nbconvert_exporter": "python",
   "pygments_lexer": "ipython3",
   "version": "3.7.7"
  }
 },
 "nbformat": 4,
 "nbformat_minor": 4
}

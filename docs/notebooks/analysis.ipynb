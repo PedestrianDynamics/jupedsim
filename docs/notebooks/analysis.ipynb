{
 "cells": [
  {
   "cell_type": "markdown",
   "metadata": {},
   "source": [
    "## Analysis with JuPedSim\n",
    "\n",
    "### Before starting\n",
    "\n",
    "- Open the file `config.ipynb`\n",
    "- Edit the values of `jpsreport_inifile` and `jpscore_dir`\n",
    "- Save `config.ipynb`\n",
    "\n",
    "### How to run\n",
    "\n",
    "`Run --> Run All Cells` \n",
    "\n",
    "-----\n"
   ]
  },
  {
   "cell_type": "markdown",
   "metadata": {},
   "source": [
    "### Load config files\n",
    "the used inifiles as defined by the user in config.ipynb are loaded"
   ]
  },
  {
   "cell_type": "code",
   "execution_count": null,
   "metadata": {},
   "outputs": [],
   "source": [
    "%%capture\n",
    "%run config.ipynb\n",
    "%store -r jpsreport_inifile\n",
    "%store -r jpsreport_exe\n",
    "jpsreport_ini_dir = os.path.dirname(jpsreport_inifile)\n",
    "%store  jpsreport_ini_dir"
   ]
  },
  {
   "cell_type": "markdown",
   "metadata": {},
   "source": [
    "### Initialize some important directories"
   ]
  },
  {
   "cell_type": "code",
   "execution_count": null,
   "metadata": {},
   "outputs": [],
   "source": [
    "d = parse(jpsreport_inifile)\n",
    "output_dir =  d.getElementsByTagName('output')[0].attributes.items()[0][1]\n",
    "flow_nt_files = os.path.join(jpsreport_ini_dir, output_dir, \"Fundamental_Diagram\", \"FlowVelocity\", \"Flow_NT_*.dat\")\n",
    "classical_fd_files =  os.path.join(jpsreport_ini_dir, output_dir, \"Fundamental_Diagram\", \"Classical_Voronoi\", \"rho_v_Voronoi*.dat\")\n",
    "IFD_files = os.path.join(jpsreport_ini_dir, output_dir, \"Fundamental_Diagram\", \"IndividualFD\", \"IFD_D*.dat\")\n",
    "field_dir = os.path.join(jpsreport_ini_dir, output_dir, \"Fundamental_Diagram\", \"Classical_Voronoi\", \"field\")"
   ]
  },
  {
   "cell_type": "markdown",
   "metadata": {},
   "source": [
    "## Run jpsreport"
   ]
  },
  {
   "cell_type": "code",
   "execution_count": null,
   "metadata": {},
   "outputs": [],
   "source": [
    "%%bash -s \"$jpsreport_exe\" \"$jpsreport_inifile\"\n",
    "$1 $2"
   ]
  },
  {
   "cell_type": "markdown",
   "metadata": {},
   "source": [
    "## Method A\n",
    "\n",
    "Produce an N(t)-plot using [method A](http://www.jupedsim.org/jpsreport_method_A.html)."
   ]
  },
  {
   "cell_type": "code",
   "execution_count": null,
   "metadata": {},
   "outputs": [],
   "source": [
    "%run libs/plot_Nt.ipynb"
   ]
  },
  {
   "cell_type": "markdown",
   "metadata": {},
   "source": [
    "## Method D"
   ]
  },
  {
   "cell_type": "markdown",
   "metadata": {},
   "source": [
    "Plot results calculated with [method D](http://www.jupedsim.org/jpsreport_method_D.html)"
   ]
  },
  {
   "cell_type": "code",
   "execution_count": null,
   "metadata": {},
   "outputs": [],
   "source": [
    "%run libs/plot_methodD.ipynb"
   ]
  }
 ],
 "metadata": {
  "kernelspec": {
   "display_name": "Python 3",
   "language": "python",
   "name": "python3"
  },
  "language_info": {
   "codemirror_mode": {
    "name": "ipython",
    "version": 3
   },
   "file_extension": ".py",
   "mimetype": "text/x-python",
   "name": "python",
   "nbconvert_exporter": "python",
   "pygments_lexer": "ipython3",
   "version": "3.7.7"
  }
 },
 "nbformat": 4,
 "nbformat_minor": 4
}

{
 "cells": [
  {
   "cell_type": "markdown",
   "metadata": {},
   "source": [
    "## Analysis with JuPedSim\n",
    "\n",
    "### Before starting\n",
    "\n",
    "- Open file `config.ipynb`\n",
    "- Edit the values of `jpsreport_inifile` and `jpsreport_dir`\n",
    "- Save\n",
    "\n",
    "### How to run\n",
    "\n",
    "`Run --> Run All Cells` \n",
    "\n",
    "-----\n"
   ]
  },
  {
   "cell_type": "markdown",
   "metadata": {},
   "source": [
    "### Load config files\n",
    "the used inifiles as defined by the user in config.ipynb are loaded"
   ]
  },
  {
   "cell_type": "code",
   "execution_count": null,
   "metadata": {},
   "outputs": [],
   "source": [
    "%%capture\n",
    "%run config.ipynb\n",
    "%store -r jpsreport_inifile\n",
    "%store -r jpsreport_exe\n",
    "jpsreport_ini_dir = os.path.dirname(jpsreport_inifile)\n",
    "%store  jpsreport_ini_dir"
   ]
  },
  {
   "cell_type": "markdown",
   "metadata": {},
   "source": [
    "### Initialize some important directories"
   ]
  },
  {
   "cell_type": "code",
   "execution_count": null,
   "metadata": {},
   "outputs": [],
   "source": [
    "d = parse(jpsreport_inifile)\n",
    "output_dir =  d.getElementsByTagName('output')[0].attributes.items()[0][1]\n",
    "flow_nt_dir = os.path.join(jpsreport_ini_dir, output_dir, \"Fundamental_Diagram\", \"FlowVelocity\", \"Flow_NT_*.dat\")"
   ]
  },
  {
   "cell_type": "markdown",
   "metadata": {},
   "source": [
    "## Run jpsreport"
   ]
  },
  {
   "cell_type": "code",
   "execution_count": null,
   "metadata": {},
   "outputs": [],
   "source": [
    "%%bash -s \"$jpsreport_exe\" \"$jpsreport_inifile\"\n",
    "$1 $2"
   ]
  },
  {
   "cell_type": "markdown",
   "metadata": {},
   "source": [
    "## N(t)-plot\n",
    "\n",
    "Calculate an N(t) plot using [method A](http://www.jupedsim.org/jpsreport_method_A.html).\n",
    "\n",
    "**Note:** `-1` for ploting all measurement areas at once."
   ]
  },
  {
   "cell_type": "code",
   "execution_count": null,
   "metadata": {},
   "outputs": [],
   "source": [
    "%run libs/plot_Nt.ipynb"
   ]
  }
 ],
 "metadata": {
  "kernelspec": {
   "display_name": "Python 3",
   "language": "python",
   "name": "python3"
  },
  "language_info": {
   "codemirror_mode": {
    "name": "ipython",
    "version": 3
   },
   "file_extension": ".py",
   "mimetype": "text/x-python",
   "name": "python",
   "nbconvert_exporter": "python",
   "pygments_lexer": "ipython3",
   "version": "3.7.7"
  }
 },
 "nbformat": 4,
 "nbformat_minor": 4
}

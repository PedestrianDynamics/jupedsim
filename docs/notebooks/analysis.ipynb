{
 "cells": [
  {
   "cell_type": "markdown",
   "metadata": {},
   "source": [
    "## Analysis with JuPedSim\n",
    "\n",
    "### Before starting\n",
    "\n",
    "- Open file `config.ipynb`\n",
    "- Edit the values of `jpsreport_inifile` and `jpsreport_dir`\n",
    "- Save\n",
    "\n",
    "### How to run\n",
    "\n",
    "`Run --> Run All Cells` \n",
    "\n",
    "-----\n"
   ]
  },
  {
   "cell_type": "markdown",
   "metadata": {},
   "source": [
    "### Load config files\n",
    "the used inifiles as defined by the user in config.ipynb are loaded"
   ]
  },
  {
   "cell_type": "code",
   "execution_count": 1,
   "metadata": {},
   "outputs": [],
   "source": [
    "%%capture\n",
    "%run config.ipynb\n",
    "%store -r jpsreport_inifile\n",
    "%store -r jpsreport_exe\n",
    "jpsreport_ini_dir = os.path.dirname(jpsreport_inifile)\n",
    "%store  jpsreport_ini_dir"
   ]
  },
  {
   "cell_type": "markdown",
   "metadata": {},
   "source": [
    "### Initialize some important directories"
   ]
  },
  {
   "cell_type": "code",
   "execution_count": 2,
   "metadata": {},
   "outputs": [],
   "source": [
    "d = parse(jpsreport_inifile)\n",
    "output_dir =  d.getElementsByTagName('output')[0].attributes.items()[0][1]\n",
    "flow_nt_dir = os.path.join(jpsreport_ini_dir, output_dir, \"Fundamental_Diagram\", \"FlowVelocity\", \"Flow_NT_*.dat\")"
   ]
  },
  {
   "cell_type": "markdown",
   "metadata": {},
   "source": [
    "## Run jpsreport"
   ]
  },
  {
   "cell_type": "code",
   "execution_count": 9,
   "metadata": {},
   "outputs": [
    {
     "name": "stdout",
     "output_type": "stream",
     "text": [
      "----\n",
      "JuPedSim - JPSreport\n",
      "\n",
      "Current date   : Fri May 08 15:56:53 2020\n",
      "Version        : 0.8.4\n",
      "Compiler       : clang++ (11.0.0)\n",
      "Commit hash    : v0.8.4-962-g44bc28f4\n",
      "Commit date    : Sun May 3 13:54:22 2020\n",
      "Branch         : master\n",
      "INFO: \tParsing the ini file <files/ini_jpsreport.xml>\n",
      "INFO:\tlogfile </Users/chraibi/workspace/jupedsim/jpscore/docs/notebooks/files/log_jpsreport.txt>\n",
      "INFO:\tSuccess with Method A using measurement area id 2\n",
      "INFO:\tSuccess with Method A using measurement area id 3\n",
      "INFO:\tSuccess with Method A using measurement area id 4\n",
      "INFO: \tEnd Analysis for the file: trajectories.txt\n",
      "Time elapsed:\t 0.132 [s]\n"
     ]
    }
   ],
   "source": [
    "%%bash -s \"$jpsreport_exe\" \"$jpsreport_inifile\"\n",
    "$1 $2"
   ]
  },
  {
   "cell_type": "markdown",
   "metadata": {},
   "source": [
    "## N(t)-plot\n",
    "\n",
    "Calculate an N(t) plot using [method A](http://www.jupedsim.org/jpsreport_method_A.html).\n",
    "\n",
    "**Note:** `-1` for ploting all measurement areas at once."
   ]
  },
  {
   "cell_type": "code",
   "execution_count": 31,
   "metadata": {},
   "outputs": [
    {
     "data": {
      "application/vnd.jupyter.widget-view+json": {
       "model_id": "fdb7f4523a8a4d8f8e0e59bc9c86c57a",
       "version_major": 2,
       "version_minor": 0
      },
      "text/plain": [
       "interactive(children=(Dropdown(description='Measurement id', options=(-1, 3, 2, 4), value=-1), Output()), _dom…"
      ]
     },
     "metadata": {},
     "output_type": "display_data"
    }
   ],
   "source": [
    "%run libs/plot.ipynb\n",
    "interact(plot_nt, measurement_id=widgets.Dropdown(options=[-1] + ids, description='Measurement id', disabled=False));\n"
   ]
  }
 ],
 "metadata": {
  "kernelspec": {
   "display_name": "Python 3",
   "language": "python",
   "name": "python3"
  },
  "language_info": {
   "codemirror_mode": {
    "name": "ipython",
    "version": 3
   },
   "file_extension": ".py",
   "mimetype": "text/x-python",
   "name": "python",
   "nbconvert_exporter": "python",
   "pygments_lexer": "ipython3",
   "version": "3.7.7"
  }
 },
 "nbformat": 4,
 "nbformat_minor": 4
}

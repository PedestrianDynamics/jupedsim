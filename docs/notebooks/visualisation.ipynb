{
 "cells": [
  {
   "cell_type": "markdown",
   "metadata": {},
   "source": [
    "# Visualisation of the trajectories\n",
    "\n",
    "*Warning*: The visualisation of a big trajectory files may take some long minutes. So, patience! \n",
    "\n",
    "Usage: \n",
    "```\n",
    "Run --> Run All Cells\n",
    "```\n",
    "\n",
    "The name of the geometry and trajectory files are automatically extracted from the inifile. \n",
    "Moreover, the value of frames per seconds (*fps*) is also extracted from the inifile"
   ]
  },
  {
   "cell_type": "code",
   "execution_count": null,
   "metadata": {},
   "outputs": [],
   "source": [
    "%store -r jpscore_inifile"
   ]
  },
  {
   "cell_type": "code",
   "execution_count": null,
   "metadata": {},
   "outputs": [],
   "source": [
    "%%capture\n",
    "import sys\n",
    "shared_path = 'libs'\n",
    "if shared_path not in sys.path:\n",
    "    sys.path.append(shared_path)\n",
    "    \n",
    "%run libs/utils\n",
    "%run libs/imports\n"
   ]
  },
  {
   "cell_type": "code",
   "execution_count": null,
   "metadata": {},
   "outputs": [],
   "source": [
    "%%capture\n",
    "d = parse(jpscore_inifile)\n",
    "traj_filename = os.path.join(os.path.dirname(jpscore_inifile), 'results', d.getElementsByTagName('file')[0].attributes.items()[0][1])\n",
    "geo_filename= os.path.join(os.path.dirname(jpscore_inifile), 'results', d.getElementsByTagName('geometry')[0].firstChild.nodeValue)\n",
    "fps = int(d.getElementsByTagName('trajectories')[0].attributes.items()[1][1])\n",
    "\n",
    "xml_datei = open(geo_filename, \"r\")\n",
    "geo_xml = parse(xml_datei)\n",
    "xml_datei.close()\n",
    "\n",
    "geometry_wall = read_subroom_walls(geo_xml)\n",
    "geometry_obst = read_obstacle(geo_xml)\n",
    "\n",
    "df_traj = pd.read_csv('{}'.format(traj_filename),\n",
    "                      comment='#',\n",
    "                      sep='\\s+',\n",
    "                      names=['ID', 'FR', 'X', 'Y', 'Z', 'A', 'B', 'ANGLE', 'COLOR'],\n",
    "                      index_col=False)\n",
    "\n",
    "df_traj['Z'] = df_traj['Z'] / 1000\n",
    "\n",
    "# sort the dataframe\n",
    "df_traj.sort_values(by=['FR'])\n",
    "# set the index to be this and don't drop\n",
    "df_traj.set_index(keys=['FR'], drop=False, inplace=True)\n",
    "# get a list of names\n",
    "frames = df_traj['FR'].unique().tolist()\n",
    "\n",
    "fig, ax = plt.subplots()\n",
    "df_0 = df_traj.loc[df_traj.FR == 0]\n",
    "x, y = [df_0.X], [df_0.Y]\n",
    "v0=1.0 # Todo: can be parsed from the inifile.\n",
    "sc = ax.scatter(df_0.X, df_0.Y, c=df_0.COLOR/255*v0, vmin=0, vmax=v0, cmap=plt.cm.get_cmap('RdYlBu'))\n",
    "\n",
    "plt.axis('off')\n",
    "axins = inset_axes(ax,\n",
    "                   width=\"5.5%\",  # width = 5% of parent_bbox width\n",
    "                   height=\"100%\",  # height : 50%\n",
    "                   loc='lower left',\n",
    "                   bbox_to_anchor=(1, 0., 1, 1),\n",
    "                   bbox_transform=ax.transAxes,\n",
    "                   borderpad=0,\n",
    "                   )\n",
    "fig.colorbar(sc, ax=ax, cax=axins)\n",
    "\n",
    "\n",
    "def init():\n",
    "    ax.set_aspect('equal')\n",
    "    for g in geometry_obst.keys():\n",
    "        ax.add_patch(ppolygon(geometry_obst[g], color='gray'))\n",
    "\n",
    "    for gw in geometry_wall.keys():\n",
    "        ax.plot(geometry_wall[gw][:, 0], geometry_wall[gw][:, 1], color='black', lw=2)\n",
    "\n",
    "    return ax,\n",
    "\n",
    "\n",
    "def update(frame):\n",
    "    df_frame = df_traj.loc[df_traj.FR == frame]\n",
    "    N = len(df_frame)\n",
    "    df_frame.sort_values(by=['ID'])\n",
    "    ax.set_title(\"time {0:2.2f} s   |  agents  {1:2.0f} \".format(frame/fps, N))\n",
    "    sc.set_offsets(np.c_[df_frame.X, df_frame.Y])\n",
    "    sc.set_array(df_frame.COLOR/255*v0)\n",
    "\n",
    "    return sc\n",
    "\n",
    "\n",
    "ani = FuncAnimation(fig, update, init_func=init, blit=False, frames=df_traj['FR'].max())"
   ]
  },
  {
   "cell_type": "code",
   "execution_count": null,
   "metadata": {},
   "outputs": [],
   "source": [
    "HTML(ani.to_html5_video())"
   ]
  }
 ],
 "metadata": {
  "kernelspec": {
   "display_name": "Python 3",
   "language": "python",
   "name": "python3"
  },
  "language_info": {
   "codemirror_mode": {
    "name": "ipython",
    "version": 3
   },
   "file_extension": ".py",
   "mimetype": "text/x-python",
   "name": "python",
   "nbconvert_exporter": "python",
   "pygments_lexer": "ipython3",
   "version": "3.7.7"
  }
 },
 "nbformat": 4,
 "nbformat_minor": 4
}

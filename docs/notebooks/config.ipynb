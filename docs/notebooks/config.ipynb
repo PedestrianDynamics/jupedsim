{
 "cells": [
  {
   "cell_type": "markdown",
   "metadata": {},
   "source": [
    "## User Settings\n",
    "\n",
    "Before starting make sure to define \n",
    "- the inifiles \n",
    "- and the path to the bin files, where `jpscore` and `jpsreport` live."
   ]
  },
  {
   "cell_type": "code",
   "execution_count": null,
   "metadata": {},
   "outputs": [],
   "source": [
    "# inifiles\n",
    "jpscore_inifile = \"files/ini_jpscore.xml\"\n",
    "jpsreport_inifile = \"files/ini_jpsreport.xml\"\n",
    "# directory to jpscore and jpsreport binaries\n",
    "jpscore_dir = \"/Users/chraibi/workspace/jupedsim/jpscore/build/bin\" "
   ]
  },
  {
   "cell_type": "markdown",
   "metadata": {},
   "source": [
    "## Don't touch!"
   ]
  },
  {
   "cell_type": "code",
   "execution_count": null,
   "metadata": {},
   "outputs": [],
   "source": [
    "%matplotlib inline\n",
    "shared_path = 'libs'\n",
    "import sys\n",
    "\n",
    "if shared_path not in sys.path:\n",
    "    sys.path.append(shared_path)\n",
    "    \n",
    "%run libs/utils\n",
    "%run libs/imports\n",
    "\n",
    "jpscore_ini_dir = os.path.dirname(jpscore_inifile)\n",
    "jpsreport_ini_dir = os.path.dirname(jpsreport_inifile)\n",
    "\n",
    "jpscore_exe = os.path.join(jpscore_dir, \"jpscore\")\n",
    "jpsreport_exe = os.path.join(jpscore_dir, \"jpsreport\")"
   ]
  },
  {
   "cell_type": "code",
   "execution_count": null,
   "metadata": {},
   "outputs": [],
   "source": [
    "%%capture\n",
    "%store jpscore_inifile\n",
    "%store jpsreport_inifile\n",
    "%store jpscore_exe\n",
    "%store jpsreport_exe\n",
    "%store jpscore_ini_dir\n",
    "%store jpsreport_ini_dir"
   ]
  }
 ],
 "metadata": {
  "kernelspec": {
   "display_name": "Python 3",
   "language": "python",
   "name": "python3"
  },
  "language_info": {
   "codemirror_mode": {
    "name": "ipython",
    "version": 3
   },
   "file_extension": ".py",
   "mimetype": "text/x-python",
   "name": "python",
   "nbconvert_exporter": "python",
   "pygments_lexer": "ipython3",
   "version": "3.7.7"
  }
 },
 "nbformat": 4,
 "nbformat_minor": 4
}

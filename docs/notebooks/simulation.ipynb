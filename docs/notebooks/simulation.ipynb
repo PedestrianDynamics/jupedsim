{
 "cells": [
  {
   "cell_type": "markdown",
   "metadata": {},
   "source": [
    "## Simulation with JuPedSim\n",
    "\n",
    "In this tutorial a simulation with `jpscore` is performed in a simple setup. \n",
    "\n",
    "A documentation of the used files is under:\n",
    "\n",
    "- The geometry file (see [documentation](http://www.jupedsim.org/jpscore/jpscore_geometry.html)) \n",
    "- The project file of jpscore, called inifile (see [documentation](http://www.jupedsim.org/jpscore/jpscore_inifile.html))\n",
    "\n",
    "### Before starting\n",
    "\n",
    "- Open file `config.ipynb`\n",
    "- Edit the values of `jpscore_inifile` and `jpscore_dir`\n",
    "- Save\n",
    "\n",
    "### How to run\n",
    "\n",
    "`Run --> Run All Cells` \n",
    "\n",
    "-----"
   ]
  },
  {
   "cell_type": "markdown",
   "metadata": {},
   "source": [
    "### Load config files\n",
    "\n",
    "the used inifiles as defined by the **user** in config.ipynb are loaded"
   ]
  },
  {
   "cell_type": "code",
   "execution_count": null,
   "metadata": {},
   "outputs": [],
   "source": [
    "%%capture\n",
    "%run config.ipynb\n",
    "%store -r jpscore_exe\n",
    "%store -r jpscore_inifile\n",
    "%store -r jpscore_ini_dir"
   ]
  },
  {
   "cell_type": "markdown",
   "metadata": {},
   "source": [
    "### Start the simulation\n",
    "\n",
    "1. start simulation with jpscore\n",
    "2. move *results* to the direcory of the inifile"
   ]
  },
  {
   "cell_type": "code",
   "execution_count": null,
   "metadata": {},
   "outputs": [],
   "source": [
    "%%bash -s \"$jpscore_exe\" \"$jpscore_inifile\" \"$jpscore_ini_dir\" \n",
    "$1 $2 >log\n",
    "head -5 log && printf \".\\n.\\n.\\n\" && tail -n 4 log\n",
    "rm -rf $3/results && mv results $3 && mv log $3"
   ]
  },
  {
   "cell_type": "markdown",
   "metadata": {},
   "source": [
    "### Visualization of the trajectories\n",
    "\n",
    "---\n",
    "\n",
    "**Warning**: Visualization of a large trajectory file may take several minutes. So, patience! \n",
    "\n",
    "---\n",
    "Note: the names of the geometry and trajectory files and the value of *fps* are automatically extracted from the ini file. "
   ]
  },
  {
   "cell_type": "code",
   "execution_count": null,
   "metadata": {},
   "outputs": [],
   "source": [
    "%%time\n",
    "%run visualisation.ipynb\n",
    "HTML(ani.to_html5_video())"
   ]
  },
  {
   "cell_type": "markdown",
   "metadata": {},
   "source": [
    "----"
   ]
  },
  {
   "cell_type": "markdown",
   "metadata": {},
   "source": [
    "### Plot N(t) curve\n",
    "\n",
    "Flow files containing two columns is created in the `results` folder:\n",
    "(`show_statistics` is set to true.)"
   ]
  },
  {
   "cell_type": "code",
   "execution_count": null,
   "metadata": {},
   "outputs": [],
   "source": [
    "%run libs/plot_statistics.ipynb"
   ]
  }
 ],
 "metadata": {
  "kernelspec": {
   "display_name": "Python 3",
   "language": "python",
   "name": "python3"
  },
  "language_info": {
   "codemirror_mode": {
    "name": "ipython",
    "version": 3
   },
   "file_extension": ".py",
   "mimetype": "text/x-python",
   "name": "python",
   "nbconvert_exporter": "python",
   "pygments_lexer": "ipython3",
   "version": "3.7.7"
  }
 },
 "nbformat": 4,
 "nbformat_minor": 4
}

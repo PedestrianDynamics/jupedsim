{
 "cells": [
  {
   "cell_type": "code",
   "execution_count": 1,
   "metadata": {},
   "outputs": [
    {
     "ename": "ImportError",
     "evalue": "cannot import name 'py_jupedsim' from partially initialized module 'jupedsim' (most likely due to a circular import) (/home/tobias/dev/jupedsim/jpscore-venv/lib64/python3.11/site-packages/jupedsim/__init__.py)",
     "output_type": "error",
     "traceback": [
      "\u001b[0;31m---------------------------------------------------------------------------\u001b[0m",
      "\u001b[0;31mModuleNotFoundError\u001b[0m                       Traceback (most recent call last)",
      "File \u001b[0;32m~/dev/jupedsim/jpscore-venv/lib64/python3.11/site-packages/jupedsim/native/agent.py:5\u001b[0m\n\u001b[1;32m      4\u001b[0m \u001b[39mtry\u001b[39;00m:\n\u001b[0;32m----> 5\u001b[0m     \u001b[39mimport\u001b[39;00m \u001b[39mpy_jupedsim\u001b[39;00m \u001b[39mas\u001b[39;00m \u001b[39mpy_jps\u001b[39;00m\n\u001b[1;32m      6\u001b[0m \u001b[39mexcept\u001b[39;00m \u001b[39mImportError\u001b[39;00m:\n",
      "\u001b[0;31mModuleNotFoundError\u001b[0m: No module named 'py_jupedsim'",
      "\nDuring handling of the above exception, another exception occurred:\n",
      "\u001b[0;31mImportError\u001b[0m                               Traceback (most recent call last)",
      "Cell \u001b[0;32mIn[1], line 1\u001b[0m\n\u001b[0;32m----> 1\u001b[0m \u001b[39mimport\u001b[39;00m \u001b[39mjupedsim\u001b[39;00m\n\u001b[1;32m      3\u001b[0m jupedsim\u001b[39m.\u001b[39m__version__\n",
      "File \u001b[0;32m~/dev/jupedsim/jpscore-venv/lib64/python3.11/site-packages/jupedsim/__init__.py:16\u001b[0m\n\u001b[1;32m      1\u001b[0m \u001b[39m# Copyright © 2012-2023 Forschungszentrum Jülich GmbH\u001b[39;00m\n\u001b[1;32m      2\u001b[0m \u001b[39m# SPDX-License-Identifier: LGPL-3.0-or-later\u001b[39;00m\n\u001b[1;32m      4\u001b[0m \u001b[39mfrom\u001b[39;00m \u001b[39mjupedsim\u001b[39;00m\u001b[39m.\u001b[39;00m\u001b[39mdistributions\u001b[39;00m \u001b[39mimport\u001b[39;00m (\n\u001b[1;32m      5\u001b[0m     AgentNumberError,\n\u001b[1;32m      6\u001b[0m     IncorrectParameterError,\n\u001b[0;32m   (...)\u001b[0m\n\u001b[1;32m     14\u001b[0m     distribute_till_full,\n\u001b[1;32m     15\u001b[0m )\n\u001b[0;32m---> 16\u001b[0m \u001b[39mfrom\u001b[39;00m \u001b[39mjupedsim\u001b[39;00m\u001b[39m.\u001b[39;00m\u001b[39mnative\u001b[39;00m\u001b[39m.\u001b[39;00m\u001b[39magent\u001b[39;00m \u001b[39mimport\u001b[39;00m Agent\n\u001b[1;32m     17\u001b[0m \u001b[39mfrom\u001b[39;00m \u001b[39mjupedsim\u001b[39;00m\u001b[39m.\u001b[39;00m\u001b[39mnative\u001b[39;00m\u001b[39m.\u001b[39;00m\u001b[39mgeometry\u001b[39;00m \u001b[39mimport\u001b[39;00m Geometry, GeometryBuilder\n\u001b[1;32m     18\u001b[0m \u001b[39mfrom\u001b[39;00m \u001b[39mjupedsim\u001b[39;00m\u001b[39m.\u001b[39;00m\u001b[39mnative\u001b[39;00m\u001b[39m.\u001b[39;00m\u001b[39mjourney\u001b[39;00m \u001b[39mimport\u001b[39;00m JourneyDescription\n",
      "File \u001b[0;32m~/dev/jupedsim/jpscore-venv/lib64/python3.11/site-packages/jupedsim/native/agent.py:7\u001b[0m\n\u001b[1;32m      5\u001b[0m     \u001b[39mimport\u001b[39;00m \u001b[39mpy_jupedsim\u001b[39;00m \u001b[39mas\u001b[39;00m \u001b[39mpy_jps\u001b[39;00m\n\u001b[1;32m      6\u001b[0m \u001b[39mexcept\u001b[39;00m \u001b[39mImportError\u001b[39;00m:\n\u001b[0;32m----> 7\u001b[0m     \u001b[39mfrom\u001b[39;00m \u001b[39m.\u001b[39;00m\u001b[39m.\u001b[39;00m \u001b[39mimport\u001b[39;00m py_jupedsim \u001b[39mas\u001b[39;00m py_jps\n\u001b[1;32m     10\u001b[0m \u001b[39mfrom\u001b[39;00m \u001b[39mjupedsim\u001b[39;00m\u001b[39m.\u001b[39;00m\u001b[39mnative\u001b[39;00m\u001b[39m.\u001b[39;00m\u001b[39mmodels\u001b[39;00m \u001b[39mimport\u001b[39;00m (\n\u001b[1;32m     11\u001b[0m     GeneralizedCentrifugalForceModelState,\n\u001b[1;32m     12\u001b[0m     VelocityModelState,\n\u001b[1;32m     13\u001b[0m )\n\u001b[1;32m     16\u001b[0m \u001b[39mclass\u001b[39;00m \u001b[39mAgent\u001b[39;00m:\n",
      "\u001b[0;31mImportError\u001b[0m: cannot import name 'py_jupedsim' from partially initialized module 'jupedsim' (most likely due to a circular import) (/home/tobias/dev/jupedsim/jpscore-venv/lib64/python3.11/site-packages/jupedsim/__init__.py)"
     ]
    }
   ],
   "source": [
    "import jupedsim\n",
    "\n",
    "jupedsim.__version__"
   ]
  }
 ],
 "metadata": {
  "kernelspec": {
   "display_name": "jpscore-venv",
   "language": "python",
   "name": "python3"
  },
  "language_info": {
   "codemirror_mode": {
    "name": "ipython",
    "version": 3
   },
   "file_extension": ".py",
   "mimetype": "text/x-python",
   "name": "python",
   "nbconvert_exporter": "python",
   "pygments_lexer": "ipython3",
   "version": "3.11.5"
  },
  "orig_nbformat": 4
 },
 "nbformat": 4,
 "nbformat_minor": 2
}

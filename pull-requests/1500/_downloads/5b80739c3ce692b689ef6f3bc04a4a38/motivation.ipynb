{
 "cells": [
  {
   "attachments": {},
   "cell_type": "markdown",
   "metadata": {},
   "source": [
    "# Modelling Motivation\n",
    "\n",
    "This notebook can be directly downloaded {download}`here <./motivation.ipynb>` to run it locally.\n",
    "\n",
    "## Simulation of a corridor with different motivations\n",
    "\n",
    "In this demonstration, we model a narrow corridor scenario featuring three distinct groups of agents. Among them, one group exhibits a higher level of motivation compared to the others.\n",
    "\n",
    "We employ the collision-free speed model to determine the speed of each agent. This speed is influenced by the desired speed, denoted as $v^0$, the agent's radius $r$, and the slope factor $T$.\n",
    "\n",
    "The varying motivation levels among the groups are represented by different $T$ values. The rationale for using $T$ to depict motivation is that highly motivated pedestrians, who are more aggressive in their movements, will quickly occupy any available space between them, correlating to a lower $T$ value. Conversely, less motivated pedestrians maintain a distance based on their walking speed, aligning with a higher $T$ value.\n",
    "\n",
    "To accentuate this dynamic, the first group of agents will decelerate a few seconds into the simulation. As a result, we'll notice that the second group, driven by high motivation, will swiftly close distances and overtake the first group as it reduces speed. In contrast, the third group, with average motivation, will decelerate upon nearing the slower agents, without attempting to pass them. \n",
    "\n",
    "## Setting up the geometry\n",
    "\n",
    "We will be using the a corridor 40 meters long and 4 meters wide."
   ]
  },
  {
   "cell_type": "code",
   "execution_count": null,
   "metadata": {
    "tags": [
     "hide-input"
    ]
   },
   "outputs": [],
   "source": [
    "import pathlib\n",
    "\n",
    "import jupedsim as jps\n",
    "import matplotlib.pyplot as plt\n",
    "import pedpy\n",
    "from shapely import Polygon\n",
    "\n",
    "%matplotlib inline"
   ]
  },
  {
   "cell_type": "code",
   "execution_count": null,
   "metadata": {},
   "outputs": [],
   "source": [
    "corridor = [(-1, -1), (60, -1), (60, 5), (-1, 5)]\n",
    "\n",
    "areas = {}\n",
    "areas[\"first\"] = Polygon([[0, 0], [5, 0], [5, 4], [0, 4]])\n",
    "areas[\"second\"] = Polygon([[6, 0], [12, 0], [12, 4], [6, 4]])\n",
    "areas[\"third\"] = Polygon([[18, 0], [24, 0], [24, 4], [18, 4]])\n",
    "areas[\"exit\"] = Polygon([(56, 0), (59, 0), (59, 4), (56, 4)])\n",
    "\n",
    "walkable_area = pedpy.WalkableArea(corridor)"
   ]
  },
  {
   "cell_type": "code",
   "execution_count": null,
   "metadata": {
    "tags": [
     "hide-input"
    ]
   },
   "outputs": [],
   "source": [
    "fig, ax = plt.subplots(nrows=1, ncols=1)\n",
    "ax.set_aspect(\"equal\")\n",
    "_, ymin, _, ymax = walkable_area.bounds\n",
    "ax.set_ylim(ymin - 2, ymax + 2)\n",
    "pedpy.plot_walkable_area(walkable_area=walkable_area, axes=ax)\n",
    "for name, area in areas.items():\n",
    "    x, y = area.exterior.xy\n",
    "    plt.fill(x, y, alpha=0.1)\n",
    "    plt.plot(x, y, color=\"white\")\n",
    "    centroid = Polygon(area).centroid\n",
    "    plt.text(centroid.x, centroid.y, name, ha=\"center\", va=\"center\", fontsize=8)"
   ]
  },
  {
   "cell_type": "markdown",
   "metadata": {},
   "source": [
    "## Operational model\n",
    "<a id=\"model\"></a>\n",
    "Now that the geometry is set, our subsequent task is to specify the model and its associated parameters.  \n",
    "For this demonstration, we'll employ the \"collision-free\" model.  \n",
    "However, since we are interested in two different motivation states, we will have to define two different time gaps."
   ]
  },
  {
   "cell_type": "code",
   "execution_count": null,
   "metadata": {},
   "outputs": [],
   "source": [
    "T_normal = 1.3\n",
    "T_motivation = 0.1\n",
    "v0_normal = 1.5\n",
    "v0_slow = 0.5"
   ]
  },
  {
   "cell_type": "markdown",
   "metadata": {},
   "source": [
    "Note, that in JuPedSim the model parameter $T$ is called `time_gap`. \n",
    "\n",
    "The values $1.3\\, s$ and $0.1\\, s$ are chosen according to the paper [Rzezonka2022, Fig.5](https://doi.org/10.1098/rsos.211822). "
   ]
  },
  {
   "cell_type": "markdown",
   "metadata": {},
   "source": [
    "## Setting Up the Simulation Object\n",
    "\n",
    "Having established the model and geometry details, and combined with other parameters such as the time step $dt$, we can proceed to construct our simulation object as illustrated below:"
   ]
  },
  {
   "cell_type": "code",
   "execution_count": null,
   "metadata": {},
   "outputs": [],
   "source": [
    "trajectory_file = \"trajectories.sqlite\"\n",
    "simulation = jps.Simulation(\n",
    "    dt=0.05,\n",
    "    model=jps.CollisionFreeSpeedModel(\n",
    "        strength_neighbor_repulsion=2.6,\n",
    "        range_neighbor_repulsion=0.1,\n",
    "        range_geometry_repulsion=0.05,\n",
    "    ),\n",
    "    geometry=walkable_area.polygon,\n",
    "    trajectory_writer=jps.SqliteTrajectoryWriter(\n",
    "        output_file=pathlib.Path(trajectory_file)\n",
    "    ),\n",
    ")"
   ]
  },
  {
   "cell_type": "markdown",
   "metadata": {},
   "source": [
    "## Specifying Routing Details\n",
    "\n",
    "At this point, we'll provide basic routing instructions, guiding the agents to progress towards an exit point, which is in this case at the end of the corridor."
   ]
  },
  {
   "cell_type": "code",
   "execution_count": null,
   "metadata": {},
   "outputs": [],
   "source": [
    "exit_id = simulation.add_exit_stage(areas[\"exit\"])\n",
    "journey_id = simulation.add_journey(jps.JourneyDescription([exit_id]))"
   ]
  },
  {
   "cell_type": "markdown",
   "metadata": {},
   "source": [
    "## Defining and Distributing Agents\n",
    "\n",
    "Now, we'll position the agents and establish their attributes, leveraging previously mentioned parameters.\n",
    "We will distribute three different groups in three different areas.\n",
    "\n",
    "- First area contains normally motivated agents. \n",
    "- The second area contains motivated agents that are more likely to close gaps to each other.\n",
    "- The third area contains normally motivated agents. These agents will reduce their desired speeds after some seconds.\n",
    "\n",
    "### Distribute normal agents in the first area"
   ]
  },
  {
   "cell_type": "code",
   "execution_count": null,
   "metadata": {},
   "outputs": [],
   "source": [
    "total_agents_normal = 20\n",
    "positions = jps.distribute_by_number(\n",
    "    polygon=Polygon(areas[\"first\"]),\n",
    "    number_of_agents=total_agents_normal,\n",
    "    distance_to_agents=0.4,\n",
    "    distance_to_polygon=0.4,\n",
    "    seed=45131502,\n",
    ")\n",
    "\n",
    "for position in positions:\n",
    "    simulation.add_agent(\n",
    "        jps.CollisionFreeSpeedModelAgentParameters(\n",
    "            position=position,\n",
    "            v0=v0_normal,\n",
    "            time_gap=T_normal,\n",
    "            journey_id=journey_id,\n",
    "            stage_id=exit_id,\n",
    "        )\n",
    "    )"
   ]
  },
  {
   "cell_type": "markdown",
   "metadata": {},
   "source": [
    "### Distribute motivated agents in the second area"
   ]
  },
  {
   "cell_type": "code",
   "execution_count": null,
   "metadata": {},
   "outputs": [],
   "source": [
    "total_agents_motivated = 20\n",
    "positions = jps.distribute_by_number(\n",
    "    polygon=Polygon(areas[\"second\"]),\n",
    "    number_of_agents=total_agents_motivated,\n",
    "    distance_to_agents=0.6,\n",
    "    distance_to_polygon=0.6,\n",
    "    seed=45131502,\n",
    ")\n",
    "for position in positions:\n",
    "    simulation.add_agent(\n",
    "        jps.CollisionFreeSpeedModelAgentParameters(\n",
    "            position=position,\n",
    "            v0=v0_normal,\n",
    "            time_gap=T_motivation,\n",
    "            journey_id=journey_id,\n",
    "            stage_id=exit_id,\n",
    "        )\n",
    "    )"
   ]
  },
  {
   "cell_type": "markdown",
   "metadata": {},
   "source": [
    "### Distribute normal agents in the third area"
   ]
  },
  {
   "cell_type": "code",
   "execution_count": null,
   "metadata": {},
   "outputs": [],
   "source": [
    "total_agents_motivated_delay = 20\n",
    "positions = jps.distribute_by_number(\n",
    "    polygon=Polygon(areas[\"third\"]),\n",
    "    number_of_agents=total_agents_motivated_delay,\n",
    "    distance_to_agents=0.8,\n",
    "    distance_to_polygon=0.4,\n",
    "    seed=45131502,\n",
    ")\n",
    "ids_third_group = set(\n",
    "    [\n",
    "        simulation.add_agent(\n",
    "            jps.CollisionFreeSpeedModelAgentParameters(\n",
    "                position=position,\n",
    "                v0=v0_normal,\n",
    "                time_gap=T_normal,\n",
    "                journey_id=journey_id,\n",
    "                stage_id=exit_id,\n",
    "            )\n",
    "        )\n",
    "        for position in positions\n",
    "    ]\n",
    ")"
   ]
  },
  {
   "cell_type": "markdown",
   "metadata": {},
   "source": [
    "## Executing the Simulation\n",
    "\n",
    "With all components in place, we're set to initiate the simulation.\n",
    "For this demonstration, the trajectories will be recorded in an sqlite database."
   ]
  },
  {
   "cell_type": "code",
   "execution_count": null,
   "metadata": {},
   "outputs": [],
   "source": [
    "simulation.iterate(200)\n",
    "for id in ids_third_group:\n",
    "    for agent in simulation.agents():\n",
    "        if agent.id == id:\n",
    "            agent.model.v0 = v0_slow\n",
    "\n",
    "while simulation.agent_count() > 0:\n",
    "    simulation.iterate()"
   ]
  },
  {
   "cell_type": "markdown",
   "metadata": {},
   "source": [
    "## Visualizing the Trajectories\n",
    "\n",
    "For trajectory visualization, we'll extract data from the sqlite database. A straightforward method for this is employing the jupedsim-visualizer."
   ]
  },
  {
   "cell_type": "code",
   "execution_count": null,
   "metadata": {
    "tags": []
   },
   "outputs": [],
   "source": [
    "from jupedsim.internal.notebook_utils import animate, read_sqlite_file\n",
    "\n",
    "agent_trajectories, walkable_area = read_sqlite_file(trajectory_file)\n",
    "animate(\n",
    "    agent_trajectories,\n",
    "    walkable_area,\n",
    "    every_nth_frame=5,\n",
    "    width=1000,\n",
    "    height=500,\n",
    ")"
   ]
  },
  {
   "cell_type": "markdown",
   "metadata": {},
   "source": [
    "## Notes and Comments\n",
    "\n",
    "It's noticeable that members of the second group tend to draw nearer to each other compared to those in the first group, primarily attributed to their lower $T$ values. As the third group begins to decelerate after a while, due to an adjustment in the target speed $v_0$, the second group seizes this opportunity to bridge the distance and surpass them. \n",
    "\n",
    "Conversely, the first group maintains a consistent pace and doesn't attempt to overtake the now-lagging third group."
   ]
  },
  {
   "cell_type": "markdown",
   "metadata": {},
   "source": [
    "# Download\n",
    "\n",
    "This notebook can be directly downloaded {download}`here <./motivation.ipynb>` to run it locally."
   ]
  }
 ],
 "metadata": {
  "kernelspec": {
   "display_name": "Python 3 (ipykernel)",
   "language": "python",
   "name": "python3"
  },
  "language_info": {
   "codemirror_mode": {
    "name": "ipython",
    "version": 3
   },
   "file_extension": ".py",
   "mimetype": "text/x-python",
   "name": "python",
   "nbconvert_exporter": "python",
   "pygments_lexer": "ipython3",
   "version": "3.11.5"
  }
 },
 "nbformat": 4,
 "nbformat_minor": 4
}

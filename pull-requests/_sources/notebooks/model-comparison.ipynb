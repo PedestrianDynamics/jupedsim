{
 "cells": [
  {
   "cell_type": "markdown",
   "id": "d328babd",
   "metadata": {},
   "source": [
    "# Comparative Analysis of Pedestrian Dynamics Models\n",
    "\n",
    "## Objective\n",
    "\n",
    "This notebook compares four pedestrian dynamics models by simulating agent behavior in a  \n",
    "structured environment. Using simplified scenarios, we analyze how each model handles  \n",
    "navigation, obstacle avoidance, and agent interactions. This comparison reveals the strengths  \n",
    "and weaknesses of each approach, helping inform model selection when using JuPedSim.\n",
    "\n",
    "When choosing a pedestrian dynamics model in JuPedSim, the decision largely depends on the  \n",
    "specific scenario you want to simulate or the behavior you want to reproduce. The available  \n",
    "models can be divided into two main categories: **force-based** and **velocity-based** models,  \n",
    "each with their own strengths and limitations.\n",
    "\n",
    "### Force-Based Models\n",
    "\n",
    "Force-based models, which include the **Social Force Model (SFM)** and the **Generalized  \n",
    "Centrifugal Force Model (GCFM)**, excel at simulating physical interactions between pedestrians.  \n",
    "These models are particularly effective at capturing pushing behavior in dense crowds, making  \n",
    "them ideal for evacuation scenarios or situations where physical contact between pedestrians  \n",
    "is common. The **GCFM** offers some improvements over the basic **SFM**, particularly in handling  \n",
    "body shape effects.\n",
    "\n",
    "### Velocity-Based Models\n",
    "\n",
    "On the other hand, velocity-based models like the **Collision-Free Model (CFM)** and the  \n",
    "**Anticipation Velocity Model (AVM)** are better suited for normal walking situations where  \n",
    "collision avoidance is the primary concern. These models typically produce smoother, more  \n",
    "realistic trajectories in regular-density scenarios. The **AVM**, in particular, stands out for  \n",
    "its superior collision avoidance capabilities and ability to reproduce lane formation behavior,  \n",
    "as demonstrated in [recent research](https://doi.org/10.1016/j.trc.2021.103464).\n",
    "\n",
    "### Computational Efficiency\n",
    "\n",
    "When it comes to computational efficiency, velocity-based models generally have an advantage.  \n",
    "The **CFM** offers the fastest execution times, while the **AVM** provides a good balance between  \n",
    "computational efficiency and realistic behavior simulation. Force-based models, while more  \n",
    "computationally intensive, are necessary when accurate physical interaction modeling is crucial.\n",
    "\n",
    "### Model Selection Guidance\n",
    "\n",
    "The choice of model ultimately comes down to your specific requirements:\n",
    "\n",
    "- **Force-based models (SFM, GCFM):** Best for emergency evacuations or crowded environments  \n",
    "  with significant physical interactions.  \n",
    "- **Velocity-based models (AVM):** Ideal for typical pedestrian scenarios requiring smooth  \n",
    "  navigation and realistic avoidance behavior.  \n",
    "- **Collision-Free Model (CFM):** Suitable when computational resources are limited and  \n",
    "  physical interactions are not critical.  \n",
    "\n",
    "The key is to understand that no single model is universally superior—each has its place  \n",
    "depending on the specific requirements of your simulation scenario.\n",
    "\n",
    "**So as a final facit, which model to use? The answer is: it depends.**\n",
    "\n",
    "## Models Under Investigation\n",
    "\n",
    "In this notebooks the models compared are:\n",
    "\n",
    "1. [**Collision-Free Speed Model (CSM):**](https://pedestriandynamics.org/models/collision_free_speed_model/)  \n",
    "   A velocity-based model focused on ensuring agents move without collisions  \n",
    "  by dynamically adjusting their speeds.\n",
    "\n",
    "2. [**Anticipation Velocity Model (AVM):**](https://doi.org/10.1016/j.trc.2021.103464)  \n",
    "   A model that incorporates anticipation and reaction times, allowing agents  \n",
    "  to predict and avoid potential collisions.\n",
    "\n",
    "3. [**Social Force Model (SFM):**](https://pedestriandynamics.org/models/social_force_model/)\n",
    "   A force-based model where agents are influenced   \n",
    "   by attractive forces toward goals and repulsive forces \n",
    "   from obstacles and other agents.\n",
    "\n",
    "4. [**Generalized Centrifugal Force Model (GCFM):**](https://pedestriandynamics.org/models/generalized_centrifugal_force_model/)  \n",
    "   An enhanced force-based model where agents experience centrifugal forces  \n",
    "  to better simulate realistic avoidance behavior.\n",
    "\n",
    "> **Note:**  \n",
    "> All models are utilized with their default parameter settings as defined in **JuPedSim**."
   ]
  },
  {
   "cell_type": "code",
   "execution_count": null,
   "id": "b982aeaf-a056-4870-bf96-4213db17ddcd",
   "metadata": {
    "tags": [
     "hide-input"
    ]
   },
   "outputs": [],
   "source": [
    "import pathlib\n",
    "\n",
    "import jupedsim as jps\n",
    "import matplotlib.pyplot as plt\n",
    "import numpy as np\n",
    "import pedpy\n",
    "from jupedsim.internal.notebook_utils import animate, read_sqlite_file\n",
    "from shapely import Polygon\n",
    "from shapely.geometry import Point\n",
    "from shapely.ops import unary_union\n",
    "\n",
    "\n",
    "def initialize_simulation(\n",
    "    model, agent_parameters, geometry, goals, positions, speeds, trajectory_file\n",
    "):\n",
    "    simulation = jps.Simulation(\n",
    "        model=model,\n",
    "        geometry=geometry,\n",
    "        dt=0.01,\n",
    "        trajectory_writer=jps.SqliteTrajectoryWriter(\n",
    "            output_file=pathlib.Path(trajectory_file), every_nth_frame=5\n",
    "        ),\n",
    "    )\n",
    "\n",
    "    exit_ids = [simulation.add_exit_stage(goal) for goal in goals]\n",
    "    journey = jps.JourneyDescription(exit_ids)\n",
    "    journey_id = simulation.add_journey(journey)\n",
    "    centroids = [polygon.centroid.coords[0] for polygon in goals]\n",
    "    orientations = [\n",
    "        np.array(centroid) - np.array(position)\n",
    "        for centroid, position in zip(centroids, positions)\n",
    "    ]\n",
    "    for pos, v0, exit_id, orientation in zip(\n",
    "        positions, speeds, exit_ids, orientations\n",
    "    ):\n",
    "        if agent_parameters == jps.AnticipationVelocityModelAgentParameters:\n",
    "            simulation.add_agent(\n",
    "                agent_parameters(\n",
    "                    journey_id=journey_id,\n",
    "                    stage_id=exit_id,\n",
    "                    desired_speed=v0,\n",
    "                    position=pos,\n",
    "                    anticipation_time=1,\n",
    "                    reaction_time=0.3,\n",
    "                )\n",
    "            )\n",
    "        elif agent_parameters == jps.SocialForceModelAgentParameters:\n",
    "            simulation.add_agent(\n",
    "                agent_parameters(\n",
    "                    journey_id=journey_id,\n",
    "                    stage_id=exit_id,\n",
    "                    desiredSpeed=v0,\n",
    "                    position=pos,\n",
    "                    orientation=orientation,\n",
    "                )\n",
    "            )\n",
    "        elif (\n",
    "            agent_parameters\n",
    "            == jps.GeneralizedCentrifugalForceModelAgentParameters\n",
    "        ):\n",
    "            simulation.add_agent(\n",
    "                agent_parameters(\n",
    "                    journey_id=journey_id,\n",
    "                    stage_id=exit_id,\n",
    "                    desired_speed=v0,\n",
    "                    position=pos,\n",
    "                    orientation=orientation,\n",
    "                )\n",
    "            )\n",
    "        else:\n",
    "            simulation.add_agent(\n",
    "                agent_parameters(\n",
    "                    journey_id=journey_id,\n",
    "                    stage_id=exit_id,\n",
    "                    position=pos,\n",
    "                    desired_speed=v0,\n",
    "                )\n",
    "            )\n",
    "\n",
    "    return simulation\n",
    "\n",
    "\n",
    "def plot_simulation_configuration(geometry, starting_positions, exit_areas):\n",
    "    \"\"\"Plot setup for visual inspection.\"\"\"\n",
    "    walkable_area = pedpy.WalkableArea(geometry)\n",
    "    axes = pedpy.plot_walkable_area(walkable_area=walkable_area)\n",
    "    for exit_area in exit_areas:\n",
    "        axes.fill(*exit_area.exterior.xy, color=\"indianred\")\n",
    "\n",
    "    axes.scatter(*zip(*starting_positions), label=\"Starting Position\")\n",
    "    axes.set_xlabel(\"x/m\")\n",
    "    axes.set_ylabel(\"y/m\")\n",
    "    axes.set_aspect(\"equal\")\n",
    "    axes.grid(True, alpha=0.3)\n",
    "\n",
    "\n",
    "def plot_evacuation_times(times_dict, figsize=(10, 6)):\n",
    "    \"\"\"\n",
    "    Plot evacuation times for different pedestrian models.\n",
    "    \"\"\"\n",
    "    fig = plt.figure(figsize=figsize)\n",
    "\n",
    "    bars = plt.bar(list(times_dict.keys()), list(times_dict.values()))\n",
    "\n",
    "    plt.title(\"Evacuation Times by Model\")\n",
    "    plt.ylabel(\"Time (seconds)\")\n",
    "    plt.grid(axis=\"y\", linestyle=\"--\", alpha=0.3)\n",
    "\n",
    "    # Add value labels on top of each bar\n",
    "    for bar in bars:\n",
    "        height = bar.get_height()\n",
    "        plt.text(\n",
    "            bar.get_x() + bar.get_width() / 2.0,\n",
    "            height,\n",
    "            f\"{height:.1f}s\",\n",
    "            ha=\"center\",\n",
    "            va=\"bottom\",\n",
    "        )\n",
    "\n",
    "    plt.tight_layout()\n",
    "    return fig\n",
    "\n",
    "\n",
    "def run_simulation(simulation, max_iterations=4000):\n",
    "    while (\n",
    "        simulation.agent_count() > 0\n",
    "        and simulation.iteration_count() < max_iterations\n",
    "    ):\n",
    "        simulation.iterate()\n",
    "    print(f\"Evacuation time: {simulation.elapsed_time():.2f} s\")\n",
    "    return simulation.elapsed_time()\n",
    "\n",
    "\n",
    "width = 600\n",
    "height = 600"
   ]
  },
  {
   "cell_type": "markdown",
   "id": "625d2d09-f624-4d7a-b82f-0897cbf8bc35",
   "metadata": {},
   "source": [
    "## Scenario 1: Crossing Paths in Rooms\n",
    "\n",
    "Four agents navigate between interconnected rooms with obstacles. Each agent aims to reach the diagonally opposite goal. Agents are expected to plan paths around obstacles while interacting with other agents in the corridors.\n"
   ]
  },
  {
   "cell_type": "code",
   "execution_count": null,
   "id": "ad9ec391-b8c6-4dc4-9255-51d0d8d7e194",
   "metadata": {
    "tags": [
     "hide-input"
    ]
   },
   "outputs": [],
   "source": [
    "def create_geometry_scenario1():\n",
    "    outer_boundary = Polygon([(0, 0), (10, 0), (10, 10), (0, 10)])\n",
    "    corridor_walls = [\n",
    "        Polygon([(4.9, 0), (5.1, 0), (5.1, 3.8), (4.9, 3.8)]),\n",
    "        Polygon([(4.9, 6.2), (5.1, 6.2), (5.1, 10), (4.9, 10)]),\n",
    "        Polygon([(0, 4.9), (3.8, 4.9), (3.8, 5.1), (0, 5.1)]),\n",
    "        Polygon([(6.2, 4.9), (10, 4.9), (10, 5.1), (6.2, 5.1)]),\n",
    "    ]\n",
    "\n",
    "    radius = 1.0\n",
    "    circular_obstacles = [\n",
    "        Point(2.5, 2.5).buffer(radius - 0.4),\n",
    "        Point(7.5, 2.5).buffer(radius),\n",
    "        Point(2.5, 7.5).buffer(radius + 0.35),\n",
    "        Point(7.5, 7.5).buffer(radius - 0.2),\n",
    "    ]\n",
    "\n",
    "    all_obstacles = corridor_walls + circular_obstacles\n",
    "\n",
    "    geometry = outer_boundary.difference(unary_union(all_obstacles))\n",
    "    return geometry\n",
    "\n",
    "\n",
    "def define_positions_scenario1():\n",
    "    \"\"\"Define initial positions and desired speeds.\"\"\"\n",
    "    positions = [(1, 1), (9, 9), (1, 9), (9, 1)]\n",
    "    speeds = [1.0, 1.0, 1.0, 1.0]\n",
    "    return positions, speeds\n",
    "\n",
    "\n",
    "def define_goals_scenario1():\n",
    "    \"\"\"Define goal polygons.\"\"\"\n",
    "    goals = [\n",
    "        Polygon([(8.5, 8.5), (9.5, 8.5), (9.5, 9.5), (8.5, 9.5)]),\n",
    "        Polygon([(0.5, 0.5), (1.5, 0.5), (1.5, 1.5), (0.5, 1.5)]),\n",
    "        Polygon([(8.5, 0.5), (9.5, 0.5), (9.5, 1.5), (8.5, 1.5)]),\n",
    "        Polygon([(0.5, 8.5), (1.5, 8.5), (1.5, 9.5), (0.5, 9.5)]),\n",
    "    ]\n",
    "    return goals\n",
    "\n",
    "\n",
    "geometry = create_geometry_scenario1()\n",
    "goals = define_goals_scenario1()\n",
    "positions, speeds = define_positions_scenario1()\n",
    "plot_simulation_configuration(geometry, positions, goals)\n",
    "times_dict = {}"
   ]
  },
  {
   "cell_type": "markdown",
   "id": "6afbde36-10eb-4852-87b2-f181e2e6af5e",
   "metadata": {},
   "source": [
    "### CSM Simulation\n"
   ]
  },
  {
   "cell_type": "code",
   "execution_count": null,
   "id": "dc5ef18b-4c28-43ae-a764-5fb067d486d1",
   "metadata": {},
   "outputs": [],
   "source": [
    "model = \"CFM\"\n",
    "trajectory_file = f\"{model}.sqlite\"\n",
    "simulation = initialize_simulation(\n",
    "    jps.CollisionFreeSpeedModelV2(),\n",
    "    jps.CollisionFreeSpeedModelV2AgentParameters,\n",
    "    geometry,\n",
    "    goals,\n",
    "    positions,\n",
    "    speeds,\n",
    "    trajectory_file,\n",
    ")\n",
    "times_dict[model] = run_simulation(simulation, max_iterations=5000)\n",
    "trajectories, walkable_area = read_sqlite_file(trajectory_file)\n",
    "animate(\n",
    "    trajectories,\n",
    "    walkable_area,\n",
    "    title_note=model,\n",
    "    every_nth_frame=5,\n",
    "    width=width,\n",
    "    height=height,\n",
    ")"
   ]
  },
  {
   "cell_type": "markdown",
   "id": "3a94b4b1-c4ec-40d9-bb04-6c47559d3ff5",
   "metadata": {},
   "source": [
    "### AVM Simulation\n"
   ]
  },
  {
   "cell_type": "code",
   "execution_count": null,
   "id": "c9221227-10c5-4869-8591-7f83b16c2c46",
   "metadata": {},
   "outputs": [],
   "source": [
    "model = \"AVM\"\n",
    "trajectory_file = f\"{model}.sqlite\"\n",
    "simulation = initialize_simulation(\n",
    "    jps.AnticipationVelocityModel(),\n",
    "    jps.AnticipationVelocityModelAgentParameters,\n",
    "    geometry,\n",
    "    goals,\n",
    "    positions,\n",
    "    speeds,\n",
    "    trajectory_file,\n",
    ")\n",
    "times_dict[model] = run_simulation(simulation, max_iterations=5000)\n",
    "trajectories, walkable_area = read_sqlite_file(trajectory_file)\n",
    "animate(\n",
    "    trajectories,\n",
    "    walkable_area,\n",
    "    title_note=model,\n",
    "    every_nth_frame=5,\n",
    "    width=width,\n",
    "    height=height,\n",
    ")"
   ]
  },
  {
   "cell_type": "markdown",
   "id": "ca674e50-ff18-49ff-942e-6afd9902622f",
   "metadata": {},
   "source": [
    "### SFM Simulation\n"
   ]
  },
  {
   "cell_type": "code",
   "execution_count": null,
   "id": "d553fe0b-5f46-408b-93c2-1354be3c2d7a",
   "metadata": {},
   "outputs": [],
   "source": [
    "model = \"SFM\"\n",
    "trajectory_file = f\"{model}.sqlite\"\n",
    "simulation = initialize_simulation(\n",
    "    jps.SocialForceModel(),\n",
    "    jps.SocialForceModelAgentParameters,\n",
    "    geometry,\n",
    "    goals,\n",
    "    positions,\n",
    "    speeds,\n",
    "    trajectory_file,\n",
    ")\n",
    "times_dict[model] = run_simulation(simulation, max_iterations=5000)\n",
    "trajectories, walkable_area = read_sqlite_file(trajectory_file)\n",
    "animate(\n",
    "    trajectories,\n",
    "    walkable_area,\n",
    "    title_note=model,\n",
    "    every_nth_frame=5,\n",
    "    width=width,\n",
    "    height=height,\n",
    ")"
   ]
  },
  {
   "cell_type": "markdown",
   "id": "5ec92ce4-914d-4a08-a1e8-a12c6266f9c6",
   "metadata": {},
   "source": [
    "### GCFM Simulation\n"
   ]
  },
  {
   "cell_type": "code",
   "execution_count": null,
   "id": "f9850b99-1805-4a2e-af9e-1fa76a20dfc3",
   "metadata": {},
   "outputs": [],
   "source": [
    "model = \"GCFM\"\n",
    "trajectory_file = f\"{model}.sqlite\"\n",
    "simulation = initialize_simulation(\n",
    "    jps.GeneralizedCentrifugalForceModel(),\n",
    "    jps.GeneralizedCentrifugalForceModelAgentParameters,\n",
    "    geometry,\n",
    "    goals,\n",
    "    positions,\n",
    "    speeds,\n",
    "    trajectory_file,\n",
    ")\n",
    "times_dict[model] = run_simulation(simulation, max_iterations=5000)\n",
    "trajectories, walkable_area = read_sqlite_file(trajectory_file)\n",
    "animate(\n",
    "    trajectories,\n",
    "    walkable_area,\n",
    "    title_note=model,\n",
    "    every_nth_frame=5,\n",
    "    width=width,\n",
    "    height=height,\n",
    ")"
   ]
  },
  {
   "cell_type": "markdown",
   "id": "884203af-0af3-474e-a4a9-646ab3988478",
   "metadata": {},
   "source": [
    "### Evacuation times\n"
   ]
  },
  {
   "cell_type": "code",
   "execution_count": null,
   "id": "38454c9e-32b2-4521-9a54-5d608b7345ca",
   "metadata": {
    "tags": [
     "hide-input"
    ]
   },
   "outputs": [],
   "source": [
    "fig = plot_evacuation_times(times_dict)\n",
    "plt.show()"
   ]
  },
  {
   "cell_type": "markdown",
   "id": "790f4f70-432b-4bcd-a467-5df58259e054",
   "metadata": {},
   "source": [
    "## Scenario 2: Following Behavior\n",
    "\n",
    "A single-line setup where one agent follows another slower-moving agent, testing how the models handle speed adjustments and eventually overtaking.\n"
   ]
  },
  {
   "cell_type": "code",
   "execution_count": null,
   "id": "20c9eb29-34d3-46fc-a206-2273934b290c",
   "metadata": {
    "tags": [
     "hide-input"
    ]
   },
   "outputs": [],
   "source": [
    "def create_geometry_scenario2():\n",
    "    geometry = Polygon([(-3, -2), (16, -2), (16, 2), (-3, 2)])\n",
    "    return geometry\n",
    "\n",
    "\n",
    "def define_positions_scenario2():\n",
    "    \"\"\"Define initial positions and desired speeds.\"\"\"\n",
    "    positions = [\n",
    "        (-2, 0),\n",
    "        (2, 0),\n",
    "    ]\n",
    "    speeds = [\n",
    "        1.0,\n",
    "        0.0,\n",
    "    ]\n",
    "    return positions, speeds\n",
    "\n",
    "\n",
    "def define_goals_scenario2():\n",
    "    \"\"\"Define goal polygons.\"\"\"\n",
    "    goals = [\n",
    "        Polygon([(12, -1), (15, -1), (15, 1), (12, 1)]),\n",
    "        Polygon([(12, -1), (15, -1), (15, 1), (12, 1)]),\n",
    "    ]\n",
    "    return goals\n",
    "\n",
    "\n",
    "geometry = create_geometry_scenario2()\n",
    "positions, speeds = define_positions_scenario2()\n",
    "goals = define_goals_scenario2()\n",
    "plot_simulation_configuration(geometry, positions, goals)\n",
    "times_dict = {}"
   ]
  },
  {
   "cell_type": "markdown",
   "id": "1dc114b6-0b4f-422d-940a-8c75776f687d",
   "metadata": {},
   "source": [
    "### CSM Simulation\n"
   ]
  },
  {
   "cell_type": "code",
   "execution_count": null,
   "id": "7225ac10-e170-4733-b0ca-507516f87259",
   "metadata": {},
   "outputs": [],
   "source": [
    "model = \"CFM\"\n",
    "trajectory_file = f\"{model}.sqlite\"\n",
    "simulation = initialize_simulation(\n",
    "    jps.CollisionFreeSpeedModelV2(),\n",
    "    jps.CollisionFreeSpeedModelV2AgentParameters,\n",
    "    geometry,\n",
    "    goals,\n",
    "    positions,\n",
    "    speeds,\n",
    "    trajectory_file,\n",
    ")\n",
    "times_dict[model] = run_simulation(simulation, max_iterations=2000)\n",
    "trajectories, walkable_area = read_sqlite_file(trajectory_file)\n",
    "animate(\n",
    "    trajectories,\n",
    "    walkable_area,\n",
    "    title_note=model,\n",
    "    every_nth_frame=5,\n",
    "    width=width,\n",
    "    height=height,\n",
    ")"
   ]
  },
  {
   "cell_type": "markdown",
   "id": "0a65cae5-f2f3-4c29-b357-a6f2b1f28d1a",
   "metadata": {},
   "source": [
    "### AVM Simulation\n"
   ]
  },
  {
   "cell_type": "code",
   "execution_count": null,
   "id": "047b1727-210a-4fb5-bdd1-e7432f255193",
   "metadata": {},
   "outputs": [],
   "source": [
    "model = \"AVM\"\n",
    "trajectory_file = f\"{model}.sqlite\"\n",
    "simulation = initialize_simulation(\n",
    "    jps.AnticipationVelocityModel(),\n",
    "    jps.AnticipationVelocityModelAgentParameters,\n",
    "    geometry,\n",
    "    goals,\n",
    "    positions,\n",
    "    speeds,\n",
    "    trajectory_file,\n",
    ")\n",
    "times_dict[model] = run_simulation(simulation, max_iterations=2000)\n",
    "trajectories, walkable_area = read_sqlite_file(trajectory_file)\n",
    "animate(\n",
    "    trajectories,\n",
    "    walkable_area,\n",
    "    title_note=model,\n",
    "    every_nth_frame=5,\n",
    "    width=width,\n",
    "    height=height,\n",
    ")"
   ]
  },
  {
   "cell_type": "markdown",
   "id": "4b02fbfa-251a-43d9-97ed-ca6e5f6784ff",
   "metadata": {},
   "source": [
    "### SFM Simulation\n"
   ]
  },
  {
   "cell_type": "code",
   "execution_count": null,
   "id": "14cedaae-4b5f-4b0a-8667-a7d350e3a4d8",
   "metadata": {},
   "outputs": [],
   "source": [
    "model = \"SFM\"\n",
    "trajectory_file = f\"{model}.sqlite\"\n",
    "simulation = initialize_simulation(\n",
    "    jps.SocialForceModel(),\n",
    "    jps.SocialForceModelAgentParameters,\n",
    "    geometry,\n",
    "    goals,\n",
    "    positions,\n",
    "    speeds,\n",
    "    trajectory_file,\n",
    ")\n",
    "times_dict[model] = run_simulation(simulation, max_iterations=2000)\n",
    "trajectories, walkable_area = read_sqlite_file(trajectory_file)\n",
    "animate(\n",
    "    trajectories,\n",
    "    walkable_area,\n",
    "    title_note=model,\n",
    "    every_nth_frame=5,\n",
    "    width=width,\n",
    "    height=height,\n",
    ")"
   ]
  },
  {
   "cell_type": "markdown",
   "id": "de75158d-3073-4ef7-a17c-9d1b94f16fbc",
   "metadata": {},
   "source": [
    "### GCFM Simulation\n"
   ]
  },
  {
   "cell_type": "code",
   "execution_count": null,
   "id": "cd4b3e6f-0c34-4e18-8b62-4e9bb2464e97",
   "metadata": {},
   "outputs": [],
   "source": [
    "model = \"GCFM\"\n",
    "trajectory_file = f\"{model}.sqlite\"\n",
    "simulation = initialize_simulation(\n",
    "    jps.GeneralizedCentrifugalForceModel(),\n",
    "    jps.GeneralizedCentrifugalForceModelAgentParameters,\n",
    "    geometry,\n",
    "    goals,\n",
    "    positions,\n",
    "    speeds,\n",
    "    trajectory_file,\n",
    ")\n",
    "times_dict[model] = run_simulation(simulation, max_iterations=2000)\n",
    "trajectories, walkable_area = read_sqlite_file(trajectory_file)\n",
    "animate(\n",
    "    trajectories,\n",
    "    walkable_area,\n",
    "    title_note=model,\n",
    "    every_nth_frame=5,\n",
    "    width=width,\n",
    "    height=height,\n",
    ")"
   ]
  },
  {
   "cell_type": "markdown",
   "id": "6f9f6b1f",
   "metadata": {},
   "source": [
    "## Scenario 3: Head-on Encounter\n",
    "\n",
    "Two agents approach each other on a straight line, evaluating how different models resolve direct confrontation and determine which agent yields or how they negotiate passing space.\n"
   ]
  },
  {
   "cell_type": "code",
   "execution_count": null,
   "id": "8894d9c1",
   "metadata": {
    "tags": [
     "hide-input"
    ]
   },
   "outputs": [],
   "source": [
    "def create_geometry_scenario3():\n",
    "    geometry = Polygon([(-10, -2), (10, -2), (10, 2), (-10, 2)])\n",
    "    return geometry\n",
    "\n",
    "\n",
    "def define_positions_scenario3():\n",
    "    \"\"\"Define initial positions and desired speeds.\"\"\"\n",
    "    positions = [\n",
    "        (-2, 0),\n",
    "        (2, 0),\n",
    "    ]\n",
    "    speeds = [\n",
    "        1.0,\n",
    "        1.0,\n",
    "    ]\n",
    "    return positions, speeds\n",
    "\n",
    "\n",
    "def define_goals_scenario3():\n",
    "    \"\"\"Define goal polygons.\"\"\"\n",
    "    goals = [\n",
    "        Polygon([(6, -1), (9, -1), (9, 1), (6, 1)]),\n",
    "        Polygon([(-9, -1), (-6, -1), (-6, 1), (-9, 1)]),\n",
    "    ]\n",
    "    return goals\n",
    "\n",
    "\n",
    "geometry = create_geometry_scenario3()\n",
    "positions, speeds = define_positions_scenario3()\n",
    "goals = define_goals_scenario3()\n",
    "plot_simulation_configuration(geometry, positions, goals)\n",
    "times_dict = {}"
   ]
  },
  {
   "cell_type": "markdown",
   "id": "5deb294f",
   "metadata": {},
   "source": [
    "### CSM Simulation\n"
   ]
  },
  {
   "cell_type": "code",
   "execution_count": null,
   "id": "acdfbfcd",
   "metadata": {},
   "outputs": [],
   "source": [
    "model = \"CFM\"\n",
    "trajectory_file = f\"{model}.sqlite\"\n",
    "simulation = initialize_simulation(\n",
    "    jps.CollisionFreeSpeedModelV2(),\n",
    "    jps.CollisionFreeSpeedModelV2AgentParameters,\n",
    "    geometry,\n",
    "    goals,\n",
    "    positions,\n",
    "    speeds,\n",
    "    trajectory_file,\n",
    ")\n",
    "times_dict[model] = run_simulation(simulation, max_iterations=2000)\n",
    "trajectories, walkable_area = read_sqlite_file(trajectory_file)\n",
    "animate(\n",
    "    trajectories,\n",
    "    walkable_area,\n",
    "    title_note=model,\n",
    "    every_nth_frame=5,\n",
    "    width=width,\n",
    "    height=height,\n",
    ")"
   ]
  },
  {
   "cell_type": "markdown",
   "id": "2fbf4d77",
   "metadata": {},
   "source": [
    "### AVM Simulation\n"
   ]
  },
  {
   "cell_type": "code",
   "execution_count": null,
   "id": "6e1657f8",
   "metadata": {},
   "outputs": [],
   "source": [
    "model = \"AVM\"\n",
    "trajectory_file = f\"{model}.sqlite\"\n",
    "simulation = initialize_simulation(\n",
    "    jps.AnticipationVelocityModel(),\n",
    "    jps.AnticipationVelocityModelAgentParameters,\n",
    "    geometry,\n",
    "    goals,\n",
    "    positions,\n",
    "    speeds,\n",
    "    trajectory_file,\n",
    ")\n",
    "times_dict[model] = run_simulation(simulation, max_iterations=2000)\n",
    "trajectories, walkable_area = read_sqlite_file(trajectory_file)\n",
    "animate(\n",
    "    trajectories,\n",
    "    walkable_area,\n",
    "    title_note=model,\n",
    "    every_nth_frame=5,\n",
    "    width=width,\n",
    "    height=height,\n",
    ")"
   ]
  },
  {
   "cell_type": "markdown",
   "id": "2448d825",
   "metadata": {},
   "source": [
    "### SFM Simulation\n"
   ]
  },
  {
   "cell_type": "code",
   "execution_count": null,
   "id": "5a5fdb29",
   "metadata": {},
   "outputs": [],
   "source": [
    "model = \"SFM\"\n",
    "trajectory_file = f\"{model}.sqlite\"\n",
    "simulation = initialize_simulation(\n",
    "    jps.SocialForceModel(),\n",
    "    jps.SocialForceModelAgentParameters,\n",
    "    geometry,\n",
    "    goals,\n",
    "    positions,\n",
    "    speeds,\n",
    "    trajectory_file,\n",
    ")\n",
    "times_dict[model] = run_simulation(simulation, max_iterations=2000)\n",
    "trajectories, walkable_area = read_sqlite_file(trajectory_file)\n",
    "animate(\n",
    "    trajectories,\n",
    "    walkable_area,\n",
    "    title_note=model,\n",
    "    every_nth_frame=5,\n",
    "    width=width,\n",
    "    height=height,\n",
    ")"
   ]
  },
  {
   "cell_type": "markdown",
   "id": "24f23728",
   "metadata": {},
   "source": [
    "### GCFM Simulation\n"
   ]
  },
  {
   "cell_type": "code",
   "execution_count": null,
   "id": "12c632de",
   "metadata": {},
   "outputs": [],
   "source": [
    "model = \"GCFM\"\n",
    "trajectory_file = f\"{model}.sqlite\"\n",
    "simulation = initialize_simulation(\n",
    "    jps.GeneralizedCentrifugalForceModel(),\n",
    "    jps.GeneralizedCentrifugalForceModelAgentParameters,\n",
    "    geometry,\n",
    "    goals,\n",
    "    positions,\n",
    "    speeds,\n",
    "    trajectory_file,\n",
    ")\n",
    "times_dict[model] = run_simulation(simulation, max_iterations=5000)\n",
    "trajectories, walkable_area = read_sqlite_file(trajectory_file)\n",
    "animate(\n",
    "    trajectories,\n",
    "    walkable_area,\n",
    "    title_note=model,\n",
    "    every_nth_frame=5,\n",
    "    width=width,\n",
    "    height=height,\n",
    ")"
   ]
  },
  {
   "cell_type": "markdown",
   "id": "a9848f9e",
   "metadata": {},
   "source": [
    "### Evacuation times"
   ]
  },
  {
   "cell_type": "code",
   "execution_count": null,
   "id": "9926f3b0-d1c4-4e38-9071-71b20298ed25",
   "metadata": {
    "tags": [
     "hide-input"
    ]
   },
   "outputs": [],
   "source": [
    "fig = plot_evacuation_times(times_dict)\n",
    "plt.show()"
   ]
  },
  {
   "cell_type": "markdown",
   "id": "478351a0",
   "metadata": {},
   "source": [
    "## Scenario 4: Perpendicular Crossing\n",
    "\n",
    "Two agents move on intersecting paths - one traveling upward and another moving left to right - creating a potential collision point. This tests how models handle collision avoidance when agents approach at right angles.\n"
   ]
  },
  {
   "cell_type": "code",
   "execution_count": null,
   "id": "86c2b199",
   "metadata": {
    "tags": [
     "hide-input"
    ]
   },
   "outputs": [],
   "source": [
    "def create_geometry_scenario4():\n",
    "    geometry = Polygon([(-6, -6), (6, -6), (6, 6), (-6, 6)])\n",
    "    return geometry\n",
    "\n",
    "\n",
    "def define_positions_scenario4():\n",
    "    \"\"\"Define initial positions and desired speeds.\"\"\"\n",
    "    positions = [(-2, 0), (0, -2)]\n",
    "    speeds = [1.0, 0.99]\n",
    "    return positions, speeds\n",
    "\n",
    "\n",
    "def define_goals_scenario4():\n",
    "    \"\"\"Define goal polygons.\"\"\"\n",
    "    goals = [\n",
    "        Polygon([(5, -2), (6, -2), (6, 2), (5, 2)]),\n",
    "        Polygon([(-2, 5), (-2, 6), (2, 6), (2, 5)]),\n",
    "    ]\n",
    "    return goals\n",
    "\n",
    "\n",
    "geometry = create_geometry_scenario4()\n",
    "positions, speeds = define_positions_scenario4()\n",
    "goals = define_goals_scenario4()\n",
    "plot_simulation_configuration(geometry, positions, goals)\n",
    "times_dict = {}"
   ]
  },
  {
   "cell_type": "markdown",
   "id": "29092296",
   "metadata": {},
   "source": [
    "### CSM Simulation\n"
   ]
  },
  {
   "cell_type": "code",
   "execution_count": null,
   "id": "5683d076",
   "metadata": {},
   "outputs": [],
   "source": [
    "model = \"CFM\"\n",
    "trajectory_file = f\"{model}.sqlite\"\n",
    "simulation = initialize_simulation(\n",
    "    jps.CollisionFreeSpeedModelV2(),\n",
    "    jps.CollisionFreeSpeedModelV2AgentParameters,\n",
    "    geometry,\n",
    "    goals,\n",
    "    positions,\n",
    "    speeds,\n",
    "    trajectory_file,\n",
    ")\n",
    "times_dict[model] = run_simulation(simulation, max_iterations=2000)\n",
    "trajectories, walkable_area = read_sqlite_file(trajectory_file)\n",
    "animate(\n",
    "    trajectories,\n",
    "    walkable_area,\n",
    "    title_note=model,\n",
    "    every_nth_frame=5,\n",
    "    width=width,\n",
    "    height=height,\n",
    ")"
   ]
  },
  {
   "cell_type": "markdown",
   "id": "f1767999",
   "metadata": {},
   "source": [
    "### AVM Simulation\n"
   ]
  },
  {
   "cell_type": "code",
   "execution_count": null,
   "id": "9ac17a40",
   "metadata": {},
   "outputs": [],
   "source": [
    "model = \"AVM\"\n",
    "trajectory_file = f\"{model}.sqlite\"\n",
    "simulation = initialize_simulation(\n",
    "    jps.AnticipationVelocityModel(),\n",
    "    jps.AnticipationVelocityModelAgentParameters,\n",
    "    geometry,\n",
    "    goals,\n",
    "    positions,\n",
    "    speeds,\n",
    "    trajectory_file,\n",
    ")\n",
    "times_dict[model] = run_simulation(simulation, max_iterations=2000)\n",
    "trajectories, walkable_area = read_sqlite_file(trajectory_file)\n",
    "animate(\n",
    "    trajectories,\n",
    "    walkable_area,\n",
    "    title_note=model,\n",
    "    every_nth_frame=5,\n",
    "    width=width,\n",
    "    height=height,\n",
    ")"
   ]
  },
  {
   "cell_type": "markdown",
   "id": "d6a75e02",
   "metadata": {},
   "source": [
    "### SFM Simulation\n"
   ]
  },
  {
   "cell_type": "code",
   "execution_count": null,
   "id": "14e13c6b",
   "metadata": {},
   "outputs": [],
   "source": [
    "model = \"SFM\"\n",
    "trajectory_file = f\"{model}.sqlite\"\n",
    "simulation = initialize_simulation(\n",
    "    jps.SocialForceModel(),\n",
    "    jps.SocialForceModelAgentParameters,\n",
    "    geometry,\n",
    "    goals,\n",
    "    positions,\n",
    "    speeds,\n",
    "    trajectory_file,\n",
    ")\n",
    "times_dict[model] = run_simulation(simulation, max_iterations=2000)\n",
    "trajectories, walkable_area = read_sqlite_file(trajectory_file)\n",
    "animate(\n",
    "    trajectories,\n",
    "    walkable_area,\n",
    "    title_note=model,\n",
    "    every_nth_frame=5,\n",
    "    width=width,\n",
    "    height=height,\n",
    ")"
   ]
  },
  {
   "cell_type": "markdown",
   "id": "cbfbde63",
   "metadata": {},
   "source": [
    "### GCFM Simulation\n"
   ]
  },
  {
   "cell_type": "code",
   "execution_count": null,
   "id": "20edcdd7",
   "metadata": {},
   "outputs": [],
   "source": [
    "model = \"GCFM\"\n",
    "trajectory_file = f\"{model}.sqlite\"\n",
    "simulation = initialize_simulation(\n",
    "    jps.GeneralizedCentrifugalForceModel(),\n",
    "    jps.GeneralizedCentrifugalForceModelAgentParameters,\n",
    "    geometry,\n",
    "    goals,\n",
    "    positions,\n",
    "    speeds,\n",
    "    trajectory_file,\n",
    ")\n",
    "times_dict[model] = run_simulation(simulation, max_iterations=2000)\n",
    "trajectories, walkable_area = read_sqlite_file(trajectory_file)\n",
    "animate(\n",
    "    trajectories,\n",
    "    walkable_area,\n",
    "    title_note=model,\n",
    "    every_nth_frame=5,\n",
    "    width=width,\n",
    "    height=height,\n",
    ")"
   ]
  },
  {
   "cell_type": "markdown",
   "id": "79db3354",
   "metadata": {},
   "source": [
    "### Evacuation times"
   ]
  },
  {
   "cell_type": "code",
   "execution_count": null,
   "id": "5cfe84e2-4c16-4b44-b4d7-69c83bd662e0",
   "metadata": {
    "tags": [
     "hide-input"
    ]
   },
   "outputs": [],
   "source": [
    "fig = plot_evacuation_times(times_dict)\n",
    "plt.show()"
   ]
  },
  {
   "cell_type": "markdown",
   "id": "62984dd0-a06c-40e9-aad3-f6a193afbb14",
   "metadata": {},
   "source": [
    "## Scenario 5: Movement of individuals in a bottleneck\n",
    "\n",
    "Agents are initialized in a semicircular formation surrounding a bottleneck. For reference, see [this experiment](https://ped.fz-juelich.de/da/doku.php?id=bottleneck_individuals)."
   ]
  },
  {
   "cell_type": "code",
   "execution_count": null,
   "id": "3a8690c5-a4c0-4df3-b9f9-aa35f283ee65",
   "metadata": {
    "tags": [
     "hide-input"
    ]
   },
   "outputs": [],
   "source": [
    "def create_geometry_scenario5():\n",
    "    # Outer boundary\n",
    "    outer = [(-5, -5), (5, -5), (5, 5), (-5, 5)]\n",
    "\n",
    "    # Inner holes (from the second polygon)\n",
    "    hole1 = [(0.5, 0), (4.0, 0), (4.0, 1), (1.5, 1), (0.5, 2), (0.5, 0)]\n",
    "    hole2 = [(-0.5, 0), (-4.0, 0), (-4.0, 1), (-1.5, 1), (-0.5, 2), (-0.5, 0)]\n",
    "\n",
    "    # Create polygon with holes\n",
    "    geometry = Polygon(shell=outer, holes=[hole1, hole2])\n",
    "    return geometry\n",
    "\n",
    "\n",
    "def define_positions_scenario5():\n",
    "    \"\"\"Define initial positions and desired speeds.\"\"\"\n",
    "    positions = [\n",
    "        (-4, -0.5),\n",
    "        (-3.5, -2),\n",
    "        (-2, -3.5),\n",
    "        (0, -4),\n",
    "        (2, -3.5),\n",
    "        (3.5, -2),\n",
    "        (4, -0.5),\n",
    "    ]\n",
    "    speeds = 7 * [1.0]\n",
    "    return positions, speeds\n",
    "\n",
    "\n",
    "def define_goals_scenario5():\n",
    "    \"\"\"Define 7 goals polygons.\"\"\"\n",
    "    goals = 7 * [Polygon([(-0.3, 1.5), (0.3, 1.5), (0.3, 2.0), (-0.3, 2)])]\n",
    "    return goals\n",
    "\n",
    "\n",
    "geometry = create_geometry_scenario5()\n",
    "positions, speeds = define_positions_scenario5()\n",
    "goals = define_goals_scenario5()\n",
    "plot_simulation_configuration(geometry, positions, goals)\n",
    "times_dict = {}"
   ]
  },
  {
   "cell_type": "markdown",
   "id": "da9bc8d4-bc55-47f4-8e08-d3cb94ec011d",
   "metadata": {},
   "source": [
    "### CSM Simulation\n"
   ]
  },
  {
   "cell_type": "code",
   "execution_count": null,
   "id": "831e3f4a-f4d5-48ef-8789-7fd782ef67e4",
   "metadata": {},
   "outputs": [],
   "source": [
    "model = \"CFM\"\n",
    "trajectory_file = f\"{model}.sqlite\"\n",
    "simulation = initialize_simulation(\n",
    "    jps.CollisionFreeSpeedModelV2(),\n",
    "    jps.CollisionFreeSpeedModelV2AgentParameters,\n",
    "    geometry,\n",
    "    goals,\n",
    "    positions,\n",
    "    speeds,\n",
    "    trajectory_file,\n",
    ")\n",
    "times_dict[model] = run_simulation(simulation, max_iterations=2000)\n",
    "trajectories, walkable_area = read_sqlite_file(trajectory_file)\n",
    "animate(\n",
    "    trajectories,\n",
    "    walkable_area,\n",
    "    title_note=model,\n",
    "    every_nth_frame=5,\n",
    "    width=width,\n",
    "    height=height,\n",
    ")"
   ]
  },
  {
   "cell_type": "markdown",
   "id": "d7482000-a603-4dac-8510-55b6767117af",
   "metadata": {},
   "source": [
    "### AVM Simulation\n"
   ]
  },
  {
   "cell_type": "code",
   "execution_count": null,
   "id": "008df0ba-a7f0-4ffc-8a69-22094c3c2ace",
   "metadata": {},
   "outputs": [],
   "source": [
    "model = \"AVM\"\n",
    "trajectory_file = f\"{model}.sqlite\"\n",
    "simulation = initialize_simulation(\n",
    "    jps.AnticipationVelocityModel(),\n",
    "    jps.AnticipationVelocityModelAgentParameters,\n",
    "    geometry,\n",
    "    goals,\n",
    "    positions,\n",
    "    speeds,\n",
    "    trajectory_file,\n",
    ")\n",
    "times_dict[model] = run_simulation(simulation, max_iterations=2000)\n",
    "trajectories, walkable_area = read_sqlite_file(trajectory_file)\n",
    "animate(\n",
    "    trajectories,\n",
    "    walkable_area,\n",
    "    title_note=model,\n",
    "    every_nth_frame=5,\n",
    "    width=width,\n",
    "    height=height,\n",
    ")"
   ]
  },
  {
   "cell_type": "markdown",
   "id": "f3d552f3-355b-4ac8-b054-2d28090f68f8",
   "metadata": {},
   "source": [
    "### SFM Simulation\n"
   ]
  },
  {
   "cell_type": "code",
   "execution_count": null,
   "id": "3789fdba-cfb2-4dae-bcfb-a8e98dd58c0b",
   "metadata": {},
   "outputs": [],
   "source": [
    "model = \"SFM\"\n",
    "trajectory_file = f\"{model}.sqlite\"\n",
    "simulation = initialize_simulation(\n",
    "    jps.SocialForceModel(),\n",
    "    jps.SocialForceModelAgentParameters,\n",
    "    geometry,\n",
    "    goals,\n",
    "    positions,\n",
    "    speeds,\n",
    "    trajectory_file,\n",
    ")\n",
    "times_dict[model] = run_simulation(simulation, max_iterations=2000)\n",
    "trajectories, walkable_area = read_sqlite_file(trajectory_file)\n",
    "animate(\n",
    "    trajectories,\n",
    "    walkable_area,\n",
    "    title_note=model,\n",
    "    every_nth_frame=5,\n",
    "    width=width,\n",
    "    height=height,\n",
    ")"
   ]
  },
  {
   "cell_type": "markdown",
   "id": "dbc3c173-a577-45d6-811d-690ad35ca640",
   "metadata": {},
   "source": [
    "### GCFM Simulation"
   ]
  },
  {
   "cell_type": "code",
   "execution_count": null,
   "id": "c1c46b15-6a4b-4ab3-a798-60c37e81818c",
   "metadata": {},
   "outputs": [],
   "source": [
    "model = \"GCFM\"\n",
    "trajectory_file = f\"{model}.sqlite\"\n",
    "simulation = initialize_simulation(\n",
    "    jps.GeneralizedCentrifugalForceModel(),\n",
    "    jps.GeneralizedCentrifugalForceModelAgentParameters,\n",
    "    geometry,\n",
    "    goals,\n",
    "    positions,\n",
    "    speeds,\n",
    "    trajectory_file,\n",
    ")\n",
    "times_dict[model] = run_simulation(simulation, max_iterations=2000)\n",
    "trajectories, walkable_area = read_sqlite_file(trajectory_file)\n",
    "animate(\n",
    "    trajectories,\n",
    "    walkable_area,\n",
    "    title_note=model,\n",
    "    every_nth_frame=5,\n",
    "    width=width,\n",
    "    height=height,\n",
    ")"
   ]
  },
  {
   "cell_type": "markdown",
   "id": "1e079ea8-adf1-46a6-940c-020b5ccc5acd",
   "metadata": {},
   "source": [
    "### Evacuation times"
   ]
  },
  {
   "cell_type": "code",
   "execution_count": null,
   "id": "41d8ba64-65da-4133-97b1-7b35cf681291",
   "metadata": {
    "tags": [
     "hide-input"
    ]
   },
   "outputs": [],
   "source": [
    "fig = plot_evacuation_times(times_dict)\n",
    "plt.show()"
   ]
  }
 ],
 "metadata": {
  "kernelspec": {
   "display_name": "Python 3 (ipykernel)",
   "language": "python",
   "name": "python3"
  },
  "language_info": {
   "codemirror_mode": {
    "name": "ipython",
    "version": 3
   },
   "file_extension": ".py",
   "mimetype": "text/x-python",
   "name": "python",
   "nbconvert_exporter": "python",
   "pygments_lexer": "ipython3",
   "version": "3.12.8"
  }
 },
 "nbformat": 4,
 "nbformat_minor": 5
}

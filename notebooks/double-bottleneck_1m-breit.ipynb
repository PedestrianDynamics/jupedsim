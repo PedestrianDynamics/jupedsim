{
 "cells": [
  {
   "cell_type": "markdown",
   "id": "ae798e28-45c8-401a-891d-fdfa71c6516a",
   "metadata": {},
   "source": [
    "# Double bottleneck simulation \n",
    "\n",
    "In this demonstration, we'll construct a **double bottleneck** situation and simulate the evacuation of **agents** positioned on a grid.\n",
    "\n",
    "**TODO: MORE EXPLANATION. What happens here? Why? Why do we hope to show?**"
   ]
  },
  {
   "cell_type": "markdown",
   "id": "53170c39-8b79-4cda-ae53-06c716df6729",
   "metadata": {},
   "source": [
    "Introduction[CB]\n",
    "\n",
    "The simulation of the double bottleneck is based on the work for the (single) bottleneck. \n",
    "Here, agents are positioned on both side of the bottleneck: left and right.\n",
    "How will the agents \"meet\"? \n",
    "Will they disturb each other? Is it even possible to go through? \n",
    "And what is the impact of the width of the bottleneck?In order to answer those questions, please follow the instructions below. "
   ]
  },
  {
   "cell_type": "markdown",
   "id": "bbb25cba-e1c9-4b95-87a7-1aa70b321244",
   "metadata": {},
   "source": [
    "Let's begin by importing the required packages for our simulation:"
   ]
  },
  {
   "cell_type": "code",
   "execution_count": null,
   "id": "9dba16d9",
   "metadata": {
    "editable": true,
    "slideshow": {
     "slide_type": ""
    },
    "tags": [
     "hide-input"
    ]
   },
   "outputs": [],
   "source": [
    "from shapely import GeometryCollection, Polygon, to_wkt\n",
    "import pathlib\n",
    "import pandas as pd\n",
    "import numpy as np\n",
    "import jupedsim as jps\n",
    "from jupedsim.distributions import distribute_by_number\n",
    "import sqlite3  # parse trajectory db\n",
    "import plotly.express as px\n",
    "import plotly.graph_objects as go\n",
    "from plotly.graph_objs import Figure\n",
    "import pedpy  # analysis\n",
    "\n",
    "%matplotlib inline"
   ]
  },
  {
   "cell_type": "markdown",
   "id": "4c1eae67-0c1e-4f0b-b1f7-4e383e9092c4",
   "metadata": {},
   "source": [
    "## Setting up a geometry"
   ]
  },
  {
   "cell_type": "code",
   "execution_count": null,
   "id": "a45d0955-7092-4dda-bc44-707893e4449b",
   "metadata": {
    "editable": true,
    "slideshow": {
     "slide_type": ""
    },
    "tags": [
     "hide-input"
    ]
   },
   "outputs": [],
   "source": [
    "p1 = Polygon([(0, 0), (10, 0), (10, 10), (0, 10)])\n",
    "p2 = Polygon([(10, 4.5), (15, 4.5), (15, 5.5), (10, 5.5)])\n",
    "p3 = Polygon([(15, 0), (25, 0), (25, 10), (15, 10)])\n",
    "area = GeometryCollection(p1.union(p2.union(p3)))\n",
    "walkable_area = pedpy.WalkableArea(area.geoms[0])\n",
    "pedpy.plot_walkable_area(walkable_area=walkable_area)"
   ]
  },
  {
   "cell_type": "markdown",
   "id": "06443296",
   "metadata": {},
   "source": [
    "## Operational model\n",
    "<a id=\"model\"></a>\n",
    "Once the geometry is set, our subsequent task is to specify the model and its associated parameters.\n",
    "For this demonstration, we'll employ the \"collision-free\" model."
   ]
  },
  {
   "cell_type": "markdown",
   "id": "f2f206a3",
   "metadata": {},
   "source": [
    "## Setting Up the Simulation Object\n",
    "\n",
    "Having established the model and geometry details, and combined with other parameters such as the time step dt, we can proceed to construct our simulation object as illustrated below:"
   ]
  },
  {
   "cell_type": "code",
   "execution_count": null,
   "id": "36627194",
   "metadata": {},
   "outputs": [],
   "source": [
    "trajectory_file = \"double_bottleneck_1m_width.sqlite\"\n",
    "simulation = jps.Simulation(\n",
    "    model=jps.VelocityModelParameters(),\n",
    "    geometry=area,\n",
    "    trajectory_writer=jps.SqliteTrajectoryWriter(\n",
    "        output_file=pathlib.Path(trajectory_file)\n",
    "    ),\n",
    ")"
   ]
  },
  {
   "cell_type": "markdown",
   "id": "64564e7f",
   "metadata": {},
   "source": [
    "## Specifying Routing Details\n",
    "\n",
    "At this juncture, we'll provide basic routing instructions, guiding the agents to progress towards the **first exit point** and the **second exit point**."
   ]
  },
  {
   "cell_type": "code",
   "execution_count": null,
   "id": "c1cfdadc",
   "metadata": {},
   "outputs": [],
   "source": [
    "exits = [\n",
    "    simulation.add_exit_stage([(24, 0), (25, 0), (25, 10), (24, 10)]),\n",
    "    simulation.add_exit_stage([(0, 0), (1, 0), (1, 10), (0, 10)]),\n",
    "]\n",
    "journeys = [\n",
    "    simulation.add_journey(jps.JourneyDescription([exit])) for exit in exits\n",
    "]"
   ]
  },
  {
   "cell_type": "markdown",
   "id": "269d95ac",
   "metadata": {},
   "source": [
    "## Defining and Distributing Agents\n",
    "\n",
    "Now, we'll position the agents and establish their attributes, leveraging previously mentioned parameters such as `exit1`, `exit2` and `profile_id`."
   ]
  },
  {
   "cell_type": "code",
   "execution_count": null,
   "id": "bad06382",
   "metadata": {},
   "outputs": [],
   "source": [
    "agent_parameters = jps.VelocityModelAgentParameters()\n",
    "agent_parameters.journey_id = journeys[0]\n",
    "agent_parameters.stage_id = exits[0]\n",
    "agent_parameters.orientation = (1.0, 0.0)\n",
    "agent_parameters.v0 = 1.2\n",
    "agent_parameters.radius = 0.15\n",
    "agent_parameters.time_gap = 1\n",
    "\n",
    "for new_pos in [(7, 7)]:\n",
    "    agent_parameters.position = new_pos\n",
    "    simulation.add_agent(agent_parameters)"
   ]
  },
  {
   "cell_type": "code",
   "execution_count": null,
   "id": "4835947a",
   "metadata": {},
   "outputs": [],
   "source": [
    "agent_parameters.journey_id = journeys[1]\n",
    "agent_parameters.stage_id = exits[1]\n",
    "for new_pos in [(25, 7)]:\n",
    "    agent_parameters.position = new_pos\n",
    "    simulation.add_agent(agent_parameters)"
   ]
  },
  {
   "cell_type": "markdown",
   "id": "569d86fe",
   "metadata": {},
   "source": [
    "## Executing the Simulation\n",
    "\n",
    "With all components in place, we're set to initiate the simulation.\n",
    "For this demonstration, the trajectories will be recorded in an sqlite database."
   ]
  },
  {
   "cell_type": "code",
   "execution_count": null,
   "id": "2a413666",
   "metadata": {},
   "outputs": [],
   "source": [
    "while simulation.agent_count() > 0:\n",
    "    simulation.iterate()"
   ]
  },
  {
   "cell_type": "markdown",
   "id": "078b5b68",
   "metadata": {},
   "source": [
    "## Visualizing the Trajectories\n",
    "\n",
    "For trajectory visualization, we'll extract data from the sqlite database. A straightforward method for this is employing the jupedsim-visualizer.\n",
    "\n",
    "To-Do List:\n",
    "\n",
    "    Incorporate references and hyperlinks to additional resources.\n",
    "    Integrate results visualization using the visualizer."
   ]
  },
  {
   "cell_type": "code",
   "execution_count": null,
   "id": "36089687",
   "metadata": {
    "editable": true,
    "slideshow": {
     "slide_type": ""
    },
    "tags": [
     "hide-input"
    ]
   },
   "outputs": [],
   "source": [
    "def read_trajectory_data(trajectory_file: str) -> pedpy.TrajectoryData:\n",
    "    with sqlite3.connect(trajectory_file) as con:\n",
    "        data = pd.read_sql_query(\n",
    "            \"select frame, id, pos_x as x, pos_y as y, ori_x as ox, ori_y as oy from trajectory_data\",\n",
    "            con,\n",
    "        )\n",
    "        fps = float(\n",
    "            con.cursor()\n",
    "            .execute(\"select value from metadata where key = 'fps'\")\n",
    "            .fetchone()[0]\n",
    "        )\n",
    "        return pedpy.TrajectoryData(data=data, frame_rate=fps)\n",
    "\n",
    "\n",
    "def visualize(data_df: pd.DataFrame, area: GeometryCollection) -> Figure:\n",
    "    \"\"\"Generate moving trajectories based on simulation\"\"\"\n",
    "    range_color = [0, max(data_df[\"speed\"])]\n",
    "    data_df[\"radius\"] = 0.2\n",
    "    fig = px.scatter(\n",
    "        data_df,\n",
    "        x=\"x\",\n",
    "        y=\"y\",\n",
    "        animation_frame=\"frame\",\n",
    "        animation_group=\"id\",\n",
    "        size=\"radius\",\n",
    "        color=\"speed\",\n",
    "        range_color=range_color,\n",
    "        color_continuous_midpoint=np.mean(data_df[\"speed\"]),\n",
    "        color_continuous_scale=px.colors.diverging.RdBu_r[::-1],\n",
    "        labels={\"speed\": \"Speed\"},\n",
    "    )\n",
    "    x, y = area.geoms[0].exterior.xy\n",
    "    fig.add_trace(\n",
    "        go.Scatter(\n",
    "            x=np.array(x),\n",
    "            y=np.array(y),\n",
    "            mode=\"lines\",\n",
    "            line={\"color\": \"grey\"},\n",
    "        )\n",
    "    )\n",
    "    for inner in area.geoms[0].interiors:\n",
    "        xi, yi = zip(*inner.coords[:])\n",
    "        fig.add_trace(\n",
    "            go.Scatter(\n",
    "                x=np.array(xi),\n",
    "                y=np.array(yi),\n",
    "                mode=\"lines\",\n",
    "                line={\"color\": \"grey\"},\n",
    "            )\n",
    "        )\n",
    "\n",
    "    minx, miny, maxx, maxy = area.bounds\n",
    "    fig.update_xaxes(range=[minx, maxx])\n",
    "    fig.update_yaxes(range=[miny, maxy])\n",
    "    fig.layout.updatemenus[0].buttons[0].args[1][\"frame\"][\"duration\"] = 10\n",
    "    fig.layout.updatemenus[0].buttons[0].args[1][\"transition\"][\"duration\"] = 5\n",
    "    fig.update_geos(\n",
    "        projection_type=\"equirectangular\", visible=True, resolution=110\n",
    "    )\n",
    "    fig.update_traces(marker={\"line\": {\"width\": 0.5, \"color\": \"Gray\"}})\n",
    "    fig.update_geos(\n",
    "        projection_type=\"equirectangular\", visible=True, resolution=110\n",
    "    )\n",
    "    fig.update_coloraxes(colorbar=dict(title=\"Speed\"))\n",
    "    fig.update_layout(scene=dict(aspectmode=\"cube\"), showlegend=False)\n",
    "    fig.update_layout(yaxis=dict(scaleanchor=\"x\", scaleratio=1))\n",
    "    return fig\n",
    "\n",
    "\n",
    "trajectory_data = read_trajectory_data(trajectory_file)\n",
    "speed = pedpy.compute_individual_speed(traj_data=trajectory_data, frame_step=5)\n",
    "speed = speed.merge(trajectory_data.data, on=[\"id\", \"frame\"], how=\"left\")\n",
    "visualize(speed, GeometryCollection(walkable_area._polygon))"
   ]
  },
  {
   "cell_type": "markdown",
   "id": "a4c85934",
   "metadata": {
    "editable": true,
    "slideshow": {
     "slide_type": ""
    },
    "tags": [
     "hide-input"
    ]
   },
   "source": [
    "## References & Further Exploration\n",
    "\n",
    "The operational model discussed in the Model section is based on the collision-free model. JuPedSim also incorporates another model known as GCFM. For more details on GCFM, refer to another notebook (TODO: Link to the GCFM notebook).\n",
    "\n",
    "Our demonstration employed a straightforward journey with a singular exit. For a more intricate journey featuring multiple intermediate stops and waiting zones, see the upcoming section (TODO: Link to the advanced journey section).\n",
    "\n",
    "While we designated a single parameter profile for agents in this example, it's feasible to define multiple parameter profiles. Learn how to alternate between these profiles in the subsequent section (TODO: Link to the profile-switching section)."
   ]
  },
  {
   "cell_type": "markdown",
   "id": "90f64e5a",
   "metadata": {
    "editable": true,
    "slideshow": {
     "slide_type": ""
    },
    "tags": [
     "hide-input"
    ]
   },
   "source": []
  }
 ],
 "metadata": {
  "kernelspec": {
   "display_name": "Python 3 (ipykernel)",
   "language": "python",
   "name": "python3"
  },
  "language_info": {
   "codemirror_mode": {
    "name": "ipython",
    "version": 3
   },
   "file_extension": ".py",
   "mimetype": "text/x-python",
   "name": "python",
   "nbconvert_exporter": "python",
   "pygments_lexer": "ipython3",
   "version": "3.11.5"
  }
 },
 "nbformat": 4,
 "nbformat_minor": 5
}

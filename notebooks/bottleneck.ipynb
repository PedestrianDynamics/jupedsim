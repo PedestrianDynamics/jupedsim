{
 "cells": [
  {
   "cell_type": "markdown",
   "id": "ae798e28-45c8-401a-891d-fdfa71c6516a",
   "metadata": {
    "collapsed": false,
    "editable": true,
    "jupyter": {
     "outputs_hidden": false
    },
    "slideshow": {
     "slide_type": ""
    },
    "tags": [
     "hide-input"
    ]
   },
   "source": [
    "# Bottleneck simulation \n",
    "\n",
    "In this demonstration, we'll construct a basic bottleneck situation and simulate the evacuation of agents."
   ]
  },
  {
   "cell_type": "markdown",
   "id": "cc11fa1c-bcac-4a8c-9380-72f8929abbb0",
   "metadata": {},
   "source": [
    "***Introduction***[CB]\n",
    "\n",
    "With this simulation, we want to show the effects of a bottleneck on a crowd. The goal is to understand what problems could emerge from such a geometry - or what benefits could result from it. In order to quantify the results, it is possible to measure the density at the entrance of the bottleneck.\n",
    "\n",
    "The observations and the results will of course depend on the parameters you choose to enter. "
   ]
  },
  {
   "cell_type": "markdown",
   "id": "7b0ca737-7add-49bb-9145-aa20d8ebb74d",
   "metadata": {},
   "source": [
    "Let's begin by importing the required packages for our simulation:"
   ]
  },
  {
   "cell_type": "code",
   "execution_count": null,
   "id": "9dba16d9",
   "metadata": {
    "collapsed": false,
    "jupyter": {
     "outputs_hidden": false
    },
    "tags": [
     "hide-input"
    ]
   },
   "outputs": [],
   "source": [
    "from shapely import GeometryCollection, Polygon, to_wkt, unary_union\n",
    "import pathlib\n",
    "import jupedsim as jps\n",
    "from jupedsim.distributions import distribute_by_number\n",
    "import sqlite3  # parse trajectory db\n",
    "import numpy as np\n",
    "import pandas as pd\n",
    "import plotly.express as px\n",
    "import plotly.graph_objects as go\n",
    "from plotly.graph_objs import Figure\n",
    "import pedpy  # analysis\n",
    "\n",
    "%matplotlib inline"
   ]
  },
  {
   "cell_type": "markdown",
   "id": "4c1eae67-0c1e-4f0b-b1f7-4e383e9092c4",
   "metadata": {
    "collapsed": false,
    "jupyter": {
     "outputs_hidden": false
    }
   },
   "source": [
    "## Setting up a geometry\n",
    "\n",
    " We will be using the a bottleneck setup as used in the experiments published by [Adrian2018]."
   ]
  },
  {
   "cell_type": "code",
   "execution_count": null,
   "id": "a45d0955-7092-4dda-bc44-707893e4449b",
   "metadata": {
    "collapsed": false,
    "jupyter": {
     "outputs_hidden": false
    }
   },
   "outputs": [],
   "source": [
    "complete_area = [\n",
    "    (3.5, -2),\n",
    "    (3.5, 8),\n",
    "    (-3.5, 8),\n",
    "    (-3.5, -2),\n",
    "]\n",
    "obstacles = [\n",
    "    # left barrier\n",
    "    [\n",
    "        (-0.7, -1.1),\n",
    "        (-0.25, -1.1),\n",
    "        (-0.25, -0.15),\n",
    "        (-0.4, 0.0),\n",
    "        (-2.8, 0.0),\n",
    "        (-2.8, 6.7),\n",
    "        (-3.05, 6.7),\n",
    "        (-3.05, -0.3),\n",
    "        (-0.7, -0.3),\n",
    "        (-0.7, -1.0),\n",
    "    ],\n",
    "    # right barrier\n",
    "    [\n",
    "        (0.25, -1.1),\n",
    "        (0.7, -1.1),\n",
    "        (0.7, -0.3),\n",
    "        (3.05, -0.3),\n",
    "        (3.05, 6.7),\n",
    "        (2.8, 6.7),\n",
    "        (2.8, 0.0),\n",
    "        (0.4, 0.0),\n",
    "        (0.25, -0.15),\n",
    "        (0.25, -1.1),\n",
    "    ],\n",
    "]\n",
    "walkable_area = pedpy.WalkableArea(complete_area, obstacles)"
   ]
  },
  {
   "cell_type": "code",
   "execution_count": null,
   "id": "ceef2b20-2aeb-44f0-a8e5-06902bb43dee",
   "metadata": {
    "collapsed": false,
    "jupyter": {
     "outputs_hidden": false
    },
    "tags": [
     "hide-input"
    ]
   },
   "outputs": [],
   "source": [
    "pedpy.plot_walkable_area(walkable_area=walkable_area);"
   ]
  },
  {
   "cell_type": "markdown",
   "id": "06443296",
   "metadata": {
    "collapsed": false,
    "jupyter": {
     "outputs_hidden": false
    }
   },
   "source": [
    "## Operational model\n",
    "<a id=\"model\"></a>\n",
    "Once the geometry is set, our subsequent task is to specify the model and its associated parameters.\n",
    "For this demonstration, we'll employ the \"collision-free\" model."
   ]
  },
  {
   "cell_type": "markdown",
   "id": "f2f206a3",
   "metadata": {
    "collapsed": false,
    "jupyter": {
     "outputs_hidden": false
    }
   },
   "source": [
    "## Setting Up the Simulation Object\n",
    "\n",
    "Having established the model and geometry details, and combined with other parameters such as the time step $dt$, we can proceed to construct our simulation object as illustrated below:"
   ]
  },
  {
   "cell_type": "code",
   "execution_count": null,
   "id": "36627194",
   "metadata": {
    "collapsed": false,
    "jupyter": {
     "outputs_hidden": false
    }
   },
   "outputs": [],
   "source": [
    "trajectory_file = \"trajectories_bottlenck.sqlite\"\n",
    "simulation = jps.Simulation(\n",
    "    model=jps.CollisionFreeSpeedModel(),\n",
    "    geometry=walkable_area.polygon,\n",
    "    trajectory_writer=jps.SqliteTrajectoryWriter(\n",
    "        output_file=pathlib.Path(trajectory_file)\n",
    "    ),\n",
    ")"
   ]
  },
  {
   "cell_type": "markdown",
   "id": "64564e7f",
   "metadata": {
    "collapsed": false,
    "jupyter": {
     "outputs_hidden": false
    }
   },
   "source": [
    "## Specifying Routing Details\n",
    "\n",
    "At this juncture, we'll provide basic routing instructions, guiding the agents to progress towards an exit point."
   ]
  },
  {
   "cell_type": "code",
   "execution_count": null,
   "id": "c1cfdadc",
   "metadata": {
    "collapsed": false,
    "jupyter": {
     "outputs_hidden": false
    }
   },
   "outputs": [],
   "source": [
    "exit_polygon = [(-0.2, -2), (0.2, -2), (0.2, -1.7), (-0.2, -1.7)]\n",
    "exit_id = simulation.add_exit_stage(exit_polygon)\n",
    "journey = jps.JourneyDescription([exit_id])\n",
    "journey_id = simulation.add_journey(journey)"
   ]
  },
  {
   "cell_type": "markdown",
   "id": "269d95ac",
   "metadata": {
    "collapsed": false,
    "jupyter": {
     "outputs_hidden": false
    }
   },
   "source": [
    "## Defining and Distributing Agents\n",
    "\n",
    "Now, we'll position the agents and establish their attributes, leveraging previously mentioned parameters such as `exit_id` and `profile_id`."
   ]
  },
  {
   "cell_type": "code",
   "execution_count": null,
   "id": "bad06382",
   "metadata": {
    "collapsed": false,
    "jupyter": {
     "outputs_hidden": false
    }
   },
   "outputs": [],
   "source": [
    "total_agents = 35\n",
    "positions = distribute_by_number(\n",
    "    polygon=Polygon([[2.5, 6.5], [-2.5, 6.5], [-2.5, 4], [2.5, 4]]),\n",
    "    number_of_agents=total_agents,\n",
    "    distance_to_agents=0.4,\n",
    "    distance_to_polygon=0.4,\n",
    "    seed=45131502,\n",
    ")\n",
    "for position in positions:\n",
    "    simulation.add_agent(\n",
    "        jps.CollisionFreeSpeedModelAgentParameters(\n",
    "            journey_id=journey_id, stage_id=exit_id, position=position\n",
    "        )\n",
    "    )"
   ]
  },
  {
   "cell_type": "markdown",
   "id": "569d86fe",
   "metadata": {
    "collapsed": false,
    "jupyter": {
     "outputs_hidden": false
    }
   },
   "source": [
    "## Executing the Simulation\n",
    "\n",
    "With all components in place, we're set to initiate the simulation.\n",
    "For this demonstration, the trajectories will be recorded in an sqlite database."
   ]
  },
  {
   "cell_type": "code",
   "execution_count": null,
   "id": "2a413666",
   "metadata": {
    "collapsed": false,
    "jupyter": {
     "outputs_hidden": false
    }
   },
   "outputs": [],
   "source": [
    "while simulation.agent_count() > 0 and simulation.elapsed_time() < 180:\n",
    "    simulation.iterate()"
   ]
  },
  {
   "cell_type": "markdown",
   "id": "078b5b68",
   "metadata": {
    "collapsed": false,
    "jupyter": {
     "outputs_hidden": false
    }
   },
   "source": [
    "## Visualizing the Trajectories\n",
    "\n",
    "For trajectory visualization, we'll extract data from the sqlite database. A straightforward method for this is employing the jupedsim-visualizer."
   ]
  },
  {
   "cell_type": "code",
   "execution_count": null,
   "id": "90b533e3-7287-4ee7-941e-acd9acb1a2ce",
   "metadata": {
    "tags": [
     "hide-input"
    ]
   },
   "outputs": [],
   "source": [
    "def read_sqlite_file(trajectory_file: str) -> pedpy.TrajectoryData:\n",
    "    with sqlite3.connect(trajectory_file) as con:\n",
    "        data = pd.read_sql_query(\n",
    "            \"select frame, id, pos_x as x, pos_y as y, ori_x as ox, ori_y as oy from trajectory_data\",\n",
    "            con,\n",
    "        )\n",
    "        fps = float(\n",
    "            con.cursor()\n",
    "            .execute(\"select value from metadata where key = 'fps'\")\n",
    "            .fetchone()[0]\n",
    "        )\n",
    "        walkable_area = (\n",
    "            con.cursor().execute(\"select wkt from geometry\").fetchone()[0]\n",
    "        )\n",
    "        return (\n",
    "            pedpy.TrajectoryData(data=data, frame_rate=fps),\n",
    "            pedpy.WalkableArea(walkable_area),\n",
    "        )\n",
    "\n",
    "\n",
    "def speed_to_color(speed, min_speed, max_speed, midpoint):\n",
    "    colorscale = px.colors.diverging.RdBu_r[::-1]\n",
    "\n",
    "    # Normalize speed based on the midpoint\n",
    "    if speed >= midpoint:\n",
    "        normalized_speed = 0.5 + 0.5 * (speed - midpoint) / (\n",
    "            max_speed - midpoint\n",
    "        )\n",
    "    else:\n",
    "        normalized_speed = 0.5 * (speed - min_speed) / (midpoint - min_speed)\n",
    "\n",
    "    # Clip to ensure the value is between 0 and 1\n",
    "    normalized_speed = np.clip(normalized_speed, 0, 1)\n",
    "\n",
    "    # Find the corresponding color in the colorscale\n",
    "    color_idx = int(normalized_speed * (len(colorscale) - 1))\n",
    "    return colorscale[color_idx]\n",
    "\n",
    "\n",
    "def get_geometry_traces(area):\n",
    "    geometry_traces = []\n",
    "    x, y = area.exterior.xy\n",
    "    geometry_traces.append(\n",
    "        go.Scatter(\n",
    "            x=np.array(x),\n",
    "            y=np.array(y),\n",
    "            mode=\"lines\",\n",
    "            line={\"color\": \"grey\"},\n",
    "            showlegend=False,\n",
    "            name=\"Exterior\",\n",
    "            hoverinfo=\"name\",\n",
    "        )\n",
    "    )\n",
    "    for inner in area.interiors:\n",
    "        xi, yi = zip(*inner.coords[:])\n",
    "        geometry_traces.append(\n",
    "            go.Scatter(\n",
    "                x=np.array(xi),\n",
    "                y=np.array(yi),\n",
    "                mode=\"lines\",\n",
    "                line={\"color\": \"grey\"},\n",
    "                showlegend=False,\n",
    "                name=\"Obstacle\",\n",
    "                hoverinfo=\"name\",\n",
    "            )\n",
    "        )\n",
    "    return geometry_traces\n",
    "\n",
    "\n",
    "def get_shapes_for_frame(frame_data, min_speed, max_speed, midpoint):\n",
    "    def create_shape(row):\n",
    "        hover_trace = go.Scatter(\n",
    "            x=[row[\"x\"]],\n",
    "            y=[row[\"y\"]],\n",
    "            text=[f\"ID: {row['id']}, Pos({row['x']:.2f},{row['y']:.2f})\"],\n",
    "            mode=\"markers\",\n",
    "            marker=dict(size=1, opacity=1),\n",
    "            hoverinfo=\"text\",\n",
    "            showlegend=False,\n",
    "        )\n",
    "        if row[\"speed\"] == -1000:  # Check for dummy speed\n",
    "            return (\n",
    "                go.layout.Shape(\n",
    "                    type=\"circle\",\n",
    "                    xref=\"x\",\n",
    "                    yref=\"y\",\n",
    "                    x0=row[\"x\"] - row[\"radius\"],\n",
    "                    y0=row[\"y\"] - row[\"radius\"],\n",
    "                    x1=row[\"x\"] + row[\"radius\"],\n",
    "                    y1=row[\"y\"] + row[\"radius\"],\n",
    "                    line=dict(width=0),\n",
    "                    fillcolor=\"rgba(255,255,255,0)\",  # Transparent fill\n",
    "                ),\n",
    "                hover_trace,\n",
    "            )\n",
    "        color = speed_to_color(row[\"speed\"], min_speed, max_speed, midpoint)\n",
    "        return (\n",
    "            go.layout.Shape(\n",
    "                type=\"circle\",\n",
    "                xref=\"x\",\n",
    "                yref=\"y\",\n",
    "                x0=row[\"x\"] - row[\"radius\"],\n",
    "                y0=row[\"y\"] - row[\"radius\"],\n",
    "                x1=row[\"x\"] + row[\"radius\"],\n",
    "                y1=row[\"y\"] + row[\"radius\"],\n",
    "                line_color=color,\n",
    "                fillcolor=color,\n",
    "            ),\n",
    "            hover_trace,\n",
    "        )\n",
    "\n",
    "    results = frame_data.apply(create_shape, axis=1).tolist()\n",
    "    shapes = [res[0] for res in results]\n",
    "    hover_traces = [res[1] for res in results]\n",
    "    return shapes, hover_traces\n",
    "\n",
    "\n",
    "def create_fig(\n",
    "    initial_agent_count,\n",
    "    initial_shapes,\n",
    "    initial_hover_trace,\n",
    "    geometry_traces,\n",
    "    hover_traces,\n",
    "    frames,\n",
    "    steps,\n",
    "    area_bounds,\n",
    "    width=800,\n",
    "    height=800,\n",
    "):\n",
    "    minx, miny, maxx, maxy = area_bounds\n",
    "    fig = go.Figure(\n",
    "        data=geometry_traces + hover_traces + initial_hover_trace,\n",
    "        frames=frames,\n",
    "        layout=go.Layout(\n",
    "            shapes=initial_shapes,\n",
    "            title=f\"<b>Number of Agents: {initial_agent_count}</b>\",\n",
    "            title_x=0.5,\n",
    "        ),\n",
    "    )\n",
    "    fig.update_layout(\n",
    "        updatemenus=[\n",
    "            {\n",
    "                \"buttons\": [\n",
    "                    {\n",
    "                        \"args\": [\n",
    "                            None,\n",
    "                            {\n",
    "                                \"frame\": {\"duration\": 100, \"redraw\": True},\n",
    "                                \"fromcurrent\": True,\n",
    "                            },\n",
    "                        ],\n",
    "                        \"label\": \"Play\",\n",
    "                        \"method\": \"animate\",\n",
    "                    }\n",
    "                ],\n",
    "                \"direction\": \"left\",\n",
    "                \"pad\": {\"r\": 10, \"t\": 87},\n",
    "                \"showactive\": False,\n",
    "                \"type\": \"buttons\",\n",
    "                \"x\": 0.1,\n",
    "                \"xanchor\": \"right\",\n",
    "                \"y\": 0,\n",
    "                \"yanchor\": \"top\",\n",
    "            }\n",
    "        ],\n",
    "        sliders=[\n",
    "            {\n",
    "                \"active\": 0,\n",
    "                \"yanchor\": \"top\",\n",
    "                \"xanchor\": \"left\",\n",
    "                \"currentvalue\": {\n",
    "                    \"font\": {\"size\": 20},\n",
    "                    \"prefix\": \"Frame:\",\n",
    "                    \"visible\": True,\n",
    "                    \"xanchor\": \"right\",\n",
    "                },\n",
    "                \"transition\": {\"duration\": 100, \"easing\": \"cubic-in-out\"},\n",
    "                \"pad\": {\"b\": 10, \"t\": 50},\n",
    "                \"len\": 0.9,\n",
    "                \"x\": 0.1,\n",
    "                \"y\": 0,\n",
    "                \"steps\": steps,\n",
    "            }\n",
    "        ],\n",
    "        autosize=False,\n",
    "        width=width,\n",
    "        height=height,\n",
    "        xaxis=dict(range=[minx - 0.5, maxx + 0.5]),\n",
    "        yaxis=dict(\n",
    "            scaleanchor=\"x\", scaleratio=1, range=[miny - 0.5, maxy + 0.5]\n",
    "        ),\n",
    "    )\n",
    "    return fig\n",
    "\n",
    "\n",
    "def animate(\n",
    "    data: pedpy.TrajectoryData, area: pedpy.WalkableArea, *, every_nth_frame=5\n",
    "):\n",
    "    data_df = pedpy.compute_individual_speed(traj_data=data, frame_step=5)\n",
    "    data_df = data_df.merge(data.data, on=[\"id\", \"frame\"], how=\"left\")\n",
    "    data_df[\"radius\"] = 0.2\n",
    "    min_speed = data_df[\"speed\"].min()\n",
    "    max_speed = data_df[\"speed\"].max()\n",
    "    midpoint = np.mean(data_df[\"speed\"])\n",
    "    max_agents = data_df.groupby(\"frame\").size().max()\n",
    "    dummy_agent_data = {\"x\": 0, \"y\": 0, \"radius\": 0, \"speed\": -1000}\n",
    "    frames = []\n",
    "    steps = []\n",
    "    unique_frames = data_df[\"frame\"].unique()\n",
    "    selected_frames = unique_frames[::every_nth_frame]\n",
    "    geometry_traces = get_geometry_traces(area.polygon)\n",
    "    initial_frame_data = data_df[data_df[\"frame\"] == data_df[\"frame\"].min()]\n",
    "    initial_agent_count = len(initial_frame_data)\n",
    "    initial_shapes, initial_hovers = get_shapes_for_frame(\n",
    "        initial_frame_data, min_speed, max_speed, midpoint\n",
    "    )\n",
    "    for frame_num in selected_frames[1:]:\n",
    "        frame_data = data_df[data_df[\"frame\"] == frame_num]\n",
    "        agent_count = len(frame_data)\n",
    "        while len(frame_data) < max_agents:\n",
    "            dummy_df = pd.DataFrame([dummy_agent_data])\n",
    "            frame_data = pd.concat([frame_data, dummy_df], ignore_index=True)\n",
    "\n",
    "        shapes, hover_traces = get_shapes_for_frame(\n",
    "            frame_data, min_speed, max_speed, midpoint\n",
    "        )\n",
    "        frame = go.Frame(\n",
    "            data=geometry_traces + hover_traces,\n",
    "            name=str(frame_num),\n",
    "            layout=go.Layout(\n",
    "                shapes=shapes,\n",
    "                title=f\"<b>Number of Agents: {agent_count}</b>\",\n",
    "                title_x=0.5,\n",
    "            ),\n",
    "        )\n",
    "        frames.append(frame)\n",
    "        step = {\n",
    "            \"args\": [\n",
    "                [str(frame_num)],\n",
    "                {\n",
    "                    \"frame\": {\"duration\": 100, \"redraw\": True},\n",
    "                    \"mode\": \"immediate\",\n",
    "                    \"transition\": {\"duration\": 500},\n",
    "                },\n",
    "            ],\n",
    "            \"label\": str(frame_num),\n",
    "            \"method\": \"animate\",\n",
    "        }\n",
    "        steps.append(step)\n",
    "\n",
    "    return create_fig(\n",
    "        initial_agent_count,\n",
    "        initial_shapes,\n",
    "        initial_hovers,\n",
    "        geometry_traces,\n",
    "        hover_traces,\n",
    "        frames,\n",
    "        steps,\n",
    "        area.bounds,\n",
    "        width=800,\n",
    "        height=800,\n",
    "    )"
   ]
  },
  {
   "cell_type": "code",
   "execution_count": null,
   "id": "d3a264f1",
   "metadata": {},
   "outputs": [],
   "source": [
    "trajectory_data, walkable_area = read_sqlite_file(trajectory_file)\n",
    "animate(trajectory_data, walkable_area)"
   ]
  },
  {
   "cell_type": "markdown",
   "id": "7ea9fcbc",
   "metadata": {
    "collapsed": false,
    "jupyter": {
     "outputs_hidden": false
    }
   },
   "source": [
    "## Measurement of the N-T curve and Voronoi density\n",
    "\n",
    "We evaluate the $N−t$ curve at the bottleneck's exit. The gradient of this curve provides insights into the flow rate through the bottleneck. Subsequently, we assess the Voronoi density preceding the bottleneck.\n",
    "\n",
    "To achieve this, we deifne a measurement line, delineated by two points representing the bottleneck's entrance. Additionally, we designate a square area to gauge the density directly in front of this entrance."
   ]
  },
  {
   "cell_type": "code",
   "execution_count": null,
   "id": "27175d6a",
   "metadata": {
    "collapsed": false,
    "jupyter": {
     "outputs_hidden": false
    }
   },
   "outputs": [],
   "source": [
    "import warnings\n",
    "\n",
    "warnings.filterwarnings(\"ignore\")\n",
    "measurement_area = pedpy.MeasurementArea(\n",
    "    [(-0.4, 0.5), (0.4, 0.5), (0.4, 1.3), (-0.4, 1.3)]\n",
    ")\n",
    "measurement_line = pedpy.MeasurementLine([(0.25, 0), (-0.25, 0)])\n",
    "nt, crossing_frames = pedpy.compute_n_t(\n",
    "    traj_data=trajectory_data,\n",
    "    measurement_line=measurement_line,\n",
    ")\n",
    "pedpy.plot_measurement_setup(\n",
    "    walkable_area=walkable_area,\n",
    "    hole_color=\"lightgrey\",\n",
    "    traj=trajectory_data,\n",
    "    traj_color=\"lightblue\",\n",
    "    traj_alpha=0.5,\n",
    "    traj_width=1,\n",
    "    measurement_lines=[measurement_line],\n",
    "    measurement_areas=[measurement_area],\n",
    "    ml_color=\"b\",\n",
    "    ma_color=\"r\",\n",
    "    ma_line_color=\"r\",\n",
    "    ma_line_width=1,\n",
    "    ma_alpha=0.2,\n",
    ").set_aspect(\"equal\")"
   ]
  },
  {
   "cell_type": "markdown",
   "id": "0a9bca20",
   "metadata": {
    "collapsed": false,
    "jupyter": {
     "outputs_hidden": false
    }
   },
   "source": [
    "### $N-t$ curve"
   ]
  },
  {
   "cell_type": "code",
   "execution_count": null,
   "id": "febd29a9",
   "metadata": {
    "collapsed": false,
    "jupyter": {
     "outputs_hidden": false
    }
   },
   "outputs": [],
   "source": [
    "pedpy.plot_nt(nt=nt)\n",
    "print(f\"Evacuation time: {max(nt.time)} seconds\")"
   ]
  },
  {
   "cell_type": "markdown",
   "id": "4b15b3b0",
   "metadata": {
    "collapsed": false,
    "jupyter": {
     "outputs_hidden": false
    }
   },
   "source": [
    "### Voronoi density"
   ]
  },
  {
   "cell_type": "code",
   "execution_count": null,
   "id": "bbffba65",
   "metadata": {
    "collapsed": false,
    "jupyter": {
     "outputs_hidden": false
    }
   },
   "outputs": [],
   "source": [
    "individual = pedpy.compute_individual_voronoi_polygons(\n",
    "    traj_data=trajectory_data, walkable_area=walkable_area\n",
    ")\n",
    "density_voronoi, intersecting = pedpy.compute_voronoi_density(\n",
    "    individual_voronoi_data=individual, measurement_area=measurement_area\n",
    ")"
   ]
  },
  {
   "cell_type": "code",
   "execution_count": null,
   "id": "71a20de9",
   "metadata": {
    "collapsed": false,
    "jupyter": {
     "outputs_hidden": false
    }
   },
   "outputs": [],
   "source": [
    "classic_density = pedpy.compute_classic_density(\n",
    "    traj_data=trajectory_data, measurement_area=measurement_area\n",
    ")"
   ]
  },
  {
   "cell_type": "code",
   "execution_count": null,
   "id": "6adbab15",
   "metadata": {
    "collapsed": false,
    "jupyter": {
     "outputs_hidden": false
    }
   },
   "outputs": [],
   "source": [
    "pedpy.plot_density(density=density_voronoi, color=\"red\")\n",
    "pedpy.plot_density(\n",
    "    density=classic_density,\n",
    "    title=\"Voronoi density (red) vs Classic density (blue)\",\n",
    ");"
   ]
  },
  {
   "cell_type": "markdown",
   "id": "5db19e0a-5f40-49fe-8b1a-8a5f1028302b",
   "metadata": {},
   "source": [
    "At the entrance of the bottleneck, the density rises. And with the density rising, the risk of "
   ]
  },
  {
   "cell_type": "markdown",
   "id": "a4c85934",
   "metadata": {
    "collapsed": false,
    "jupyter": {
     "outputs_hidden": false
    }
   },
   "source": [
    "## References & Further Exploration\n",
    "\n",
    "The operational model discussed in the Model section is based on the collision-free model. JuPedSim also incorporates another model known as GCFM. For more details on GCFM, refer to another notebook (TODO: Link to the GCFM notebook).\n",
    "\n",
    "Our demonstration employed a straightforward journey with a singular exit. For a more intricate journey featuring multiple intermediate stops and waiting zones, see the upcoming section (TODO: Link to the advanced journey section).\n",
    "\n",
    "While we designated a single parameter profile for agents in this example, it's feasible to define multiple parameter profiles. Learn how to alternate between these profiles in the subsequent section (TODO: Link to the profile-switching section)."
   ]
  }
 ],
 "metadata": {
  "kernelspec": {
   "display_name": "Python 3 (ipykernel)",
   "language": "python",
   "name": "python3"
  },
  "language_info": {
   "codemirror_mode": {
    "name": "ipython",
    "version": 3
   },
   "file_extension": ".py",
   "mimetype": "text/x-python",
   "name": "python",
   "nbconvert_exporter": "python",
   "pygments_lexer": "ipython3",
   "version": "3.11.5"
  },
  "name": "bottlenneck.ipynb"
 },
 "nbformat": 4,
 "nbformat_minor": 5
}

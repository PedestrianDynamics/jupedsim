{
 "cells": [
  {
   "cell_type": "markdown",
   "id": "d0cb5cc2-0e8a-4cef-9f3c-abdce978c06c",
   "metadata": {
    "editable": true,
    "slideshow": {
     "slide_type": ""
    },
    "tags": []
   },
   "source": [
    "# Waiting in Queues\n",
    "\n",
    "This notebook can be directly downloaded {download}`here <./queues_waiting.ipynb>` to run it locally.\n",
    "\n",
    "In the following, we'll simulate scenarios where agents are waiting in queues as an example for implementing **crowd management measures**. Since waiting behaviour is not a process that can be modelled by the operational model itself we explicitely need to define (and trigger) the **waiting behaviour** of the agents. In this example, we'll simulate a scenario where people arrive to a concert and can approach the entrance by four line-up gates. At the gates a ticket control is performed that lasts 10 seconds for each person.\n",
    "\n",
    "Let's import the required package:\n"
   ]
  },
  {
   "cell_type": "code",
   "execution_count": null,
   "id": "8235dfdb-12e3-451e-9f3c-9ce251659d3f",
   "metadata": {
    "editable": true,
    "slideshow": {
     "slide_type": ""
    },
    "tags": []
   },
   "outputs": [],
   "source": [
    "import pathlib\n",
    "\n",
    "import jupedsim as jps\n",
    "import pedpy\n",
    "from matplotlib.patches import Circle\n",
    "from numpy.random import normal  # normal distribution of free movement speed\n",
    "from shapely import Polygon, from_wkt, intersection"
   ]
  },
  {
   "cell_type": "markdown",
   "id": "033f2cbc-c777-41e4-876c-b6dea1f5754a",
   "metadata": {
    "editable": true,
    "slideshow": {
     "slide_type": ""
    },
    "tags": []
   },
   "source": [
    "## Definition of the Geometry\n",
    "\n",
    "The geometry is given in wkt format and can be easily converted:"
   ]
  },
  {
   "cell_type": "code",
   "execution_count": null,
   "id": "87cbcd1c-ef17-4646-a4a4-7def9f1de1ba",
   "metadata": {
    "editable": true,
    "slideshow": {
     "slide_type": ""
    },
    "tags": []
   },
   "outputs": [],
   "source": [
    "geo_wkt = \"GEOMETRYCOLLECTION (POLYGON ((33.07 62.14, 32.43 60.21, 32.28 58.14, 32.28 56.07, 32.28 53.99, 32.28 51.92, 32.28 49.84, 32.28 47.77, 32.28 44.83, 31.02 44.83, 26.13 44.83, 25.28 44.83, 25.58 49.98, 25.7 52.07, 25.77 54.17, 25.85 56.27, 26.04 58.14, 25.87 60.26, 24.27 61.67, 22.17 61.96, 21.89 62.17, 22.16 67.48, 22.09 68.2, 23.57 68.2, 24.21 68.57, 24.21 71.37, 21.12 71.37, 21.12 76.37, 24.11 76.37, 26.11 76.37, 31.12 76.37, 31.12 71.37, 27.4 71.37, 27.4 68.55, 27.99 68.2, 34.29 68.2, 34.83 68.56, 35.02 65.35, 35.2 62.14, 33.07 62.14), (29.15 57.02, 30.15 58.79, 28.15 58.79, 29.15 57.02), (24.95 68.67, 25.05 68.67, 25.05 71.31, 24.95 71.31, 24.95 68.67), (25.75 68.67, 25.85 68.67, 25.85 71.31, 25.75 71.31, 25.75 68.67), (26.55 68.67, 26.65 68.67, 26.65 71.31, 26.55 71.31, 26.55 68.67)))\"\n",
    "geo = from_wkt(geo_wkt)\n",
    "walkable_area = pedpy.WalkableArea(geo.geoms[0])\n",
    "pedpy.plot_walkable_area(walkable_area=walkable_area).set_aspect(\"equal\")"
   ]
  },
  {
   "cell_type": "markdown",
   "id": "06e4f6cb-99ad-4fca-aa95-388b751a04b2",
   "metadata": {
    "editable": true,
    "slideshow": {
     "slide_type": ""
    },
    "tags": []
   },
   "source": [
    "The geometry consists of four entrance gates at the top and an obstacle in the middle. The people should arrive at the bottom. The way to the entrance gates is enclosed by barriers which results in the shown geometry."
   ]
  },
  {
   "cell_type": "markdown",
   "id": "3ad3734b-c275-467f-b994-9419663717c2",
   "metadata": {
    "editable": true,
    "slideshow": {
     "slide_type": ""
    },
    "tags": []
   },
   "source": [
    "## Definition of Starting Positions and Exit\n",
    "\n",
    "Let's calculate 20 positions in an area at the bottom of the geometry. The exit area is placed at the very top."
   ]
  },
  {
   "cell_type": "code",
   "execution_count": null,
   "id": "ada55f48-a649-48b8-82eb-9c1291e2e50b",
   "metadata": {
    "editable": true,
    "slideshow": {
     "slide_type": ""
    },
    "tags": []
   },
   "outputs": [],
   "source": [
    "num_agents = 20\n",
    "spawning_polygon = Polygon([(25, 45), (35, 45), (35, 54), (25, 54)])\n",
    "spawning_area = intersection(spawning_polygon, geo)\n",
    "\n",
    "agent_start_positions = jps.distribute_by_number(\n",
    "    polygon=spawning_area,\n",
    "    number_of_agents=num_agents,\n",
    "    distance_to_agents=0.4,\n",
    "    distance_to_polygon=0.2,\n",
    "    seed=123,\n",
    ")\n",
    "exit_area = Polygon([(22, 76), (30, 76), (30, 74), (22, 74)])"
   ]
  },
  {
   "cell_type": "markdown",
   "id": "5f240571-f73a-4dc3-9a83-08fe420c6245",
   "metadata": {
    "editable": true,
    "slideshow": {
     "slide_type": ""
    },
    "tags": []
   },
   "source": [
    "Let's have a look at the setup:"
   ]
  },
  {
   "cell_type": "code",
   "execution_count": null,
   "id": "9aa39661-63b5-4fc9-9b8f-f68772da47ff",
   "metadata": {
    "editable": true,
    "slideshow": {
     "slide_type": ""
    },
    "tags": [
     "hide-input"
    ]
   },
   "outputs": [],
   "source": [
    "def plot_simulation_configuration(\n",
    "    walkable_area, spawning_area, starting_positions, exit_area\n",
    "):\n",
    "    axes = pedpy.plot_walkable_area(walkable_area=walkable_area)\n",
    "    axes.fill(*spawning_area.exterior.xy, color=\"lightgrey\")\n",
    "    axes.fill(*exit_area.exterior.xy, color=\"indianred\")\n",
    "    axes.scatter(*zip(*starting_positions), s=1)\n",
    "    axes.set_xlabel(\"x/m\")\n",
    "    axes.set_ylabel(\"y/m\")\n",
    "    axes.set_aspect(\"equal\")\n",
    "\n",
    "    return axes"
   ]
  },
  {
   "cell_type": "code",
   "execution_count": null,
   "id": "5ff7e941-36ca-4d0b-84bb-bdf426c52ea5",
   "metadata": {
    "editable": true,
    "slideshow": {
     "slide_type": ""
    },
    "tags": []
   },
   "outputs": [],
   "source": [
    "plot_simulation_configuration(\n",
    "    walkable_area, spawning_area, agent_start_positions, exit_area\n",
    ")"
   ]
  },
  {
   "cell_type": "markdown",
   "id": "1a4cf369-69f8-416d-94ce-263a39dbe2fa",
   "metadata": {
    "editable": true,
    "slideshow": {
     "slide_type": ""
    },
    "tags": []
   },
   "source": [
    "## Setting up the Simulation\n",
    "\n",
    "Let's setup a simulation object using the collision-free speed model:"
   ]
  },
  {
   "cell_type": "code",
   "execution_count": null,
   "id": "72481075-cd6a-4a45-98a8-394305361a0c",
   "metadata": {
    "editable": true,
    "slideshow": {
     "slide_type": ""
    },
    "tags": []
   },
   "outputs": [],
   "source": [
    "trajectory_file = \"queues_waiting.sqlite\"  # output file\n",
    "simulation = jps.Simulation(\n",
    "    model=jps.CollisionFreeSpeedModel(),\n",
    "    geometry=geo,\n",
    "    trajectory_writer=jps.SqliteTrajectoryWriter(\n",
    "        output_file=pathlib.Path(trajectory_file)\n",
    "    ),\n",
    ")"
   ]
  },
  {
   "cell_type": "markdown",
   "id": "3aa85a3a-f851-44ac-a626-13359d68f0b3",
   "metadata": {
    "editable": true,
    "slideshow": {
     "slide_type": ""
    },
    "tags": []
   },
   "source": [
    "## Configure the Queues\n",
    "\n",
    "JuPedSim is providing the concept of queues which can be defined as a stage on the agents' journeys. To let the agents wait at the gates before they walk to the exit, we need to create a queue for each gate by defining several ordered waiting positions.\n",
    "\n",
    "We define five waiting positions for each gate - three positions in the gate and  two infront:"
   ]
  },
  {
   "cell_type": "code",
   "execution_count": null,
   "id": "3e5a057f-0d04-4808-86ba-6e0f48395f32",
   "metadata": {
    "editable": true,
    "slideshow": {
     "slide_type": ""
    },
    "tags": []
   },
   "outputs": [],
   "source": [
    "waiting_positions_gate1 = [\n",
    "    (27.1, 71),\n",
    "    (27.1, 70),\n",
    "    (27.1, 69),\n",
    "    (27.1, 67),\n",
    "    (27.1, 66),\n",
    "]\n",
    "waiting_positions_gate2 = [\n",
    "    (26.2, 71),\n",
    "    (26.2, 70),\n",
    "    (26.2, 69),\n",
    "    (26.2, 67),\n",
    "    (26.2, 66),\n",
    "]\n",
    "waiting_positions_gate3 = [\n",
    "    (25.35, 71),\n",
    "    (25.35, 70),\n",
    "    (25.35, 69),\n",
    "    (25.35, 67),\n",
    "    (25.35, 66),\n",
    "]\n",
    "\n",
    "waiting_positions_gate4 = [\n",
    "    (24.5, 71),\n",
    "    (24.5, 70),\n",
    "    (24.5, 69),\n",
    "    (24.5, 67),\n",
    "    (24.5, 66),\n",
    "]\n",
    "\n",
    "\n",
    "waiting_positions_gates = [\n",
    "    waiting_positions_gate1,\n",
    "    waiting_positions_gate2,\n",
    "    waiting_positions_gate3,\n",
    "    waiting_positions_gate4,\n",
    "]"
   ]
  },
  {
   "cell_type": "markdown",
   "id": "64c4e957-2be0-432e-b34a-b4a747bd3402",
   "metadata": {
    "editable": true,
    "slideshow": {
     "slide_type": ""
    },
    "tags": []
   },
   "source": [
    "Now we create the queues based on these points and add them to the simulation. The handle for the queues is needed at a later point in the simulation loop to control the waiting."
   ]
  },
  {
   "cell_type": "code",
   "execution_count": null,
   "id": "aee3557f-07e7-437b-8c51-6aa800f2e19c",
   "metadata": {
    "editable": true,
    "slideshow": {
     "slide_type": ""
    },
    "tags": []
   },
   "outputs": [],
   "source": [
    "waypoints_gates = [\n",
    "    simulation.add_queue_stage(i) for i in waiting_positions_gates\n",
    "]\n",
    "queue_gates = [simulation.get_stage(i) for i in waypoints_gates]"
   ]
  },
  {
   "cell_type": "markdown",
   "id": "45faedec-1b5a-4b81-ad26-16b755600597",
   "metadata": {
    "editable": true,
    "slideshow": {
     "slide_type": ""
    },
    "tags": []
   },
   "source": [
    "## Configure the Journeys\n",
    "\n",
    "We want to spread the agents evenly on the queues based on their current load. To do so we define an additional waypoint which implements distributing the agents to the desired (least targeted) entrance gate. In this way, all agents share the same journey but may chose different gates. We place the waypoint for distributing on the left above the obstacle."
   ]
  },
  {
   "cell_type": "code",
   "execution_count": null,
   "id": "d1cfbfa8-bd3d-4573-8300-556682babe90",
   "metadata": {
    "editable": true,
    "slideshow": {
     "slide_type": ""
    },
    "tags": []
   },
   "outputs": [],
   "source": [
    "waypoint_coords = (27.2, 59)\n",
    "waypoint_dist = 0.75\n",
    "\n",
    "waypoint_for_distributing = simulation.add_waypoint_stage(\n",
    "    waypoint_coords, waypoint_dist\n",
    ")\n",
    "\n",
    "exit = simulation.add_exit_stage(exit_area.exterior.coords[:-1])\n",
    "journey = jps.JourneyDescription(\n",
    "    waypoints_gates + [exit, waypoint_for_distributing]\n",
    ")"
   ]
  },
  {
   "cell_type": "markdown",
   "id": "56c5a9c5-72e2-4cd7-9e84-4f148228896b",
   "metadata": {
    "editable": true,
    "slideshow": {
     "slide_type": ""
    },
    "tags": []
   },
   "source": [
    "Now we need to set the transitions on the journey. For the transitions between the waypoint and the gates we choose the *least targeted* approach."
   ]
  },
  {
   "cell_type": "code",
   "execution_count": null,
   "id": "885c5052-2594-4404-bda6-77c7c9189331",
   "metadata": {
    "editable": true,
    "slideshow": {
     "slide_type": ""
    },
    "tags": []
   },
   "outputs": [],
   "source": [
    "journey.set_transition_for_stage(\n",
    "    waypoint_for_distributing,\n",
    "    jps.Transition.create_least_targeted_transition(waypoints_gates),\n",
    ")\n",
    "\n",
    "for wp in waypoints_gates:\n",
    "    journey.set_transition_for_stage(\n",
    "        wp, jps.Transition.create_fixed_transition(exit)\n",
    "    )\n",
    "\n",
    "journey_id = simulation.add_journey(journey)"
   ]
  },
  {
   "cell_type": "markdown",
   "id": "8ed59c07-4676-4e53-8d0a-74a456609b46",
   "metadata": {},
   "source": [
    "Let's have a look at our setup:"
   ]
  },
  {
   "cell_type": "code",
   "execution_count": null,
   "id": "35149015-18cb-442f-af0b-63ae0477e730",
   "metadata": {
    "editable": true,
    "slideshow": {
     "slide_type": ""
    },
    "tags": []
   },
   "outputs": [],
   "source": [
    "def plot_journey_details(\n",
    "    walkable_area,\n",
    "    source_area,\n",
    "    agent_start_positions,\n",
    "    exit_area,\n",
    "    waiting_positions_queues,\n",
    "    waypoints,\n",
    "    dists,\n",
    "):\n",
    "    axes = plot_simulation_configuration(\n",
    "        walkable_area, source_area, agent_start_positions, exit_area\n",
    "    )\n",
    "    for queue_positions in waiting_positions_queues:\n",
    "        axes.scatter(*zip(*queue_positions), s=1)\n",
    "\n",
    "    for coords, dist in zip(waypoints, dists):\n",
    "        circle = Circle(coords, dist, color=\"lightsteelblue\")\n",
    "        axes.add_patch(circle)\n",
    "        axes.scatter(coords[0], coords[1], marker=\"x\", color=\"black\")"
   ]
  },
  {
   "cell_type": "code",
   "execution_count": null,
   "id": "c6efc766-4b8e-4b7d-8fbf-2b4ecffbabbe",
   "metadata": {
    "editable": true,
    "slideshow": {
     "slide_type": ""
    },
    "tags": []
   },
   "outputs": [],
   "source": [
    "plot_journey_details(\n",
    "    walkable_area,\n",
    "    spawning_area,\n",
    "    agent_start_positions,\n",
    "    exit_area,\n",
    "    waiting_positions_gates,\n",
    "    [waypoint_coords],\n",
    "    [waypoint_dist],\n",
    ")"
   ]
  },
  {
   "cell_type": "markdown",
   "id": "332ee827-55b2-4c16-a6e9-119f876e3aa6",
   "metadata": {
    "editable": true,
    "slideshow": {
     "slide_type": ""
    },
    "tags": []
   },
   "source": [
    "The plot shows the several waiting positions per gate and the waypoint for distributing. The agents start from the grey area at the bottom and walk to the center of the waypoint. When they reached the blue area they will decide for the least targeted gate and line up in the subsequent queue.\n",
    "\n",
    "The last two waiting positions are defined further away from the gates. As agents move to the first available waiting positions in the queue, the congestion (unordered waiting behaviour) forms at the last waiting point in the queue when the gates are full."
   ]
  },
  {
   "cell_type": "markdown",
   "id": "e5121043-b1bf-40c7-83c6-8ec254a62a53",
   "metadata": {
    "editable": true,
    "slideshow": {
     "slide_type": ""
    },
    "tags": []
   },
   "source": [
    "## Running the Simulation\n",
    "\n",
    "As a last step we set the missing agent parameters and add the agents to the simulation:"
   ]
  },
  {
   "cell_type": "code",
   "execution_count": null,
   "id": "3f97d654-6ed9-4d56-a852-a146645f0cb4",
   "metadata": {
    "editable": true,
    "slideshow": {
     "slide_type": ""
    },
    "tags": []
   },
   "outputs": [],
   "source": [
    "v_distribution = normal(1.34, 0.05, num_agents)\n",
    "\n",
    "for pos, v0 in zip(agent_start_positions, v_distribution):\n",
    "    simulation.add_agent(\n",
    "        jps.CollisionFreeSpeedModelAgentParameters(\n",
    "            journey_id=journey_id,\n",
    "            stage_id=waypoint_for_distributing,\n",
    "            position=pos,\n",
    "            v0=v0,\n",
    "        )\n",
    "    )"
   ]
  },
  {
   "cell_type": "markdown",
   "id": "49e07060-5a14-4069-8b58-d522ae2d9852",
   "metadata": {
    "editable": true,
    "slideshow": {
     "slide_type": ""
    },
    "tags": []
   },
   "source": [
    "Now we run the simulation and control the queues. Once an agent has entered one of the four queues, the indivdual waiting time of 10 seconds starts. After the waiting time the agent on the first waiting position in the queue is realeased and the others move up."
   ]
  },
  {
   "cell_type": "code",
   "execution_count": null,
   "id": "c73f5025-5ed7-4467-ad59-36542a4d2100",
   "metadata": {
    "editable": true,
    "slideshow": {
     "slide_type": ""
    },
    "tags": []
   },
   "outputs": [],
   "source": [
    "number_of_gates = 4\n",
    "queue_started = [False for i in range(number_of_gates)]\n",
    "gate_offsets = [0 for i in range(number_of_gates)]\n",
    "\n",
    "while (\n",
    "    simulation.agent_count() > 0 and simulation.iteration_count() < 5 * 60 * 100\n",
    "):\n",
    "    for i in range(number_of_gates):\n",
    "        if queue_gates[i].count_enqueued() == 0:\n",
    "            queue_started[i] = False\n",
    "        elif not queue_started[i] and queue_gates[i].count_enqueued() > 0:\n",
    "            queue_started[i] = True\n",
    "            gate_offsets[i] = simulation.iteration_count()\n",
    "        elif (\n",
    "            queue_started[i]\n",
    "            and (simulation.iteration_count() - gate_offsets[i]) % 1000 == 0\n",
    "        ):\n",
    "            queue_gates[i].pop(1)\n",
    "\n",
    "    simulation.iterate()"
   ]
  },
  {
   "cell_type": "markdown",
   "id": "9134c45f-0627-4bb7-8c09-23674fd75695",
   "metadata": {
    "editable": true,
    "slideshow": {
     "slide_type": ""
    },
    "tags": []
   },
   "source": [
    "## Visualization of the Results"
   ]
  },
  {
   "cell_type": "code",
   "execution_count": null,
   "id": "6fb29a2d-3be9-48eb-9327-11b9851a4d79",
   "metadata": {
    "editable": true,
    "pycharm": {
     "name": "#%%\n"
    },
    "slideshow": {
     "slide_type": ""
    },
    "tags": []
   },
   "outputs": [],
   "source": [
    "from jupedsim.internal.notebook_utils import animate, read_sqlite_file\n",
    "\n",
    "trajectory_data, walkable_area = read_sqlite_file(trajectory_file)\n",
    "animate(trajectory_data, walkable_area, every_nth_frame=5)"
   ]
  },
  {
   "cell_type": "markdown",
   "id": "e760c937-ba34-4246-b978-bf9c1e588c01",
   "metadata": {},
   "source": [
    "Since the entrance gates are very close to each other it can happen that the agents can get in each other's way and might be pushed into another gate that is actually not a part of their journey. In this example, the agents are able to solve their conflicts at the beginne. Please note that the position and radius of the distribution waypoint, the speed and starting positions of the agents have a considerable influence on the initial filling of the gates. Agents could be stuck in a queue they didn't want to go to. To implement the distributing process in a more orderly manner, pre-filtering could be implemented using an additional queue instead of the waypoint for distributing."
   ]
  },
  {
   "cell_type": "markdown",
   "id": "1cd80c83-b9fe-4808-a6e9-743fc52b9b4d",
   "metadata": {
    "editable": true,
    "slideshow": {
     "slide_type": ""
    },
    "tags": []
   },
   "source": [
    "## Different Routing Strategy\n",
    "\n",
    "In the scenario above it is assumed that the people are evenly distributed among the gates. Therefore, the entrances are evenly occupied. In reality, this is not always the case and often the entrance with the shortest route is chosen. For this reason, we look at another scenario with a different distribution strategy. We can reuse the general settings from above but will change the journey."
   ]
  },
  {
   "cell_type": "code",
   "execution_count": null,
   "id": "a7bee3ee-1565-40ac-acf7-6b3b575e362f",
   "metadata": {},
   "outputs": [],
   "source": [
    "trajectory_file_uneven = \"queues_waiting_uneven.sqlite\"  # output file\n",
    "simulation_uneven = jps.Simulation(\n",
    "    model=jps.CollisionFreeSpeedModel(),\n",
    "    geometry=geo,\n",
    "    trajectory_writer=jps.SqliteTrajectoryWriter(\n",
    "        output_file=pathlib.Path(trajectory_file_uneven)\n",
    "    ),\n",
    ")\n",
    "\n",
    "waypoint_for_distributing = simulation_uneven.add_waypoint_stage(\n",
    "    waypoint_coords, waypoint_dist\n",
    ")\n",
    "exit = simulation_uneven.add_exit_stage(exit_area.exterior.coords[:-1])\n",
    "\n",
    "waypoints_gates = [\n",
    "    simulation_uneven.add_queue_stage(i) for i in waiting_positions_gates\n",
    "]\n",
    "queue_gates = [simulation_uneven.get_stage(i) for i in waypoints_gates]\n",
    "\n",
    "journey_uneven = jps.JourneyDescription(\n",
    "    [waypoint_for_distributing, exit] + waypoints_gates\n",
    ")"
   ]
  },
  {
   "cell_type": "markdown",
   "id": "b5784da9-53d9-467d-af83-8124cb0d4ab0",
   "metadata": {},
   "source": [
    "Now we are using the *round robin* approach to distribute the agents on the gates. We define that two people are walking to gate 1 and 2, and the following ones move to gate 3 and 4 (one person each). This means that twice as many agents use gate 1 and 2."
   ]
  },
  {
   "cell_type": "code",
   "execution_count": null,
   "id": "97942121-d4d6-4c5f-b4c5-2c0802940328",
   "metadata": {
    "editable": true,
    "slideshow": {
     "slide_type": ""
    },
    "tags": []
   },
   "outputs": [],
   "source": [
    "journey_uneven.set_transition_for_stage(\n",
    "    waypoint_for_distributing,\n",
    "    jps.Transition.create_round_robin_transition(\n",
    "        [\n",
    "            (waypoints_gates[0], 2),\n",
    "            (waypoints_gates[1], 2),\n",
    "            (waypoints_gates[2], 1),\n",
    "            (waypoints_gates[3], 1),\n",
    "        ]\n",
    "    ),\n",
    ")\n",
    "\n",
    "for wp in waypoints_gates:\n",
    "    journey_uneven.set_transition_for_stage(\n",
    "        wp, jps.Transition.create_fixed_transition(exit)\n",
    "    )\n",
    "\n",
    "journey_id = simulation_uneven.add_journey(journey_uneven)"
   ]
  },
  {
   "cell_type": "markdown",
   "id": "71304bce-f5b7-4857-852b-ccf229adf8c1",
   "metadata": {
    "editable": true,
    "slideshow": {
     "slide_type": ""
    },
    "tags": []
   },
   "source": [
    "As a last step we add the agents to the simulation, start the loop and configure the ticket control as in the other scenario. The results show that the entrance on the right side is used more frequently."
   ]
  },
  {
   "cell_type": "code",
   "execution_count": null,
   "id": "2424042a-e86e-46e8-bf8f-bbde16546f8b",
   "metadata": {
    "editable": true,
    "slideshow": {
     "slide_type": ""
    },
    "tags": [
     "hide-input"
    ]
   },
   "outputs": [],
   "source": [
    "for pos, v0 in zip(agent_start_positions, v_distribution):\n",
    "    simulation_uneven.add_agent(\n",
    "        jps.CollisionFreeSpeedModelAgentParameters(\n",
    "            journey_id=journey_id,\n",
    "            stage_id=waypoint_for_distributing,\n",
    "            position=pos,\n",
    "            v0=v0,\n",
    "        )\n",
    "    )\n",
    "\n",
    "number_of_gates = 4\n",
    "queue_started = [False for i in range(number_of_gates)]\n",
    "gate_offsets = [0 for i in range(number_of_gates)]\n",
    "\n",
    "while (\n",
    "    simulation_uneven.agent_count() > 0\n",
    "    and simulation_uneven.iteration_count() < 5 * 60 * 100\n",
    "):\n",
    "    for i in range(number_of_gates):\n",
    "        if queue_gates[i].count_enqueued() == 0:\n",
    "            queue_started[i] = False\n",
    "        elif not queue_started[i] and queue_gates[i].count_enqueued() > 0:\n",
    "            queue_started[i] = True\n",
    "            gate_offsets[i] = simulation_uneven.iteration_count()\n",
    "        elif (\n",
    "            queue_started[i]\n",
    "            and (simulation_uneven.iteration_count() - gate_offsets[i]) % 1000\n",
    "            == 0\n",
    "        ):\n",
    "            queue_gates[i].pop(1)\n",
    "\n",
    "    simulation_uneven.iterate()"
   ]
  },
  {
   "cell_type": "code",
   "execution_count": null,
   "id": "29bca166-e076-4aea-afb9-62f5f463bea6",
   "metadata": {
    "editable": true,
    "pycharm": {
     "name": "#%%\n"
    },
    "slideshow": {
     "slide_type": ""
    },
    "tags": []
   },
   "outputs": [],
   "source": [
    "from jupedsim.internal.notebook_utils import animate, read_sqlite_file\n",
    "\n",
    "trajectory_data_uneven, walkable_area = read_sqlite_file(trajectory_file_uneven)\n",
    "animate(trajectory_data_uneven, walkable_area, every_nth_frame=5)"
   ]
  },
  {
   "cell_type": "markdown",
   "id": "6dea5741",
   "metadata": {},
   "source": [
    "# Download\n",
    "\n",
    "This notebook can be directly downloaded {download}`here <./queues_waiting.ipynb>` to run it locally."
   ]
  }
 ],
 "metadata": {
  "kernelspec": {
   "display_name": "Python 3 (ipykernel)",
   "language": "python",
   "name": "python3"
  },
  "language_info": {
   "codemirror_mode": {
    "name": "ipython",
    "version": 3
   },
   "file_extension": ".py",
   "mimetype": "text/x-python",
   "name": "python",
   "nbconvert_exporter": "python",
   "pygments_lexer": "ipython3",
   "version": "3.11.5"
  }
 },
 "nbformat": 4,
 "nbformat_minor": 5
}

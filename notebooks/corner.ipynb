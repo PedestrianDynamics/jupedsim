{
 "cells": [
  {
   "cell_type": "markdown",
   "id": "ae798e28-45c8-401a-891d-fdfa71c6516a",
   "metadata": {},
   "source": [
    "# Corner simulation \n",
    "\n",
    "In this demonstration, we'll construct a **corner** situation and simulate the evacuation of **5 agents** positioned on a grid.\n",
    "\n",
    "In buildings, corners are inevitable. It is important to simulate this kind of geometry in order to understand how could people behave and react. \n",
    "\n",
    "Let's begin by importing the required packages for our simulation:"
   ]
  },
  {
   "cell_type": "code",
   "execution_count": null,
   "id": "9dba16d9",
   "metadata": {
    "editable": true,
    "slideshow": {
     "slide_type": ""
    },
    "tags": [
     "hide-input"
    ]
   },
   "outputs": [],
   "source": [
    "from shapely import GeometryCollection, Polygon, to_wkt\n",
    "import pathlib\n",
    "import jupedsim as jps\n",
    "import pedpy\n",
    "import pandas as pd\n",
    "import numpy as np\n",
    "import plotly  # visualise trajectories\n",
    "import plotly.express as px\n",
    "import plotly.graph_objects as go\n",
    "from plotly.graph_objs import Figure\n",
    "import sqlite3\n",
    "\n",
    "%matplotlib inline"
   ]
  },
  {
   "cell_type": "markdown",
   "id": "4c1eae67-0c1e-4f0b-b1f7-4e383e9092c4",
   "metadata": {},
   "source": [
    "## Setting up a geometry"
   ]
  },
  {
   "cell_type": "code",
   "execution_count": null,
   "id": "a45d0955-7092-4dda-bc44-707893e4449b",
   "metadata": {
    "editable": true,
    "slideshow": {
     "slide_type": ""
    },
    "tags": [
     "hide-input"
    ]
   },
   "outputs": [],
   "source": [
    "p1 = Polygon([(0, 0), (30, 0), (30, 10), (0, 10)])\n",
    "p2 = Polygon([(22, 10), (30, 10), (30, 30), (22, 30)])\n",
    "area = GeometryCollection(p1.union(p2))\n",
    "area"
   ]
  },
  {
   "cell_type": "markdown",
   "id": "06443296",
   "metadata": {},
   "source": [
    "## Operational model\n",
    "<a id=\"model\"></a>\n",
    "Once the geometry is set, our subsequent task is to specify the model and its associated parameters.\n",
    "For this demonstration, we'll employ the \"collision-free\" model."
   ]
  },
  {
   "cell_type": "markdown",
   "id": "f2f206a3",
   "metadata": {},
   "source": [
    "## Setting Up the Simulation Object\n",
    "\n",
    "Having established the model and geometry details, and combined with other parameters such as the time step dt, we can proceed to construct our simulation object as illustrated below:"
   ]
  },
  {
   "cell_type": "code",
   "execution_count": null,
   "id": "36627194",
   "metadata": {},
   "outputs": [],
   "source": [
    "trajectory_file = \"corner.sqlite\"\n",
    "simulation = jps.Simulation(\n",
    "    model=jps.VelocityModelParameters(),\n",
    "    geometry=area,\n",
    "    trajectory_writer=jps.SqliteTrajectoryWriter(\n",
    "        output_file=pathlib.Path(trajectory_file)\n",
    "    ),\n",
    ")"
   ]
  },
  {
   "cell_type": "markdown",
   "id": "64564e7f",
   "metadata": {},
   "source": [
    "## Specifying Routing Details\n",
    "\n",
    "At this juncture, we'll provide basic routing instructions, guiding the agents to progress towards the exit point."
   ]
  },
  {
   "cell_type": "code",
   "execution_count": null,
   "id": "c1cfdadc",
   "metadata": {},
   "outputs": [],
   "source": [
    "exit_id = simulation.add_exit_stage([(22, 25), (30, 25), (30, 30), (22, 30)])\n",
    "journey = jps.JourneyDescription([exit_id])\n",
    "journey_id = simulation.add_journey(journey)"
   ]
  },
  {
   "cell_type": "markdown",
   "id": "269d95ac",
   "metadata": {},
   "source": [
    "## Defining and Distributing Agents\n",
    "\n",
    "Now, we'll position the agents and establish their attributes, leveraging previously mentioned parameters such as `exit_id` and `profile_id`."
   ]
  },
  {
   "cell_type": "code",
   "execution_count": null,
   "id": "bad06382",
   "metadata": {},
   "outputs": [],
   "source": [
    "agent_parameters = jps.VelocityModelAgentParameters()\n",
    "agent_parameters.journey_id = journey_id\n",
    "agent_parameters.stage_id = exit_id\n",
    "agent_parameters.v0 = 1.2\n",
    "agent_parameters.radius = 0.15\n",
    "agent_parameters.time_gap = 1\n",
    "\n",
    "for new_pos in [(7, 7), (1, 3), (1, 5), (1, 7), (2, 7)]:\n",
    "    agent_parameters.position = new_pos\n",
    "    simulation.add_agent(agent_parameters)"
   ]
  },
  {
   "cell_type": "markdown",
   "id": "569d86fe",
   "metadata": {},
   "source": [
    "## Executing the Simulation\n",
    "\n",
    "With all components in place, we're set to initiate the simulation.\n",
    "For this demonstration, the trajectories will be recorded in an sqlite database."
   ]
  },
  {
   "cell_type": "code",
   "execution_count": null,
   "id": "2a413666",
   "metadata": {},
   "outputs": [],
   "source": [
    "while simulation.agent_count() > 0:\n",
    "    simulation.iterate()"
   ]
  },
  {
   "cell_type": "markdown",
   "id": "078b5b68",
   "metadata": {},
   "source": [
    "## Visualizing the Trajectories\n",
    "\n",
    "For trajectory visualization, we'll extract data from the sqlite database. A straightforward method for this is employing the jupedsim-visualizer.\n",
    "\n",
    "To-Do List:\n",
    "\n",
    "    Incorporate references and hyperlinks to additional resources.\n",
    "    Integrate results visualization using the visualizer."
   ]
  },
  {
   "cell_type": "markdown",
   "id": "a4c85934",
   "metadata": {},
   "source": [
    "## References & Further Exploration\n",
    "\n",
    "The operational model discussed in the Model section is based on the collision-free model. JuPedSim also incorporates another model known as GCFM. For more details on GCFM, refer to another notebook (TODO: Link to the GCFM notebook).\n",
    "\n",
    "Our demonstration employed a straightforward journey with a singular exit. For a more intricate journey featuring multiple intermediate stops and waiting zones, see the upcoming section (TODO: Link to the advanced journey section).\n",
    "\n",
    "While we designated a single parameter profile for agents in this example, it's feasible to define multiple parameter profiles. Learn how to alternate between these profiles in the subsequent section (TODO: Link to the profile-switching section)."
   ]
  },
  {
   "cell_type": "code",
   "execution_count": null,
   "id": "14141978",
   "metadata": {},
   "outputs": [],
   "source": [
    "def read_trajectory_data(trajectory_file: str) -> pedpy.TrajectoryData:\n",
    "    with sqlite3.connect(trajectory_file) as con:\n",
    "        data = pd.read_sql_query(\n",
    "            \"select frame, id, pos_x as x, pos_y as y, ori_x as ox, ori_y as oy from trajectory_data\",\n",
    "            con,\n",
    "        )\n",
    "        fps = float(\n",
    "            con.cursor()\n",
    "            .execute(\"select value from metadata where key = 'fps'\")\n",
    "            .fetchone()[0]\n",
    "        )\n",
    "        return pedpy.TrajectoryData(data=data, frame_rate=fps)\n",
    "\n",
    "\n",
    "def moving_agents(data_df: pd.DataFrame, area: GeometryCollection) -> Figure:\n",
    "    \"\"\"Generate moving trajectories based on simulation\"\"\"\n",
    "\n",
    "    data_df[\"radius\"] = 0.2\n",
    "    fig = px.scatter(\n",
    "        data_df,\n",
    "        x=\"x\",\n",
    "        y=\"y\",\n",
    "        animation_frame=\"frame\",\n",
    "        animation_group=\"id\",\n",
    "        size=\"radius\",\n",
    "    )\n",
    "    x, y = area.geoms[0].exterior.xy\n",
    "    fig.add_trace(\n",
    "        go.Scatter(\n",
    "            x=np.array(x),\n",
    "            y=np.array(y),\n",
    "            fill=\"toself\",\n",
    "            mode=\"lines\",\n",
    "            line={\"color\": \"grey\"},\n",
    "        )\n",
    "    )\n",
    "\n",
    "    minx, miny, maxx, maxy = area.bounds\n",
    "    fig.update_xaxes(range=[minx, maxx])\n",
    "    fig.update_yaxes(range=[miny, maxy])\n",
    "    fig.layout.updatemenus[0].buttons[0].args[1][\"frame\"][\"duration\"] = 10\n",
    "    fig.layout.updatemenus[0].buttons[0].args[1][\"transition\"][\"duration\"] = 5\n",
    "    fig.update_geos(\n",
    "        projection_type=\"equirectangular\", visible=True, resolution=110\n",
    "    )\n",
    "    # fig.update_traces(marker={\"line\": {\"width\": 0.5, \"color\": \"Gray\"}})\n",
    "    # fig.update_geos(projection_type=\"equirectangular\", visible=True, resolution=110)\n",
    "    fig.update_layout(showlegend=False)\n",
    "    return fig"
   ]
  },
  {
   "cell_type": "code",
   "execution_count": null,
   "id": "8ac7d6d7",
   "metadata": {},
   "outputs": [],
   "source": [
    "trajectory_data = read_trajectory_data(trajectory_file)\n",
    "moving_agents(trajectory_data.data, area)"
   ]
  },
  {
   "cell_type": "markdown",
   "id": "a8489647-e588-424a-a29e-edadc3329d5a",
   "metadata": {},
   "source": [
    "The agents want to go the shortest way and go directly to the inside corner of the the geometry. The two last ones a"
   ]
  }
 ],
 "metadata": {
  "kernelspec": {
   "display_name": "Python 3 (ipykernel)",
   "language": "python",
   "name": "python3"
  },
  "language_info": {
   "codemirror_mode": {
    "name": "ipython",
    "version": 3
   },
   "file_extension": ".py",
   "mimetype": "text/x-python",
   "name": "python",
   "nbconvert_exporter": "python",
   "pygments_lexer": "ipython3",
   "version": "3.11.5"
  }
 },
 "nbformat": 4,
 "nbformat_minor": 5
}

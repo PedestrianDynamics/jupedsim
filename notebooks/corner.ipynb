{
 "cells": [
  {
   "cell_type": "markdown",
   "id": "ae798e28-45c8-401a-891d-fdfa71c6516a",
   "metadata": {
    "pycharm": {
     "name": "#%% md\n"
    }
   },
   "source": [
    "# Movement around Corners\n",
    "\n",
    "In the following we'll investigate the movement of pedestrians around corners. When pedestrians walk around corners they are expected to slow down and take a path that is close to the corner. According to RiMEA Test 6 **[TODO REF]** a scenario is configured where **20 agents** move towards a **corner** at which they should turn to the left.\n",
    "\n",
    "Let's begin by importing the required packages for our simulation:"
   ]
  },
  {
   "cell_type": "code",
   "execution_count": null,
   "id": "9dba16d9",
   "metadata": {
    "editable": true,
    "pycharm": {
     "is_executing": true,
     "name": "#%%\n"
    },
    "slideshow": {
     "slide_type": ""
    },
    "tags": [
     "hide-input"
    ]
   },
   "outputs": [],
   "source": [
    "from shapely import GeometryCollection, Polygon, to_wkt\n",
    "import pathlib\n",
    "import jupedsim as jps\n",
    "import pedpy\n",
    "import pandas as pd\n",
    "import numpy as np\n",
    "import plotly  # visualise trajectories\n",
    "import plotly.express as px\n",
    "import plotly.graph_objects as go\n",
    "from plotly.graph_objs import Figure\n",
    "import sqlite3\n",
    "from numpy.random import normal  # normal distribution of free movement speed"
   ]
  },
  {
   "cell_type": "markdown",
   "id": "4c1eae67-0c1e-4f0b-b1f7-4e383e9092c4",
   "metadata": {
    "pycharm": {
     "name": "#%% md\n"
    }
   },
   "source": [
    "## Setting up the Geometry\n",
    "\n",
    "We define a corridor with a width of 2 meters and a corner on halfway:"
   ]
  },
  {
   "cell_type": "code",
   "execution_count": null,
   "id": "a45d0955-7092-4dda-bc44-707893e4449b",
   "metadata": {
    "editable": true,
    "pycharm": {
     "name": "#%%\n"
    },
    "slideshow": {
     "slide_type": ""
    },
    "tags": [
     "hide-input"
    ]
   },
   "outputs": [],
   "source": [
    "area = Polygon([(0, 0), (12, 0), (12, 12), (10, 12), (10, 2), (0, 2)])\n",
    "area"
   ]
  },
  {
   "cell_type": "markdown",
   "id": "269d95ac",
   "metadata": {
    "pycharm": {
     "name": "#%% md\n"
    }
   },
   "source": [
    "## Definition of Start Positions and Exit\n",
    "\n",
    "Now we'll calculate the position of 20 agents in the lower left part of the geometry within an rectangle of 6 x 2 meters. To calculate the positions we use a library function from JuPedSim. We assume an agent size of 0.3 m and set the distance parameters accordingly. The exit is defined in the upper right of the geometry."
   ]
  },
  {
   "cell_type": "code",
   "execution_count": null,
   "id": "fccaffe5-2f29-44a9-82f4-e6f220ffe8c8",
   "metadata": {
    "pycharm": {
     "name": "#%%\n"
    }
   },
   "outputs": [],
   "source": [
    "spawning_area = Polygon([(0, 0), (6, 0), (6, 2), (0, 2)])\n",
    "num_agents = 20\n",
    "positions = jps.distributions.distribute_by_number(\n",
    "    polygon=spawning_area,\n",
    "    number_of_agents=num_agents,\n",
    "    distance_to_agents=0.4,\n",
    "    distance_to_polygon=0.15,\n",
    "    seed=1,\n",
    ")\n",
    "exit_area = Polygon([(10, 11), (12, 11), (12, 12), (10, 12)])"
   ]
  },
  {
   "cell_type": "markdown",
   "id": "40bee00b-7b0d-46d7-914d-d88bea7bc39d",
   "metadata": {
    "pycharm": {
     "name": "#%% md\n"
    }
   },
   "source": [
    "**TODO: plot config setup - geo + start positions + exit**"
   ]
  },
  {
   "cell_type": "markdown",
   "id": "f2f206a3",
   "metadata": {
    "pycharm": {
     "name": "#%% md\n"
    }
   },
   "source": [
    "## Setting up the Simulation and Routing Details\n",
    "\n",
    "As a next step we create a simulation object, set the configuration for the operational model (collision-free speed model) and define the routes for the agents. For this scenario only one journey is created as all agents should follow the same route."
   ]
  },
  {
   "cell_type": "code",
   "execution_count": null,
   "id": "36627194",
   "metadata": {
    "pycharm": {
     "name": "#%%\n"
    }
   },
   "outputs": [],
   "source": [
    "trajectory_file = \"corner.sqlite\"  # output file\n",
    "simulation = jps.Simulation(\n",
    "    model=jps.CollisionFreeSpeedModel(),\n",
    "    geometry=area,\n",
    "    trajectory_writer=jps.SqliteTrajectoryWriter(\n",
    "        output_file=pathlib.Path(trajectory_file)\n",
    "    ),\n",
    ")"
   ]
  },
  {
   "cell_type": "code",
   "execution_count": null,
   "id": "c1cfdadc",
   "metadata": {
    "pycharm": {
     "name": "#%%\n"
    }
   },
   "outputs": [],
   "source": [
    "exit_id = simulation.add_exit_stage(exit_area.exterior.coords[:-1])\n",
    "journey = jps.JourneyDescription([exit_id])\n",
    "journey_id = simulation.add_journey(journey)"
   ]
  },
  {
   "cell_type": "markdown",
   "id": "64564e7f",
   "metadata": {
    "pycharm": {
     "name": "#%% md\n"
    }
   },
   "source": [
    "## Specifying Agent Parameters\n",
    "\n",
    "As a next step we define the model-specific parameters for the agents. They share the same journey and model parameters except for the free movement speed which is normally distributed. "
   ]
  },
  {
   "cell_type": "code",
   "execution_count": null,
   "id": "bad06382",
   "metadata": {
    "pycharm": {
     "name": "#%%\n"
    }
   },
   "outputs": [],
   "source": [
    "v_distribution = normal(1.34, 0.2, num_agents)"
   ]
  },
  {
   "cell_type": "markdown",
   "id": "569d86fe",
   "metadata": {
    "pycharm": {
     "name": "#%% md\n"
    }
   },
   "source": [
    "## Executing the Simulation\n",
    "\n",
    "Now we can specifiy the indiviual starting positions and speeds and add the agents to the simulation. After that the simulation is started and iterates until all agents have reached the exit."
   ]
  },
  {
   "cell_type": "code",
   "execution_count": null,
   "id": "2a413666",
   "metadata": {
    "pycharm": {
     "name": "#%%\n"
    }
   },
   "outputs": [],
   "source": [
    "for position, v0 in zip(positions, v_distribution):\n",
    "    simulation.add_agent(\n",
    "        jps.CollisionFreeSpeedModelAgentParameters(\n",
    "            journey_id=journey_id, stage_id=exit_id, position=position, v0=v0\n",
    "        )\n",
    "    )\n",
    "\n",
    "while simulation.agent_count() > 0:\n",
    "    simulation.iterate()"
   ]
  },
  {
   "cell_type": "markdown",
   "id": "078b5b68",
   "metadata": {
    "pycharm": {
     "name": "#%% md\n"
    }
   },
   "source": [
    "## Visualizing the Trajectories\n"
   ]
  },
  {
   "cell_type": "code",
   "execution_count": null,
   "id": "8ac7d6d7",
   "metadata": {
    "pycharm": {
     "name": "#%%\n"
    }
   },
   "outputs": [],
   "source": [
    "from jupedsim.internal.notebook_utils import animate, read_sqlite_file\n",
    "\n",
    "trajectory_data, walkable_area = read_sqlite_file(trajectory_file)\n",
    "animate(trajectory_data, walkable_area)"
   ]
  },
  {
   "cell_type": "markdown",
   "id": "a8489647-e588-424a-a29e-edadc3329d5a",
   "metadata": {
    "pycharm": {
     "name": "#%% md\n"
    }
   },
   "source": [
    "**TODO add colorbar for speed to plot**\n",
    "\n",
    "As expected the agents choose the shortest path and approach the corner in a funnel-shaped formation. Agents moving closer to the corner become slower than agents at the edge of the crowd who choose a longer path around the corner."
   ]
  },
  {
   "cell_type": "markdown",
   "id": "a4c85934",
   "metadata": {
    "pycharm": {
     "name": "#%% md\n"
    }
   },
   "source": [
    "## References & Further Exploration\n",
    "\n",
    "**TODO RiMEA reference**\n",
    "\n",
    "The chosen model here is based on the collision-free speed model. JuPedSim also incorporates another model known as GCFM. For more details on GCFM, refer to another notebook **(TODO: Link to the GCFM notebook)**.\n",
    "\n",
    "The demonstration employed a straightforward journey with a singular exit. For a more intricate journey featuring multiple intermediate stops and waiting zones, see the upcoming section **(TODO: Link to the advanced journey section)**."
   ]
  }
 ],
 "metadata": {
  "kernelspec": {
   "display_name": "Python 3 (ipykernel)",
   "language": "python",
   "name": "python3"
  },
  "language_info": {
   "codemirror_mode": {
    "name": "ipython",
    "version": 3
   },
   "file_extension": ".py",
   "mimetype": "text/x-python",
   "name": "python",
   "nbconvert_exporter": "python",
   "pygments_lexer": "ipython3",
   "version": "3.11.5"
  }
 },
 "nbformat": 4,
 "nbformat_minor": 5
}

{
 "cells": [
  {
   "cell_type": "markdown",
   "id": "ae798e28-45c8-401a-891d-fdfa71c6516a",
   "metadata": {},
   "source": [
    "# Double bottleneck simulation \n",
    "\n",
    "In this demonstration, we'll construct a **double bottleneck** situation and simulate the evacuation of **10 agents** positioned on a grid.\n",
    "\n",
    "**TODO: MORE EXPLANATION. What happens here? Why? Why do we hope to show?**\n"
   ]
  },
  {
   "cell_type": "markdown",
   "id": "0a36d789-2a97-46dd-ba5d-d231ed372b03",
   "metadata": {},
   "source": [
    "***Introduction***[CB]\n",
    "\n",
    "The simulation of the double bottleneck is based on the work for the (single) bottleneck. \n",
    "Here, agents are positioned on both side of the bottleneck: left and right.\n",
    "\n",
    "How will the agents \"meet\"? \n",
    "Will they disturb each other? Is it even possible to go through? \n",
    "And what is the impact of the width of the bottleneck?\n",
    "\n",
    "In order to answer those questions, please follow the instructions below. "
   ]
  },
  {
   "cell_type": "markdown",
   "id": "af10ff53-673c-49e3-bd7d-79447e05c9db",
   "metadata": {},
   "source": [
    "Let's begin by importing the required packages for our simulation:"
   ]
  },
  {
   "cell_type": "code",
   "execution_count": null,
   "id": "9dba16d9",
   "metadata": {
    "editable": true,
    "slideshow": {
     "slide_type": ""
    },
    "tags": [
     "hide-input"
    ]
   },
   "outputs": [],
   "source": [
    "from shapely import GeometryCollection, Polygon, to_wkt\n",
    "import pathlib\n",
    "import pandas as pd\n",
    "import numpy as np\n",
    "import jupedsim as jps\n",
    "from jupedsim.distributions import distribute_by_number\n",
    "import sqlite3  # parse trajectory db\n",
    "import plotly.express as px\n",
    "import plotly.graph_objects as go\n",
    "from plotly.graph_objs import Figure\n",
    "import pedpy  # analysis\n",
    "\n",
    "%matplotlib inline"
   ]
  },
  {
   "cell_type": "markdown",
   "id": "4c1eae67-0c1e-4f0b-b1f7-4e383e9092c4",
   "metadata": {},
   "source": [
    "## Setting up a geometry"
   ]
  },
  {
   "cell_type": "code",
   "execution_count": null,
   "id": "a45d0955-7092-4dda-bc44-707893e4449b",
   "metadata": {
    "editable": true,
    "slideshow": {
     "slide_type": ""
    },
    "tags": [
     "hide-input"
    ]
   },
   "outputs": [],
   "source": [
    "p1 = Polygon([(0, 0), (10, 0), (10, 10), (0, 10)])\n",
    "p2 = Polygon([(10, 4), (15, 4), (15, 6), (10, 6)])\n",
    "p3 = Polygon([(15, 0), (25, 0), (25, 10), (15, 10)])\n",
    "area = GeometryCollection(p1.union(p2.union(p3)))\n",
    "walkable_area = pedpy.WalkableArea(area.geoms[0])\n",
    "pedpy.plot_walkable_area(walkable_area=walkable_area)"
   ]
  },
  {
   "cell_type": "markdown",
   "id": "06443296",
   "metadata": {},
   "source": [
    "## Operational model\n",
    "<a id=\"model\"></a>\n",
    "Once the geometry is set, our subsequent task is to specify the model and its associated parameters.\n",
    "For this demonstration, we'll employ the \"collision-free\" model."
   ]
  },
  {
   "cell_type": "markdown",
   "id": "f2f206a3",
   "metadata": {},
   "source": [
    "## Setting Up the Simulation Object\n",
    "\n",
    "Having established the model and geometry details, and combined with other parameters such as the time step dt, we can proceed to construct our simulation object as illustrated below:"
   ]
  },
  {
   "cell_type": "code",
   "execution_count": null,
   "id": "36627194",
   "metadata": {},
   "outputs": [],
   "source": [
    "trajectory_file = \"double_bottleneck.sqlite\"\n",
    "simulation = jps.Simulation(\n",
    "    model=jps.CollisionFreeSpeedModel(),\n",
    "    geometry=area,\n",
    "    trajectory_writer=jps.SqliteTrajectoryWriter(\n",
    "        output_file=pathlib.Path(trajectory_file)\n",
    "    ),\n",
    ")"
   ]
  },
  {
   "cell_type": "markdown",
   "id": "64564e7f",
   "metadata": {},
   "source": [
    "## Specifying Routing Details\n",
    "\n",
    "At this juncture, we'll provide basic routing instructions, guiding the agents to progress towards the **first exit point** and the **second exit point**."
   ]
  },
  {
   "cell_type": "code",
   "execution_count": null,
   "id": "c1cfdadc",
   "metadata": {},
   "outputs": [],
   "source": [
    "exits = [\n",
    "    simulation.add_exit_stage([(24, 0), (25, 0), (25, 10), (24, 10)]),\n",
    "    simulation.add_exit_stage([(0, 0), (1, 0), (1, 10), (0, 10)]),\n",
    "]\n",
    "journeys = [\n",
    "    simulation.add_journey(jps.JourneyDescription([exit])) for exit in exits\n",
    "]"
   ]
  },
  {
   "cell_type": "markdown",
   "id": "269d95ac",
   "metadata": {},
   "source": [
    "## Defining and Distributing Agents\n",
    "\n",
    "Now, we'll position the agents and establish their attributes, leveraging previously mentioned parameters such as `exit1`, `exit2` and `profile_id`."
   ]
  },
  {
   "cell_type": "code",
   "execution_count": null,
   "id": "bad06382",
   "metadata": {},
   "outputs": [],
   "source": [
    "agent_parameters = jps.CollisionFreeSpeedModelAgentParameters()\n",
    "agent_parameters.journey_id = journeys[0]\n",
    "agent_parameters.stage_id = exits[0]\n",
    "agent_parameters.orientation = (1.0, 0.0)\n",
    "agent_parameters.v0 = 1.2\n",
    "agent_parameters.radius = 0.15\n",
    "agent_parameters.time_gap = 1\n",
    "\n",
    "for position in [(7, 7), (1, 3), (1, 5), (1, 7), (2, 7)]:\n",
    "    simulation.add_agent(\n",
    "        jps.CollisionFreeSpeedModelAgentParameters(\n",
    "            journey_id=journeys[0], stage_id=exits[0], position=position\n",
    "        )\n",
    "    )\n",
    "for position in [(25, 7), (21, 3), (21, 5), (21, 7), (22, 7)]:\n",
    "    simulation.add_agent(\n",
    "        jps.CollisionFreeSpeedModelAgentParameters(\n",
    "            journey_id=journeys[1], stage_id=exits[1], position=position\n",
    "        )\n",
    "    )"
   ]
  },
  {
   "cell_type": "markdown",
   "id": "569d86fe",
   "metadata": {},
   "source": [
    "## Executing the Simulation\n",
    "\n",
    "With all components in place, we're set to initiate the simulation.\n",
    "For this demonstration, the trajectories will be recorded in an sqlite database."
   ]
  },
  {
   "cell_type": "code",
   "execution_count": null,
   "id": "2a413666",
   "metadata": {},
   "outputs": [],
   "source": [
    "while simulation.agent_count() > 0:\n",
    "    simulation.iterate()"
   ]
  },
  {
   "cell_type": "markdown",
   "id": "078b5b68",
   "metadata": {},
   "source": [
    "## Visualizing the Trajectories\n",
    "\n",
    "For trajectory visualization, we'll extract data from the sqlite database. A straightforward method for this is employing the jupedsim-visualizer.\n",
    "\n",
    "To-Do List:\n",
    "\n",
    "    Incorporate references and hyperlinks to additional resources.\n",
    "    Integrate results visualization using the visualizer."
   ]
  },
  {
   "cell_type": "code",
   "execution_count": null,
   "id": "3b6464e0-60fc-466e-8349-ae74a305ed50",
   "metadata": {
    "tags": [
     "hide-input"
    ]
   },
   "outputs": [],
   "source": [
    "def read_sqlite_file(\n",
    "    trajectory_file: str,\n",
    ") -> (pedpy.TrajectoryData, pedpy.WalkableArea):\n",
    "    with sqlite3.connect(trajectory_file) as con:\n",
    "        data = pd.read_sql_query(\n",
    "            \"select frame, id, pos_x as x, pos_y as y, ori_x as ox, ori_y as oy from trajectory_data\",\n",
    "            con,\n",
    "        )\n",
    "        fps = float(\n",
    "            con.cursor()\n",
    "            .execute(\"select value from metadata where key = 'fps'\")\n",
    "            .fetchone()[0]\n",
    "        )\n",
    "        walkable_area = (\n",
    "            con.cursor().execute(\"select wkt from geometry\").fetchone()[0]\n",
    "        )\n",
    "        return (\n",
    "            pedpy.TrajectoryData(data=data, frame_rate=fps),\n",
    "            pedpy.WalkableArea(walkable_area),\n",
    "        )\n",
    "\n",
    "\n",
    "def speed_to_color(speed, min_speed, max_speed, midpoint):\n",
    "    colorscale = px.colors.diverging.RdBu_r[::-1]\n",
    "\n",
    "    # Normalize speed based on the midpoint\n",
    "    if speed >= midpoint:\n",
    "        normalized_speed = 0.5 + 0.5 * (speed - midpoint) / (\n",
    "            max_speed - midpoint\n",
    "        )\n",
    "    else:\n",
    "        normalized_speed = 0.5 * (speed - min_speed) / (midpoint - min_speed)\n",
    "\n",
    "    # Clip to ensure the value is between 0 and 1\n",
    "    normalized_speed = np.clip(normalized_speed, 0, 1)\n",
    "\n",
    "    # Find the corresponding color in the colorscale\n",
    "    color_idx = int(normalized_speed * (len(colorscale) - 1))\n",
    "    return colorscale[color_idx]\n",
    "\n",
    "\n",
    "def get_geometry_traces(area):\n",
    "    geometry_traces = []\n",
    "    x, y = area.exterior.xy\n",
    "    geometry_traces.append(\n",
    "        go.Scatter(\n",
    "            x=np.array(x),\n",
    "            y=np.array(y),\n",
    "            mode=\"lines\",\n",
    "            line={\"color\": \"grey\"},\n",
    "            showlegend=False,\n",
    "            name=\"Exterior\",\n",
    "            hoverinfo=\"name\",\n",
    "        )\n",
    "    )\n",
    "    for inner in area.interiors:\n",
    "        xi, yi = zip(*inner.coords[:])\n",
    "        geometry_traces.append(\n",
    "            go.Scatter(\n",
    "                x=np.array(xi),\n",
    "                y=np.array(yi),\n",
    "                mode=\"lines\",\n",
    "                line={\"color\": \"grey\"},\n",
    "                showlegend=False,\n",
    "                name=\"Obstacle\",\n",
    "                hoverinfo=\"name\",\n",
    "            )\n",
    "        )\n",
    "    return geometry_traces\n",
    "\n",
    "\n",
    "def get_shapes_for_frame(frame_data, min_speed, max_speed, midpoint):\n",
    "    def create_shape(row):\n",
    "        hover_trace = go.Scatter(\n",
    "            x=[row[\"x\"]],\n",
    "            y=[row[\"y\"]],\n",
    "            text=[f\"ID: {row['id']}, Pos({row['x']:.2f},{row['y']:.2f})\"],\n",
    "            mode=\"markers\",\n",
    "            marker=dict(size=1, opacity=1),\n",
    "            hoverinfo=\"text\",\n",
    "            showlegend=False,\n",
    "        )\n",
    "        if row[\"speed\"] == -1000:  # Check for dummy speed\n",
    "            return (\n",
    "                go.layout.Shape(\n",
    "                    type=\"circle\",\n",
    "                    xref=\"x\",\n",
    "                    yref=\"y\",\n",
    "                    x0=row[\"x\"] - row[\"radius\"],\n",
    "                    y0=row[\"y\"] - row[\"radius\"],\n",
    "                    x1=row[\"x\"] + row[\"radius\"],\n",
    "                    y1=row[\"y\"] + row[\"radius\"],\n",
    "                    line=dict(width=0),\n",
    "                    fillcolor=\"rgba(255,255,255,0)\",  # Transparent fill\n",
    "                ),\n",
    "                hover_trace,\n",
    "            )\n",
    "        color = speed_to_color(row[\"speed\"], min_speed, max_speed, midpoint)\n",
    "        return (\n",
    "            go.layout.Shape(\n",
    "                type=\"circle\",\n",
    "                xref=\"x\",\n",
    "                yref=\"y\",\n",
    "                x0=row[\"x\"] - row[\"radius\"],\n",
    "                y0=row[\"y\"] - row[\"radius\"],\n",
    "                x1=row[\"x\"] + row[\"radius\"],\n",
    "                y1=row[\"y\"] + row[\"radius\"],\n",
    "                line_color=color,\n",
    "                fillcolor=color,\n",
    "            ),\n",
    "            hover_trace,\n",
    "        )\n",
    "\n",
    "    results = frame_data.apply(create_shape, axis=1).tolist()\n",
    "    shapes = [res[0] for res in results]\n",
    "    hover_traces = [res[1] for res in results]\n",
    "    return shapes, hover_traces\n",
    "\n",
    "\n",
    "def create_fig(\n",
    "    initial_agent_count,\n",
    "    initial_shapes,\n",
    "    initial_hover_trace,\n",
    "    geometry_traces,\n",
    "    hover_traces,\n",
    "    frames,\n",
    "    steps,\n",
    "    area_bounds,\n",
    "    width=800,\n",
    "    height=800,\n",
    "):\n",
    "    minx, miny, maxx, maxy = area_bounds\n",
    "    fig = go.Figure(\n",
    "        data=geometry_traces + hover_traces + initial_hover_trace,\n",
    "        frames=frames,\n",
    "        layout=go.Layout(\n",
    "            shapes=initial_shapes,\n",
    "            title=f\"<b>Number of Agents: {initial_agent_count}</b>\",\n",
    "            title_x=0.5,\n",
    "        ),\n",
    "    )\n",
    "    fig.update_layout(\n",
    "        updatemenus=[\n",
    "            {\n",
    "                \"buttons\": [\n",
    "                    {\n",
    "                        \"args\": [\n",
    "                            None,\n",
    "                            {\n",
    "                                \"frame\": {\"duration\": 100, \"redraw\": True},\n",
    "                                \"fromcurrent\": True,\n",
    "                            },\n",
    "                        ],\n",
    "                        \"label\": \"Play\",\n",
    "                        \"method\": \"animate\",\n",
    "                    }\n",
    "                ],\n",
    "                \"direction\": \"left\",\n",
    "                \"pad\": {\"r\": 10, \"t\": 87},\n",
    "                \"showactive\": False,\n",
    "                \"type\": \"buttons\",\n",
    "                \"x\": 0.1,\n",
    "                \"xanchor\": \"right\",\n",
    "                \"y\": 0,\n",
    "                \"yanchor\": \"top\",\n",
    "            }\n",
    "        ],\n",
    "        sliders=[\n",
    "            {\n",
    "                \"active\": 0,\n",
    "                \"yanchor\": \"top\",\n",
    "                \"xanchor\": \"left\",\n",
    "                \"currentvalue\": {\n",
    "                    \"font\": {\"size\": 20},\n",
    "                    \"prefix\": \"Frame:\",\n",
    "                    \"visible\": True,\n",
    "                    \"xanchor\": \"right\",\n",
    "                },\n",
    "                \"transition\": {\"duration\": 100, \"easing\": \"cubic-in-out\"},\n",
    "                \"pad\": {\"b\": 10, \"t\": 50},\n",
    "                \"len\": 0.9,\n",
    "                \"x\": 0.1,\n",
    "                \"y\": 0,\n",
    "                \"steps\": steps,\n",
    "            }\n",
    "        ],\n",
    "        autosize=False,\n",
    "        width=width,\n",
    "        height=height,\n",
    "        xaxis=dict(range=[minx - 0.5, maxx + 0.5]),\n",
    "        yaxis=dict(\n",
    "            scaleanchor=\"x\", scaleratio=1, range=[miny - 0.5, maxy + 0.5]\n",
    "        ),\n",
    "    )\n",
    "    return fig\n",
    "\n",
    "\n",
    "def animate(\n",
    "    data: pedpy.TrajectoryData, area: pedpy.WalkableArea, *, every_nth_frame=5\n",
    "):\n",
    "    data_df = pedpy.compute_individual_speed(traj_data=data, frame_step=5)\n",
    "    data_df = data_df.merge(data.data, on=[\"id\", \"frame\"], how=\"left\")\n",
    "    data_df[\"radius\"] = 0.2\n",
    "    min_speed = data_df[\"speed\"].min()\n",
    "    max_speed = data_df[\"speed\"].max()\n",
    "    midpoint = np.mean(data_df[\"speed\"])\n",
    "    max_agents = data_df.groupby(\"frame\").size().max()\n",
    "    dummy_agent_data = {\"x\": 0, \"y\": 0, \"radius\": 0, \"speed\": -1000}\n",
    "    frames = []\n",
    "    steps = []\n",
    "    unique_frames = data_df[\"frame\"].unique()\n",
    "    selected_frames = unique_frames[::every_nth_frame]\n",
    "    geometry_traces = get_geometry_traces(area.polygon)\n",
    "    initial_frame_data = data_df[data_df[\"frame\"] == data_df[\"frame\"].min()]\n",
    "    initial_agent_count = len(initial_frame_data)\n",
    "    initial_shapes, initial_hovers = get_shapes_for_frame(\n",
    "        initial_frame_data, min_speed, max_speed, midpoint\n",
    "    )\n",
    "    for frame_num in selected_frames[1:]:\n",
    "        frame_data = data_df[data_df[\"frame\"] == frame_num]\n",
    "        agent_count = len(frame_data)\n",
    "        while len(frame_data) < max_agents:\n",
    "            dummy_df = pd.DataFrame([dummy_agent_data])\n",
    "            frame_data = pd.concat([frame_data, dummy_df], ignore_index=True)\n",
    "\n",
    "        shapes, hover_traces = get_shapes_for_frame(\n",
    "            frame_data, min_speed, max_speed, midpoint\n",
    "        )\n",
    "        frame = go.Frame(\n",
    "            data=geometry_traces + hover_traces,\n",
    "            name=str(frame_num),\n",
    "            layout=go.Layout(\n",
    "                shapes=shapes,\n",
    "                title=f\"<b>Number of Agents: {agent_count}</b>\",\n",
    "                title_x=0.5,\n",
    "            ),\n",
    "        )\n",
    "        frames.append(frame)\n",
    "        step = {\n",
    "            \"args\": [\n",
    "                [str(frame_num)],\n",
    "                {\n",
    "                    \"frame\": {\"duration\": 100, \"redraw\": True},\n",
    "                    \"mode\": \"immediate\",\n",
    "                    \"transition\": {\"duration\": 500},\n",
    "                },\n",
    "            ],\n",
    "            \"label\": str(frame_num),\n",
    "            \"method\": \"animate\",\n",
    "        }\n",
    "        steps.append(step)\n",
    "\n",
    "    return create_fig(\n",
    "        initial_agent_count,\n",
    "        initial_shapes,\n",
    "        initial_hovers,\n",
    "        geometry_traces,\n",
    "        hover_traces,\n",
    "        frames,\n",
    "        steps,\n",
    "        area.bounds,\n",
    "        width=800,\n",
    "        height=800,\n",
    "    )"
   ]
  },
  {
   "cell_type": "code",
   "execution_count": null,
   "id": "06d3e0c1-3066-48f1-9750-2129ae9549b4",
   "metadata": {},
   "outputs": [],
   "source": [
    "trajectory_data, walkable_area = read_sqlite_file(trajectory_file)\n",
    "animate(trajectory_data, walkable_area)"
   ]
  },
  {
   "cell_type": "markdown",
   "id": "a4c85934",
   "metadata": {
    "editable": true,
    "slideshow": {
     "slide_type": ""
    },
    "tags": [
     "hide-input"
    ]
   },
   "source": [
    "## References & Further Exploration\n",
    "\n",
    "The operational model discussed in the Model section is based on the collision-free model. JuPedSim also incorporates another model known as GCFM. For more details on GCFM, refer to another notebook (TODO: Link to the GCFM notebook).\n",
    "\n",
    "Our demonstration employed a straightforward journey with a singular exit. For a more intricate journey featuring multiple intermediate stops and waiting zones, see the upcoming section (TODO: Link to the advanced journey section).\n",
    "\n",
    "While we designated a single parameter profile for agents in this example, it's feasible to define multiple parameter profiles. Learn how to alternate between these profiles in the subsequent section (TODO: Link to the profile-switching section)."
   ]
  },
  {
   "cell_type": "markdown",
   "id": "90f64e5a",
   "metadata": {
    "editable": true,
    "slideshow": {
     "slide_type": ""
    },
    "tags": [
     "hide-input"
    ]
   },
   "source": []
  }
 ],
 "metadata": {
  "kernelspec": {
   "display_name": "Python 3 (ipykernel)",
   "language": "python",
   "name": "python3"
  },
  "language_info": {
   "codemirror_mode": {
    "name": "ipython",
    "version": 3
   },
   "file_extension": ".py",
   "mimetype": "text/x-python",
   "name": "python",
   "nbconvert_exporter": "python",
   "pygments_lexer": "ipython3",
   "version": "3.11.5"
  }
 },
 "nbformat": 4,
 "nbformat_minor": 5
}

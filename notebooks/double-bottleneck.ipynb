{
 "cells": [
  {
   "cell_type": "markdown",
   "id": "ae798e28-45c8-401a-891d-fdfa71c6516a",
   "metadata": {},
   "source": [
    "# Double bottleneck simulation \n",
    "\n",
    "In this demonstration, we'll construct a **double bottleneck** situation and simulate the evacuation of **10 agents** positioned on a grid.\n",
    "\n",
    "**TODO: MORE EXPLANATION. What happens here? Why? Why do we hope to show?**\n"
   ]
  },
  {
   "cell_type": "markdown",
   "id": "0a36d789-2a97-46dd-ba5d-d231ed372b03",
   "metadata": {},
   "source": [
    "***Introduction***[CB]\n",
    "\n",
    "The simulation of the double bottleneck is based on the work for the (single) bottleneck. \n",
    "Here, agents are positioned on both side of the bottleneck: left and right.\n",
    "\n",
    "How will the agents \"meet\"? \n",
    "Will they disturb each other? Is it even possible to go through? \n",
    "And what is the impact of the width of the bottleneck?\n",
    "\n",
    "In order to answer those questions, please follow the instructions below. "
   ]
  },
  {
   "cell_type": "markdown",
   "id": "af10ff53-673c-49e3-bd7d-79447e05c9db",
   "metadata": {},
   "source": [
    "Let's begin by importing the required packages for our simulation:"
   ]
  },
  {
   "cell_type": "code",
   "execution_count": null,
   "id": "9dba16d9",
   "metadata": {
    "editable": true,
    "slideshow": {
     "slide_type": ""
    },
    "tags": [
     "hide-input"
    ]
   },
   "outputs": [],
   "source": [
    "from shapely import GeometryCollection, Polygon, to_wkt\n",
    "import pathlib\n",
    "import pandas as pd\n",
    "import numpy as np\n",
    "import jupedsim as jps\n",
    "from jupedsim.distributions import distribute_by_number\n",
    "import sqlite3  # parse trajectory db\n",
    "import plotly.express as px\n",
    "import plotly.graph_objects as go\n",
    "from plotly.graph_objs import Figure\n",
    "import pedpy  # analysis\n",
    "\n",
    "%matplotlib inline"
   ]
  },
  {
   "cell_type": "markdown",
   "id": "4c1eae67-0c1e-4f0b-b1f7-4e383e9092c4",
   "metadata": {},
   "source": [
    "## Setting up a geometry"
   ]
  },
  {
   "cell_type": "code",
   "execution_count": null,
   "id": "a45d0955-7092-4dda-bc44-707893e4449b",
   "metadata": {
    "editable": true,
    "slideshow": {
     "slide_type": ""
    },
    "tags": [
     "hide-input"
    ]
   },
   "outputs": [],
   "source": [
    "p1 = Polygon([(0, 0), (10, 0), (10, 10), (0, 10)])\n",
    "p2 = Polygon([(10, 4), (15, 4), (15, 6), (10, 6)])\n",
    "p3 = Polygon([(15, 0), (25, 0), (25, 10), (15, 10)])\n",
    "area = GeometryCollection(p1.union(p2.union(p3)))\n",
    "walkable_area = pedpy.WalkableArea(area.geoms[0])\n",
    "pedpy.plot_walkable_area(walkable_area=walkable_area)"
   ]
  },
  {
   "cell_type": "markdown",
   "id": "06443296",
   "metadata": {},
   "source": [
    "## Operational model\n",
    "<a id=\"model\"></a>\n",
    "Once the geometry is set, our subsequent task is to specify the model and its associated parameters.\n",
    "For this demonstration, we'll employ the \"collision-free\" model."
   ]
  },
  {
   "cell_type": "markdown",
   "id": "f2f206a3",
   "metadata": {},
   "source": [
    "## Setting Up the Simulation Object\n",
    "\n",
    "Having established the model and geometry details, and combined with other parameters such as the time step dt, we can proceed to construct our simulation object as illustrated below:"
   ]
  },
  {
   "cell_type": "code",
   "execution_count": null,
   "id": "36627194",
   "metadata": {},
   "outputs": [],
   "source": [
    "trajectory_file = \"double_bottleneck.sqlite\"\n",
    "simulation = jps.Simulation(\n",
    "    model=jps.CollisionFreeSpeedModel(),\n",
    "    geometry=area,\n",
    "    trajectory_writer=jps.SqliteTrajectoryWriter(\n",
    "        output_file=pathlib.Path(trajectory_file)\n",
    "    ),\n",
    ")"
   ]
  },
  {
   "cell_type": "markdown",
   "id": "64564e7f",
   "metadata": {},
   "source": [
    "## Specifying Routing Details\n",
    "\n",
    "At this juncture, we'll provide basic routing instructions, guiding the agents to progress towards the **first exit point** and the **second exit point**."
   ]
  },
  {
   "cell_type": "code",
   "execution_count": null,
   "id": "c1cfdadc",
   "metadata": {},
   "outputs": [],
   "source": [
    "exits = [\n",
    "    simulation.add_exit_stage([(24, 0), (25, 0), (25, 10), (24, 10)]),\n",
    "    simulation.add_exit_stage([(0, 0), (1, 0), (1, 10), (0, 10)]),\n",
    "]\n",
    "journeys = [\n",
    "    simulation.add_journey(jps.JourneyDescription([exit])) for exit in exits\n",
    "]"
   ]
  },
  {
   "cell_type": "markdown",
   "id": "269d95ac",
   "metadata": {},
   "source": [
    "## Defining and Distributing Agents\n",
    "\n",
    "Now, we'll position the agents and establish their attributes, leveraging previously mentioned parameters such as `exit1`, `exit2` and `profile_id`."
   ]
  },
  {
   "cell_type": "code",
   "execution_count": null,
   "id": "bad06382",
   "metadata": {},
   "outputs": [],
   "source": [
    "agent_parameters = jps.CollisionFreeSpeedModelAgentParameters()\n",
    "agent_parameters.journey_id = journeys[0]\n",
    "agent_parameters.stage_id = exits[0]\n",
    "agent_parameters.orientation = (1.0, 0.0)\n",
    "agent_parameters.v0 = 1.2\n",
    "agent_parameters.radius = 0.15\n",
    "agent_parameters.time_gap = 1\n",
    "\n",
    "for position in [(7, 7), (1, 3), (1, 5), (1, 7), (2, 7)]:\n",
    "    simulation.add_agent(\n",
    "        jps.CollisionFreeSpeedModelAgentParameters(\n",
    "            journey_id=journeys[0], stage_id=exits[0], position=position\n",
    "        )\n",
    "    )\n",
    "for position in [(25, 7), (21, 3), (21, 5), (21, 7), (22, 7)]:\n",
    "    simulation.add_agent(\n",
    "        jps.CollisionFreeSpeedModelAgentParameters(\n",
    "            journey_id=journeys[1], stage_id=exits[1], position=position\n",
    "        )\n",
    "    )"
   ]
  },
  {
   "cell_type": "markdown",
   "id": "569d86fe",
   "metadata": {},
   "source": [
    "## Executing the Simulation\n",
    "\n",
    "With all components in place, we're set to initiate the simulation.\n",
    "For this demonstration, the trajectories will be recorded in an sqlite database."
   ]
  },
  {
   "cell_type": "code",
   "execution_count": null,
   "id": "2a413666",
   "metadata": {},
   "outputs": [],
   "source": [
    "while simulation.agent_count() > 0:\n",
    "    simulation.iterate()"
   ]
  },
  {
   "cell_type": "markdown",
   "id": "078b5b68",
   "metadata": {},
   "source": [
    "## Visualizing the Trajectories\n",
    "\n",
    "For trajectory visualization, we'll extract data from the sqlite database. A straightforward method for this is employing the jupedsim-visualizer.\n",
    "\n",
    "To-Do List:\n",
    "\n",
    "    Incorporate references and hyperlinks to additional resources.\n",
    "    Integrate results visualization using the visualizer."
   ]
  },
  {
   "cell_type": "code",
   "execution_count": null,
   "id": "06d3e0c1-3066-48f1-9750-2129ae9549b4",
   "metadata": {},
   "outputs": [],
   "source": [
    "from jupedsim.internal.notebook_utils import animate, read_sqlite_file\n",
    "\n",
    "trajectory_data, walkable_area = read_sqlite_file(trajectory_file)\n",
    "animate(trajectory_data, walkable_area)"
   ]
  },
  {
   "cell_type": "markdown",
   "id": "a4c85934",
   "metadata": {
    "editable": true,
    "slideshow": {
     "slide_type": ""
    },
    "tags": [
     "hide-input"
    ]
   },
   "source": [
    "## References & Further Exploration\n",
    "\n",
    "The operational model discussed in the Model section is based on the collision-free model. JuPedSim also incorporates another model known as GCFM. For more details on GCFM, refer to another notebook (TODO: Link to the GCFM notebook).\n",
    "\n",
    "Our demonstration employed a straightforward journey with a singular exit. For a more intricate journey featuring multiple intermediate stops and waiting zones, see the upcoming section (TODO: Link to the advanced journey section).\n",
    "\n",
    "While we designated a single parameter profile for agents in this example, it's feasible to define multiple parameter profiles. Learn how to alternate between these profiles in the subsequent section (TODO: Link to the profile-switching section)."
   ]
  },
  {
   "cell_type": "markdown",
   "id": "90f64e5a",
   "metadata": {
    "editable": true,
    "slideshow": {
     "slide_type": ""
    },
    "tags": [
     "hide-input"
    ]
   },
   "source": []
  }
 ],
 "metadata": {
  "kernelspec": {
   "display_name": "Python 3 (ipykernel)",
   "language": "python",
   "name": "python3"
  },
  "language_info": {
   "codemirror_mode": {
    "name": "ipython",
    "version": 3
   },
   "file_extension": ".py",
   "mimetype": "text/x-python",
   "name": "python",
   "nbconvert_exporter": "python",
   "pygments_lexer": "ipython3",
   "version": "3.11.5"
  }
 },
 "nbformat": 4,
 "nbformat_minor": 5
}

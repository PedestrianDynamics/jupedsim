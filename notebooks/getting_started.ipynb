{
 "cells": [
  {
   "cell_type": "markdown",
   "id": "3c42b4c37d091f62",
   "metadata": {
    "collapsed": false,
    "jupyter": {
     "outputs_hidden": false
    }
   },
   "source": [
    "# Getting started\n",
    "\n",
    "Welcome to the getting started guide of *JuPedSim*, we want to guide you through the first steps for setting up a simulation.\n",
    "\n",
    "First things first, to use *JuPedSim* install it via:\n",
    "\n",
    "```bash\n",
    "pip install jupedsim\n",
    "```\n",
    "\n",
    "Now, you are ready to set up your first simulation with *JuPedSim*.\n",
    "\n",
    "If you want to follow this Jupyter Notebook on your own machine, you can download it \n",
    "{download}`here <getting_started.ipynb>`."
   ]
  },
  {
   "cell_type": "markdown",
   "id": "db2af75b7124c2d4",
   "metadata": {
    "collapsed": false,
    "jupyter": {
     "outputs_hidden": false
    }
   },
   "source": [
    "## Let's simulate an experiment\n",
    "\n",
    "This is a bottleneck experiment conducted at the University of Wuppertal in 2018.\n",
    "You can see the basic setup of the experiment in the picture below:\n",
    "\n",
    "```{eval-rst}\n",
    ".. figure:: demo-data/bottleneck/040_c_56_h-.png\n",
    "    :width: 400px\n",
    "    :align: center\n",
    "```\n",
    "\n",
    "The data for this experiment is available {download}`here <demo-data/bottleneck/040_c_56_h-.txt>`, which belongs to this [experimental series](https://doi.org/10.34735/ped.2018.1) and is part of the publication [\"Crowds in front of bottlenecks at entrances from the perspective of physics and social psychology\"](https://doi.org/10.1098/rsif.2019.0871).\n",
    "\n",
    "In this guide, we want to simulate the same bottleneck scenario with *JuPedSim*.\n",
    "\n",
    "If you use *JuPedSim* in your work, please cite it using the following information from Zenodo:\n",
    "\n",
    "[![DOI](https://zenodo.org/badge/DOI/10.5281/1293771.svg)](https://doi.org/10.5281/zenodo.1293771)\n",
    "\n"
   ]
  },
  {
   "cell_type": "markdown",
   "id": "8cd6775f",
   "metadata": {},
   "source": [
    "## Setting up the simulation geometry\n",
    "\n",
    "The first thing to consider when setting up a simulation is the area where the agents can move.\n",
    "In this scenario, we have a rectangular room with two obstacles that form a bottleneck, as displayed above.\n",
    "These obstacles are excluded areas from the simulation, which means that agents can not move inside these obstacles."
   ]
  },
  {
   "cell_type": "code",
   "execution_count": null,
   "id": "92557676",
   "metadata": {},
   "outputs": [],
   "source": [
    "import shapely\n",
    "\n",
    "geometry = shapely.Polygon(\n",
    "    # complete area\n",
    "    [\n",
    "        (3.5, -2),\n",
    "        (3.5, 8),\n",
    "        (-3.5, 8),\n",
    "        (-3.5, -2),\n",
    "    ],\n",
    "    holes=[\n",
    "        # left barrier\n",
    "        [\n",
    "            (-0.7, -1.1),\n",
    "            (-0.25, -1.1),\n",
    "            (-0.25, -0.15),\n",
    "            (-0.4, 0.0),\n",
    "            (-2.8, 0.0),\n",
    "            (-2.8, 6.7),\n",
    "            (-3.05, 6.7),\n",
    "            (-3.05, -0.3),\n",
    "            (-0.7, -0.3),\n",
    "            (-0.7, -1.0),\n",
    "        ],\n",
    "        # right barrier\n",
    "        [\n",
    "            (0.25, -1.1),\n",
    "            (0.7, -1.1),\n",
    "            (0.7, -0.3),\n",
    "            (3.05, -0.3),\n",
    "            (3.05, 6.7),\n",
    "            (2.8, 6.7),\n",
    "            (2.8, 0.0),\n",
    "            (0.4, 0.0),\n",
    "            (0.25, -0.15),\n",
    "            (0.25, -1.1),\n",
    "        ],\n",
    "    ],\n",
    ")"
   ]
  },
  {
   "cell_type": "markdown",
   "id": "c668ac8a",
   "metadata": {},
   "source": [
    "This leads to the following setup:"
   ]
  },
  {
   "cell_type": "code",
   "execution_count": null,
   "id": "133a3a08",
   "metadata": {
    "tags": [
     "remove-input"
    ]
   },
   "outputs": [],
   "source": [
    "import matplotlib.pyplot as plt\n",
    "from pedpy import WalkableArea, plot_walkable_area\n",
    "\n",
    "plot_walkable_area(walkable_area=WalkableArea(geometry)).set_aspect(\"equal\")\n",
    "plt.show()"
   ]
  },
  {
   "cell_type": "markdown",
   "id": "76850027",
   "metadata": {},
   "source": [
    "In this geometric setup, we now need to define, where the agents can exit the simulation, e.g., where their target is located.\n",
    "\n",
    "For this scenario, the exit is at the end of the bottleneck.\n",
    "If we would put it at the beginning of the bottleneck, the agents would disappear, hence, they wouldn't be an obstacle for following agents.\n",
    "\n",
    "An exit can be defined as:"
   ]
  },
  {
   "cell_type": "code",
   "execution_count": null,
   "id": "a84b7932",
   "metadata": {},
   "outputs": [],
   "source": [
    "exit_polygon = shapely.Polygon(\n",
    "    [(-0.2, -1.9), (0.2, -1.9), (0.2, -1.7), (-0.2, -1.7)]\n",
    ")"
   ]
  },
  {
   "cell_type": "markdown",
   "id": "3eba3db8",
   "metadata": {},
   "source": [
    "The complete setup would then look like, where the exit is shown in red:"
   ]
  },
  {
   "cell_type": "code",
   "execution_count": null,
   "id": "3756f077",
   "metadata": {
    "tags": [
     "remove-input"
    ]
   },
   "outputs": [],
   "source": [
    "import matplotlib.pyplot as plt\n",
    "from pedpy import MeasurementArea, WalkableArea, plot_measurement_setup\n",
    "\n",
    "# We will use PedPy's plotting functionality, but it has no concept of exits\n",
    "# hence we will show the exit as measurement area\n",
    "plot_measurement_setup(\n",
    "    walkable_area=WalkableArea(geometry),\n",
    "    measurement_areas=[MeasurementArea(exit_polygon)],\n",
    "    ma_color=\"r\",\n",
    "    ma_line_color=\"r\",\n",
    ").set_aspect(\"equal\")\n",
    "plt.show()"
   ]
  },
  {
   "cell_type": "markdown",
   "id": "23f2f723",
   "metadata": {},
   "source": [
    "## Distribute the agents in the geometry\n",
    "\n",
    "\n",
    "The next step is to provide the initial positions of the agents in the simulation. \n",
    "*JuPedSim* provides different helper functions to automatically distribute the agents:\n",
    "\n",
    "- distribute a given number of agents inside a polygon (see {func}`~jupedsim.distribute_by_number`)\n",
    "- distribute agents by a given density inside a polygon (see {func}`~jupedsim.distribute_by_density`)\n",
    "- ... (more methods can be found in the [API reference](/api/jupedsim/index), the names start with `distribute`)\n",
    "\n",
    "However, as we want to compare our simulation to the real-life experimental data, the agents in the simulation will start at the same positions as the pedestrians in the experiment. \n",
    "So we load the trajectory from the experiment and extract the locations at frame 0, which is the start of the experiment."
   ]
  },
  {
   "cell_type": "code",
   "execution_count": null,
   "id": "4aeef3c2",
   "metadata": {},
   "outputs": [],
   "source": [
    "import pandas\n",
    "\n",
    "experiment_data = pandas.read_csv(\n",
    "    \"demo-data/bottleneck/040_c_56_h-.txt\",\n",
    "    comment=\"#\",\n",
    "    sep=\"\\t\",\n",
    "    header=None,\n",
    "    names=[\"id\", \"frame\", \"x\", \"y\", \"z\"],\n",
    ")\n",
    "start_positions = experiment_data[experiment_data.frame == 0][[\"x\", \"y\"]].values"
   ]
  },
  {
   "cell_type": "markdown",
   "id": "3df8baa3",
   "metadata": {},
   "source": [
    "## Collision-free speed model\n",
    "\n",
    "At first, we want to run the simulation with the Collision-free speed model.\n",
    "In [\"Collision-free speed model for pedestrian dynamics\"](https://arxiv.org/abs/1512.05597) you can find the complete description of the model.\n",
    "To use it in *JuPedSim* we need to state, that we will use this model in the creation of the simulation object.\n",
    "\n",
    "We also need to provide the previously defined geometry and the output file, where the resulting trajectories will be stored. \n",
    "Here, we will use the built-in {class}`~jupedsim.SqliteTrajectoryWriter`, which will write the results as a `sqlite`-database."
   ]
  },
  {
   "cell_type": "code",
   "execution_count": null,
   "id": "f94d5d72",
   "metadata": {},
   "outputs": [],
   "source": [
    "import pathlib\n",
    "\n",
    "import jupedsim as jps\n",
    "\n",
    "trajectory_file = \"bottleneck_cfsm.sqlite\"\n",
    "simulation_cfsm = jps.Simulation(\n",
    "    model=jps.CollisionFreeSpeedModel(),\n",
    "    geometry=geometry,\n",
    "    trajectory_writer=jps.SqliteTrajectoryWriter(\n",
    "        output_file=pathlib.Path(trajectory_file)\n",
    "    ),\n",
    ")"
   ]
  },
  {
   "cell_type": "markdown",
   "id": "1abdaa83",
   "metadata": {},
   "source": [
    "After we defined the simulation we need to add a goal, which the agents should target. \n",
    "As we already defined the exit polygon above, we can add it to the simulation as a stage.\n",
    "After adding the exit to the simulation, we need to create a journey containing that exit.\n",
    "Journeys are used to manage more complex routing situation, an explanation of the underlying routing concept can be found [here](/concepts/routing)."
   ]
  },
  {
   "cell_type": "code",
   "execution_count": null,
   "id": "9b39a70c",
   "metadata": {},
   "outputs": [],
   "source": [
    "exit_id = simulation_cfsm.add_exit_stage(exit_polygon)\n",
    "journey = jps.JourneyDescription([exit_id])\n",
    "journey_id = simulation_cfsm.add_journey(journey)"
   ]
  },
  {
   "cell_type": "markdown",
   "id": "885383ad",
   "metadata": {},
   "source": [
    "Now we have the setup for the simulation.\n",
    "But there are no agents in simulation yet, so we need to add them.\n",
    "\n",
    "Before adding a simulation we need to define the agent specific parameters. \n",
    "In this example, all the agents will get the same parameters.\n",
    "We will now re-use the above extracted start positions of the agents."
   ]
  },
  {
   "cell_type": "code",
   "execution_count": null,
   "id": "2f6e5ef7",
   "metadata": {},
   "outputs": [],
   "source": [
    "for position in start_positions:\n",
    "    simulation_cfsm.add_agent(\n",
    "        jps.CollisionFreeSpeedModelAgentParameters(\n",
    "            journey_id=journey_id,\n",
    "            stage_id=exit_id,\n",
    "            position=position,\n",
    "            radius=0.12,\n",
    "        )\n",
    "    )"
   ]
  },
  {
   "cell_type": "markdown",
   "id": "51beba22",
   "metadata": {},
   "source": [
    "After, we have added the agents. \n",
    "We've got everything needed to start a simulation.\n",
    "Here, we will iterate, as long as there are agents inside the simulation, e.g., some agents have not yet reached the exit."
   ]
  },
  {
   "cell_type": "code",
   "execution_count": null,
   "id": "54987fa7",
   "metadata": {},
   "outputs": [],
   "source": [
    "while (\n",
    "    simulation_cfsm.agent_count() > 0\n",
    "    and simulation_cfsm.iteration_count() < 2000\n",
    "):\n",
    "    simulation_cfsm.iterate()"
   ]
  },
  {
   "cell_type": "markdown",
   "id": "0e11f5f4",
   "metadata": {},
   "source": [
    "Now, every agent has left the simulation.\n",
    "Let's have a look at the result:"
   ]
  },
  {
   "cell_type": "code",
   "execution_count": null,
   "id": "71f8c9b1",
   "metadata": {
    "tags": [
     "hide-input"
    ]
   },
   "outputs": [],
   "source": [
    "import pedpy\n",
    "from jupedsim.internal.notebook_utils import animate, read_sqlite_file\n",
    "\n",
    "trajectory_data, walkable_area = read_sqlite_file(trajectory_file)\n",
    "speed = pedpy.compute_individual_speed(traj_data=trajectory_data, frame_step=5)\n",
    "speed = speed.merge(trajectory_data.data, on=[\"id\", \"frame\"], how=\"left\")\n",
    "\n",
    "animate(trajectory_data, walkable_area)"
   ]
  },
  {
   "cell_type": "markdown",
   "id": "ec4178e6",
   "metadata": {},
   "source": [
    "We have set up a first simple simulation with *JuPedSim*.\n",
    "The results are saved in trajectory files, which can be used for further analyzes. \n",
    "\n",
    "\n",
    "For more examples, how to set up simulations have a look at the following notebooks:\n",
    "\n",
    "- [Movement around corners](corner)\n",
    "- [Movement through bottlenecks](double-bottleneck)\n",
    "- [How to work with Journeys](journey)\n",
    "- [Lane formation in bi-directional flow](lane-formation)\n",
    "- [Modelling Motivation](motivation)\n",
    "- [Waiting in Queues](queues_waiting)\n",
    "- [How Route Choice can Impact Evacuation Times](routing)\n",
    "- [Simulating Single-File Movement](single-file)\n",
    "\n",
    "We would love to hear some [feedback](https://www.github.com/PedestrianDynamics/jupedsim/discussions) from you!"
   ]
  },
  {
   "cell_type": "markdown",
   "id": "80565b8d",
   "metadata": {},
   "source": [
    "## Comparison\n",
    "\n",
    "After simulating a bottleneck scenario with the initial positions as in the experimental setup, we now want to compare the simulation results with the experiment results.\n",
    "The first step here, is to have a look at the trajectories of both:"
   ]
  },
  {
   "cell_type": "code",
   "execution_count": null,
   "id": "1d9d8274",
   "metadata": {
    "tags": [
     "hide-input"
    ]
   },
   "outputs": [],
   "source": [
    "import pathlib\n",
    "\n",
    "import matplotlib.pyplot as plt\n",
    "import pedpy\n",
    "\n",
    "experimental_trajectories = pedpy.load_trajectory(\n",
    "    trajectory_file=pathlib.Path(\"demo-data/bottleneck/040_c_56_h-.txt\")\n",
    ")\n",
    "\n",
    "cfsm_data, walkable_area = read_sqlite_file(trajectory_file)\n",
    "\n",
    "fig = plt.figure()\n",
    "\n",
    "ax1 = fig.add_subplot(121, aspect=\"equal\")\n",
    "ax1.set_title(\"experimental data\")\n",
    "pedpy.plot_trajectories(\n",
    "    traj=experimental_trajectories,\n",
    "    axes=ax1,\n",
    "    walkable_area=pedpy.WalkableArea(geometry),\n",
    ")\n",
    "\n",
    "ax2 = fig.add_subplot(122, aspect=\"equal\")\n",
    "ax2.set_title(\"Collision free speed model\")\n",
    "pedpy.plot_trajectories(\n",
    "    traj=cfsm_data, axes=ax2, walkable_area=pedpy.WalkableArea(geometry)\n",
    ")\n",
    "plt.show()"
   ]
  },
  {
   "cell_type": "markdown",
   "id": "88ebbe77",
   "metadata": {},
   "source": [
    "But we do not only want to have a qualitative comparision, but also a quantitive one.\n",
    "We will use [PedPy](https://pedpy.readthedocs.io) for this analysis, it is a Python library designed for analysing pedestrian movement data.\n",
    "\n",
    "\n",
    "So, we want to compare the flow of the data sets at the bottleneck.\n",
    "First, we create a measurement line at the beginning of the bottleneck:"
   ]
  },
  {
   "cell_type": "code",
   "execution_count": null,
   "id": "cd45f517",
   "metadata": {},
   "outputs": [],
   "source": [
    "import pedpy\n",
    "\n",
    "measurement_line = pedpy.MeasurementLine([(0.35, 0), (-0.35, 0)])"
   ]
  },
  {
   "cell_type": "code",
   "execution_count": null,
   "id": "c7b1478d",
   "metadata": {
    "tags": [
     "hide-input"
    ]
   },
   "outputs": [],
   "source": [
    "import pedpy\n",
    "\n",
    "pedpy.plot_measurement_setup(\n",
    "    walkable_area=walkable_area,\n",
    "    measurement_lines=[measurement_line],\n",
    "    ml_color=\"red\",\n",
    "    ml_width=2,\n",
    ").set_aspect(\"equal\")\n",
    "plt.show()"
   ]
  },
  {
   "cell_type": "markdown",
   "id": "7be560f5",
   "metadata": {},
   "source": [
    "For this line we can then compute the flow:"
   ]
  },
  {
   "cell_type": "code",
   "execution_count": null,
   "id": "71014607",
   "metadata": {},
   "outputs": [],
   "source": [
    "import pedpy\n",
    "\n",
    "nt_experiment, _ = pedpy.compute_n_t(\n",
    "    traj_data=experimental_trajectories,\n",
    "    measurement_line=measurement_line,\n",
    ")\n",
    "\n",
    "nt_cfsm, _ = pedpy.compute_n_t(\n",
    "    traj_data=cfsm_data,\n",
    "    measurement_line=measurement_line,\n",
    ")"
   ]
  },
  {
   "cell_type": "markdown",
   "id": "5d549d50",
   "metadata": {},
   "source": [
    "The results can be seen here:"
   ]
  },
  {
   "cell_type": "code",
   "execution_count": null,
   "id": "157cee16",
   "metadata": {
    "tags": [
     "hide-input"
    ]
   },
   "outputs": [],
   "source": [
    "fig = plt.figure()\n",
    "ax = fig.add_subplot(111)\n",
    "ax.set_title(\"N-t\")\n",
    "ax.plot(\n",
    "    nt_experiment[\"time\"],\n",
    "    nt_experiment[\"cumulative_pedestrians\"],\n",
    "    label=\"experiment\",\n",
    ")\n",
    "ax.plot(nt_cfsm[\"time\"], nt_cfsm[\"cumulative_pedestrians\"], label=\"cfsm\")\n",
    "ax.legend()\n",
    "ax.set_xlabel(\"t / s\")\n",
    "ax.set_ylabel(\"# pedestrians\")\n",
    "plt.show()"
   ]
  }
 ],
 "metadata": {
  "kernelspec": {
   "display_name": "Python 3 (ipykernel)",
   "language": "python",
   "name": "python3"
  },
  "language_info": {
   "codemirror_mode": {
    "name": "ipython",
    "version": 3
   },
   "file_extension": ".py",
   "mimetype": "text/x-python",
   "name": "python",
   "nbconvert_exporter": "python",
   "pygments_lexer": "ipython3",
   "version": "3.12.2"
  }
 },
 "nbformat": 4,
 "nbformat_minor": 5
}

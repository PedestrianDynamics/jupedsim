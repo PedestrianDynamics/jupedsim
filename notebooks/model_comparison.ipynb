{
 "cells": [
  {
   "cell_type": "markdown",
   "id": "4b5a43f7-9248-4302-ba6e-9eb86c490be2",
   "metadata": {},
   "source": [
    "# Comparative Analysis of Pedestrian Dynamics Models\n",
    "\n",
    "## Objective\n",
    "\n",
    "This notebook compares four pedestrian dynamics models by simulating agent behavior in a structured environment. Using simplified scenarios, we analyze how each model handles navigation, obstacle avoidance, and agent interactions. This comparison reveals the strengths and weaknesses of each approach, helping inform model selection when using JuPedSim.\n",
    "\n",
    "> **Note:**  \n",
    "> All models are utilized with their default parameter settings as defined in **JuPedSim**.\n",
    "\n",
    "## Models Under Investigation\n",
    "\n",
    "1. [**Collision-Free Speed Model (CSM):**](https://pedestriandynamics.org/models/collision_free_speed_model/)  \n",
    "   A velocity-based model focused on ensuring agents move without collisions by dynamically adjusting their speeds.\n",
    "\n",
    "2. [**Anticipation Velocity Model (AVM):**](https://doi.org/10.1016/j.trc.2021.103464)  \n",
    "   A model that incorporates anticipation and reaction times, allowing agents to predict and avoid potential collisions.\n",
    "\n",
    "3. [**Social Force Model (SFM):**](https://pedestriandynamics.org/models/social_force_model/)\n",
    "   A force-based model where agents are influenced by attractive forces toward goals and repulsive forces from obstacles and other agents.\n",
    "\n",
    "4. [**Generalized Centrifugal Force Model (GCFM):**](https://pedestriandynamics.org/models/generalized_centrifugal_force_model/)  \n",
    "   An enhanced force-based model where agents experience centrifugal forces to better simulate realistic avoidance behavior.\n",
    "\n",
    "## Simulation Workflow\n",
    "\n",
    "- **Environment Setup:**\n",
    "  Defining the simulation environment with walls and obstacles to challenge agent navigation.\n",
    "\n",
    "- **Agent Initialization:**  \n",
    "  Assigning starting positions, desired speeds, and target goals for agents.\n",
    "\n",
    "- **Model Execution:**  \n",
    "  Running the simulation for each model and recording agent trajectories.\n",
    "\n",
    "- **Visualization:**  \n",
    "  Animating and displaying the results of all models side by side to enable direct comparison of their behaviors.\n",
    "\n",
    "  Moreover. evacuation times for all runs are ploted per model.\n"
   ]
  },
  {
   "cell_type": "code",
   "execution_count": null,
   "id": "d47dee54-2a46-4c65-89b0-f70fe743ecfe",
   "metadata": {
    "tags": [
     "hide-input"
    ]
   },
   "outputs": [],
   "source": [
    "import pathlib\n",
    "import jupedsim as jps\n",
    "import matplotlib.pyplot as plt\n",
    "import pedpy\n",
    "from shapely import Polygon\n",
    "from jupedsim.internal.notebook_utils import animate, read_sqlite_file\n",
    "from shapely.ops import unary_union\n",
    "import ipywidgets as widgets\n",
    "import pedpy"
   ]
  },
  {
   "cell_type": "code",
   "execution_count": 83,
   "id": "b982aeaf-a056-4870-bf96-4213db17ddcd",
   "metadata": {
    "tags": [
     "hide-input"
    ]
   },
   "outputs": [],
   "source": [
    "def initialize_simulation(\n",
    "    model, agent_parameters, geometry, goals, positions, speeds, trajectory_file\n",
    "):\n",
    "\n",
    "    simulation = jps.Simulation(\n",
    "        model=model,\n",
    "        geometry=geometry,\n",
    "        dt=0.01,\n",
    "        trajectory_writer=jps.SqliteTrajectoryWriter(\n",
    "            output_file=pathlib.Path(trajectory_file), every_nth_frame=5\n",
    "        ),\n",
    "    )\n",
    "\n",
    "    exit_ids = [simulation.add_exit_stage(goal) for goal in goals]\n",
    "    journey = jps.JourneyDescription(exit_ids)\n",
    "    journey_id = simulation.add_journey(journey)\n",
    "    for pos, v0, exit_id in zip(positions, speeds, exit_ids):\n",
    "        if agent_parameters == jps.AnticipationVelocityModelAgentParameters:\n",
    "            simulation.add_agent(\n",
    "                agent_parameters(\n",
    "                    journey_id=journey_id,\n",
    "                    stage_id=exit_id,\n",
    "                    v0=v0,\n",
    "                    position=pos,\n",
    "                    anticipation_time=1,\n",
    "                    reaction_time=0.3,\n",
    "                )\n",
    "            )\n",
    "        elif agent_parameters == jps.SocialForceModelAgentParameters:\n",
    "            simulation.add_agent(\n",
    "                agent_parameters(\n",
    "                    journey_id=journey_id,\n",
    "                    stage_id=exit_id,\n",
    "                    desiredSpeed=v0,\n",
    "                    position=pos,\n",
    "                )\n",
    "            )\n",
    "        else:\n",
    "            simulation.add_agent(\n",
    "                agent_parameters(\n",
    "                    journey_id=journey_id,\n",
    "                    stage_id=exit_id,\n",
    "                    position=pos,\n",
    "                    v0=v0,\n",
    "                )\n",
    "            )\n",
    "\n",
    "    return simulation\n",
    "\n",
    "\n",
    "def plot_simulation_configuration(geometry, starting_positions, exit_areas):\n",
    "    \"\"\"Plot setup for visual inspection.\"\"\"\n",
    "    walkable_area = pedpy.WalkableArea(geometry)\n",
    "    axes = pedpy.plot_walkable_area(walkable_area=walkable_area)\n",
    "    for exit_area in exit_areas:\n",
    "        axes.fill(*exit_area.exterior.xy, color=\"indianred\")\n",
    "\n",
    "    axes.scatter(*zip(*starting_positions), label=\"Starting Position\")\n",
    "    axes.set_xlabel(\"x/m\")\n",
    "    axes.set_ylabel(\"y/m\")\n",
    "    axes.set_aspect(\"equal\")\n",
    "    axes.grid(True, alpha=0.3)\n",
    "\n",
    "\n",
    "def plot_evacuation_times(times_dict, figsize=(10, 6)):\n",
    "    \"\"\"\n",
    "    Plot evacuation times for different pedestrian models.\n",
    "    \"\"\"\n",
    "    fig = plt.figure(figsize=figsize)\n",
    "\n",
    "    bars = plt.bar(list(times_dict.keys()), list(times_dict.values()))\n",
    "\n",
    "    plt.title(\"Evacuation Times by Model\")\n",
    "    plt.ylabel(\"Time (seconds)\")\n",
    "    plt.grid(axis=\"y\", linestyle=\"--\", alpha=0.3)\n",
    "\n",
    "    # Add value labels on top of each bar\n",
    "    for bar in bars:\n",
    "        height = bar.get_height()\n",
    "        plt.text(\n",
    "            bar.get_x() + bar.get_width() / 2.0,\n",
    "            height,\n",
    "            f\"{height:.1f}s\",\n",
    "            ha=\"center\",\n",
    "            va=\"bottom\",\n",
    "        )\n",
    "\n",
    "    plt.tight_layout()\n",
    "    return fig\n",
    "\n",
    "\n",
    "def run_simulation(simulation, max_iterations=4000):\n",
    "    while (\n",
    "        simulation.agent_count() > 0 and simulation.iteration_count() < max_iterations\n",
    "    ):\n",
    "        simulation.iterate()\n",
    "    print(f\"Evacuation time: {simulation.elapsed_time():.2f} s\")\n",
    "    return simulation.elapsed_time()"
   ]
  },
  {
   "cell_type": "markdown",
   "id": "625d2d09-f624-4d7a-b82f-0897cbf8bc35",
   "metadata": {},
   "source": [
    "## Scenario 1: Crossing Paths in Rooms\n",
    "\n",
    "Four agents navigate between interconnected rooms with obstacles. Each agent aims to reach the diagonally opposite goal. Agents are expected to plan paths around obstacles while interacting with other agents in the corridors.\n"
   ]
  },
  {
   "cell_type": "code",
   "execution_count": null,
   "id": "ad9ec391-b8c6-4dc4-9255-51d0d8d7e194",
   "metadata": {
    "tags": [
     "hide-input"
    ]
   },
   "outputs": [],
   "source": [
    "def create_geometry_scenario1():\n",
    "    outer_boundary = Polygon([(0, 0), (10, 0), (10, 10), (0, 10)])\n",
    "    walls = [\n",
    "        Polygon([(4.9, 0), (5.1, 0), (5.1, 3.8), (4.9, 3.8)]),\n",
    "        Polygon([(4.9, 6.2), (5.1, 6.2), (5.1, 10), (4.9, 10)]),\n",
    "        Polygon([(0, 4.9), (3.8, 4.9), (3.8, 5.1), (0, 5.1)]),\n",
    "        Polygon([(6.2, 4.9), (10, 4.9), (10, 5.1), (6.2, 5.1)]),\n",
    "        Polygon([(2.0, 2.0), (3.0, 2.0), (3.0, 3.0), (2.0, 3.0)]),\n",
    "        Polygon([(7.0, 2.0), (8.0, 2.0), (8.0, 3.0), (7.0, 3.0)]),\n",
    "        Polygon([(2.0, 7.0), (3.0, 7.0), (3.0, 6.0), (2.0, 6.0)]),\n",
    "        Polygon([(7.0, 7.0), (8.0, 7.0), (8.0, 6.0), (7.0, 6.0)]),\n",
    "    ]\n",
    "\n",
    "    geometry = outer_boundary.difference(unary_union(walls))\n",
    "    return geometry\n",
    "\n",
    "\n",
    "def define_positions_scenario1():\n",
    "    \"\"\"Define initial positions and desired speeds.\"\"\"\n",
    "    positions = [(1, 1), (9, 9), (1, 9), (9, 1)]\n",
    "    speeds = [1.0, 1.0, 1.0, 1.0]\n",
    "    return positions, speeds\n",
    "\n",
    "\n",
    "def define_goals_scenario1():\n",
    "    \"\"\"Define goal polygons.\"\"\"\n",
    "    goals = [\n",
    "        Polygon([(8.5, 8.5), (9.5, 8.5), (9.5, 9.5), (8.5, 9.5)]),\n",
    "        Polygon([(0.5, 0.5), (1.5, 0.5), (1.5, 1.5), (0.5, 1.5)]),\n",
    "        Polygon([(8.5, 0.5), (9.5, 0.5), (9.5, 1.5), (8.5, 1.5)]),\n",
    "        Polygon([(0.5, 8.5), (1.5, 8.5), (1.5, 9.5), (0.5, 9.5)]),\n",
    "    ]\n",
    "    return goals\n",
    "\n",
    "\n",
    "geometry = create_geometry_scenario1()\n",
    "goals = define_goals_scenario1()\n",
    "positions, speeds = define_positions_scenario1()\n",
    "plot_simulation_configuration(geometry, positions, goals)\n",
    "times_dict = {}"
   ]
  },
  {
   "cell_type": "markdown",
   "id": "6afbde36-10eb-4852-87b2-f181e2e6af5e",
   "metadata": {},
   "source": [
    "### CSM Simulation\n"
   ]
  },
  {
   "cell_type": "code",
   "execution_count": null,
   "id": "dc5ef18b-4c28-43ae-a764-5fb067d486d1",
   "metadata": {},
   "outputs": [],
   "source": [
    "model = \"CFM\"\n",
    "trajectory_file = f\"{model}.sqlite\"\n",
    "simulation = initialize_simulation(\n",
    "    jps.CollisionFreeSpeedModelV2(),\n",
    "    jps.CollisionFreeSpeedModelV2AgentParameters,\n",
    "    geometry,\n",
    "    goals,\n",
    "    positions,\n",
    "    speeds,\n",
    "    trajectory_file,\n",
    ")\n",
    "times_dict[model] = run_simulation(simulation, max_iterations=5000)\n",
    "trajectories, walkable_area = read_sqlite_file(trajectory_file)\n",
    "fig1 = animate(trajectories, walkable_area, title_note=model, every_nth_frame=5)"
   ]
  },
  {
   "cell_type": "markdown",
   "id": "3a94b4b1-c4ec-40d9-bb04-6c47559d3ff5",
   "metadata": {},
   "source": [
    "### AVM Simulation\n"
   ]
  },
  {
   "cell_type": "code",
   "execution_count": null,
   "id": "c9221227-10c5-4869-8591-7f83b16c2c46",
   "metadata": {},
   "outputs": [],
   "source": [
    "model = \"AVM\"\n",
    "trajectory_file = f\"{model}.sqlite\"\n",
    "simulation = initialize_simulation(\n",
    "    jps.AnticipationVelocityModel(),\n",
    "    jps.AnticipationVelocityModelAgentParameters,\n",
    "    geometry,\n",
    "    goals,\n",
    "    positions,\n",
    "    speeds,\n",
    "    trajectory_file,\n",
    ")\n",
    "times_dict[model] = run_simulation(simulation, max_iterations=5000)\n",
    "trajectories, walkable_area = read_sqlite_file(trajectory_file)\n",
    "fig2 = animate(trajectories, walkable_area, title_note=model, every_nth_frame=5)"
   ]
  },
  {
   "cell_type": "markdown",
   "id": "ca674e50-ff18-49ff-942e-6afd9902622f",
   "metadata": {},
   "source": [
    "### SFM Simulation\n"
   ]
  },
  {
   "cell_type": "code",
   "execution_count": null,
   "id": "d553fe0b-5f46-408b-93c2-1354be3c2d7a",
   "metadata": {},
   "outputs": [],
   "source": [
    "model = \"SFM\"\n",
    "trajectory_file = f\"{model}.sqlite\"\n",
    "simulation = initialize_simulation(\n",
    "    jps.SocialForceModel(),\n",
    "    jps.SocialForceModelAgentParameters,\n",
    "    geometry,\n",
    "    goals,\n",
    "    positions,\n",
    "    speeds,\n",
    "    trajectory_file,\n",
    ")\n",
    "times_dict[model] = run_simulation(simulation, max_iterations=5000)\n",
    "trajectories, walkable_area = read_sqlite_file(trajectory_file)\n",
    "fig3 = animate(trajectories, walkable_area, title_note=model, every_nth_frame=5)"
   ]
  },
  {
   "cell_type": "markdown",
   "id": "5ec92ce4-914d-4a08-a1e8-a12c6266f9c6",
   "metadata": {},
   "source": [
    "### GCFM Simulation\n"
   ]
  },
  {
   "cell_type": "code",
   "execution_count": null,
   "id": "f9850b99-1805-4a2e-af9e-1fa76a20dfc3",
   "metadata": {},
   "outputs": [],
   "source": [
    "model = \"GCFM\"\n",
    "trajectory_file = f\"{model}.sqlite\"\n",
    "simulation = initialize_simulation(\n",
    "    jps.GeneralizedCentrifugalForceModel(),\n",
    "    jps.GeneralizedCentrifugalForceModelAgentParameters,\n",
    "    geometry,\n",
    "    goals,\n",
    "    positions,\n",
    "    speeds,\n",
    "    trajectory_file,\n",
    ")\n",
    "times_dict[model] = run_simulation(simulation, max_iterations=5000)\n",
    "trajectories, walkable_area = read_sqlite_file(trajectory_file)\n",
    "fig4 = animate(trajectories, walkable_area, title_note=model, every_nth_frame=5)"
   ]
  },
  {
   "cell_type": "markdown",
   "id": "884203af-0af3-474e-a4a9-646ab3988478",
   "metadata": {},
   "source": [
    "### Visualization\n"
   ]
  },
  {
   "cell_type": "code",
   "execution_count": null,
   "id": "8ff1110a-b542-4966-93b7-a494a7b5a767",
   "metadata": {
    "tags": [
     "hide-input"
    ]
   },
   "outputs": [],
   "source": [
    "widgets_list = [widgets.Output() for _ in range(4)]\n",
    "figs = [fig1, fig2, fig3, fig4]\n",
    "\n",
    "# Display figures in widgets\n",
    "for widget, fig in zip(widgets_list, figs):\n",
    "    with widget:\n",
    "        fig.show()\n",
    "\n",
    "# Arrange in two rows\n",
    "row1 = widgets.HBox([widgets_list[0], widgets_list[1]])\n",
    "row2 = widgets.HBox([widgets_list[2], widgets_list[3]])\n",
    "\n",
    "# Display the 4 animations\n",
    "widgets.VBox([row1, row2])"
   ]
  },
  {
   "cell_type": "code",
   "execution_count": null,
   "id": "38454c9e-32b2-4521-9a54-5d608b7345ca",
   "metadata": {
    "tags": [
     "hide-input"
    ]
   },
   "outputs": [],
   "source": [
    "fig = plot_evacuation_times(times_dict)\n",
    "plt.show()"
   ]
  },
  {
   "cell_type": "markdown",
   "id": "790f4f70-432b-4bcd-a467-5df58259e054",
   "metadata": {},
   "source": [
    "## Scenario 2: Following Behavior\n",
    "\n",
    "A single-line setup where one agent follows another slower-moving agent, testing how the models handle speed adjustments and eventually overtaking.\n"
   ]
  },
  {
   "cell_type": "code",
   "execution_count": null,
   "id": "20c9eb29-34d3-46fc-a206-2273934b290c",
   "metadata": {
    "tags": [
     "hide-input"
    ]
   },
   "outputs": [],
   "source": [
    "def create_geometry_scenario2():\n",
    "    geometry = Polygon([(-3, -2), (16, -2), (16, 2), (-3, 2)])\n",
    "    return geometry\n",
    "\n",
    "\n",
    "def define_positions_scenario2():\n",
    "    \"\"\"Define initial positions and desired speeds.\"\"\"\n",
    "    positions = [\n",
    "        (-2, 0),\n",
    "        (2, 0),\n",
    "    ]\n",
    "    speeds = [\n",
    "        1.0,\n",
    "        0.5,\n",
    "    ]\n",
    "    return positions, speeds\n",
    "\n",
    "\n",
    "def define_goals_scenario2():\n",
    "    \"\"\"Define goal polygons.\"\"\"\n",
    "    goals = [\n",
    "        Polygon([(12, -1), (15, -1), (15, 1), (12, 1)]),\n",
    "        Polygon([(12, -1), (15, -1), (15, 1), (12, 1)]),\n",
    "    ]\n",
    "    return goals\n",
    "\n",
    "\n",
    "geometry = create_geometry_scenario2()\n",
    "positions, speeds = define_positions_scenario2()\n",
    "goals = define_goals_scenario2()\n",
    "plot_simulation_configuration(geometry, positions, goals)\n",
    "times_dict = {}"
   ]
  },
  {
   "cell_type": "markdown",
   "id": "1dc114b6-0b4f-422d-940a-8c75776f687d",
   "metadata": {},
   "source": [
    "### CSM Simulation\n"
   ]
  },
  {
   "cell_type": "code",
   "execution_count": null,
   "id": "7225ac10-e170-4733-b0ca-507516f87259",
   "metadata": {},
   "outputs": [],
   "source": [
    "model = \"CFM\"\n",
    "trajectory_file = f\"{model}.sqlite\"\n",
    "simulation = initialize_simulation(\n",
    "    jps.CollisionFreeSpeedModelV2(),\n",
    "    jps.CollisionFreeSpeedModelV2AgentParameters,\n",
    "    geometry,\n",
    "    goals,\n",
    "    positions,\n",
    "    speeds,\n",
    "    trajectory_file,\n",
    ")\n",
    "times_dict[model] = run_simulation(simulation, max_iterations=2000)\n",
    "trajectories, walkable_area = read_sqlite_file(trajectory_file)\n",
    "fig1 = animate(trajectories, walkable_area, title_note=model, every_nth_frame=5)"
   ]
  },
  {
   "cell_type": "markdown",
   "id": "0a65cae5-f2f3-4c29-b357-a6f2b1f28d1a",
   "metadata": {},
   "source": [
    "### AVM Simulation\n"
   ]
  },
  {
   "cell_type": "code",
   "execution_count": null,
   "id": "047b1727-210a-4fb5-bdd1-e7432f255193",
   "metadata": {},
   "outputs": [],
   "source": [
    "model = \"AVM\"\n",
    "trajectory_file = f\"{model}.sqlite\"\n",
    "simulation = initialize_simulation(\n",
    "    jps.AnticipationVelocityModel(),\n",
    "    jps.AnticipationVelocityModelAgentParameters,\n",
    "    geometry,\n",
    "    goals,\n",
    "    positions,\n",
    "    speeds,\n",
    "    trajectory_file,\n",
    ")\n",
    "times_dict[model] = run_simulation(simulation, max_iterations=2000)\n",
    "trajectories, walkable_area = read_sqlite_file(trajectory_file)\n",
    "fig2 = animate(trajectories, walkable_area, title_note=model, every_nth_frame=5)"
   ]
  },
  {
   "cell_type": "markdown",
   "id": "4b02fbfa-251a-43d9-97ed-ca6e5f6784ff",
   "metadata": {},
   "source": [
    "### SFM Simulation\n"
   ]
  },
  {
   "cell_type": "code",
   "execution_count": null,
   "id": "14cedaae-4b5f-4b0a-8667-a7d350e3a4d8",
   "metadata": {},
   "outputs": [],
   "source": [
    "model = \"SFM\"\n",
    "trajectory_file = f\"{model}.sqlite\"\n",
    "simulation = initialize_simulation(\n",
    "    jps.SocialForceModel(),\n",
    "    jps.SocialForceModelAgentParameters,\n",
    "    geometry,\n",
    "    goals,\n",
    "    positions,\n",
    "    speeds,\n",
    "    trajectory_file,\n",
    ")\n",
    "times_dict[model] = run_simulation(simulation, max_iterations=2000)\n",
    "trajectories, walkable_area = read_sqlite_file(trajectory_file)\n",
    "fig3 = animate(trajectories, walkable_area, title_note=model, every_nth_frame=5)"
   ]
  },
  {
   "cell_type": "markdown",
   "id": "de75158d-3073-4ef7-a17c-9d1b94f16fbc",
   "metadata": {},
   "source": [
    "### GCFM Simulation\n"
   ]
  },
  {
   "cell_type": "code",
   "execution_count": null,
   "id": "cd4b3e6f-0c34-4e18-8b62-4e9bb2464e97",
   "metadata": {},
   "outputs": [],
   "source": [
    "model = \"GCFM\"\n",
    "trajectory_file = f\"{model}.sqlite\"\n",
    "simulation = initialize_simulation(\n",
    "    jps.GeneralizedCentrifugalForceModel(),\n",
    "    jps.GeneralizedCentrifugalForceModelAgentParameters,\n",
    "    geometry,\n",
    "    goals,\n",
    "    positions,\n",
    "    speeds,\n",
    "    trajectory_file,\n",
    ")\n",
    "times_dict[model] = run_simulation(simulation, max_iterations=5000)\n",
    "trajectories, walkable_area = read_sqlite_file(trajectory_file)\n",
    "fig4 = animate(trajectories, walkable_area, title_note=model, every_nth_frame=5)"
   ]
  },
  {
   "cell_type": "markdown",
   "id": "4da400b6-72c2-4034-a10b-a4370eda8232",
   "metadata": {},
   "source": [
    "### Visualization\n"
   ]
  },
  {
   "cell_type": "code",
   "execution_count": null,
   "id": "9a094237-a8b2-49ae-96a9-013f4fe397eb",
   "metadata": {
    "tags": [
     "hide-input"
    ]
   },
   "outputs": [],
   "source": [
    "widgets_list = [widgets.Output() for _ in range(4)]\n",
    "figs = [fig1, fig2, fig3, fig4]\n",
    "\n",
    "# Display figures in widgets\n",
    "for widget, fig in zip(widgets_list, figs):\n",
    "    with widget:\n",
    "        fig.show()\n",
    "\n",
    "# Arrange in two rows\n",
    "row1 = widgets.HBox([widgets_list[0], widgets_list[1]])\n",
    "row2 = widgets.HBox([widgets_list[2], widgets_list[3]])\n",
    "\n",
    "# Display the 4 animations\n",
    "widgets.VBox([row1, row2])"
   ]
  },
  {
   "cell_type": "code",
   "execution_count": null,
   "id": "a4f33439-71a1-450a-aee2-ab102db7c787",
   "metadata": {
    "tags": [
     "hide-input"
    ]
   },
   "outputs": [],
   "source": [
    "fig = plot_evacuation_times(times_dict)\n",
    "plt.show()"
   ]
  },
  {
   "cell_type": "markdown",
   "id": "6f9f6b1f",
   "metadata": {},
   "source": [
    "## Scenario 3: Head-on Encounter\n",
    "\n",
    "Two agents approach each other on a straight line, evaluating how different models resolve direct confrontation and determine which agent yields or how they negotiate passing space.\n"
   ]
  },
  {
   "cell_type": "code",
   "execution_count": null,
   "id": "8894d9c1",
   "metadata": {
    "tags": [
     "hide-input"
    ]
   },
   "outputs": [],
   "source": [
    "def create_geometry_scenario3():\n",
    "    geometry = Polygon([(-10, -2), (10, -2), (10, 2), (-10, 2)])\n",
    "    return geometry\n",
    "\n",
    "\n",
    "def define_positions_scenario3():\n",
    "    \"\"\"Define initial positions and desired speeds.\"\"\"\n",
    "    positions = [\n",
    "        (-2, 0),\n",
    "        (2, 0),\n",
    "    ]\n",
    "    speeds = [\n",
    "        1.0,\n",
    "        1.0,\n",
    "    ]\n",
    "    return positions, speeds\n",
    "\n",
    "\n",
    "def define_goals_scenario3():\n",
    "    \"\"\"Define goal polygons.\"\"\"\n",
    "    goals = [\n",
    "        Polygon([(6, -1), (9, -1), (9, 1), (6, 1)]),\n",
    "        Polygon([(-9, -1), (-6, -1), (-6, 1), (-9, 1)]),\n",
    "    ]\n",
    "    return goals\n",
    "\n",
    "\n",
    "geometry = create_geometry_scenario3()\n",
    "positions, speeds = define_positions_scenario3()\n",
    "goals = define_goals_scenario3()\n",
    "plot_simulation_configuration(geometry, positions, goals)\n",
    "times_dict = {}"
   ]
  },
  {
   "cell_type": "markdown",
   "id": "5deb294f",
   "metadata": {},
   "source": [
    "### CSM Simulation\n"
   ]
  },
  {
   "cell_type": "code",
   "execution_count": null,
   "id": "acdfbfcd",
   "metadata": {},
   "outputs": [],
   "source": [
    "model = \"CFM\"\n",
    "trajectory_file = f\"{model}.sqlite\"\n",
    "simulation = initialize_simulation(\n",
    "    jps.CollisionFreeSpeedModelV2(),\n",
    "    jps.CollisionFreeSpeedModelV2AgentParameters,\n",
    "    geometry,\n",
    "    goals,\n",
    "    positions,\n",
    "    speeds,\n",
    "    trajectory_file,\n",
    ")\n",
    "times_dict[model] = run_simulation(simulation, max_iterations=2000)\n",
    "trajectories, walkable_area = read_sqlite_file(trajectory_file)\n",
    "fig1 = animate(trajectories, walkable_area, title_note=model, every_nth_frame=5)"
   ]
  },
  {
   "cell_type": "code",
   "execution_count": null,
   "id": "6daeafcb-cafc-43ed-932a-a91e6e0ad42e",
   "metadata": {},
   "outputs": [],
   "source": [
    "print(times_dict)"
   ]
  },
  {
   "cell_type": "markdown",
   "id": "2fbf4d77",
   "metadata": {},
   "source": [
    "### AVM Simulation\n"
   ]
  },
  {
   "cell_type": "code",
   "execution_count": null,
   "id": "6e1657f8",
   "metadata": {},
   "outputs": [],
   "source": [
    "model = \"AVM\"\n",
    "trajectory_file = f\"{model}.sqlite\"\n",
    "simulation = initialize_simulation(\n",
    "    jps.AnticipationVelocityModel(),\n",
    "    jps.AnticipationVelocityModelAgentParameters,\n",
    "    geometry,\n",
    "    goals,\n",
    "    positions,\n",
    "    speeds,\n",
    "    trajectory_file,\n",
    ")\n",
    "times_dict[model] = run_simulation(simulation, max_iterations=2000)\n",
    "trajectories, walkable_area = read_sqlite_file(trajectory_file)\n",
    "fig2 = animate(trajectories, walkable_area, title_note=model, every_nth_frame=5)"
   ]
  },
  {
   "cell_type": "markdown",
   "id": "2448d825",
   "metadata": {},
   "source": [
    "### SFM Simulation\n"
   ]
  },
  {
   "cell_type": "code",
   "execution_count": null,
   "id": "5a5fdb29",
   "metadata": {},
   "outputs": [],
   "source": [
    "model = \"SFM\"\n",
    "trajectory_file = f\"{model}.sqlite\"\n",
    "simulation = initialize_simulation(\n",
    "    jps.SocialForceModel(),\n",
    "    jps.SocialForceModelAgentParameters,\n",
    "    geometry,\n",
    "    goals,\n",
    "    positions,\n",
    "    speeds,\n",
    "    trajectory_file,\n",
    ")\n",
    "times_dict[model] = run_simulation(simulation, max_iterations=2000)\n",
    "trajectories, walkable_area = read_sqlite_file(trajectory_file)\n",
    "fig3 = animate(trajectories, walkable_area, title_note=model, every_nth_frame=5)"
   ]
  },
  {
   "cell_type": "markdown",
   "id": "24f23728",
   "metadata": {},
   "source": [
    "### GCFM Simulation\n"
   ]
  },
  {
   "cell_type": "code",
   "execution_count": null,
   "id": "12c632de",
   "metadata": {},
   "outputs": [],
   "source": [
    "model = \"GCFM\"\n",
    "trajectory_file = f\"{model}.sqlite\"\n",
    "simulation = initialize_simulation(\n",
    "    jps.GeneralizedCentrifugalForceModel(),\n",
    "    jps.GeneralizedCentrifugalForceModelAgentParameters,\n",
    "    geometry,\n",
    "    goals,\n",
    "    positions,\n",
    "    speeds,\n",
    "    trajectory_file,\n",
    ")\n",
    "times_dict[model] = run_simulation(simulation, max_iterations=5000)\n",
    "trajectories, walkable_area = read_sqlite_file(trajectory_file)\n",
    "fig4 = animate(trajectories, walkable_area, title_note=model, every_nth_frame=5)"
   ]
  },
  {
   "cell_type": "markdown",
   "id": "a9848f9e",
   "metadata": {},
   "source": [
    "### Visualization\n"
   ]
  },
  {
   "cell_type": "code",
   "execution_count": null,
   "id": "878ad684",
   "metadata": {
    "tags": [
     "hide-input"
    ]
   },
   "outputs": [],
   "source": [
    "widgets_list = [widgets.Output() for _ in range(4)]\n",
    "figs = [fig1, fig2, fig3, fig4]\n",
    "\n",
    "# Display figures in widgets\n",
    "for widget, fig in zip(widgets_list, figs):\n",
    "    with widget:\n",
    "        fig.show()\n",
    "\n",
    "# Arrange in two rows\n",
    "row1 = widgets.HBox([widgets_list[0], widgets_list[1]])\n",
    "row2 = widgets.HBox([widgets_list[2], widgets_list[3]])\n",
    "\n",
    "# Display the 4 animations\n",
    "widgets.VBox([row1, row2])"
   ]
  },
  {
   "cell_type": "code",
   "execution_count": null,
   "id": "9926f3b0-d1c4-4e38-9071-71b20298ed25",
   "metadata": {
    "tags": [
     "hide-input"
    ]
   },
   "outputs": [],
   "source": [
    "fig = plot_evacuation_times(times_dict)\n",
    "plt.show()"
   ]
  },
  {
   "cell_type": "markdown",
   "id": "478351a0",
   "metadata": {},
   "source": [
    "## Scenario 4: Perpendicular Crossing\n",
    "\n",
    "Two agents move on intersecting paths - one traveling upward and another moving left to right - creating a potential collision point. This tests how models handle collision avoidance when agents approach at right angles.\n"
   ]
  },
  {
   "cell_type": "code",
   "execution_count": null,
   "id": "86c2b199",
   "metadata": {
    "tags": [
     "hide-input"
    ]
   },
   "outputs": [],
   "source": [
    "def create_geometry_scenario4():\n",
    "    geometry = Polygon([(-6, -6), (6, -6), (6, 6), (-6, 6)])\n",
    "    return geometry\n",
    "\n",
    "\n",
    "def define_positions_scenario4():\n",
    "    \"\"\"Define initial positions and desired speeds.\"\"\"\n",
    "    positions = [(-2, 0), (0, -2)]\n",
    "    speeds = [1.0, 0.99]\n",
    "    return positions, speeds\n",
    "\n",
    "\n",
    "def define_goals_scenario4():\n",
    "    \"\"\"Define goal polygons.\"\"\"\n",
    "    goals = [\n",
    "        Polygon([(5, -2), (6, -2), (6, 2), (5, 2)]),\n",
    "        Polygon([(-2, 5), (-2, 6), (2, 6), (2, 5)]),\n",
    "    ]\n",
    "    return goals\n",
    "\n",
    "\n",
    "geometry = create_geometry_scenario4()\n",
    "positions, speeds = define_positions_scenario4()\n",
    "goals = define_goals_scenario4()\n",
    "plot_simulation_configuration(geometry, positions, goals)\n",
    "times_dict = {}"
   ]
  },
  {
   "cell_type": "markdown",
   "id": "29092296",
   "metadata": {},
   "source": [
    "### CSM Simulation\n"
   ]
  },
  {
   "cell_type": "code",
   "execution_count": null,
   "id": "5683d076",
   "metadata": {},
   "outputs": [],
   "source": [
    "model = \"CFM\"\n",
    "trajectory_file = f\"{model}.sqlite\"\n",
    "simulation = initialize_simulation(\n",
    "    jps.CollisionFreeSpeedModelV2(),\n",
    "    jps.CollisionFreeSpeedModelV2AgentParameters,\n",
    "    geometry,\n",
    "    goals,\n",
    "    positions,\n",
    "    speeds,\n",
    "    trajectory_file,\n",
    ")\n",
    "times_dict[model] = run_simulation(simulation, max_iterations=2000)\n",
    "trajectories, walkable_area = read_sqlite_file(trajectory_file)\n",
    "fig1 = animate(trajectories, walkable_area, title_note=model, every_nth_frame=5)"
   ]
  },
  {
   "cell_type": "markdown",
   "id": "f1767999",
   "metadata": {},
   "source": [
    "### AVM Simulation\n"
   ]
  },
  {
   "cell_type": "code",
   "execution_count": null,
   "id": "9ac17a40",
   "metadata": {},
   "outputs": [],
   "source": [
    "model = \"AVM\"\n",
    "trajectory_file = f\"{model}.sqlite\"\n",
    "simulation = initialize_simulation(\n",
    "    jps.AnticipationVelocityModel(),\n",
    "    jps.AnticipationVelocityModelAgentParameters,\n",
    "    geometry,\n",
    "    goals,\n",
    "    positions,\n",
    "    speeds,\n",
    "    trajectory_file,\n",
    ")\n",
    "times_dict[model] = run_simulation(simulation, max_iterations=2000)\n",
    "trajectories, walkable_area = read_sqlite_file(trajectory_file)\n",
    "fig2 = animate(trajectories, walkable_area, title_note=model, every_nth_frame=5)"
   ]
  },
  {
   "cell_type": "markdown",
   "id": "d6a75e02",
   "metadata": {},
   "source": [
    "### SFM Simulation\n"
   ]
  },
  {
   "cell_type": "code",
   "execution_count": null,
   "id": "14e13c6b",
   "metadata": {},
   "outputs": [],
   "source": [
    "model = \"SFM\"\n",
    "trajectory_file = f\"{model}.sqlite\"\n",
    "simulation = initialize_simulation(\n",
    "    jps.SocialForceModel(),\n",
    "    jps.SocialForceModelAgentParameters,\n",
    "    geometry,\n",
    "    goals,\n",
    "    positions,\n",
    "    speeds,\n",
    "    trajectory_file,\n",
    ")\n",
    "times_dict[model] = run_simulation(simulation, max_iterations=2000)\n",
    "trajectories, walkable_area = read_sqlite_file(trajectory_file)\n",
    "fig3 = animate(trajectories, walkable_area, title_note=model, every_nth_frame=5)"
   ]
  },
  {
   "cell_type": "markdown",
   "id": "cbfbde63",
   "metadata": {},
   "source": [
    "### GCFM Simulation\n"
   ]
  },
  {
   "cell_type": "code",
   "execution_count": null,
   "id": "20edcdd7",
   "metadata": {},
   "outputs": [],
   "source": [
    "model = \"GCFM\"\n",
    "trajectory_file = f\"{model}.sqlite\"\n",
    "simulation = initialize_simulation(\n",
    "    jps.GeneralizedCentrifugalForceModel(),\n",
    "    jps.GeneralizedCentrifugalForceModelAgentParameters,\n",
    "    geometry,\n",
    "    goals,\n",
    "    positions,\n",
    "    speeds,\n",
    "    trajectory_file,\n",
    ")\n",
    "times_dict[model] = run_simulation(simulation, max_iterations=2000)\n",
    "trajectories, walkable_area = read_sqlite_file(trajectory_file)\n",
    "fig4 = animate(trajectories, walkable_area, title_note=model, every_nth_frame=5)"
   ]
  },
  {
   "cell_type": "markdown",
   "id": "79db3354",
   "metadata": {},
   "source": [
    "### Visualization\n"
   ]
  },
  {
   "cell_type": "code",
   "execution_count": null,
   "id": "438d9a5d",
   "metadata": {
    "tags": [
     "hide-input"
    ]
   },
   "outputs": [],
   "source": [
    "widgets_list = [widgets.Output() for _ in range(4)]\n",
    "figs = [fig1, fig2, fig3, fig4]\n",
    "\n",
    "# Display figures in widgets\n",
    "for widget, fig in zip(widgets_list, figs):\n",
    "    with widget:\n",
    "        fig.show()\n",
    "\n",
    "# Arrange in two rows\n",
    "row1 = widgets.HBox([widgets_list[0], widgets_list[1]])\n",
    "row2 = widgets.HBox([widgets_list[2], widgets_list[3]])\n",
    "\n",
    "# Display the 4 animations\n",
    "widgets.VBox([row1, row2])"
   ]
  },
  {
   "cell_type": "code",
   "execution_count": null,
   "id": "5cfe84e2-4c16-4b44-b4d7-69c83bd662e0",
   "metadata": {
    "tags": [
     "hide-input"
    ]
   },
   "outputs": [],
   "source": [
    "fig = plot_evacuation_times(times_dict)\n",
    "plt.show()"
   ]
  }
 ],
 "metadata": {
  "kernelspec": {
   "display_name": ".vnenv",
   "language": "python",
   "name": "python3"
  },
  "language_info": {
   "codemirror_mode": {
    "name": "ipython",
    "version": 3
   },
   "file_extension": ".py",
   "mimetype": "text/x-python",
   "name": "python",
   "nbconvert_exporter": "python",
   "pygments_lexer": "ipython3",
   "version": "3.12.8"
  }
 },
 "nbformat": 4,
 "nbformat_minor": 5
}

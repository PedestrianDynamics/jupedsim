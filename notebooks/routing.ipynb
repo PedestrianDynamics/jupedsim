{
 "cells": [
  {
   "cell_type": "markdown",
   "metadata": {},
   "source": [
    "# How Route Choice can Impact Evacuation Times\n",
    "\n",
    "This notebook can be directly downloaded {download}`here <./routing.ipynb>` to run it locally.\n",
    "\n",
    "In this demonstration, we'll be simulating a room with a single exit. \n",
    "We'll place two distinct groups of agents in a designated zone within the room. \n",
    "Each group will be assigned a specific route to reach the exit: \n",
    "one group will follow the shortest path, while the other will take a longer detour.\n",
    "\n",
    "To chart these paths, we'll use several waypoints, creating unique journeys for the agents to navigate.\n",
    "\n",
    "## Configuring the Room Layout\n",
    "\n",
    "For our simulation, we'll utilize a square-shaped room with dimensions of 20 meters by 20 meters. \n",
    "Inside, obstacles will be strategically placed to segment the room and guide both agent groups."
   ]
  },
  {
   "cell_type": "code",
   "execution_count": null,
   "metadata": {
    "tags": [
     "hide-input"
    ]
   },
   "outputs": [],
   "source": [
    "import pathlib\n",
    "\n",
    "import jupedsim as jps\n",
    "import matplotlib.pyplot as plt\n",
    "import pedpy\n",
    "import shapely\n",
    "from matplotlib.patches import Circle\n",
    "from shapely import Polygon\n",
    "\n",
    "%matplotlib inline"
   ]
  },
  {
   "cell_type": "code",
   "execution_count": null,
   "metadata": {},
   "outputs": [],
   "source": [
    "complete_area = Polygon(\n",
    "    [\n",
    "        (0, 0),\n",
    "        (0, 20),\n",
    "        (20, 20),\n",
    "        (20, 0),\n",
    "    ]\n",
    ")\n",
    "obstacles = [\n",
    "    Polygon(\n",
    "        [\n",
    "            (5, 0.0),\n",
    "            (5, 16),\n",
    "            (5.2, 16),\n",
    "            (5.2, 0.0),\n",
    "        ]\n",
    "    ),\n",
    "    Polygon([(15, 19), (15, 5), (7.2, 5), (7.2, 4.8), (15.2, 4.8), (15.2, 19)]),\n",
    "]\n",
    "\n",
    "exit_polygon = [(19, 19), (20, 19), (20, 20), (19, 20)]\n",
    "waypoints = [([3, 19], 3), ([7, 19], 2), ([7, 2.5], 2), ([17.5, 2.5], 2)]\n",
    "distribution_polygon = Polygon([[0, 0], [5, 0], [5, 10], [0, 10]])\n",
    "obstacle = shapely.union_all(obstacles)\n",
    "walkable_area = pedpy.WalkableArea(shapely.difference(complete_area, obstacle))"
   ]
  },
  {
   "cell_type": "code",
   "execution_count": null,
   "metadata": {
    "tags": [
     "hide-input"
    ]
   },
   "outputs": [],
   "source": [
    "fig, ax = plt.subplots(nrows=1, ncols=1)\n",
    "ax.set_aspect(\"equal\")\n",
    "pedpy.plot_walkable_area(walkable_area=walkable_area, axes=ax)\n",
    "\n",
    "for idx, (waypoint, distance) in enumerate(waypoints):\n",
    "    ax.plot(waypoint[0], waypoint[1], \"ro\")\n",
    "    ax.annotate(\n",
    "        f\"WP {idx+1}\",\n",
    "        (waypoint[0], waypoint[1]),\n",
    "        textcoords=\"offset points\",\n",
    "        xytext=(10, -15),\n",
    "        ha=\"center\",\n",
    "    )\n",
    "    circle = Circle(\n",
    "        (waypoint[0], waypoint[1]), distance, fc=\"red\", ec=\"red\", alpha=0.1\n",
    "    )\n",
    "    ax.add_patch(circle)\n",
    "\n",
    "x, y = Polygon(exit_polygon).exterior.xy\n",
    "plt.fill(x, y, alpha=0.1, color=\"orange\")\n",
    "centroid = Polygon(exit_polygon).centroid\n",
    "plt.text(centroid.x, centroid.y, \"Exit\", ha=\"center\", va=\"center\", fontsize=8)\n",
    "\n",
    "x, y = distribution_polygon.exterior.xy\n",
    "plt.fill(x, y, alpha=0.1, color=\"blue\")\n",
    "centroid = distribution_polygon.centroid\n",
    "plt.text(centroid.x, centroid.y, \"Start\", ha=\"center\", va=\"center\", fontsize=10)"
   ]
  },
  {
   "cell_type": "markdown",
   "metadata": {},
   "source": [
    "## Configuration of Simulation Scenarios\n",
    "<a id=\"model\"></a>\n",
    "With our room geometry in place, the next step is to define the simulation object, the operational model and its corresponding parameters. In this demonstration, we'll use the \"collision-free\" model.\n",
    "\n",
    "We'll outline an array of percentage values, allowing us to adjust the sizes of the two groups across multiple simulations. As a result, creating distinct simulation objects for each scenario becomes essential."
   ]
  },
  {
   "cell_type": "code",
   "execution_count": null,
   "metadata": {},
   "outputs": [],
   "source": [
    "simulations = {}\n",
    "percentages = [0, 20, 40, 50, 60, 70, 100]\n",
    "total_agents = 100\n",
    "for percentage in percentages:\n",
    "    trajectory_file = f\"trajectories_percentage_{percentage}.sqlite\"\n",
    "    simulation = jps.Simulation(\n",
    "        dt=0.05,\n",
    "        model=jps.CollisionFreeSpeedModel(\n",
    "            strength_neighbor_repulsion=2.6,\n",
    "            range_neighbor_repulsion=0.1,\n",
    "            range_geometry_repulsion=0.05,\n",
    "        ),\n",
    "        geometry=walkable_area.polygon,\n",
    "        trajectory_writer=jps.SqliteTrajectoryWriter(\n",
    "            output_file=pathlib.Path(trajectory_file),\n",
    "        ),\n",
    "    )\n",
    "    simulations[percentage] = simulation"
   ]
  },
  {
   "cell_type": "markdown",
   "metadata": {},
   "source": [
    "## Outlining Agent Journeys\n",
    "\n",
    "Having established the base configurations, it's time to outline the routes our agents will take. \n",
    "We've designated two distinct pathways:\n",
    "\n",
    "- The first route is a direct path, guiding agents along the shortest distance to the exit.\n",
    "- The second route, in contrast, takes agents on a more extended journey, guiding them along the longest distance to reach the same exit.\n",
    "\n",
    "These variations in routing are designed to showcase how agents navigate and respond under different evacuation strategies."
   ]
  },
  {
   "cell_type": "code",
   "execution_count": null,
   "metadata": {},
   "outputs": [],
   "source": [
    "def set_journeys(simulation):\n",
    "    exit_id = simulation.add_exit_stage(exit_polygon)\n",
    "    waypoint_ids = []\n",
    "    for waypoint, distance in waypoints:\n",
    "        waypoint_ids.append(simulation.add_waypoint_stage(waypoint, distance))\n",
    "\n",
    "    long_journey = jps.JourneyDescription([*waypoint_ids[:], exit_id])\n",
    "    for idx, waypoint in enumerate(waypoint_ids):\n",
    "        next_waypoint = (\n",
    "            exit_id if idx == len(waypoint_ids) - 1 else waypoint_ids[idx + 1]\n",
    "        )\n",
    "        long_journey.set_transition_for_stage(\n",
    "            waypoint, jps.Transition.create_fixed_transition(next_waypoint)\n",
    "        )\n",
    "\n",
    "    short_journey = jps.JourneyDescription([waypoint_ids[0], exit_id])\n",
    "    short_journey.set_transition_for_stage(\n",
    "        waypoint_ids[0], jps.Transition.create_fixed_transition(exit_id)\n",
    "    )\n",
    "\n",
    "    long_journey_id = simulation.add_journey(long_journey)\n",
    "    short_journey_id = simulation.add_journey(short_journey)\n",
    "    return short_journey_id, long_journey_id, waypoint_ids[0]"
   ]
  },
  {
   "cell_type": "markdown",
   "metadata": {},
   "source": [
    "## Allocation and Configuration of Agents\n",
    "<a id=\"distribution\"></a>\n",
    "With our environment set up, it's time to introduce and configure the agents, utilizing the parameters we've previously discussed. We're going to place agents in two distinct groups, the proportion of which will be determined by the specified percentage parameter.\n",
    "\n",
    "- The first group will be directed to take the longer route to the exit.\n",
    "- Conversely, the second group will be guided along the shortest path to reach the exit.\n",
    "\n",
    "By doing so, we aim to observe and analyze the behaviors and dynamics between these two groups under varying evacuation strategies."
   ]
  },
  {
   "cell_type": "code",
   "execution_count": null,
   "metadata": {},
   "outputs": [],
   "source": [
    "positions = jps.distribute_by_number(\n",
    "    polygon=distribution_polygon,\n",
    "    number_of_agents=total_agents,\n",
    "    distance_to_agents=0.4,\n",
    "    distance_to_polygon=0.7,\n",
    "    seed=45131502,\n",
    ")"
   ]
  },
  {
   "cell_type": "markdown",
   "metadata": {},
   "source": [
    "**Reminder:**\n",
    "\n",
    "Given that the journey operates as a graph, it's essential to designate the initial target for the agents by setting the `stage_id`."
   ]
  },
  {
   "cell_type": "markdown",
   "metadata": {},
   "source": [
    "## Launching the Simulations\n",
    "\n",
    "Having  configured our environment, agents, and routes, we are now poised to set the simulation into motion. For the purposes of this demonstration, agent trajectories throughout the simulation will be systematically captured and stored within an SQLite database. This will allow for a detailed post-analysis of agent behaviors and movement patterns.\n",
    "\n",
    "**Note**\n",
    "Given that we've set the time step at $dt=0.05$ seconds and aim to restrict the simulation duration to approximately 2 minutes, we will cap the number of iterations per simulation to 3000."
   ]
  },
  {
   "cell_type": "code",
   "execution_count": null,
   "metadata": {},
   "outputs": [],
   "source": [
    "trajectory_files = {}\n",
    "for percentage, simulation in simulations.items():\n",
    "    short_journey_id, long_journey_id, first_waypoint_id = set_journeys(\n",
    "        simulation\n",
    "    )\n",
    "\n",
    "    num_items = int(len(positions) * (percentage / 100.0))\n",
    "\n",
    "    for position in positions[num_items:]:\n",
    "        simulation.add_agent(\n",
    "            jps.CollisionFreeSpeedModelAgentParameters(\n",
    "                position=position,\n",
    "                journey_id=short_journey_id,\n",
    "                stage_id=first_waypoint_id,\n",
    "            )\n",
    "        )\n",
    "\n",
    "    for position in positions[:num_items]:\n",
    "        simulation.add_agent(\n",
    "            jps.CollisionFreeSpeedModelAgentParameters(\n",
    "                position=position,\n",
    "                journey_id=long_journey_id,\n",
    "                stage_id=first_waypoint_id,\n",
    "            )\n",
    "        )\n",
    "\n",
    "    while simulation.agent_count() > 0 and simulation.iteration_count() < 3000:\n",
    "        simulation.iterate()\n",
    "\n",
    "    trajectory_file = f\"trajectories_percentage_{percentage}.sqlite\"\n",
    "    trajectory_files[percentage] = trajectory_file"
   ]
  },
  {
   "cell_type": "markdown",
   "metadata": {},
   "source": [
    "## Visualizing Agent Pathways\n",
    "\n",
    "To gain insights into the movement patterns of our agents, we'll visualize their trajectories. Data for this endeavor will be pulled directly from the SQLite database we've previously populated. "
   ]
  },
  {
   "cell_type": "code",
   "execution_count": null,
   "metadata": {},
   "outputs": [],
   "source": [
    "from jupedsim.internal.notebook_utils import animate, read_sqlite_file\n",
    "\n",
    "agent_trajectories = {}\n",
    "for percentage in percentages:\n",
    "    trajectory_file = trajectory_files[percentage]\n",
    "    agent_trajectories[percentage], walkable_area = read_sqlite_file(\n",
    "        trajectory_file\n",
    "    )\n",
    "    animate(\n",
    "        agent_trajectories[percentage],\n",
    "        walkable_area,\n",
    "        title_note=f\"Percentage: {percentage}%\",\n",
    "    ).show()"
   ]
  },
  {
   "cell_type": "code",
   "execution_count": null,
   "metadata": {},
   "outputs": [],
   "source": [
    "evac_times = []\n",
    "for percentage, traj in agent_trajectories.items():\n",
    "    t_evac = traj.data[\"frame\"].max() / traj.frame_rate\n",
    "    evac_times.append(t_evac)"
   ]
  },
  {
   "cell_type": "code",
   "execution_count": null,
   "metadata": {
    "tags": [
     "hide-input"
    ]
   },
   "outputs": [],
   "source": [
    "import plotly.graph_objects as go\n",
    "\n",
    "fig = go.Figure()\n",
    "\n",
    "fig.add_trace(\n",
    "    go.Scatter(\n",
    "        x=list(agent_trajectories.keys()),\n",
    "        y=evac_times,\n",
    "        marker=dict(size=10),\n",
    "        mode=\"lines+markers\",\n",
    "        name=\"Evacuation Times\",\n",
    "    )\n",
    ")\n",
    "\n",
    "fig.update_layout(\n",
    "    title=\"Evacuation Times vs. Percentages\",\n",
    "    xaxis_title=\"Percentage %\",\n",
    "    yaxis_title=\"Evacuation Time (s)\",\n",
    ")\n",
    "\n",
    "fig.show()"
   ]
  },
  {
   "cell_type": "markdown",
   "metadata": {},
   "source": [
    "## Summary and Discussion\n",
    "\n",
    "In our simulated scenario, agents are presented with two distinct paths: a direct route that is shorter but prone to congestion and a detour. \n",
    "Given the high volume of individuals arriving at door 1, relying solely on one door's capacity proves impractical.\n",
    "\n",
    "Although the alternate path through door 2 may be considerably longer in distance, it becomes crucial to utilize both doors in order to alleviate congestion and reduce waiting times at door 1.\n",
    "The findings from our simulation align with this rationale. \n",
    "\n",
    "To optimize both average and peak arrival times, approximately 40% of individuals should choose the longer journey via door 2, which is in accordance with the results reported in this [paper](https://collective-dynamics.eu/index.php/cod/article/view/A24).\n",
    "This strategic distribution ensures smoother flow dynamics and contributes towards enhancing evacuation efficiency.\n",
    "\n",
    "Note, that in  we used a fixed seed number to distribute the agents. To get a reliable result  for this specific scenario, one should repeat the simulations many times for the sake of some statistical relevance.\n",
    "\n",
    "Please note that in the section [Allocation and Configuration of Agents](#distribution), we employed a consistent seed number for agent distribution. For dependable outcomes, it's advised to run the simulations multiple times to ensure statistical significance. Morover, more percentage values between 0 and 100 will enhance the quality of the results."
   ]
  },
  {
   "cell_type": "markdown",
   "metadata": {},
   "source": [
    "# Download\n",
    "\n",
    "This notebook can be directly downloaded {download}`here <./routing.ipynb>` to run it locally."
   ]
  }
 ],
 "metadata": {
  "kernelspec": {
   "display_name": "Python 3 (ipykernel)",
   "language": "python",
   "name": "python3"
  },
  "language_info": {
   "codemirror_mode": {
    "name": "ipython",
    "version": 3
   },
   "file_extension": ".py",
   "mimetype": "text/x-python",
   "name": "python",
   "nbconvert_exporter": "python",
   "pygments_lexer": "ipython3",
   "version": "3.11.5"
  }
 },
 "nbformat": 4,
 "nbformat_minor": 4
}

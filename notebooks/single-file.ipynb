{
 "cells": [
  {
   "cell_type": "code",
   "execution_count": 1,
   "metadata": {
    "tags": [
     "hide-input"
    ]
   },
   "outputs": [
    {
     "name": "stderr",
     "output_type": "stream",
     "text": [
      "/var/folders/68/h1h7hy7n4bq5w69q7qdrrtvc0000gn/T/ipykernel_12936/3822242443.py:2: DeprecationWarning: \n",
      "Pyarrow will become a required dependency of pandas in the next major release of pandas (pandas 3.0),\n",
      "(to allow more performant data types, such as the Arrow string type, and better interoperability with other libraries)\n",
      "but was not found to be installed on your system.\n",
      "If this would cause problems for you,\n",
      "please provide us feedback at https://github.com/pandas-dev/pandas/issues/54466\n",
      "        \n",
      "  import pandas as pd\n"
     ]
    }
   ],
   "source": [
    "import pathlib\n",
    "\n",
    "# from matplotlib.patches import Circle\n",
    "from typing import Dict, List, Tuple\n",
    "\n",
    "import jupedsim as jps\n",
    "import matplotlib.pyplot as plt\n",
    "import numpy as np\n",
    "import pedpy\n",
    "import shapely\n",
    "from shapely import Polygon\n",
    "\n",
    "%matplotlib inline"
   ]
  },
  {
   "cell_type": "markdown",
   "metadata": {},
   "source": [
    "# Simulating Single-File Movement\n",
    "\n",
    "This notebook can be directly downloaded {download}`here <./single-file.ipynb>` to run it locally.\n",
    "\n",
    "Pedestrian dynamics often focuses on the relationship between two key variables: density and either flow or velocity. The relationship is often visualized in what's termed as the fundamental diagram. By quantifying the capacity of pedestrian facilities, it serves as an essential tool for evaluating escape routes in emergencies and determining the effectiveness of various pedestrian movement models when depicting pedestrian streams.\n",
    "\n",
    "A fundamental question arises: how does one investigate the intricacies of the fundamental diagram without the interference of external factors? \n",
    "\n",
    "Single-file movement presents the simplest possible system in pedestrian dynamics. It is envisioned as the unidirectional motion of individuals moving along a straight line, thereby considerably reducing the degrees of freedom. In essence, by stripping down the system to this basic representation, it limits the external factors that might affect the outcomes. As a result, any observations or patterns detected can be attributed with higher confidence to the direct interplay between density and flow, providing a clearer understanding of the fundamental diagram.\n",
    "\n",
    "In this tutorial, we'll simulate with JuPedSim a simplified geometry with closed boundary conditions acording to [Paetzke](https://doi.org/10.3390/app13095450).\n",
    "\n",
    "![](./demo-data/single-file/single-file.png)"
   ]
  },
  {
   "cell_type": "code",
   "execution_count": 2,
   "metadata": {
    "tags": [
     "hide-input"
    ]
   },
   "outputs": [],
   "source": [
    "def generate_oval_shape_points(\n",
    "    num_points: int,\n",
    "    length: float = 2.3,\n",
    "    radius: float = 1.65,\n",
    "    start: Tuple[float, float] = (0.0, 0.0),\n",
    "    dx: float = 0.2,\n",
    "    threshold: float = 0.5,\n",
    "):\n",
    "    \"\"\"Generate points on a closed setup with two segments and two half circles.\"\"\"\n",
    "    points = [start]\n",
    "    selected_points = [start]\n",
    "    last_selected = start  # keep track of the last selected point\n",
    "\n",
    "    # Define the points' generating functions\n",
    "    def dist(p1, p2):\n",
    "        return ((p1[0] - p2[0]) ** 2 + (p1[1] - p2[1]) ** 2) ** 0.5\n",
    "\n",
    "    # Calculate dphi based on the dx and radius\n",
    "    dphi = dx / radius\n",
    "\n",
    "    center2 = (start[0] + length, start[1] + radius)\n",
    "    center1 = (start[0], start[1] + radius)\n",
    "\n",
    "    npoint_on_segment = int(length / dx)\n",
    "\n",
    "    # first segment\n",
    "    for i in range(1, npoint_on_segment + 1):\n",
    "        tmp_point = (start[0] + i * dx, start[1])\n",
    "        points.append(tmp_point)\n",
    "        if dist(tmp_point, last_selected) >= threshold:\n",
    "            selected_points.append(tmp_point)\n",
    "            last_selected = tmp_point\n",
    "\n",
    "    # first half circle\n",
    "    for phi in np.arange(-np.pi / 2, np.pi / 2, dphi):\n",
    "        x = center2[0] + radius * np.cos(phi)\n",
    "        y = center2[1] + radius * np.sin(phi)\n",
    "        tmp_point = (x, y)\n",
    "        points.append(tmp_point)\n",
    "        if dist(tmp_point, last_selected) >= threshold:\n",
    "            selected_points.append(tmp_point)\n",
    "            last_selected = tmp_point\n",
    "\n",
    "    # second segment\n",
    "    for i in range(1, npoint_on_segment + 1):\n",
    "        tmp_point = (\n",
    "            start[0] + (npoint_on_segment + 1) * dx - i * dx,\n",
    "            start[1] + 2 * radius,\n",
    "        )\n",
    "        points.append(tmp_point)\n",
    "        if dist(tmp_point, last_selected) >= threshold:\n",
    "            selected_points.append(tmp_point)\n",
    "            last_selected = tmp_point\n",
    "\n",
    "    # second half circle\n",
    "    for phi in np.arange(np.pi / 2, 3 * np.pi / 2 - dphi, dphi):\n",
    "        x = center1[0] + radius * np.cos(phi)\n",
    "        y = center1[1] + radius * np.sin(phi)\n",
    "        tmp_point = (x, y)\n",
    "        points.append(tmp_point)\n",
    "        if dist(tmp_point, last_selected) >= threshold:\n",
    "            selected_points.append(tmp_point)\n",
    "            last_selected = tmp_point\n",
    "\n",
    "    if dist(selected_points[-1], start) < threshold:\n",
    "        selected_points.pop()\n",
    "    if num_points > len(selected_points):\n",
    "        print(f\"warning: {num_points} > Allowed: {len(selected_points)}\")\n",
    "\n",
    "    selected_points = selected_points[:num_points]\n",
    "    return points, selected_points"
   ]
  },
  {
   "cell_type": "code",
   "execution_count": 3,
   "metadata": {},
   "outputs": [],
   "source": [
    "_, exterior = generate_oval_shape_points(\n",
    "    48, radius=1.65 + 0.4, start=(0, -0.4), threshold=0.2\n",
    ")\n",
    "_, interior = generate_oval_shape_points(\n",
    "    35, radius=1.65 - 0.4, start=(0, 0.4), threshold=0.2\n",
    ")\n",
    "walkable_area = pedpy.WalkableArea(\n",
    "    shapely.difference(Polygon(exterior), Polygon(interior))\n",
    ")"
   ]
  },
  {
   "cell_type": "code",
   "execution_count": 4,
   "metadata": {
    "tags": [
     "hide-inpput"
    ]
   },
   "outputs": [],
   "source": [
    "def find_nearest_clockwise_waypoint(position, all_points, waypoints):\n",
    "    idx = all_points.index(position)\n",
    "    while True:\n",
    "        idx = (idx + 1) % len(all_points)\n",
    "        if all_points[idx] in waypoints:\n",
    "            return all_points[idx]"
   ]
  },
  {
   "cell_type": "markdown",
   "metadata": {},
   "source": [
    "## Scenario Overview\n",
    "\n",
    "Let's begin by positioning $N$ agents along the central path within our specified geometry. This particular geometry presents an interesting challenge; though our goal is to simulate a movement akin to 1D, where agents traverse a straight line, the line here is bent.\n",
    "\n",
    "We will set up the waypoints and agent positions based on the circuit illustrated by the dashed line in the preceding figure.\n",
    "\n",
    "Each agent will be assigned its initial waypoint to aim for.\n"
   ]
  },
  {
   "cell_type": "code",
   "execution_count": 5,
   "metadata": {},
   "outputs": [],
   "source": [
    "def distribute_agents_and_waypoints(total_agents: int):\n",
    "    all_waypoints, positions = generate_oval_shape_points(\n",
    "        num_points=total_agents\n",
    "    )\n",
    "    first_waypoints = []\n",
    "    for position in positions:\n",
    "        first_waypoints.append(\n",
    "            find_nearest_clockwise_waypoint(\n",
    "                position, all_waypoints, all_waypoints\n",
    "            )\n",
    "        )\n",
    "\n",
    "    return all_waypoints, first_waypoints, positions"
   ]
  },
  {
   "cell_type": "code",
   "execution_count": 6,
   "metadata": {
    "tags": [
     "hide-input"
    ]
   },
   "outputs": [],
   "source": [
    "def plot_points_and_polygons(\n",
    "    all_waypoints, choosen_waypoints, exterior, interior, positions\n",
    "):\n",
    "    __file__, ax = plt.subplots(ncols=1, nrows=1)\n",
    "    ax.set_aspect(\"equal\")\n",
    "    x_exterior, y_exterior = Polygon(exterior).exterior.xy\n",
    "    plt.plot(x_exterior, y_exterior, \"-k\", label=\"exterior\")\n",
    "    plt.fill(x_exterior, y_exterior, alpha=0.3)\n",
    "\n",
    "    x_interior, y_interior = Polygon(interior).exterior.xy\n",
    "    plt.plot(x_interior, y_interior, \"--k\", label=\"interior\")\n",
    "    plt.fill(x_interior, y_interior, alpha=0.3)\n",
    "\n",
    "    x_awp, y_awp = Polygon(all_waypoints).exterior.xy\n",
    "    plt.plot(x_awp, y_awp, \"-r\")\n",
    "    plt.fill(x_awp, y_awp, alpha=0.3)\n",
    "    plt.scatter(*zip(*all_waypoints), marker=\".\", label=\"waypoints\")\n",
    "\n",
    "    x_agents, y_agents = Polygon(positions).exterior.xy\n",
    "\n",
    "    plt.plot(x_agents, y_agents, \"ob\", ms=8, label=\"agents\")\n",
    "\n",
    "    x_wp, y_wp = Polygon(choosen_waypoints).exterior.xy\n",
    "\n",
    "    plt.plot(x_wp, y_wp, \"xk\", ms=5, label=\"first goals\")\n",
    "\n",
    "    plt.legend()\n",
    "    plt.title(f\"N={len(positions)}\")\n",
    "    plt.show()"
   ]
  },
  {
   "cell_type": "code",
   "execution_count": 7,
   "metadata": {
    "tags": [
     "hide-input"
    ]
   },
   "outputs": [],
   "source": [
    "def compute_unit_vector(new_pos, wp):\n",
    "    dx = wp[0] - new_pos[0]\n",
    "    dy = wp[1] - new_pos[1]\n",
    "\n",
    "    magnitude = (dx**2 + dy**2) ** 0.5\n",
    "\n",
    "    if magnitude == 0:\n",
    "        return (0, 0)\n",
    "\n",
    "    ux = dx / magnitude\n",
    "    uy = dy / magnitude\n",
    "\n",
    "    return (ux, uy)"
   ]
  },
  {
   "cell_type": "markdown",
   "metadata": {},
   "source": [
    "## Defining the Journey\n",
    "\n",
    "For our simulation, we're aiming for movement within a closed system. To achieve this, we'll establish a cyclical transition between waypoints, allowing agents to seamlessly move from one waypoint to the next. Given this structure, agents are confined within the system, eliminating the need for exit points.\n",
    "\n",
    "While the starting orientation of our agents might not play a pivotal role, we'll still configure it for precision. This means that, from the outset, each agent will be oriented towards its initially selected waypoint."
   ]
  },
  {
   "cell_type": "code",
   "execution_count": 8,
   "metadata": {},
   "outputs": [],
   "source": [
    "def init_waypoints(\n",
    "    simulation, all_waypoints: List[Tuple[float, float]]\n",
    ") -> Dict[Tuple[float, float], id]:\n",
    "    waypoint_ids = []\n",
    "    waypoints: Dict[Tuple[float, float], id] = {}\n",
    "    distance = 0.1\n",
    "    for waypoint in all_waypoints:\n",
    "        wp_id = simulation.add_waypoint_stage(waypoint, distance)\n",
    "        waypoint_ids.append(wp_id)\n",
    "        waypoints[waypoint] = wp_id\n",
    "\n",
    "    return waypoints"
   ]
  },
  {
   "cell_type": "code",
   "execution_count": 9,
   "metadata": {},
   "outputs": [],
   "source": [
    "def init_journey(\n",
    "    simulation: jps.Simulation, waypoints: Dict[Tuple[float, float], id]\n",
    ") -> int:\n",
    "    waypoint_ids = list(waypoints.values())\n",
    "    journey = jps.JourneyDescription(waypoint_ids)\n",
    "    # create a circular transition from wp to next wp\n",
    "    for idx, waypoint in enumerate(waypoint_ids):\n",
    "        next_waypoint = (\n",
    "            waypoint_ids[0]\n",
    "            if idx == len(waypoint_ids) - 1\n",
    "            else waypoint_ids[idx + 1]\n",
    "        )\n",
    "        journey.set_transition_for_stage(\n",
    "            waypoint, jps.Transition.create_fixed_transition(next_waypoint)\n",
    "        )\n",
    "\n",
    "    journey_id = simulation.add_journey(journey)\n",
    "    return journey_id"
   ]
  },
  {
   "cell_type": "code",
   "execution_count": 10,
   "metadata": {},
   "outputs": [],
   "source": [
    "def add_model_to_simulation(\n",
    "    simulation: jps.Simulation,\n",
    "    positions,\n",
    "    choosen_waypoints,\n",
    "    waypoints: Dict[Tuple[float, float], id],\n",
    "    journey_id: int,\n",
    ") -> None:\n",
    "    agent_parameters = jps.CollisionFreeSpeedModelAgentParameters()\n",
    "    agent_parameters.journey_id = journey_id\n",
    "    for wp, new_pos in zip(choosen_waypoints, positions):\n",
    "        agent_parameters.position = new_pos\n",
    "        agent_parameters.stage_id = waypoints[wp]\n",
    "        simulation.add_agent(agent_parameters)"
   ]
  },
  {
   "cell_type": "markdown",
   "metadata": {},
   "source": [
    "## Executing the Simulation\n",
    "\n",
    "Now, we'll proceed to run our simulation up to a predefined maximum iteration count. This approach lets the internal dynamics stabilize, potentially reaching a steady state. However, it's worth noting that certain dynamics, like stop-and-go waves, might prevent the system from settling into such a state."
   ]
  },
  {
   "cell_type": "code",
   "execution_count": 11,
   "metadata": {},
   "outputs": [],
   "source": [
    "def run_simulation(total_agents: int, number_iterations: int = 2000):\n",
    "    (\n",
    "        all_waypoints,\n",
    "        first_waypoints,\n",
    "        positions,\n",
    "    ) = distribute_agents_and_waypoints(total_agents)\n",
    "    plot_points_and_polygons(\n",
    "        all_waypoints, first_waypoints, exterior, interior, positions\n",
    "    )\n",
    "    trajectory_file = f\"single-file-{total_agents}.sqlite\"\n",
    "    simulation = jps.Simulation(\n",
    "        dt=0.05,\n",
    "        model=jps.CollisionFreeSpeedModel(\n",
    "            strength_neighbor_repulsion=2.6,\n",
    "            range_neighbor_repulsion=0.1,\n",
    "            range_geometry_repulsion=0.05,\n",
    "        ),\n",
    "        geometry=exterior,\n",
    "        excluded_areas=interior,\n",
    "        trajectory_writer=jps.SqliteTrajectoryWriter(\n",
    "            output_file=pathlib.Path(trajectory_file),\n",
    "        ),\n",
    "    )\n",
    "    waypoints = init_waypoints(simulation, all_waypoints)\n",
    "    journey_id = init_journey(simulation, waypoints)\n",
    "    add_model_to_simulation(\n",
    "        simulation, positions, first_waypoints, waypoints, journey_id\n",
    "    )\n",
    "\n",
    "    while simulation.iteration_count() < number_iterations:\n",
    "        simulation.iterate()\n",
    "\n",
    "    return trajectory_file"
   ]
  },
  {
   "cell_type": "code",
   "execution_count": 12,
   "metadata": {},
   "outputs": [
    {
     "data": {
      "image/png": "[encoded data removed]",
      "text/plain": [
       "<Figure size 640x480 with 1 Axes>"
      ]
     },
     "metadata": {},
     "output_type": "display_data"
    },
    {
     "ename": "RuntimeError",
     "evalue": "Point (0.40000000000000036, 3.3) outside accessible area",
     "output_type": "error",
     "traceback": [
      "\u001b[0;31m---------------------------------------------------------------------------\u001b[0m",
      "\u001b[0;31mRuntimeError\u001b[0m                              Traceback (most recent call last)",
      "Cell \u001b[0;32mIn[12], line 1\u001b[0m\n\u001b[0;32m----> 1\u001b[0m trajectory_files \u001b[38;5;241m=\u001b[39m [\u001b[43mrun_simulation\u001b[49m\u001b[43m(\u001b[49m\u001b[43mN\u001b[49m\u001b[43m)\u001b[49m \u001b[38;5;28;01mfor\u001b[39;00m N \u001b[38;5;129;01min\u001b[39;00m [\u001b[38;5;241m5\u001b[39m, \u001b[38;5;241m15\u001b[39m, \u001b[38;5;241m20\u001b[39m, \u001b[38;5;241m24\u001b[39m]]\n",
      "Cell \u001b[0;32mIn[11], line 31\u001b[0m, in \u001b[0;36mrun_simulation\u001b[0;34m(total_agents, number_iterations)\u001b[0m\n\u001b[1;32m     26\u001b[0m add_model_to_simulation(\n\u001b[1;32m     27\u001b[0m     simulation, positions, first_waypoints, waypoints, journey_id\n\u001b[1;32m     28\u001b[0m )\n\u001b[1;32m     30\u001b[0m \u001b[38;5;28;01mwhile\u001b[39;00m simulation\u001b[38;5;241m.\u001b[39miteration_count() \u001b[38;5;241m<\u001b[39m number_iterations:\n\u001b[0;32m---> 31\u001b[0m     \u001b[43msimulation\u001b[49m\u001b[38;5;241;43m.\u001b[39;49m\u001b[43miterate\u001b[49m\u001b[43m(\u001b[49m\u001b[43m)\u001b[49m\n\u001b[1;32m     33\u001b[0m \u001b[38;5;28;01mreturn\u001b[39;00m trajectory_file\n",
      "File \u001b[0;32m~/jsc/jupedsim/python_modules/jupedsim/jupedsim/simulation.py:305\u001b[0m, in \u001b[0;36mSimulation.iterate\u001b[0;34m(self, count)\u001b[0m\n\u001b[1;32m    302\u001b[0m     \u001b[38;5;28mself\u001b[39m\u001b[38;5;241m.\u001b[39m_writer\u001b[38;5;241m.\u001b[39mwrite_iteration_state(\u001b[38;5;28mself\u001b[39m)\n\u001b[1;32m    304\u001b[0m \u001b[38;5;28;01mfor\u001b[39;00m _ \u001b[38;5;129;01min\u001b[39;00m \u001b[38;5;28mrange\u001b[39m(\u001b[38;5;241m0\u001b[39m, count):\n\u001b[0;32m--> 305\u001b[0m     \u001b[38;5;28;43mself\u001b[39;49m\u001b[38;5;241;43m.\u001b[39;49m\u001b[43m_obj\u001b[49m\u001b[38;5;241;43m.\u001b[39;49m\u001b[43miterate\u001b[49m\u001b[43m(\u001b[49m\u001b[43m)\u001b[49m\n\u001b[1;32m    306\u001b[0m     \u001b[38;5;28;01mif\u001b[39;00m \u001b[38;5;28mself\u001b[39m\u001b[38;5;241m.\u001b[39m_writer:\n\u001b[1;32m    307\u001b[0m         \u001b[38;5;28mself\u001b[39m\u001b[38;5;241m.\u001b[39m_writer\u001b[38;5;241m.\u001b[39mwrite_iteration_state(\u001b[38;5;28mself\u001b[39m)\n",
      "\u001b[0;31mRuntimeError\u001b[0m: Point (0.40000000000000036, 3.3) outside accessible area"
     ]
    }
   ],
   "source": [
    "trajectory_files = [run_simulation(N) for N in [5, 15, 20, 24]]"
   ]
  },
  {
   "cell_type": "code",
   "execution_count": null,
   "metadata": {},
   "outputs": [],
   "source": [
    "from jupedsim.internal.notebook_utils import animate, read_sqlite_file\n",
    "\n",
    "for trajectory_file in trajectory_files:\n",
    "    trajectories, walkable_area_sqlite = read_sqlite_file(trajectory_file)\n",
    "    animate(trajectories, walkable_area, every_nth_frame=5).show()"
   ]
  },
  {
   "cell_type": "markdown",
   "metadata": {},
   "source": [
    "## Discussion\n",
    "\n",
    "The behavior of agents closely following a central path can be attributed to the dense distribution of waypoints with a small radius. Essentially, the dense waypoints give agents minimal options for deviation, making them adhere closely to the specified path. This can be advantageous in scenarios where precise path-following is necessary.\n",
    "\n",
    "However, the observed behavior of stop-and-go waves disappearing over time indicates an imperfection in the model, especially if such dynamics are expected or seen in real-world scenarios that the model aims to emulate. The fading of these waves suggests that the agents stabilize into a flow that doesn't have the intermittent stop-and-go behavior.\n",
    "\n",
    "Velocity-based models often have this limitation. In such models, agents typically adjust their velocities based on surrounding conditions. Once the initial disturbances (like starting from rest or initial congestions) are overcome, the agents find a sort of \"equilibrium\" velocity, leading to a smoother flow. This smooth flow may not always accurately represent real-world dynamics, especially in situations with frequent perturbations or inherent unpredictabilities, like human-driven traffic.\n",
    "\n",
    "## Summary\n",
    "\n",
    "The model effectively simulates agents that adhere closely to a central path due to the dense distribution of waypoints with small radii. However, the disappearance of stop-and-go waves over time highlights a limitation inherent to velocity-based models. Such models may not be suitable for scenarios where persistent stop-and-go dynamics are expected or required. Future iterations of the model may benefit from incorporating additional factors or behaviors to better simulate such dynamics."
   ]
  },
  {
   "cell_type": "markdown",
   "metadata": {},
   "source": [
    "# Download\n",
    "\n",
    "This notebook can be directly downloaded {download}`here <./single-file.ipynb>` to run it locally."
   ]
  }
 ],
 "metadata": {
  "kernelspec": {
   "display_name": "Python 3 (ipykernel)",
   "language": "python",
   "name": "python3"
  },
  "language_info": {
   "codemirror_mode": {
    "name": "ipython",
    "version": 3
   },
   "file_extension": ".py",
   "mimetype": "text/x-python",
   "name": "python",
   "nbconvert_exporter": "python",
   "pygments_lexer": "ipython3",
   "version": "3.12.2"
  }
 },
 "nbformat": 4,
 "nbformat_minor": 4
}

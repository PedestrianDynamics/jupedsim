{
 "cells": [
  {
   "cell_type": "markdown",
   "id": "ae798e28-45c8-401a-891d-fdfa71c6516a",
   "metadata": {},
   "source": [
    "# How to work with Journeys\n",
    "\n",
    "This notebook can be directly downloaded {download}`here <./journey.ipynb>` to run it locally.\n",
    "\n",
    "With JuPedSim, directing agents towards exits and ensuring a smooth evacuation from the simulation area is straightforward and versatile. \n",
    "There might be scenarios where it's vital to navigate agents along various paths, thus creating diverse evacuation situations. \n",
    "Let's explore different routing strategies of agents using a simple geometric space - a corner.\n",
    "\n",
    "JuPedSim manages routing by geometrically triangulating the simulation area. Without user-defined routing strategies, agents, for example, in a corner simulation, naturally move towards the inner edge of the corner. Look at this visualization where the given direction of each agent is shown by a red line. You'll observe all red lines lead towards the exit along the inner edge of the corner. While it seems logical, this path isn’t always optimal and could result in a bottleneck, thereby slowing down the evacuation process.\n",
    "\n",
    "![](demo-data/journey/shortest_path.gif)\n"
   ]
  },
  {
   "cell_type": "code",
   "execution_count": null,
   "id": "9dba16d9",
   "metadata": {
    "editable": true,
    "slideshow": {
     "slide_type": ""
    },
    "tags": [
     "hide-input"
    ]
   },
   "outputs": [],
   "source": [
    "import pathlib\n",
    "\n",
    "import jupedsim as jps\n",
    "import matplotlib.pyplot as plt\n",
    "import numpy as np\n",
    "import pedpy\n",
    "from matplotlib.patches import Circle\n",
    "from shapely import Polygon\n",
    "\n",
    "%matplotlib inline"
   ]
  },
  {
   "cell_type": "markdown",
   "id": "4c1eae67-0c1e-4f0b-b1f7-4e383e9092c4",
   "metadata": {},
   "source": [
    "## Preparing the Simulation: Geometry and Routing Instructions\n",
    "\n",
    "Let's start by setting up a basic polygon. This will serve as our main simulation area where agents will be distributed. \n",
    "Additionally, we'll mark an exit area using another polygon. When agents enter this exit area, they're deemed to have safely evacuated and will be removed from the ongoing simulation.\n",
    "\n",
    "Next, we'll introduce an initial target for the agents: a sizable circular area (known as a switch). After the simulation kickstarts, agents will first head towards this circle. Once they enter the circle, they'll be directed to one of three distinct waypoints, set diagonally along the curve of the corner.\n",
    "\n",
    "For the simulation's onset, all agents will be positioned inside a rectangular zone at the corner's base."
   ]
  },
  {
   "cell_type": "code",
   "execution_count": null,
   "id": "a45d0955-7092-4dda-bc44-707893e4449b",
   "metadata": {
    "editable": true,
    "slideshow": {
     "slide_type": ""
    },
    "tags": []
   },
   "outputs": [],
   "source": [
    "simulation_polygon = Polygon(\n",
    "    [(-7, 15), (-7, -7), (23, -7), (23, 0), (0, 0), (0, 15)]\n",
    ")\n",
    "exit_polygon = [(-6.8, 14.8), (-0.2, 14.8), (-0.2, 13.5), (-6.8, 13.5)]\n",
    "switch_point = (7, -3.5)\n",
    "waypoints = [\n",
    "    (-0.5, -0.5),\n",
    "    (-3, -2),\n",
    "    (-6, -4),\n",
    "]\n",
    "distance_to_waypoints = 3\n",
    "distance_to_switch = 3\n",
    "\n",
    "distribution_polygon = Polygon(\n",
    "    [[22.8, -0.3], [10.8, -0.3], [10.8, -6.8], [22.8, -6.8]]\n",
    ")\n",
    "walkable_area = pedpy.WalkableArea(simulation_polygon)"
   ]
  },
  {
   "cell_type": "code",
   "execution_count": null,
   "id": "2b762d6d",
   "metadata": {
    "tags": [
     "hide-input"
    ]
   },
   "outputs": [],
   "source": [
    "fig, ax = plt.subplots(nrows=1, ncols=1)\n",
    "ax.set_aspect(\"equal\")\n",
    "pedpy.plot_walkable_area(walkable_area=walkable_area, axes=ax)\n",
    "\n",
    "x, y = distribution_polygon.exterior.xy\n",
    "plt.fill(x, y, alpha=0.1)\n",
    "plt.plot(x, y, color=\"white\")\n",
    "centroid = distribution_polygon.centroid\n",
    "plt.text(centroid.x, centroid.y, \"Start\", ha=\"center\", va=\"center\", fontsize=10)\n",
    "\n",
    "x, y = Polygon(exit_polygon).exterior.xy\n",
    "plt.fill(x, y, alpha=0.1)\n",
    "plt.plot(x, y, color=\"white\")\n",
    "centroid = Polygon(exit_polygon).centroid\n",
    "plt.text(centroid.x, centroid.y, \"Exit\", ha=\"center\", va=\"center\", fontsize=10)\n",
    "\n",
    "ax.plot(switch_point[0], switch_point[1], \"bo\")\n",
    "circle = Circle(\n",
    "    (switch_point[0], switch_point[1]),\n",
    "    distance_to_switch,\n",
    "    fc=\"blue\",\n",
    "    ec=\"blue\",\n",
    "    alpha=0.1,\n",
    ")\n",
    "ax.add_patch(circle)\n",
    "ax.annotate(\n",
    "    \"Switch\",\n",
    "    (switch_point[0], switch_point[1]),\n",
    "    textcoords=\"offset points\",\n",
    "    xytext=(-5, -15),\n",
    "    ha=\"center\",\n",
    ")\n",
    "for idx, waypoint in enumerate(waypoints):\n",
    "    ax.plot(waypoint[0], waypoint[1], \"ro\")\n",
    "    ax.annotate(\n",
    "        f\"WP {idx+1}\",\n",
    "        (waypoint[0], waypoint[1]),\n",
    "        textcoords=\"offset points\",\n",
    "        xytext=(10, -15),\n",
    "        ha=\"center\",\n",
    "    )\n",
    "    circle = Circle(\n",
    "        (waypoint[0], waypoint[1]),\n",
    "        distance_to_waypoints,\n",
    "        fc=\"red\",\n",
    "        ec=\"red\",\n",
    "        alpha=0.1,\n",
    "    )\n",
    "    ax.add_patch(circle)"
   ]
  },
  {
   "cell_type": "code",
   "execution_count": null,
   "id": "36627194",
   "metadata": {},
   "outputs": [],
   "source": [
    "num_agents = 100\n",
    "positions = jps.distribute_by_number(\n",
    "    polygon=distribution_polygon,\n",
    "    number_of_agents=num_agents,\n",
    "    distance_to_agents=0.4,\n",
    "    seed=12,\n",
    "    distance_to_polygon=0.2,\n",
    ")"
   ]
  },
  {
   "cell_type": "markdown",
   "id": "0efebebe",
   "metadata": {},
   "source": [
    "## Exploring Transition Strategies\n",
    "\n",
    "All agents initially set their course towards the switch_point. After reaching it, they navigate towards intermediate goals (waypoints) before making their way to the final exit. The challenge lies in deciding which waypoint each agent should target next.\n",
    "\n",
    "Let's explore three unique methods to determine these transition strategies:\n",
    "\n",
    "1. **Direct Path Strategy**: Here, every agent simply aims for the first waypoint, mirroring a shortest path algorithm.\n",
    "2. **Balanced Load Strategy**: Agents are directed towards the least occupied waypoint, ensuring a more balanced distribution.\n",
    "3. **Round Robin Strategy**: Waypoints are sequentially assigned to agents, rotating through each in turn.\n",
    "---------\n",
    "\n",
    "###  Direct Path Strategy"
   ]
  },
  {
   "cell_type": "code",
   "execution_count": null,
   "id": "04d54de9",
   "metadata": {},
   "outputs": [],
   "source": [
    "def shortest_path(simulation: jps.Simulation, switch_id, waypoint_ids, exit_id):\n",
    "    \"\"\"Build a journey with fixed transitions for a given simulation.\"\"\"\n",
    "\n",
    "    journey = jps.JourneyDescription([switch_id, *waypoint_ids, exit_id])\n",
    "    # switch ---> 1st waypoint\n",
    "    journey.set_transition_for_stage(\n",
    "        switch_id, jps.Transition.create_fixed_transition(waypoint_ids[0])\n",
    "    )\n",
    "    # 1st waypoint ---> exit\n",
    "    journey.set_transition_for_stage(\n",
    "        waypoint_ids[0], jps.Transition.create_fixed_transition(exit_id)\n",
    "    )\n",
    "\n",
    "    journey_id = simulation.add_journey(journey)\n",
    "    return journey_id"
   ]
  },
  {
   "cell_type": "markdown",
   "id": "37495c3e",
   "metadata": {},
   "source": [
    "### Balanced Load Strategy"
   ]
  },
  {
   "cell_type": "code",
   "execution_count": null,
   "id": "609d2eaa",
   "metadata": {},
   "outputs": [],
   "source": [
    "def least_targeted(\n",
    "    simulation: jps.Simulation, switch_id, waypoint_ids, exit_id\n",
    "):\n",
    "    \"\"\"Build a journey with least targeted transitions for a given simulation.\"\"\"\n",
    "\n",
    "    journey = jps.JourneyDescription([switch_id, *waypoint_ids, exit_id])\n",
    "    # switch ---> least targeted waypoint\n",
    "    journey.set_transition_for_stage(\n",
    "        switch_id,\n",
    "        jps.Transition.create_least_targeted_transition(waypoint_ids),\n",
    "    )\n",
    "    # from all waypoints ---> exit\n",
    "    for waypoint_id in waypoint_ids:\n",
    "        journey.set_transition_for_stage(\n",
    "            waypoint_id, jps.Transition.create_fixed_transition(exit_id)\n",
    "        )\n",
    "\n",
    "    journey_id = simulation.add_journey(journey)\n",
    "    return journey_id"
   ]
  },
  {
   "cell_type": "markdown",
   "id": "a90e0089",
   "metadata": {},
   "source": [
    "### Round Robin Strategy"
   ]
  },
  {
   "cell_type": "code",
   "execution_count": null,
   "id": "bad06382",
   "metadata": {},
   "outputs": [],
   "source": [
    "def round_robin(simulation: jps.Simulation, switch_id, waypoint_ids, exit_id):\n",
    "    \"\"\"Build a journey with least round-robin transitions for a given simulation.\"\"\"\n",
    "\n",
    "    journey = jps.JourneyDescription([switch_id, *waypoint_ids, exit_id])\n",
    "    # switch ---> 1st waypoint with weight1\n",
    "    # switch ---> 2nd waypoint with weight2\n",
    "    # switch ---> 3th waypoint with weight3\n",
    "    weight1, weight2, weight3 = 1, 1, 1\n",
    "    journey.set_transition_for_stage(\n",
    "        switch_id,\n",
    "        jps.Transition.create_round_robin_transition(\n",
    "            [\n",
    "                (waypoint_ids[0], weight1),\n",
    "                (waypoint_ids[1], weight2),\n",
    "                (waypoint_ids[2], weight3),\n",
    "            ]\n",
    "        ),\n",
    "    )\n",
    "    # from all waypoints ---> exit\n",
    "    for waypoint_id in waypoint_ids:\n",
    "        journey.set_transition_for_stage(\n",
    "            waypoint_id, jps.Transition.create_fixed_transition(exit_id)\n",
    "        )\n",
    "\n",
    "    journey_id = simulation.add_journey(journey)\n",
    "    return journey_id"
   ]
  },
  {
   "cell_type": "code",
   "execution_count": null,
   "id": "4835947a",
   "metadata": {},
   "outputs": [],
   "source": [
    "scenarios = [\n",
    "    shortest_path,\n",
    "    least_targeted,\n",
    "    round_robin,\n",
    "]"
   ]
  },
  {
   "cell_type": "markdown",
   "id": "569d86fe",
   "metadata": {},
   "source": [
    "## Executing the Simulation\n",
    "\n",
    "With all components in place, we're set to initiate the simulation.\n",
    "For this demonstration, the trajectories will be recorded in an sqlite database.\n",
    "\n",
    "First we setup some agent parameters then run three simulation with the different strategies:"
   ]
  },
  {
   "cell_type": "code",
   "execution_count": null,
   "id": "86ee1ae0",
   "metadata": {},
   "outputs": [],
   "source": [
    "def run_scenario_simulation(scenario, agent_parameters, positions, geometry):\n",
    "    \"\"\"Runs a simulation for a given scenario using the provided simulation object, agent parameters, and positions.\"\"\"\n",
    "    filename = f\"{scenario.__name__}.sqlite\"\n",
    "\n",
    "    simulation = jps.Simulation(\n",
    "        dt=0.05,\n",
    "        model=jps.CollisionFreeSpeedModel(\n",
    "            strength_neighbor_repulsion=2.6,\n",
    "            range_neighbor_repulsion=0.1,\n",
    "            range_geometry_repulsion=0.05,\n",
    "        ),\n",
    "        geometry=geometry,\n",
    "        trajectory_writer=jps.SqliteTrajectoryWriter(\n",
    "            output_file=pathlib.Path(filename)\n",
    "        ),\n",
    "    )\n",
    "    exit_id = simulation.add_exit_stage(exit_polygon)\n",
    "    switch_id = simulation.add_waypoint_stage(switch_point, distance_to_switch)\n",
    "    waypoint_ids = [\n",
    "        simulation.add_waypoint_stage(waypoint, distance_to_waypoints)\n",
    "        for waypoint in waypoints\n",
    "    ]\n",
    "    agent_parameters.stage_id = switch_id\n",
    "    journey_id = scenario(simulation, switch_id, waypoint_ids, exit_id)\n",
    "    agent_parameters.journey_id = journey_id\n",
    "    for new_pos in positions:\n",
    "        agent_parameters.position = new_pos\n",
    "        simulation.add_agent(agent_parameters)\n",
    "\n",
    "    while simulation.agent_count() > 0:\n",
    "        simulation.iterate()\n",
    "\n",
    "    return filename, simulation.iteration_count()"
   ]
  },
  {
   "cell_type": "code",
   "execution_count": null,
   "id": "39b63d1e",
   "metadata": {},
   "outputs": [],
   "source": [
    "for scenario in scenarios:\n",
    "    filename, iteration_count = run_scenario_simulation(\n",
    "        scenario,\n",
    "        jps.CollisionFreeSpeedModelAgentParameters(),\n",
    "        positions,\n",
    "        walkable_area.polygon,\n",
    "    )"
   ]
  },
  {
   "cell_type": "markdown",
   "id": "078b5b68",
   "metadata": {},
   "source": [
    "## Visualizing the Trajectories\n",
    "\n",
    "To visualize trajectories, we'll pull simulation data from the SQLite database and then employ a helper function to depict the agent movements. For subsequent analyses, we'll organize these trajectory files within a dictionary for easy access."
   ]
  },
  {
   "cell_type": "code",
   "execution_count": null,
   "id": "78299346",
   "metadata": {},
   "outputs": [],
   "source": [
    "from jupedsim.internal.notebook_utils import animate, read_sqlite_file\n",
    "\n",
    "agent_trajectories = {}\n",
    "for scenario in scenarios:\n",
    "    scenario_name = scenario.__name__\n",
    "    agent_trajectories[scenario_name], walkable_area = read_sqlite_file(\n",
    "        f\"{scenario_name}.sqlite\"\n",
    "    )\n",
    "    animate(\n",
    "        agent_trajectories[scenario_name],\n",
    "        walkable_area,\n",
    "        title_note=f\"Scenario: {scenario_name}\",\n",
    "        every_nth_frame=10,\n",
    "    ).show()"
   ]
  },
  {
   "cell_type": "markdown",
   "id": "cfc23599",
   "metadata": {},
   "source": [
    "## Analysis of the results\n",
    "\n",
    "With three distinct evacuation simulations completed, it's time to dive into the outcomes. Let's start by visualizing the trajectories. This will give us an initial insight into the variations among the scenarios:"
   ]
  },
  {
   "cell_type": "code",
   "execution_count": null,
   "id": "fb1ca7af",
   "metadata": {},
   "outputs": [],
   "source": [
    "fig, axes = plt.subplots(nrows=1, ncols=3, figsize=(15, 5))\n",
    "for name, ax in zip(agent_trajectories, axes):\n",
    "    pedpy.plot_trajectories(\n",
    "        traj=agent_trajectories[name],\n",
    "        walkable_area=walkable_area,\n",
    "        axes=ax,\n",
    "        traj_width=0.2,\n",
    "        traj_color=\"blue\",\n",
    "    )\n",
    "    x, y = Polygon(exit_polygon).exterior.xy\n",
    "    ax.fill(x, y, alpha=0.1, color=\"red\")\n",
    "    ax.plot(x, y, color=\"white\")\n",
    "    centroid = Polygon(exit_polygon).centroid\n",
    "    ax.text(\n",
    "        centroid.x, centroid.y, \"Exit\", ha=\"center\", va=\"center\", fontsize=10\n",
    "    )\n",
    "    ax.set_title(name)"
   ]
  },
  {
   "cell_type": "markdown",
   "id": "547cf352",
   "metadata": {},
   "source": [
    "## Calculate profiles"
   ]
  },
  {
   "cell_type": "code",
   "execution_count": null,
   "id": "44eff42a",
   "metadata": {},
   "outputs": [],
   "source": [
    "from typing import Tuple\n",
    "\n",
    "import numpy.typing as npt\n",
    "from scipy import stats\n",
    "\n",
    "\n",
    "def calculate_density_average_classic(\n",
    "    bounds: Tuple[float, float, float, float],\n",
    "    dx: float,\n",
    "    nframes: int,\n",
    "    X: npt.NDArray[np.float64],\n",
    "    Y: npt.NDArray[np.float64],\n",
    ") -> npt.NDArray[np.float64]:\n",
    "    \"\"\"Calculate classical method\n",
    "\n",
    "    Density = mean_time(N/A_i)\n",
    "    \"\"\"\n",
    "    geominX, geominY, geomaxX, geomaxY = bounds\n",
    "    xbins = np.arange(geominX, geomaxX + dx, dx)\n",
    "    ybins = np.arange(geominY, geomaxY + dx, dx)\n",
    "    area = dx * dx\n",
    "    ret = stats.binned_statistic_2d(\n",
    "        X,\n",
    "        Y,\n",
    "        None,\n",
    "        \"count\",\n",
    "        bins=[xbins, ybins],\n",
    "    )\n",
    "    return np.array(np.nan_to_num(ret.statistic.T)) / nframes / area"
   ]
  },
  {
   "cell_type": "code",
   "execution_count": null,
   "id": "294e40d5",
   "metadata": {
    "tags": [
     "hide-input"
    ]
   },
   "outputs": [],
   "source": [
    "from plotly.subplots import make_subplots\n",
    "\n",
    "\n",
    "def plot_classical_density_profile(data, walkable_area, name, dx, rho_max):\n",
    "    geominX, geominY, geomaxX, geomaxY = walkable_area.bounds\n",
    "    title = f\"<b>{name}</b>\"\n",
    "    fig = make_subplots(rows=1, cols=1, subplot_titles=([title]))\n",
    "    xbins = np.arange(geominX, geomaxX + dx, dx)\n",
    "    ybins = np.arange(geominY, geomaxY + dx, dx)\n",
    "    x, y = walkable_area.polygon.exterior.xy\n",
    "    x = list(x)\n",
    "    y = list(y)\n",
    "    heatmap = go.Heatmap(\n",
    "        x=xbins,\n",
    "        y=ybins,\n",
    "        z=data,\n",
    "        zmin=0,\n",
    "        zmax=rho_max,\n",
    "        name=title,\n",
    "        connectgaps=False,\n",
    "        zsmooth=None,\n",
    "        hovertemplate=\"Density: %{z:.2f}<br>\\nPos: (%{x:2f}: %{y:.2f}}\",\n",
    "        colorbar=dict(title=\"Density\"),\n",
    "        colorscale=\"Jet\",\n",
    "    )\n",
    "    fig.add_trace(heatmap)\n",
    "    #    Geometry walls\n",
    "    line = go.Scatter(\n",
    "        x=x,\n",
    "        y=y,\n",
    "        mode=\"lines\",\n",
    "        name=\"wall\",\n",
    "        showlegend=False,\n",
    "        line=dict(\n",
    "            width=3,\n",
    "            color=\"white\",\n",
    "        ),\n",
    "    )\n",
    "    fig.add_trace(line)\n",
    "\n",
    "    return fig"
   ]
  },
  {
   "cell_type": "code",
   "execution_count": null,
   "id": "1d1ffa32",
   "metadata": {
    "tags": [
     "hide-input"
    ]
   },
   "outputs": [],
   "source": [
    "import math\n",
    "\n",
    "import plotly.graph_objects as go\n",
    "\n",
    "dx = 0.5\n",
    "rho_max = -1\n",
    "fig = make_subplots(\n",
    "    rows=1, cols=3, subplot_titles=(list(agent_trajectories.keys()))\n",
    ")\n",
    "for count, name in enumerate(agent_trajectories):\n",
    "    trajectories = agent_trajectories[name]\n",
    "    data = calculate_density_average_classic(\n",
    "        walkable_area.bounds,\n",
    "        dx,\n",
    "        nframes=trajectories.data[\"frame\"].max(),\n",
    "        X=trajectories.data[\"x\"],\n",
    "        Y=trajectories.data[\"y\"],\n",
    "    )\n",
    "    rho_max = max(np.max(data), rho_max)\n",
    "    ind_fig = plot_classical_density_profile(\n",
    "        data, walkable_area, name, dx, math.ceil(rho_max)\n",
    "    )\n",
    "    for trace in ind_fig.data:\n",
    "        fig.add_trace(trace, row=1, col=count + 1)\n",
    "\n",
    "    fig.update_xaxes(title_text=\"X [m]\", row=1, col=count + 1)\n",
    "    fig.update_yaxes(title_text=\"Y [m]\", scaleanchor=\"x\", scaleratio=1)\n",
    "fig"
   ]
  },
  {
   "cell_type": "markdown",
   "id": "5b857d6b",
   "metadata": {},
   "source": [
    "## Analyzing Evacuation Duration\n",
    "\n",
    "To further understand our earlier observations, we compute the $N−t$ diagram, which shows when an agent crosses a designated measurement line. \n",
    "We position this line near the exit and evaluate the $N−t$ curves for all three simulations, subsequently determining the respective evacuation durations.\n",
    "\n",
    "Note: It's essential to position the measurement line inside the simulation area, ensuring that agents **cross** it."
   ]
  },
  {
   "cell_type": "code",
   "execution_count": null,
   "id": "d74cb6a1",
   "metadata": {},
   "outputs": [],
   "source": [
    "import warnings\n",
    "\n",
    "warnings.filterwarnings(\"ignore\")\n",
    "measurement_line = pedpy.MeasurementLine([[-3, 4], [0, 4]])\n",
    "fig, ax = plt.subplots(nrows=1, ncols=1, figsize=(10, 10))\n",
    "colors = [\"blue\", \"red\", \"green\"]\n",
    "for i, name in enumerate(agent_trajectories):\n",
    "    nt, _ = pedpy.compute_n_t(\n",
    "        traj_data=agent_trajectories[name],\n",
    "        measurement_line=measurement_line,\n",
    "    )\n",
    "    ax = pedpy.plot_nt(nt=nt, color=colors[i])\n",
    "    ax.lines[-1].set_label(name)\n",
    "    Time = np.max(nt[\"time\"])\n",
    "    print(\n",
    "        \"Name: {:<20} Evacuation time: {:<15}\".format(\n",
    "            name, \"{} seconds\".format(Time)\n",
    "        )\n",
    "    )\n",
    "ax.legend()\n",
    "plt.show()"
   ]
  },
  {
   "cell_type": "markdown",
   "id": "0125c8ac",
   "metadata": {},
   "source": [
    "## Findings and Conclusions\n",
    "\n",
    "The exploration of density profiles demonstrates notable variations in agent distribution, contingent upon the algorithm employed. The shortest path algorithm, aligning with our initial predictions, induces higher densities prior to encountering the corner. Conversely, the round-robin algorithm demonstrates a capacity to redistribute the jam, steering agents away from the corner bend and facilitating a more even spread around it.\n",
    "\n",
    "A vital observation from the simulations underscores the role of waypoint placement, particularly when positioned as circles, along with the discernment of their range. This cruciality not only impacts agent navigation but also influences the effectiveness of the deployed algorithm.\n",
    "\n",
    "## Future Considerations\n",
    "\n",
    "As the waypoint placement proves to be instrumental, ensuing studies or simulations might delve into optimizing these placements, exploring a range of scenarios and algorithmic strategies to discern optimal configurations for various contexts. Furthermore, additional research could investigate the scalability of these findings, examining the consistency of agent distribution patterns in scenarios with varying agent quantities, environmental layouts, and navigational complexities."
   ]
  },
  {
   "cell_type": "markdown",
   "id": "e5ae96a2",
   "metadata": {},
   "source": [
    "# Download\n",
    "\n",
    "This notebook can be directly downloaded {download}`here <./journey.ipynb>` to run it locally."
   ]
  }
 ],
 "metadata": {
  "kernelspec": {
   "display_name": "Python 3 (ipykernel)",
   "language": "python",
   "name": "python3"
  },
  "language_info": {
   "codemirror_mode": {
    "name": "ipython",
    "version": 3
   },
   "file_extension": ".py",
   "mimetype": "text/x-python",
   "name": "python",
   "nbconvert_exporter": "python",
   "pygments_lexer": "ipython3",
   "version": "3.11.5"
  }
 },
 "nbformat": 4,
 "nbformat_minor": 5
}

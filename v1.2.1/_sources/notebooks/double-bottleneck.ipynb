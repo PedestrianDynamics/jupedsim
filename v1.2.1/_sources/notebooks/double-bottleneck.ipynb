{
 "cells": [
  {
   "cell_type": "markdown",
   "id": "119ebeac-d99f-4d30-a3ce-d992b9a86cee",
   "metadata": {
    "editable": true,
    "slideshow": {
     "slide_type": ""
    },
    "tags": []
   },
   "source": [
    "# Movement through Bottlenecks\n",
    "\n",
    "This notebook can be directly downloaded {download}`here <./double-bottleneck.ipynb>` to run it locally.\n",
    "\n",
    "In this following, we'll investigate the movement of a crowd through **two successive bottlenecks** with a simulation. We expect that a jam occurs at the first bottleneck but not at the second one since the flow is considerably reduced by the first bottleneck.\n",
    "\n",
    "For this purpose, we'll setup a simulation scenario according to the RiMEA Test 12 [1] and analyse the results with pedpy to inspect the density and flow. After that we'll vary the width of the bottlenecks and investigate the effects on the movement.\n",
    "\n",
    "Let's begin by importing the required packages for our simulation:"
   ]
  },
  {
   "cell_type": "code",
   "execution_count": null,
   "id": "a6d4f847-92e0-4905-b52b-a9e61aa2355f",
   "metadata": {
    "editable": true,
    "slideshow": {
     "slide_type": ""
    },
    "tags": []
   },
   "outputs": [],
   "source": [
    "import pathlib\n",
    "\n",
    "import jupedsim as jps\n",
    "import matplotlib.pyplot as plt\n",
    "import pandas as pd\n",
    "import pedpy\n",
    "from numpy.random import normal  # normal distribution of free movement speed\n",
    "from shapely import GeometryCollection, Polygon"
   ]
  },
  {
   "cell_type": "markdown",
   "id": "7a69458e-d0af-46e8-b3ff-0dca91e1015c",
   "metadata": {
    "editable": true,
    "slideshow": {
     "slide_type": ""
    },
    "tags": []
   },
   "source": [
    "## Geometry Setup\n",
    "\n",
    "Let's construct the geometry according to RiMEA by defining two rooms and a corridor with a width of 1 meter. To consider the interactions of agents in the second bottleneck (when leaving the second room) the corridor ends 3 meters behind the second room.\n",
    "By creating the union of all parts we end up with the whole walkable area.\n"
   ]
  },
  {
   "cell_type": "code",
   "execution_count": null,
   "id": "d3087364-73e8-4b35-8a5e-2222df89f1fe",
   "metadata": {
    "editable": true,
    "slideshow": {
     "slide_type": ""
    },
    "tags": []
   },
   "outputs": [],
   "source": [
    "room1 = Polygon([(0, 0), (10, 0), (10, 10), (0, 10)])\n",
    "room2 = Polygon([(15, 0), (25, 0), (25, 10), (15, 10)])\n",
    "corridor = Polygon([(10, 4.5), (28, 4.5), (28, 5.5), (10, 5.5)])\n",
    "\n",
    "area = GeometryCollection(corridor.union(room1.union(room2)))\n",
    "walkable_area = pedpy.WalkableArea(area.geoms[0])\n",
    "pedpy.plot_walkable_area(walkable_area=walkable_area).set_aspect(\"equal\")"
   ]
  },
  {
   "cell_type": "markdown",
   "id": "c9f63836-0f81-4684-b99e-abdf664c9d53",
   "metadata": {
    "editable": true,
    "slideshow": {
     "slide_type": ""
    },
    "tags": []
   },
   "source": [
    "## Definition of Start Positions and Exit\n",
    "\n",
    "Now we define the spawning area according to RiMEA and calculate 150 positions within that area. The exit area is defined at the end of the corridor.\n"
   ]
  },
  {
   "cell_type": "code",
   "execution_count": null,
   "id": "5dec36fb-55f2-4225-aac7-32be899c9254",
   "metadata": {
    "editable": true,
    "slideshow": {
     "slide_type": ""
    },
    "tags": []
   },
   "outputs": [],
   "source": [
    "spawning_area = Polygon([(0, 0), (5, 0), (5, 10), (0, 10)])\n",
    "num_agents = 150\n",
    "pos_in_spawning_area = jps.distributions.distribute_by_number(\n",
    "    polygon=spawning_area,\n",
    "    number_of_agents=num_agents,\n",
    "    distance_to_agents=0.3,\n",
    "    distance_to_polygon=0.15,\n",
    "    seed=1,\n",
    ")\n",
    "exit_area = Polygon([(27, 4.5), (28, 4.5), (28, 5.5), (27, 5.5)])"
   ]
  },
  {
   "cell_type": "markdown",
   "id": "573c6a35-d7dd-4126-8f3f-a7ec0cbc3f7e",
   "metadata": {
    "editable": true,
    "slideshow": {
     "slide_type": ""
    },
    "tags": []
   },
   "source": [
    "Let's have a look at our setup:"
   ]
  },
  {
   "cell_type": "code",
   "execution_count": null,
   "id": "220d8141-614e-464d-9dcc-fc5ea8d1a6af",
   "metadata": {
    "editable": true,
    "slideshow": {
     "slide_type": ""
    },
    "tags": [
     "hide-input"
    ]
   },
   "outputs": [],
   "source": [
    "def plot_simulation_configuration(\n",
    "    walkable_area, spawning_area, starting_positions, exit_area\n",
    "):\n",
    "    axes = pedpy.plot_walkable_area(walkable_area=walkable_area)\n",
    "    axes.fill(*spawning_area.exterior.xy, color=\"lightgrey\")\n",
    "    axes.fill(*exit_area.exterior.xy, color=\"indianred\")\n",
    "    axes.scatter(*zip(*starting_positions), s=1)\n",
    "    axes.set_xlabel(\"x/m\")\n",
    "    axes.set_ylabel(\"y/m\")\n",
    "    axes.set_aspect(\"equal\")"
   ]
  },
  {
   "cell_type": "code",
   "execution_count": null,
   "id": "1c65a38f-18bb-4d7f-bb24-e5ab2b7db651",
   "metadata": {
    "editable": true,
    "slideshow": {
     "slide_type": ""
    },
    "tags": []
   },
   "outputs": [],
   "source": [
    "plot_simulation_configuration(\n",
    "    walkable_area, spawning_area, pos_in_spawning_area, exit_area\n",
    ")"
   ]
  },
  {
   "cell_type": "markdown",
   "id": "2b990c43-7c81-4f19-92d6-97280974c300",
   "metadata": {
    "editable": true,
    "slideshow": {
     "slide_type": ""
    },
    "tags": []
   },
   "source": [
    "## Specification of Parameters und Running the Simulation\n",
    "\n",
    "Now we just need to define the details of the operational model, routing and the specific agent parameters. In this example, the agents share the same parameters, ecxept for their free movement speed (and starting position)."
   ]
  },
  {
   "cell_type": "code",
   "execution_count": null,
   "id": "6a9b725e-cf77-4589-9023-3105665684ea",
   "metadata": {
    "editable": true,
    "slideshow": {
     "slide_type": ""
    },
    "tags": []
   },
   "outputs": [],
   "source": [
    "trajectory_file = \"double-botteleneck.sqlite\"  # output file\n",
    "simulation = jps.Simulation(\n",
    "    model=jps.CollisionFreeSpeedModel(),\n",
    "    geometry=area,\n",
    "    trajectory_writer=jps.SqliteTrajectoryWriter(\n",
    "        output_file=pathlib.Path(trajectory_file)\n",
    "    ),\n",
    ")\n",
    "\n",
    "exit_id = simulation.add_exit_stage(exit_area.exterior.coords[:-1])\n",
    "journey = jps.JourneyDescription([exit_id])\n",
    "journey_id = simulation.add_journey(journey)"
   ]
  },
  {
   "cell_type": "code",
   "execution_count": null,
   "id": "cc6e1a78-2e15-4156-a6f8-47ef26a9db50",
   "metadata": {
    "editable": true,
    "slideshow": {
     "slide_type": ""
    },
    "tags": []
   },
   "outputs": [],
   "source": [
    "v_distribution = normal(1.34, 0.05, num_agents)\n",
    "\n",
    "for pos, v0 in zip(pos_in_spawning_area, v_distribution):\n",
    "    simulation.add_agent(\n",
    "        jps.CollisionFreeSpeedModelAgentParameters(\n",
    "            journey_id=journey_id,\n",
    "            stage_id=exit_id,\n",
    "            position=pos,\n",
    "            v0=v0,\n",
    "            radius=0.15,\n",
    "        )\n",
    "    )\n",
    "\n",
    "while simulation.agent_count() > 0:\n",
    "    simulation.iterate()"
   ]
  },
  {
   "cell_type": "markdown",
   "id": "77d7e165-1c0d-4aca-a5fa-d88d0625e8f4",
   "metadata": {
    "editable": true,
    "slideshow": {
     "slide_type": ""
    },
    "tags": []
   },
   "source": [
    "## Visualization\n",
    "\n",
    "Let's have a look at the visualization of the simulated trajectories:"
   ]
  },
  {
   "cell_type": "code",
   "execution_count": null,
   "id": "7a4455d6-3f11-4312-806a-d6d7ad6e1510",
   "metadata": {
    "editable": true,
    "pycharm": {
     "name": "#%%\n"
    },
    "slideshow": {
     "slide_type": ""
    },
    "tags": []
   },
   "outputs": [],
   "source": [
    "from jupedsim.internal.notebook_utils import animate, read_sqlite_file\n",
    "\n",
    "trajectory_data, walkable_area = read_sqlite_file(trajectory_file)\n",
    "animate(trajectory_data, walkable_area)"
   ]
  },
  {
   "cell_type": "markdown",
   "id": "00a44351-ee83-4dd0-b4f2-d16e2c82f35d",
   "metadata": {
    "editable": true,
    "slideshow": {
     "slide_type": ""
    },
    "tags": []
   },
   "source": [
    "## Analysis\n",
    "\n",
    "We'll investigate the $N-t$ curve and Voronoi density with the help of PedPy. \n",
    "\n",
    "We evaluate the $N−t$ curve at the exit for room 1 and room 2. The gradient of this curve provides insights into the flow rate through the bottlenecks. Subsequently, we assess the Voronoi density for the whole geometry. This allows to identify areas in the setup where jamming occurs.\n",
    "\n",
    "Let's start with the $N-t$ curve. We define two measurement lines: between room 1 and the corridor and between room 2 and the corridor. To reuse the measurement lines for the scenario with the wider bottleneck we enlarge it here."
   ]
  },
  {
   "cell_type": "code",
   "execution_count": null,
   "id": "9d6ba215-a990-44c7-ad0d-0e35c57b139d",
   "metadata": {
    "editable": true,
    "slideshow": {
     "slide_type": ""
    },
    "tags": []
   },
   "outputs": [],
   "source": [
    "measurement_line1 = pedpy.MeasurementLine([(10, 4.4), (10, 5.6)])\n",
    "measurement_line2 = pedpy.MeasurementLine([(25, 4.4), (25, 5.6)])\n",
    "\n",
    "pedpy.plot_measurement_setup(\n",
    "    walkable_area=walkable_area,\n",
    "    traj=trajectory_data,\n",
    "    traj_alpha=0.5,\n",
    "    traj_width=1,\n",
    "    measurement_lines=[measurement_line1, measurement_line2],\n",
    "    ml_color=\"b\",\n",
    "    ma_line_width=1,\n",
    "    ma_alpha=0.2,\n",
    ").set_aspect(\"equal\")"
   ]
  },
  {
   "cell_type": "markdown",
   "id": "4c47d318-35e8-4e85-8dba-794ed9887e95",
   "metadata": {
    "editable": true,
    "slideshow": {
     "slide_type": ""
    },
    "tags": []
   },
   "source": [
    "As a next stept we calculate the $N-t$ data and plot it:"
   ]
  },
  {
   "cell_type": "code",
   "execution_count": null,
   "id": "77936260-1008-4121-a0eb-beff089bac8f",
   "metadata": {
    "editable": true,
    "slideshow": {
     "slide_type": ""
    },
    "tags": []
   },
   "outputs": [],
   "source": [
    "nt1, crossing_frames1 = pedpy.compute_n_t(\n",
    "    traj_data=trajectory_data,\n",
    "    measurement_line=measurement_line1,\n",
    ")\n",
    "nt2, crossing_frames2 = pedpy.compute_n_t(\n",
    "    traj_data=trajectory_data,\n",
    "    measurement_line=measurement_line2,\n",
    ")\n",
    "\n",
    "fig = plt.figure()\n",
    "ax = fig.add_subplot(111)\n",
    "ax.set_title(\"N-t\")\n",
    "ax.plot(\n",
    "    nt1[\"time\"],\n",
    "    nt1[\"cumulative_pedestrians\"],\n",
    "    label=\"First Bottleneck\",\n",
    ")\n",
    "ax.plot(nt2[\"time\"], nt2[\"cumulative_pedestrians\"], label=\"Second Bottleneck\")\n",
    "ax.legend()\n",
    "ax.set_xlabel(\"t / s\")\n",
    "ax.set_ylabel(\"# Pedestrians\")\n",
    "plt.show()"
   ]
  },
  {
   "cell_type": "markdown",
   "id": "f38a4c1d-b918-42d3-8ab3-695b186b9102",
   "metadata": {},
   "source": [
    "The results above show a similar and time-shifted flow for both bottlenecks. Further, to inspect the formation of jamming we analyse the individual speed and density over time. To do so, we use PedPy to calculate the individual speed and Voronoi polygons for each frame calculated by the simulation."
   ]
  },
  {
   "cell_type": "code",
   "execution_count": null,
   "id": "96ff53d6-c330-4059-9b32-942e8e9a6e07",
   "metadata": {
    "editable": true,
    "slideshow": {
     "slide_type": ""
    },
    "tags": []
   },
   "outputs": [],
   "source": [
    "individual_speed = pedpy.compute_individual_speed(\n",
    "    traj_data=trajectory_data,\n",
    "    frame_step=5,\n",
    "    speed_calculation=pedpy.SpeedCalculation.BORDER_SINGLE_SIDED,\n",
    ")\n",
    "\n",
    "individual_voronoi_cells = pedpy.compute_individual_voronoi_polygons(\n",
    "    traj_data=trajectory_data,\n",
    "    walkable_area=walkable_area,\n",
    "    cut_off=pedpy.Cutoff(radius=0.8, quad_segments=3),\n",
    ")"
   ]
  },
  {
   "cell_type": "markdown",
   "id": "645f5da2-a06d-4185-8be9-7d5a79347105",
   "metadata": {
    "editable": true,
    "slideshow": {
     "slide_type": ""
    },
    "tags": []
   },
   "source": [
    "Now we calculate the profiles in a grid of 0.25 x 0.25 meters for the time period in which the agents are entering the first bottleneck. This usually requires a bit of computation time, which is why we only consider 100 frames."
   ]
  },
  {
   "cell_type": "code",
   "execution_count": null,
   "id": "e32d7995-43cb-4d3c-b75e-1b50d3c976e9",
   "metadata": {
    "editable": true,
    "slideshow": {
     "slide_type": ""
    },
    "tags": []
   },
   "outputs": [],
   "source": [
    "min_frame_profiles = 1800\n",
    "max_frame_profiles = 1900\n",
    "\n",
    "density_profiles, speed_profiles = pedpy.compute_profiles(\n",
    "    individual_voronoi_speed_data=pd.merge(\n",
    "        individual_voronoi_cells[\n",
    "            individual_voronoi_cells.frame.between(\n",
    "                min_frame_profiles, max_frame_profiles\n",
    "            )\n",
    "        ],\n",
    "        individual_speed[\n",
    "            individual_speed.frame.between(\n",
    "                min_frame_profiles, max_frame_profiles\n",
    "            )\n",
    "        ],\n",
    "        on=[\"id\", \"frame\"],\n",
    "    ),\n",
    "    walkable_area=walkable_area.polygon,\n",
    "    grid_size=0.25,\n",
    "    speed_method=pedpy.SpeedMethod.ARITHMETIC,\n",
    ")"
   ]
  },
  {
   "cell_type": "code",
   "execution_count": null,
   "id": "a75a840f-3f56-41a4-935b-19c525a2f0b4",
   "metadata": {
    "editable": true,
    "slideshow": {
     "slide_type": ""
    },
    "tags": [
     "hide-input"
    ]
   },
   "outputs": [],
   "source": [
    "fig, (ax0, ax1) = plt.subplots(nrows=1, ncols=2)\n",
    "cm = pedpy.plot_profiles(\n",
    "    walkable_area=walkable_area,\n",
    "    profiles=density_profiles,\n",
    "    axes=ax0,\n",
    "    label=\"$\\\\rho$ / 1/$m^2$\",\n",
    "    vmin=0,\n",
    "    vmax=10,\n",
    "    title=\"Density\",\n",
    ")\n",
    "cm = pedpy.plot_profiles(\n",
    "    walkable_area=walkable_area,\n",
    "    profiles=speed_profiles,\n",
    "    axes=ax1,\n",
    "    label=\"v / m/s\",\n",
    "    vmin=0,\n",
    "    vmax=2,\n",
    "    title=\"Speed\",\n",
    ")\n",
    "fig.tight_layout(pad=2)\n",
    "plt.show()"
   ]
  },
  {
   "cell_type": "markdown",
   "id": "ffeb03ca-482b-4c00-a389-221be7f809e5",
   "metadata": {
    "editable": true,
    "slideshow": {
     "slide_type": ""
    },
    "tags": []
   },
   "source": [
    "## Comparison of Different Bottleneck Widths\n",
    "\n",
    "As a last step we'll investigate how the width of the bottleneck influences our results. For this purpose, we'll configure and run the simulation with the exact same parameters except for the geometry. We will change the width of the corridor to 0.8 and 1.2 meters and compare the results.\n",
    "\n",
    "### Scenario with a Narrower Bottleneck\n",
    "\n",
    "Let's configure the simulation with a corridor width of 0.8 meters. We can reuse most of the parameters from our first simulation.\n",
    "\n",
    "We define the walkable area:"
   ]
  },
  {
   "cell_type": "code",
   "execution_count": null,
   "id": "1e3eed30-af2a-45bd-8c96-b7614bde1c57",
   "metadata": {},
   "outputs": [],
   "source": [
    "corridor_narrow = Polygon([(10, 4.6), (28, 4.6), (28, 5.4), (10, 5.4)])\n",
    "area_narrow = GeometryCollection(corridor_narrow.union(room1.union(room2)))\n",
    "walkable_area_narrow = pedpy.WalkableArea(area_narrow.geoms[0])\n",
    "pedpy.plot_walkable_area(walkable_area=walkable_area_narrow).set_aspect(\"equal\")"
   ]
  },
  {
   "cell_type": "markdown",
   "id": "80b36d1c-38ee-4a94-8562-6032ebba7c66",
   "metadata": {},
   "source": [
    "The starting positions, exit, operational model parameters and general agent parameter remain the same. So we just need to setup a new simulation object with the journeys:\n"
   ]
  },
  {
   "cell_type": "code",
   "execution_count": null,
   "id": "0875cb4d-b86a-4397-b8a4-7b5a08d54305",
   "metadata": {
    "editable": true,
    "slideshow": {
     "slide_type": ""
    },
    "tags": []
   },
   "outputs": [],
   "source": [
    "trajectory_file_narrow = \"double-botteleneck_narrow.sqlite\"  # output file\n",
    "simulation_narrow = jps.Simulation(\n",
    "    model=jps.CollisionFreeSpeedModel(),\n",
    "    geometry=area_narrow,\n",
    "    trajectory_writer=jps.SqliteTrajectoryWriter(\n",
    "        output_file=pathlib.Path(trajectory_file_narrow)\n",
    "    ),\n",
    ")\n",
    "\n",
    "exit_id = simulation_narrow.add_exit_stage(exit_area.exterior.coords[:-1])\n",
    "journey = jps.JourneyDescription([exit_id])\n",
    "journey_id = simulation_narrow.add_journey(journey)"
   ]
  },
  {
   "cell_type": "markdown",
   "id": "276322a5-0831-45bc-bf0c-bb54965a547a",
   "metadata": {},
   "source": [
    "And execute the simulation - this may take a bit of computation time since the corridor is quite narrow:"
   ]
  },
  {
   "cell_type": "code",
   "execution_count": null,
   "id": "b1494dfc-a0bf-4b41-97c9-03c2e06bd39e",
   "metadata": {},
   "outputs": [],
   "source": [
    "for pos, v0 in zip(pos_in_spawning_area, v_distribution):\n",
    "    simulation_narrow.add_agent(\n",
    "        jps.CollisionFreeSpeedModelAgentParameters(\n",
    "            journey_id=journey_id,\n",
    "            stage_id=exit_id,\n",
    "            position=pos,\n",
    "            v0=v0,\n",
    "            radius=0.15,\n",
    "        )\n",
    "    )\n",
    "\n",
    "while simulation_narrow.agent_count() > 0:\n",
    "    simulation_narrow.iterate()"
   ]
  },
  {
   "cell_type": "code",
   "execution_count": null,
   "id": "8faa7a60-ac4e-412d-8f4b-9d2e4df66236",
   "metadata": {
    "editable": true,
    "slideshow": {
     "slide_type": ""
    },
    "tags": []
   },
   "outputs": [],
   "source": [
    "from jupedsim.internal.notebook_utils import animate, read_sqlite_file\n",
    "\n",
    "trajectory_data_narrow, walkable_area = read_sqlite_file(trajectory_file_narrow)\n",
    "animate(trajectory_data_narrow, walkable_area)"
   ]
  },
  {
   "cell_type": "markdown",
   "id": "6f8ec057-4df9-42b3-ac23-17835ce8c75b",
   "metadata": {},
   "source": [
    "### Scenario with a Wider Bottleneck\n",
    "\n",
    "Next, we configure the simulation with a corridor width of 1.2 meters. The steps are the same as for the narrower botteleck:"
   ]
  },
  {
   "cell_type": "code",
   "execution_count": null,
   "id": "8370d7ec-b6f3-4ad4-a9f5-51b410c790f1",
   "metadata": {
    "editable": true,
    "slideshow": {
     "slide_type": ""
    },
    "tags": []
   },
   "outputs": [],
   "source": [
    "corridor_wide = Polygon([(10, 4.4), (28, 4.4), (28, 5.6), (10, 5.6)])\n",
    "area_wide = GeometryCollection(corridor_wide.union(room1.union(room2)))\n",
    "walkable_area_wide = pedpy.WalkableArea(area_wide.geoms[0])\n",
    "pedpy.plot_walkable_area(walkable_area=walkable_area_wide).set_aspect(\"equal\")"
   ]
  },
  {
   "cell_type": "code",
   "execution_count": null,
   "id": "b7978a3b-3f5b-4ec9-98f5-195239bc4cfe",
   "metadata": {
    "editable": true,
    "slideshow": {
     "slide_type": ""
    },
    "tags": []
   },
   "outputs": [],
   "source": [
    "trajectory_file_wide = \"double-botteleneck_wide.sqlite\"  # output file\n",
    "simulation_wide = jps.Simulation(\n",
    "    model=jps.CollisionFreeSpeedModel(),\n",
    "    geometry=area_wide,\n",
    "    trajectory_writer=jps.SqliteTrajectoryWriter(\n",
    "        output_file=pathlib.Path(trajectory_file_wide)\n",
    "    ),\n",
    ")\n",
    "\n",
    "exit_id = simulation_wide.add_exit_stage(exit_area.exterior.coords[:-1])\n",
    "journey = jps.JourneyDescription([exit_id])\n",
    "journey_id = simulation_wide.add_journey(journey)\n",
    "\n",
    "for pos, v0 in zip(pos_in_spawning_area, v_distribution):\n",
    "    simulation_wide.add_agent(\n",
    "        jps.CollisionFreeSpeedModelAgentParameters(\n",
    "            journey_id=journey_id,\n",
    "            stage_id=exit_id,\n",
    "            position=pos,\n",
    "            v0=v0,\n",
    "            radius=0.15,\n",
    "        )\n",
    "    )\n",
    "\n",
    "while simulation_wide.agent_count() > 0:\n",
    "    simulation_wide.iterate()"
   ]
  },
  {
   "cell_type": "code",
   "execution_count": null,
   "id": "15605003-b57a-4530-8251-cd745020da41",
   "metadata": {
    "editable": true,
    "slideshow": {
     "slide_type": ""
    },
    "tags": []
   },
   "outputs": [],
   "source": [
    "from jupedsim.internal.notebook_utils import animate, read_sqlite_file\n",
    "\n",
    "trajectory_data_wide, walkable_area = read_sqlite_file(trajectory_file_wide)\n",
    "animate(trajectory_data_wide, walkable_area)"
   ]
  },
  {
   "cell_type": "markdown",
   "id": "2aec6644-a390-41f7-820c-d1857e1c2374",
   "metadata": {
    "editable": true,
    "slideshow": {
     "slide_type": ""
    },
    "tags": []
   },
   "source": [
    "### Comparison of the Results\n",
    "\n",
    "Now we can compare the $N-t$ curves for the three scenarios. "
   ]
  },
  {
   "cell_type": "code",
   "execution_count": null,
   "id": "a44a855e-7bbf-4f9b-8f4a-810cb6b1d524",
   "metadata": {
    "editable": true,
    "slideshow": {
     "slide_type": ""
    },
    "tags": []
   },
   "outputs": [],
   "source": [
    "nt1_narrow, crossing_frames1_narrow = pedpy.compute_n_t(\n",
    "    traj_data=trajectory_data_narrow,\n",
    "    measurement_line=measurement_line1,\n",
    ")\n",
    "nt1_wide, crossing_frames1_wide = pedpy.compute_n_t(\n",
    "    traj_data=trajectory_data_wide,\n",
    "    measurement_line=measurement_line1,\n",
    ")"
   ]
  },
  {
   "cell_type": "code",
   "execution_count": null,
   "id": "392fa2fe-402a-49b3-85be-b2bd9e3f6b47",
   "metadata": {
    "editable": true,
    "slideshow": {
     "slide_type": ""
    },
    "tags": [
     "hide-input"
    ]
   },
   "outputs": [],
   "source": [
    "fig = plt.figure()\n",
    "ax = fig.add_subplot(111)\n",
    "ax.set_title(\"N-t for Different Bottleneck Widths\")\n",
    "ax.plot(\n",
    "    nt1_narrow[\"time\"],\n",
    "    nt1_narrow[\"cumulative_pedestrians\"],\n",
    "    label=\"0.8 m First Bottleneck\",\n",
    ")\n",
    "ax.plot(\n",
    "    nt1[\"time\"], nt1[\"cumulative_pedestrians\"], label=\"1.0 m First Bottleneck\"\n",
    ")\n",
    "ax.plot(\n",
    "    nt1_wide[\"time\"],\n",
    "    nt1_wide[\"cumulative_pedestrians\"],\n",
    "    label=\"1.2 m First Bottleneck\",\n",
    ")\n",
    "ax.legend()\n",
    "ax.set_xlabel(\"t / s\")\n",
    "ax.set_ylabel(\"# Pedestrians\")\n",
    "ax.set_aspect(\"equal\")\n",
    "plt.show()"
   ]
  },
  {
   "cell_type": "markdown",
   "id": "59663b9b-c7e7-4cb2-bbc1-28b337e4ec1d",
   "metadata": {
    "editable": true,
    "slideshow": {
     "slide_type": ""
    },
    "tags": []
   },
   "source": [
    "The results show: the smaller the width of the bottleneck, the smaller the flow as it takes longer for all 150 agents to enter the first bottleneck."
   ]
  },
  {
   "cell_type": "markdown",
   "id": "0ef428ce",
   "metadata": {},
   "source": [
    "# Download\n",
    "\n",
    "This notebook can be directly downloaded {download}`here <./double-bottleneck.ipynb>` to run it locally."
   ]
  },
  {
   "cell_type": "markdown",
   "id": "79c725d7-c79b-4e83-a432-a52a8c67f012",
   "metadata": {
    "editable": true,
    "slideshow": {
     "slide_type": ""
    },
    "tags": []
   },
   "source": [
    "## References & Further Exploration\n",
    "\n",
    "[1] RiMEA, 'Guideline for Microscopic Evacuation Analysis'(2016), URL: https://rimea.de/ \n"
   ]
  }
 ],
 "metadata": {
  "kernelspec": {
   "display_name": "Python 3 (ipykernel)",
   "language": "python",
   "name": "python3"
  },
  "language_info": {
   "codemirror_mode": {
    "name": "ipython",
    "version": 3
   },
   "file_extension": ".py",
   "mimetype": "text/x-python",
   "name": "python",
   "nbconvert_exporter": "python",
   "pygments_lexer": "ipython3",
   "version": "3.11.5"
  }
 },
 "nbformat": 4,
 "nbformat_minor": 5
}

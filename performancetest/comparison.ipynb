{
 "cells": [
  {
   "cell_type": "code",
   "execution_count": null,
   "id": "94749690-f361-4e47-8a7e-24bdb2baf674",
   "metadata": {
    "tags": []
   },
   "outputs": [],
   "source": [
    "import glob\n",
    "import sqlite3\n",
    "\n",
    "import pandas as pd\n",
    "\n",
    "\n",
    "def import_from_sqlite(file):\n",
    "    cnx = sqlite3.connect(file)\n",
    "    data = pd.read_sql_query(\"SELECT * FROM perf_statistics\", cnx)\n",
    "    meta = pd.read_sql_query(\"SELECT * FROM metadata\", cnx, index_col=\"key\")\n",
    "    cnx.close()\n",
    "    return meta, data\n",
    "\n",
    "\n",
    "def load_data(input_files):\n",
    "    return [import_from_sqlite(file) for file in input_files]\n",
    "\n",
    "\n",
    "def plot_timings(results):\n",
    "    for meta, r in results:\n",
    "        print(meta.loc[\"commit_id\", \"value\"])\n",
    "        r[\"iteration_loop_us\"].plot(\n",
    "            figsize=(20, 10),\n",
    "            xlabel=\"iteration\",\n",
    "            ylabel=\"time[µs]\",\n",
    "            legend=True,\n",
    "            label=meta.loc[\"commit_id\", \"value\"],\n",
    "        )\n",
    "\n",
    "    _, res = results[0]\n",
    "    res[\"agent_count\"].plot(secondary_y=True, ylabel=\"agents\", legend=True)\n",
    "\n",
    "\n",
    "def plot_mean_median(results):\n",
    "    series = []\n",
    "    for meta, r in results:\n",
    "        s = r[\"iteration_loop_us\"]\n",
    "        s.name = meta.loc[\"commit_id\", \"value\"]\n",
    "        series.append(s)\n",
    "\n",
    "    df = pd.DataFrame(series).T\n",
    "    norms = df.agg([\"mean\", \"median\"]).T\n",
    "    norms.plot()\n",
    "\n",
    "\n",
    "def plot_comparison(inputs):\n",
    "    data = load_data(inputs)\n",
    "    plot_timings(data)\n",
    "    plot_mean_median(data)"
   ]
  },
  {
   "cell_type": "markdown",
   "id": "323058b4",
   "metadata": {},
   "source": [
    "# Compare benchmark results"
   ]
  },
  {
   "cell_type": "code",
   "execution_count": null,
   "id": "c3270e31",
   "metadata": {
    "tags": []
   },
   "outputs": [],
   "source": [
    "# Add tuples to list with (\"id\", \"path-to-sqlite\"),\n",
    "# e.g. ('master', \"master_grosser-stern.sqlite\")\n",
    "\n",
    "folder = \"../../benchmarks\"\n",
    "to_compare = glob.glob(f\"{folder}/*.sqlite\")\n",
    "\n",
    "plot_comparison(to_compare)"
   ]
  }
 ],
 "metadata": {
  "kernelspec": {
   "display_name": "Python 3 (ipykernel)",
   "language": "python",
   "name": "python3"
  },
  "language_info": {
   "codemirror_mode": {
    "name": "ipython",
    "version": 3
   },
   "file_extension": ".py",
   "mimetype": "text/x-python",
   "name": "python",
   "nbconvert_exporter": "python",
   "pygments_lexer": "ipython3",
   "version": "3.11.4"
  }
 },
 "nbformat": 4,
 "nbformat_minor": 5
}

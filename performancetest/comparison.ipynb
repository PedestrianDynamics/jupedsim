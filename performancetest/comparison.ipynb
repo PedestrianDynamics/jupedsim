{
 "cells": [
  {
   "cell_type": "code",
   "execution_count": null,
   "id": "94749690-f361-4e47-8a7e-24bdb2baf674",
   "metadata": {
    "tags": []
   },
   "outputs": [],
   "source": [
    "import sqlite3\n",
    "import pandas as pd\n",
    "\n",
    "def import_from_sqlite(file):\n",
    "    cnx = sqlite3.connect(file)\n",
    "    res = pd.read_sql_query(\"SELECT * FROM perf_statistics\", cnx)\n",
    "    cnx.close()\n",
    "    return res\n",
    "\n",
    "def load_data(input_files):\n",
    "    return [(name, import_from_sqlite(file)) for name, file in input_files]\n",
    "\n",
    "def plot_timings(results):\n",
    "    for name, r in results:\n",
    "        r['iteration_loop_us'].plot(figsize=(20,10), xlabel=\"iteration\", ylabel=\"time[µs]\", legend=True, label=name)\n",
    "\n",
    "    _, res = results[0]\n",
    "    res['agent_count'].plot(secondary_y=True, ylabel=\"agents\", legend=True)\n",
    "    \n",
    "def plot_mean_median(results):\n",
    "    series = []\n",
    "    for name, r in results:\n",
    "        s = r['iteration_loop_us']\n",
    "        s.name = name\n",
    "        series.append(s)\n",
    "\n",
    "    df = pd.DataFrame(series).T\n",
    "    norms= df.agg(['mean', 'median']).T\n",
    "    norms.plot()\n",
    "    \n",
    "\n",
    "def plot_comparison(inputs):\n",
    "    data = load_data(inputs)\n",
    "    plot_timings(data)\n",
    "    plot_mean_median(data)"
   ]
  },
  {
   "cell_type": "markdown",
   "id": "323058b4",
   "metadata": {},
   "source": [
    "# Compare benchmark results\n",
    "\n",
    "Provide a list of performance statistics in sqlite and assign a display name to each file:\n",
    "\n",
    "e.g.\n",
    "```python\n",
    "versions = [('master', '../master_grosser_stern.sqlite'),\n",
    "            ('master~1', '../older_grosser_stern.sqlite'),\n",
    "           # ... as many as you want to compare ...\n",
    "           ]\n",
    "```\n"
   ]
  },
  {
   "cell_type": "code",
   "execution_count": null,
   "id": "c3270e31",
   "metadata": {
    "tags": []
   },
   "outputs": [],
   "source": [
    "# Add tuples to list with (\"id\", \"path-to-sqlite\"),\n",
    "# e.g. ('master', \"master_grosser-stern.sqlite\")\n",
    "to_compare = []\n",
    "plot_comparison(to_compare)"
   ]
  }
 ],
 "metadata": {
  "kernelspec": {
   "display_name": "Python 3 (ipykernel)",
   "language": "python",
   "name": "python3"
  },
  "language_info": {
   "codemirror_mode": {
    "name": "ipython",
    "version": 3
   },
   "file_extension": ".py",
   "mimetype": "text/x-python",
   "name": "python",
   "nbconvert_exporter": "python",
   "pygments_lexer": "ipython3",
   "version": "3.10.12"
  }
 },
 "nbformat": 4,
 "nbformat_minor": 5
}

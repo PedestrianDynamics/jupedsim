{
 "cells": [
  {
   "cell_type": "code",
   "execution_count": null,
   "id": "c3270e31",
   "metadata": {
    "tags": []
   },
   "outputs": [],
   "source": [
    "import sqlite3\n",
    "\n",
    "import pandas as pd\n",
    "import shapely"
   ]
  },
  {
   "cell_type": "markdown",
   "id": "323058b4",
   "metadata": {},
   "source": [
    "# Single Run Analysis\n",
    "\n",
    "Use this notebook to analyze the performance data for a single performance test\n",
    "\n",
    "Set the input variable below to your results sqlite to analyze:"
   ]
  },
  {
   "cell_type": "code",
   "execution_count": null,
   "id": "3b361751-050b-4d0e-a243-48d9292a0531",
   "metadata": {
    "tags": []
   },
   "outputs": [],
   "source": [
    "input = \"../grosser_stern.sqlite\"\n",
    "db = sqlite3.connect(input)\n",
    "perf_stats = pd.read_sql_query(\"SELECT * FROM perf_statistics\", db)\n",
    "metadata = pd.read_sql_query(\"SELECT * FROM metadata\", db)\n",
    "geometry_as_wkt = (\n",
    "    db.cursor().execute(\"SELECT * from geometry LIMIT 1\").fetchone()[0]\n",
    ")\n",
    "geometry = shapely.from_wkt(geometry_as_wkt)"
   ]
  },
  {
   "cell_type": "markdown",
   "id": "256e15c1-e40d-459b-aa97-52c6ce168c19",
   "metadata": {},
   "source": [
    "## Metadata"
   ]
  },
  {
   "cell_type": "code",
   "execution_count": null,
   "id": "10728dac-681e-47eb-8174-6d0f98a17932",
   "metadata": {
    "tags": []
   },
   "outputs": [],
   "source": [
    "metadata"
   ]
  },
  {
   "cell_type": "code",
   "execution_count": null,
   "id": "1a431545-4359-4de3-a0df-1c43f4c51c24",
   "metadata": {
    "tags": []
   },
   "outputs": [],
   "source": [
    "geometry"
   ]
  },
  {
   "cell_type": "markdown",
   "id": "5a6ab718",
   "metadata": {},
   "source": [
    "## Total iteration time / agent count per iteration"
   ]
  },
  {
   "cell_type": "code",
   "execution_count": null,
   "id": "a7ab657f",
   "metadata": {
    "tags": []
   },
   "outputs": [],
   "source": [
    "perf_stats[\"iteration_loop_us\"].plot(\n",
    "    figsize=(20, 10), xlabel=\"iteration\", ylabel=\"time[µs]\", legend=True\n",
    ")\n",
    "perf_stats[\"agent_count\"].plot(secondary_y=True, ylabel=\"agents\", legend=True)"
   ]
  },
  {
   "cell_type": "markdown",
   "id": "6a2d1513",
   "metadata": {},
   "source": [
    "## Time to compute oerational level update / agent count per iteration"
   ]
  },
  {
   "cell_type": "code",
   "execution_count": null,
   "id": "3eac344a",
   "metadata": {},
   "outputs": [],
   "source": [
    "perf_stats[\"operational_level_us\"].plot(\n",
    "    figsize=(20, 10), xlabel=\"iteration\", ylabel=\"time[µs]\", legend=True\n",
    ")\n",
    "perf_stats[\"agent_count\"].plot(secondary_y=True, ylabel=\"agents\", legend=True)"
   ]
  },
  {
   "cell_type": "markdown",
   "id": "f51c8563",
   "metadata": {},
   "source": [
    "## Total time w.o. operational level / agent count per iteration"
   ]
  },
  {
   "cell_type": "code",
   "execution_count": null,
   "id": "c001e0f1",
   "metadata": {},
   "outputs": [],
   "source": [
    "perf_stats[\"delta\"] = (\n",
    "    perf_stats[\"iteration_loop_us\"] - perf_stats[\"operational_level_us\"]\n",
    ")\n",
    "perf_stats[\"delta\"].plot(\n",
    "    figsize=(20, 10), xlabel=\"iteration\", ylabel=\"time[µs]\", legend=True\n",
    ")\n",
    "perf_stats[\"agent_count\"].plot(secondary_y=True, ylabel=\"agents\", legend=True)"
   ]
  }
 ],
 "metadata": {
  "kernelspec": {
   "display_name": "Python 3 (ipykernel)",
   "language": "python",
   "name": "python3"
  },
  "language_info": {
   "codemirror_mode": {
    "name": "ipython",
    "version": 3
   },
   "file_extension": ".py",
   "mimetype": "text/x-python",
   "name": "python",
   "nbconvert_exporter": "python",
   "pygments_lexer": "ipython3",
   "version": "3.10.12"
  }
 },
 "nbformat": 4,
 "nbformat_minor": 5
}
